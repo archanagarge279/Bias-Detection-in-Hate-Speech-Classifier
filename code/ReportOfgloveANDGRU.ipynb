{
  "cells": [
    {
      "cell_type": "code",
      "execution_count": null,
      "metadata": {
        "id": "htsXPx4z-yoh"
      },
      "outputs": [],
      "source": [
        "import numpy as np\n",
        "from numpy import array\n",
        "import pandas as pd\n",
        "\n",
        "from tensorflow.keras.preprocessing.text import Tokenizer\n",
        "from tensorflow.keras.models import Sequential\n",
        "from tensorflow.keras.preprocessing.sequence import pad_sequences\n",
        "from tensorflow.keras.layers import Dense, Flatten, Embedding, Activation, Dropout\n",
        "from tensorflow.keras.layers import GRU\n",
        "from tensorflow.keras.optimizers import Adam, RMSprop\n",
        "from keras import regularizers\n"
      ]
    },
    {
      "cell_type": "code",
      "execution_count": null,
      "metadata": {
        "colab": {
          "base_uri": "https://localhost:8080/",
          "height": 206
        },
        "id": "t5KGA7piS6L-",
        "outputId": "e885cc28-eb9e-46f0-975e-660f8d96c15e"
      },
      "outputs": [
        {
          "output_type": "execute_result",
          "data": {
            "text/plain": [
              "   id                                               text  Garge Archana Atul  \\\n",
              "0   1  Sassy...? More like femme bots than killer blo...                   1   \n",
              "1   2  I've had better looking shits than these two! ...                   1   \n",
              "2   3  The girls can cook for me anytime. Just not ho...                   1   \n",
              "3   4  The face of very ugly promo girls ! Faces like...                   1   \n",
              "4   5  @mykitchenrules Elegant and beautiful?Cheap an...                   1   \n",
              "\n",
              "   Archana Kumari  Priyanshu Raj  Final  \n",
              "0             1.0              1    1.0  \n",
              "1             1.0              2    1.0  \n",
              "2             1.0              2    1.0  \n",
              "3             1.0              1    1.0  \n",
              "4             1.0              1    1.0  "
            ],
            "text/html": [
              "\n",
              "  <div id=\"df-f91cef08-76ce-44d0-92ce-0a1f1f966cb8\">\n",
              "    <div class=\"colab-df-container\">\n",
              "      <div>\n",
              "<style scoped>\n",
              "    .dataframe tbody tr th:only-of-type {\n",
              "        vertical-align: middle;\n",
              "    }\n",
              "\n",
              "    .dataframe tbody tr th {\n",
              "        vertical-align: top;\n",
              "    }\n",
              "\n",
              "    .dataframe thead th {\n",
              "        text-align: right;\n",
              "    }\n",
              "</style>\n",
              "<table border=\"1\" class=\"dataframe\">\n",
              "  <thead>\n",
              "    <tr style=\"text-align: right;\">\n",
              "      <th></th>\n",
              "      <th>id</th>\n",
              "      <th>text</th>\n",
              "      <th>Garge Archana Atul</th>\n",
              "      <th>Archana Kumari</th>\n",
              "      <th>Priyanshu Raj</th>\n",
              "      <th>Final</th>\n",
              "    </tr>\n",
              "  </thead>\n",
              "  <tbody>\n",
              "    <tr>\n",
              "      <th>0</th>\n",
              "      <td>1</td>\n",
              "      <td>Sassy...? More like femme bots than killer blo...</td>\n",
              "      <td>1</td>\n",
              "      <td>1.0</td>\n",
              "      <td>1</td>\n",
              "      <td>1.0</td>\n",
              "    </tr>\n",
              "    <tr>\n",
              "      <th>1</th>\n",
              "      <td>2</td>\n",
              "      <td>I've had better looking shits than these two! ...</td>\n",
              "      <td>1</td>\n",
              "      <td>1.0</td>\n",
              "      <td>2</td>\n",
              "      <td>1.0</td>\n",
              "    </tr>\n",
              "    <tr>\n",
              "      <th>2</th>\n",
              "      <td>3</td>\n",
              "      <td>The girls can cook for me anytime. Just not ho...</td>\n",
              "      <td>1</td>\n",
              "      <td>1.0</td>\n",
              "      <td>2</td>\n",
              "      <td>1.0</td>\n",
              "    </tr>\n",
              "    <tr>\n",
              "      <th>3</th>\n",
              "      <td>4</td>\n",
              "      <td>The face of very ugly promo girls ! Faces like...</td>\n",
              "      <td>1</td>\n",
              "      <td>1.0</td>\n",
              "      <td>1</td>\n",
              "      <td>1.0</td>\n",
              "    </tr>\n",
              "    <tr>\n",
              "      <th>4</th>\n",
              "      <td>5</td>\n",
              "      <td>@mykitchenrules Elegant and beautiful?Cheap an...</td>\n",
              "      <td>1</td>\n",
              "      <td>1.0</td>\n",
              "      <td>1</td>\n",
              "      <td>1.0</td>\n",
              "    </tr>\n",
              "  </tbody>\n",
              "</table>\n",
              "</div>\n",
              "      <button class=\"colab-df-convert\" onclick=\"convertToInteractive('df-f91cef08-76ce-44d0-92ce-0a1f1f966cb8')\"\n",
              "              title=\"Convert this dataframe to an interactive table.\"\n",
              "              style=\"display:none;\">\n",
              "        \n",
              "  <svg xmlns=\"http://www.w3.org/2000/svg\" height=\"24px\"viewBox=\"0 0 24 24\"\n",
              "       width=\"24px\">\n",
              "    <path d=\"M0 0h24v24H0V0z\" fill=\"none\"/>\n",
              "    <path d=\"M18.56 5.44l.94 2.06.94-2.06 2.06-.94-2.06-.94-.94-2.06-.94 2.06-2.06.94zm-11 1L8.5 8.5l.94-2.06 2.06-.94-2.06-.94L8.5 2.5l-.94 2.06-2.06.94zm10 10l.94 2.06.94-2.06 2.06-.94-2.06-.94-.94-2.06-.94 2.06-2.06.94z\"/><path d=\"M17.41 7.96l-1.37-1.37c-.4-.4-.92-.59-1.43-.59-.52 0-1.04.2-1.43.59L10.3 9.45l-7.72 7.72c-.78.78-.78 2.05 0 2.83L4 21.41c.39.39.9.59 1.41.59.51 0 1.02-.2 1.41-.59l7.78-7.78 2.81-2.81c.8-.78.8-2.07 0-2.86zM5.41 20L4 18.59l7.72-7.72 1.47 1.35L5.41 20z\"/>\n",
              "  </svg>\n",
              "      </button>\n",
              "      \n",
              "  <style>\n",
              "    .colab-df-container {\n",
              "      display:flex;\n",
              "      flex-wrap:wrap;\n",
              "      gap: 12px;\n",
              "    }\n",
              "\n",
              "    .colab-df-convert {\n",
              "      background-color: #E8F0FE;\n",
              "      border: none;\n",
              "      border-radius: 50%;\n",
              "      cursor: pointer;\n",
              "      display: none;\n",
              "      fill: #1967D2;\n",
              "      height: 32px;\n",
              "      padding: 0 0 0 0;\n",
              "      width: 32px;\n",
              "    }\n",
              "\n",
              "    .colab-df-convert:hover {\n",
              "      background-color: #E2EBFA;\n",
              "      box-shadow: 0px 1px 2px rgba(60, 64, 67, 0.3), 0px 1px 3px 1px rgba(60, 64, 67, 0.15);\n",
              "      fill: #174EA6;\n",
              "    }\n",
              "\n",
              "    [theme=dark] .colab-df-convert {\n",
              "      background-color: #3B4455;\n",
              "      fill: #D2E3FC;\n",
              "    }\n",
              "\n",
              "    [theme=dark] .colab-df-convert:hover {\n",
              "      background-color: #434B5C;\n",
              "      box-shadow: 0px 1px 3px 1px rgba(0, 0, 0, 0.15);\n",
              "      filter: drop-shadow(0px 1px 2px rgba(0, 0, 0, 0.3));\n",
              "      fill: #FFFFFF;\n",
              "    }\n",
              "  </style>\n",
              "\n",
              "      <script>\n",
              "        const buttonEl =\n",
              "          document.querySelector('#df-f91cef08-76ce-44d0-92ce-0a1f1f966cb8 button.colab-df-convert');\n",
              "        buttonEl.style.display =\n",
              "          google.colab.kernel.accessAllowed ? 'block' : 'none';\n",
              "\n",
              "        async function convertToInteractive(key) {\n",
              "          const element = document.querySelector('#df-f91cef08-76ce-44d0-92ce-0a1f1f966cb8');\n",
              "          const dataTable =\n",
              "            await google.colab.kernel.invokeFunction('convertToInteractive',\n",
              "                                                     [key], {});\n",
              "          if (!dataTable) return;\n",
              "\n",
              "          const docLinkHtml = 'Like what you see? Visit the ' +\n",
              "            '<a target=\"_blank\" href=https://colab.research.google.com/notebooks/data_table.ipynb>data table notebook</a>'\n",
              "            + ' to learn more about interactive tables.';\n",
              "          element.innerHTML = '';\n",
              "          dataTable['output_type'] = 'display_data';\n",
              "          await google.colab.output.renderOutput(dataTable, element);\n",
              "          const docLink = document.createElement('div');\n",
              "          docLink.innerHTML = docLinkHtml;\n",
              "          element.appendChild(docLink);\n",
              "        }\n",
              "      </script>\n",
              "    </div>\n",
              "  </div>\n",
              "  "
            ]
          },
          "metadata": {},
          "execution_count": 61
        }
      ],
      "source": [
        "df=pd.read_csv('/content/drive/MyDrive/AILAB/final_dataset.csv')\n",
        "df.head()"
      ]
    },
    {
      "cell_type": "code",
      "execution_count": null,
      "metadata": {
        "colab": {
          "base_uri": "https://localhost:8080/"
        },
        "id": "WsSmt_o7jqbh",
        "outputId": "6c6288ab-e3b2-46df-92b2-779bf500ac7f"
      },
      "outputs": [
        {
          "output_type": "execute_result",
          "data": {
            "text/plain": [
              "id                    0\n",
              "text                  0\n",
              "Garge Archana Atul    0\n",
              "Archana Kumari        1\n",
              "Priyanshu Raj         0\n",
              "Final                 5\n",
              "dtype: int64"
            ]
          },
          "metadata": {},
          "execution_count": 62
        }
      ],
      "source": [
        "df.isna().sum()"
      ]
    },
    {
      "cell_type": "code",
      "execution_count": null,
      "metadata": {
        "id": "6LDIfnKbjqfD"
      },
      "outputs": [],
      "source": [
        "df=df.dropna(axis=0, how=\"any\", thresh=None, subset=None, inplace=False)"
      ]
    },
    {
      "cell_type": "code",
      "execution_count": null,
      "metadata": {
        "colab": {
          "base_uri": "https://localhost:8080/"
        },
        "id": "WUJWy5GIkBjh",
        "outputId": "971fc472-4a95-4fe3-fd22-d31fd316e58b"
      },
      "outputs": [
        {
          "output_type": "execute_result",
          "data": {
            "text/plain": [
              "id                    0\n",
              "text                  0\n",
              "Garge Archana Atul    0\n",
              "Archana Kumari        0\n",
              "Priyanshu Raj         0\n",
              "Final                 0\n",
              "dtype: int64"
            ]
          },
          "metadata": {},
          "execution_count": 64
        }
      ],
      "source": [
        "df.isna().sum()"
      ]
    },
    {
      "cell_type": "code",
      "execution_count": null,
      "metadata": {
        "colab": {
          "base_uri": "https://localhost:8080/"
        },
        "id": "RuxKK5OR2wYe",
        "outputId": "681dbe9f-217e-494c-8663-1d37c9f7af86"
      },
      "outputs": [
        {
          "output_type": "execute_result",
          "data": {
            "text/plain": [
              "1.0    1539\n",
              "2.0    1041\n",
              "0.0      83\n",
              "Name: Final, dtype: int64"
            ]
          },
          "metadata": {},
          "execution_count": 65
        }
      ],
      "source": [
        "df['Final'].value_counts()"
      ]
    },
    {
      "cell_type": "code",
      "execution_count": null,
      "metadata": {
        "id": "i-DgAbGtBUhu"
      },
      "outputs": [],
      "source": [
        "from sklearn.model_selection import train_test_split"
      ]
    },
    {
      "cell_type": "code",
      "source": [
        "DATA_N_MALE=df.loc[df['Final'].isin([2,0])]\n",
        "print(DATA_N_MALE.shape)\n",
        "DATA_N_FEMALE=df.loc[df['Final'].isin([1, 2])]\n",
        "print(DATA_N_FEMALE.shape)\n"
      ],
      "metadata": {
        "colab": {
          "base_uri": "https://localhost:8080/"
        },
        "id": "Dmvd_GJfkwv9",
        "outputId": "813cad29-5ba4-4bb0-c902-04b495c88998"
      },
      "execution_count": null,
      "outputs": [
        {
          "output_type": "stream",
          "name": "stdout",
          "text": [
            "(1124, 6)\n",
            "(2580, 6)\n"
          ]
        }
      ]
    },
    {
      "cell_type": "code",
      "execution_count": null,
      "metadata": {
        "colab": {
          "base_uri": "https://localhost:8080/"
        },
        "id": "WrCdbsf_Cg1_",
        "outputId": "15ddd443-2bea-41fa-dfcf-e051275c2a80"
      },
      "outputs": [
        {
          "output_type": "stream",
          "name": "stdout",
          "text": [
            "CPU times: user 145 ms, sys: 570 µs, total: 145 ms\n",
            "Wall time: 146 ms\n"
          ]
        }
      ],
      "source": [
        "%%time\n",
        "import re\n",
        "\n",
        "text=' '.join(df['text'])\n",
        "text=text.split()\n",
        "freq_comm = pd.Series(text).value_counts()\n",
        "rare=freq_comm[freq_comm.values==1]\n",
        "\n",
        "def get_clean_text(x):\n",
        "  if type(x) is str:\n",
        "    x=x.lower()\n",
        "    x=re.sub(r'([a-zA-Z0-9+._-]+@[a-zA-Z0-9._-]+\\.[a-zA-Z0-9_-]+)', '', x)\n",
        "    x=re.sub('rt', '', x)\n",
        "    x=re.sub('[^A-Z a-z]+','',x)\n",
        "    x=' '.join([t for t in x.split() if t not in rare])\n",
        "    return x\n",
        "  else:\n",
        "    return x\n",
        "df['text']=df['text'].apply(lambda x: get_clean_text(x))\n"
      ]
    },
    {
      "cell_type": "code",
      "source": [
        "DATA_N_MALE['text']=DATA_N_MALE['text'].apply(lambda x: get_clean_text(x))"
      ],
      "metadata": {
        "colab": {
          "base_uri": "https://localhost:8080/"
        },
        "id": "M_-t2aTxoFiT",
        "outputId": "6ec6afe4-8df6-4442-a1c7-32fc6b8034e4"
      },
      "execution_count": null,
      "outputs": [
        {
          "output_type": "stream",
          "name": "stderr",
          "text": [
            "/usr/local/lib/python3.7/dist-packages/ipykernel_launcher.py:1: SettingWithCopyWarning: \n",
            "A value is trying to be set on a copy of a slice from a DataFrame.\n",
            "Try using .loc[row_indexer,col_indexer] = value instead\n",
            "\n",
            "See the caveats in the documentation: https://pandas.pydata.org/pandas-docs/stable/user_guide/indexing.html#returning-a-view-versus-a-copy\n",
            "  \"\"\"Entry point for launching an IPython kernel.\n"
          ]
        }
      ]
    },
    {
      "cell_type": "code",
      "source": [
        "DATA_N_FEMALE['text']=DATA_N_FEMALE['text'].apply(lambda x: get_clean_text(x))"
      ],
      "metadata": {
        "colab": {
          "base_uri": "https://localhost:8080/"
        },
        "id": "iYKTBoZgoHrn",
        "outputId": "74596b71-f2f0-4ad4-f1c0-94df3aee1fab"
      },
      "execution_count": null,
      "outputs": [
        {
          "output_type": "stream",
          "name": "stderr",
          "text": [
            "/usr/local/lib/python3.7/dist-packages/ipykernel_launcher.py:1: SettingWithCopyWarning: \n",
            "A value is trying to be set on a copy of a slice from a DataFrame.\n",
            "Try using .loc[row_indexer,col_indexer] = value instead\n",
            "\n",
            "See the caveats in the documentation: https://pandas.pydata.org/pandas-docs/stable/user_guide/indexing.html#returning-a-view-versus-a-copy\n",
            "  \"\"\"Entry point for launching an IPython kernel.\n"
          ]
        }
      ]
    },
    {
      "cell_type": "code",
      "execution_count": null,
      "metadata": {
        "id": "b2WkJUbIE0GO"
      },
      "outputs": [],
      "source": [
        "text=df['text'].tolist()\n",
        "text[:5]\n",
        "male_text=DATA_N_MALE['text'].tolist()\n",
        "female_text=DATA_N_FEMALE['text'].tolist()"
      ]
    },
    {
      "cell_type": "code",
      "execution_count": null,
      "metadata": {
        "id": "CbK3Zd2_FFEb"
      },
      "outputs": [],
      "source": [
        "y=df['Final']\n",
        "y_male=DATA_N_MALE['Final']\n",
        "y_female=DATA_N_FEMALE['Final']"
      ]
    },
    {
      "cell_type": "code",
      "execution_count": null,
      "metadata": {
        "id": "QeROcWa8FMPE"
      },
      "outputs": [],
      "source": [
        "token = Tokenizer()\n",
        "token.fit_on_texts(text)\n",
        "token.fit_on_texts(male_text)\n",
        "token.fit_on_texts(female_text)"
      ]
    },
    {
      "cell_type": "code",
      "execution_count": null,
      "metadata": {
        "colab": {
          "base_uri": "https://localhost:8080/"
        },
        "id": "Y8VAq8DGFUdK",
        "outputId": "0d4e8d48-a74d-439a-9be4-d20b8e408125"
      },
      "outputs": [
        {
          "output_type": "execute_result",
          "data": {
            "text/plain": [
              "4240"
            ]
          },
          "metadata": {},
          "execution_count": 77
        }
      ],
      "source": [
        "vocab_size = len(token.word_index)+1\n",
        "vocab_size"
      ]
    },
    {
      "cell_type": "code",
      "execution_count": null,
      "metadata": {
        "colab": {
          "base_uri": "https://localhost:8080/"
        },
        "id": "95BVi7jLFfUJ",
        "outputId": "8c5a5001-cd13-45a0-e163-414f749f0c0d"
      },
      "outputs": [
        {
          "output_type": "stream",
          "name": "stdout",
          "text": [
            "{1: 'a', 2: 'the', 3: 'i', 4: 'not', 5: 'but', 6: 'sexist', 7: 'to', 8: 'mkr', 9: 'is', 10: 'im', 11: 'you', 12: 'of', 13: 'and', 14: 'in', 15: 'are', 16: 'that', 17: 'women', 18: 'me', 19: 'for', 20: 'just', 21: 'it', 22: 'they', 23: 'on', 24: 'kat', 25: 'be', 26: 'no', 27: 'have', 28: 'girls', 29: 'dont', 30: 'like', 31: 'if', 32: 'this', 33: 'my', 34: 'notsexist', 35: 'so', 36: 'or', 37: 'its', 38: 'do', 39: 'call', 40: 'about', 41: 'when', 42: 'female', 43: 'what', 44: 'men', 45: 'think', 46: 'with', 47: 'at', 48: 'all', 49: 'her', 50: 'as', 51: 'she', 52: 'cant', 53: 'was', 54: 'get', 55: 'should', 56: 'can', 57: 'your', 58: 'woman', 59: 'know', 60: 'who', 61: 'one', 62: 'an', 63: 'why', 64: 'more', 65: 'out', 66: 'how', 67: 'up', 68: 'their', 69: 'amp', 70: 'really', 71: 'would', 72: 'will', 73: 'want', 74: 'by', 75: 'than', 76: 'we', 77: 'good', 78: 'mt', 79: 'right', 80: 'football', 81: 'has', 82: 'because', 83: 'never', 84: 'spos', 85: 'girl', 86: 'these', 87: 'there', 88: 'them', 89: 'make', 90: 'some', 91: 'need', 92: 'from', 93: 'hate', 94: 'go', 95: 'now', 96: 'see', 97: 'people', 98: 'feminists', 99: 'too', 100: 'off', 101: 'feminism', 102: 'only', 103: 'man', 104: 'most', 105: 'ever', 106: 'then', 107: 'even', 108: 'were', 109: 'yesyouresexist', 110: 'any', 111: 'being', 112: 'say', 113: 'sorry', 114: 'lol', 115: 'funny', 116: 'take', 117: 'shit', 118: 'pretty', 119: 'still', 120: 'had', 121: 'womens', 122: 'thats', 123: 'actually', 124: 'way', 125: 'fuck', 126: 'look', 127: 'he', 128: 'two', 129: 'every', 130: 'much', 131: 'same', 132: 'better', 133: 'rights', 134: 'feminist', 135: 'face', 136: 'time', 137: 'bitch', 138: 'bad', 139: 'did', 140: 'male', 141: 'andre', 142: 'well', 143: 'find', 144: 'over', 145: 'doesnt', 146: 'mykitchenrules', 147: 'oh', 148: 'those', 149: 'stop', 150: 'does', 151: 'stand', 152: 'am', 153: 'other', 154: 'yes', 155: 'females', 156: 'theyre', 157: 'going', 158: 'wrong', 159: 'dumb', 160: 'said', 161: 'u', 162: 'got', 163: 'w', 164: 'back', 165: 'real', 166: 'questionsformen', 167: 'thing', 168: 'blondes', 169: 'fucking', 170: 'drive', 171: 'please', 172: 'stupid', 173: 'believe', 174: 'his', 175: 'cannot', 176: 'someone', 177: 'equal', 178: 'drivers', 179: 'cook', 180: 'saying', 181: 'rape', 182: 'seriously', 183: 'equality', 184: 'tell', 185: 'comedians', 186: 'youre', 187: 'hot', 188: 'made', 189: 'watch', 190: 'promo', 191: 'arent', 192: 'work', 193: 'play', 194: 'use', 195: 'shouldnt', 196: 'talk', 197: 'hope', 198: 'great', 199: 'driving', 200: 'been', 201: 'mean', 202: 'ill', 203: 'idea', 204: 'awful', 205: 'job', 206: 'yeah', 207: 'anything', 208: 'guys', 209: 'game', 210: 'which', 211: 'true', 212: 'new', 213: 'down', 214: 'isnt', 215: 'here', 216: 'always', 217: 'something', 218: 'guy', 219: 'nothing', 220: 'hard', 221: 'doing', 222: 'cuntandandre', 223: 'care', 224: 'before', 225: 'love', 226: 'ok', 227: 'womenagainstfeminism', 228: 'shaner', 229: 'annoying', 230: 'swear', 231: 'could', 232: 'things', 233: 'hear', 234: 'through', 235: 'mens', 236: 'fact', 237: 'tv', 238: 'enough', 239: 'sexism', 240: 'put', 241: 'blonde', 242: 'many', 243: 'after', 244: 'person', 245: 'killerblondes', 246: 'less', 247: 'god', 248: 'again', 249: 'theres', 250: 'ladies', 251: 'also', 252: 'whatever', 253: 'twitter', 254: 'humanistfury', 255: 'us', 256: 'year', 257: 'read', 258: 'best', 259: 'suck', 260: 'life', 261: 'little', 262: 'joke', 263: 'watching', 264: 'tweet', 265: 'justlaurenb', 266: 'gamergate', 267: 'seen', 268: 'day', 269: 'cooking', 270: 'old', 271: 'another', 272: 'talking', 273: 'everyone', 274: 'let', 275: 'ta', 276: 'keep', 277: 'world', 278: 'show', 279: 'come', 280: 'big', 281: 'makes', 282: 'shermeron', 283: 'bristolben', 284: 'gender', 285: 'nikki', 286: 'own', 287: 'maybe', 288: 'annie', 289: 'though', 290: 'nope', 291: 'very', 292: 'against', 293: 'sure', 294: 'feel', 295: 'thought', 296: 'blackopal', 297: 'didnt', 298: 'saw', 299: 'give', 300: 'pay', 301: 'home', 302: 'damn', 303: 'around', 304: 'looks', 305: 'models', 306: 'him', 307: 'wow', 308: 'comes', 309: 'choice', 310: 'opinion', 311: 'thanks', 312: 'times', 313: 'hair', 314: 'first', 315: 'making', 316: 'both', 317: 'id', 318: 'head', 319: 'point', 320: 'explain', 321: 'kitchen', 322: 'guess', 323: 'anyone', 324: 'might', 325: 'told', 326: 'different', 327: 'katie', 328: 'looking', 329: 'sense', 330: 'needs', 331: 'child', 332: 'legal', 333: 'reason', 334: 'thor', 335: 'wait', 336: 'question', 337: 'trying', 338: 'our', 339: 'listentoraisin', 340: 'commentators', 341: 'na', 342: 'themselves', 343: 'end', 344: 'kats', 345: 'school', 346: 'scarmichael', 347: 'unless', 348: 'ghostbusters', 349: 'whats', 350: 'called', 351: 'bit', 352: 'rather', 353: 'must', 354: 'trishesdishes', 355: 'help', 356: 'cause', 357: 'such', 358: 'wont', 359: 'answer', 360: 'aboion', 361: 'boys', 362: 'shes', 363: 'faces', 364: 'omg', 365: 'self', 366: 'free', 367: 'already', 368: 'says', 369: 'honestly', 370: 'into', 371: 'shave', 372: 'feministlah', 373: 'listen', 374: 'hey', 375: 'deconstructed', 376: 'gonna', 377: 'either', 378: 'everything', 379: 'wouldnt', 380: 'name', 381: 'gets', 382: 'lostsailorny', 383: 'having', 384: 'asredasmyhair', 385: 'google', 386: 'exactly', 387: 'games', 388: 'ive', 389: 'last', 390: 'long', 391: 'kind', 392: 'ass', 393: 'hell', 394: 's', 395: 'fake', 396: 'yet', 397: 'blocked', 398: 'gap', 399: 'uberfeminist', 400: 'racist', 401: 'hit', 402: 'katandandre', 403: 'try', 404: 'years', 405: 'vote', 406: 'allowed', 407: 'where', 408: 'movement', 409: 'greenweiner', 410: 'lot', 411: 'sister', 412: 'comattwow', 413: 'crazy', 414: 'else', 415: 'bitches', 416: 'half', 417: 'night', 418: 'place', 419: 'jokes', 420: 'lady', 421: 'argue', 422: 'realize', 423: 'espn', 424: 'announcers', 425: 'driver', 426: 'tonight', 427: 'shut', 428: 'calling', 429: 'voice', 430: 'heard', 431: 'pa', 432: 'eyes', 433: 'wife', 434: 'literally', 435: 'leave', 436: 'understand', 437: 'wo', 438: 'boxedariel', 439: 'thelokijotunn', 440: 'chubssays', 441: 'nice', 442: 'wants', 443: 'cunt', 444: 'main', 445: 'couldnt', 446: 'full', 447: 'prefer', 448: 'hes', 449: 'http', 450: 'tweets', 451: 'while', 452: 'agree', 453: 'word', 454: 'today', 455: 'red', 456: 'knew', 457: 'playing', 458: 'behind', 459: 'cut', 460: 'fan', 461: 'none', 462: 'httpt', 463: 'anniekfox', 464: 'totally', 465: 'car', 466: 'next', 467: 'top', 468: 'bimbos', 469: 'wonder', 470: 'jobs', 471: 'probably', 472: 'under', 473: 'team', 474: 'punch', 475: 'fight', 476: 'news', 477: 'vs', 478: 'list', 479: 'prove', 480: 'money', 481: 'wage', 482: 'kmx', 483: 'cares', 484: 'thegeekchick', 485: 'spo', 486: 'rappers', 487: 'sassy', 488: 'wish', 489: 'whole', 490: 'dishes', 491: 'r', 492: 'nasty', 493: 'ones', 494: 'aint', 495: 'stay', 496: 'win', 497: 'd', 498: 'turn', 499: 'getting', 500: 'house', 501: 'abuse', 502: 'figure', 503: 'fems', 504: 'tehmenz', 505: 'femfreefriday', 506: 'opinions', 507: 'superjutah', 508: 'each', 509: 'commentator', 510: 'away', 511: 'black', 512: 'reality', 513: 'far', 514: 'standards', 515: 'ya', 516: 'lemon', 517: 'able', 518: 'stuff', 519: 'teams', 520: 'mind', 521: 'majority', 522: 'sexual', 523: 'argument', 524: 'video', 525: 'seems', 526: 'facts', 527: 'hilarious', 528: 'sara', 529: 'tamedinsanity', 530: 'without', 531: 'president', 532: 'basketball', 533: 'weird', 534: 'front', 535: 'since', 536: 'ask', 537: 'worst', 538: 'truth', 539: 'sex', 540: 'thinks', 541: 'death', 542: 'herself', 543: 'asheschow', 544: 'amberhasalamb', 545: 'example', 546: 'comment', 547: 'sta', 548: 'anonmnom', 549: 'definition', 550: 'lbigmann', 551: 'mom', 552: 'avacadosoup', 553: 'delusional', 554: 'b', 555: 'ash', 556: 'between', 557: 'rules', 558: 'bet', 559: 'kick', 560: 'horrible', 561: 'balls', 562: 'huh', 563: 'ur', 564: 'instead', 565: 'close', 566: 'lie', 567: 'means', 568: 'known', 569: 'single', 570: 'taking', 571: 'cathyyoung', 572: 'femitheist', 573: 'character', 574: 'america', 575: 'leokikilady', 576: 'obviously', 577: 'room', 578: 'super', 579: 'matter', 580: 'walk', 581: 'model', 582: 'slap', 583: 'low', 584: 'yourself', 585: 'young', 586: 'least', 587: 'deserve', 588: 'deal', 589: 'proof', 590: 'thisonesakillaa', 591: 'dreysander', 592: 'usually', 593: 'logic', 594: 'k', 595: 'judgybitch', 596: 'dqtwitchstream', 597: 'announcer', 598: 'chick', 599: 'dude', 600: 'roles', 601: 'knows', 602: 'minutes', 603: 'score', 604: 'bitchy', 605: 'hands', 606: 'haha', 607: 'coming', 608: 'once', 609: 'poor', 610: 'sick', 611: 'karma', 612: 'seem', 613: 'piss', 614: 'change', 615: 'until', 616: 'bus', 617: 'justsaying', 618: 'system', 619: 'oppose', 620: 'michmcconnell', 621: 'pndiamond', 622: 'hayleyjoness', 623: 'block', 624: 'false', 625: 'aicle', 626: 'irony', 627: 'oneiorosgrip', 628: 'run', 629: 'sorrynotsorry', 630: 'colin', 631: 'ugly', 632: 'especially', 633: 'quit', 634: 'boring', 635: 'line', 636: 'dress', 637: 'annies', 638: 'seeing', 639: 'telling', 640: 'ready', 641: 'almost', 642: 'slut', 643: 'gt', 644: 'left', 645: 'live', 646: 'straight', 647: 'lloyd', 648: 'eliminated', 649: 'youll', 650: 'human', 651: 'laugh', 652: 'goes', 653: 'blame', 654: 'culture', 655: 'kid', 656: 'mine', 657: 'trolling', 658: 'hypocrisy', 659: 'working', 660: 'during', 661: 'cjnu', 662: 'respect', 663: 'hillary', 664: 'raped', 665: 'attractive', 666: 'terrible', 667: 'lets', 668: 'celine', 669: 'th', 670: 'etc', 671: 'definitely', 672: 'case', 673: 'mar', 674: 'fun', 675: 'myself', 676: 'fat', 677: 'history', 678: 'worse', 679: 'pick', 680: 'wear', 681: 'wanna', 682: 'woh', 683: 'pipe', 684: 'thegags', 685: 'legally', 686: 'except', 687: 'luck', 688: 'serious', 689: 'jail', 690: 'college', 691: 'yours', 692: 'fyi', 693: 'space', 694: 'brenbarber', 695: 'write', 696: 'comics', 697: 'complain', 698: 'original', 699: 'tigerclaud', 700: 'dezzantibus', 701: 'learn', 702: 'parking', 703: 'sometimes', 704: 'alone', 705: 'wnba', 706: 'comedian', 707: 'cleaning', 708: 'appreciate', 709: 'act', 710: 'gone', 711: 'competition', 712: 'youd', 713: 'anyway', 714: 'hand', 715: 'double', 716: 'round', 717: 'absolutely', 718: 'theyll', 719: 'lost', 720: 'done', 721: 'level', 722: 'simple', 723: 'chicks', 724: 'scored', 725: 'unfair', 726: 'hearing', 727: 'truly', 728: 'shame', 729: 'meant', 730: 'mouth', 731: 'stronger', 732: 'showing', 733: 'belong', 734: 'arguing', 735: 'few', 736: 'picture', 737: 'grimachu', 738: 'parenthood', 739: 'htt', 740: 'problems', 741: 'western', 742: 'often', 743: 'issue', 744: 'ilivundrurbed', 745: 'whining', 746: 'twitterfeminism', 747: 'social', 748: 'attention', 749: 'traininvainn', 750: 'group', 751: 'nosexist', 752: 'tl', 753: 'restaurant', 754: 'drasko', 755: 'using', 756: 'dislike', 757: 'tas', 758: 'gross', 759: 'gotta', 760: 'faketoniatodman', 761: 'save', 762: 'youve', 763: 'putting', 764: 'type', 765: 'class', 766: 'strategically', 767: 'works', 768: 'smug', 769: 'set', 770: 'smile', 771: 'mistake', 772: 'role', 773: 'wanted', 774: 'soon', 775: 'mostly', 776: 'assault', 777: 'suppo', 778: 'sounds', 779: 'ignorant', 780: 'financial', 781: 'aussielung', 782: 'asked', 783: 'evidence', 784: 'safe', 785: 'above', 786: 'okay', 787: 'theshujaatali', 788: 'anti', 789: 'meme', 790: 'due', 791: 'scary', 792: 'natalietudor', 793: 'notchrissmith', 794: 'played', 795: 'ref', 796: 'mans', 797: 'sound', 798: 'hockey', 799: 'ceain', 800: 'refs', 801: 'league', 802: 'crap', 803: 'opener', 804: 'age', 805: 'used', 806: 'notice', 807: 'based', 808: 'quite', 809: 'cooked', 810: 'producers', 811: 'missed', 812: 'paid', 813: 'dish', 814: 'funnier', 815: 'past', 816: 'course', 817: 'cunts', 818: 'completely', 819: 'judge', 820: 'whore', 821: 'kate', 822: 'food', 823: 'happen', 824: 'co', 825: 'staed', 826: 'useless', 827: 'mra', 828: 'victim', 829: 'fired', 830: 'feministfailure', 831: 'whose', 832: 'valid', 833: 'follow', 834: 'aware', 835: 'tennis', 836: 'shelbylynne', 837: 'cup', 838: 'consider', 839: 'specific', 840: 'power', 841: 'lack', 842: 'goal', 843: 'twothugu', 844: 'complaining', 845: 'yall', 846: 'pull', 847: 'society', 848: 'instant', 849: 'mental', 850: 'nikkis', 851: 'fucked', 852: 'pink', 853: 't', 854: 'ceainly', 855: 'sho', 856: 'porn', 857: 'massive', 858: 'hoes', 859: 'student', 860: 'wtf', 861: 'tough', 862: 'test', 863: 'difference', 864: 'bitching', 865: 'biggest', 866: 'week', 867: 'country', 868: 'sudden', 869: 'eat', 870: 'everytime', 871: 'uses', 872: 'expect', 873: 'campus', 874: 'eaballesty', 875: 'timgeelen', 876: 'shethewolf', 877: 'created', 878: 'sorryitsaboy', 879: 'victorymonk', 880: 'nation', 881: 'reply', 882: 'shell', 883: 'openly', 884: 'laid', 885: 'account', 886: 'credit', 887: 'later', 888: 'ford', 889: 'bananaramble', 890: 'awesome', 891: 'claim', 892: 'population', 893: 'compliment', 894: 'valiantrook', 895: 'doubt', 896: 'focus', 897: 'open', 898: 'troll', 899: 'sirscatters', 900: 'wheel', 901: 'adviceforyoungfeminists', 902: 'poe', 903: 'buy', 904: 'went', 905: 'maddybaylor', 906: 'theesadiemarie', 907: 'gabystama', 908: 'vcrblog', 909: 'pure', 910: 'sxflint', 911: 'paicipate', 912: 'bout', 913: 'standard', 914: 'sexistbut', 915: 'm', 916: 'shows', 917: 'sky', 918: 'gives', 919: 'pwreclive', 920: 'perfect', 921: 'womans', 922: 'skank', 923: 'dog', 924: 'dinner', 925: 'promogirls', 926: 'em', 927: 'catwalk', 928: 'writing', 929: 'camilla', 930: 'total', 931: 'anymore', 932: 'dick', 933: 'bunch', 934: 'pants', 935: 'hat', 936: 'view', 937: 'tight', 938: 'takes', 939: 'quote', 940: 'wasnt', 941: 'enjoy', 942: 'response', 943: 'grow', 944: 'wiped', 945: 'amazing', 946: 'mother', 947: 'dollar', 948: 'lose', 949: 'piece', 950: 'hasnt', 951: 'romney', 952: 'killed', 953: 'characters', 954: 'realtrumpsfeels', 955: 'privilege', 956: 'knowing', 957: 'todays', 958: 'legit', 959: 'criticalkaiju', 960: 'equalpay', 961: 'others', 962: 'record', 963: 'uk', 964: 'bmackillopthio', 965: 'knux', 966: 'law', 967: 'reading', 968: 'examples', 969: 'robinashe', 970: 'agreed', 971: 'audmum', 972: 'myth', 973: 'period', 974: 'special', 975: 'buti', 976: 'referring', 977: 'story', 978: 'nonirishpaddy', 979: 'legs', 980: 'allehegens', 981: 'amarinaw', 982: 'prison', 983: 'noin', 984: 'repeat', 985: 'fans', 986: 'form', 987: 'negotiate', 988: 'given', 989: 'movies', 990: 'wizardryofozil', 991: 'comedy', 992: 'havent', 993: 'theyd', 994: 'november', 995: 'proved', 996: 'plate', 997: 'sluts', 998: 'cock', 999: 'foot', 1000: 'million', 1001: 'calls', 1002: 'daughter', 1003: 'average', 1004: 'sit', 1005: 'three', 1006: 'check', 1007: 'forward', 1008: 'silly', 1009: 'five', 1010: 'staying', 1011: 'tits', 1012: 'smiling', 1013: 'meth', 1014: 'common', 1015: 'count', 1016: 'jesus', 1017: 'ridiculous', 1018: 'scores', 1019: 'cool', 1020: 'heres', 1021: 'otherwise', 1022: 'cantcook', 1023: 'chance', 1024: 'lloyds', 1025: 'crack', 1026: 'whos', 1027: 'bbq', 1028: 'listening', 1029: 'proves', 1030: 'changed', 1031: 'nomorepage', 1032: 'jennykutner', 1033: 'cuz', 1034: 'everydaysexism', 1035: 'clearly', 1036: 'politicalcynic', 1037: 'plenty', 1038: 'auragasmic', 1039: 'taken', 1040: 'cops', 1041: 'term', 1042: 'transicnyc', 1043: 'hold', 1044: 'straw', 1045: 'concerned', 1046: 'movie', 1047: 'euroslava', 1048: 'math', 1049: 'middle', 1050: 'happens', 1051: 'experience', 1052: 'manishlimbu', 1053: 'fruitondabottom', 1054: 'genuinely', 1055: 'weak', 1056: 'studies', 1057: 'safer', 1058: 'lt', 1059: 'erikssonmalin', 1060: 'bc', 1061: 'fall', 1062: 'baby', 1063: 'ben', 1064: 'didymusleonha', 1065: 'guessing', 1066: 'friend', 1067: 'firm', 1068: 'yesyoureracist', 1069: 'rugby', 1070: 'month', 1071: 'met', 1072: 'sandwich', 1073: 'extremely', 1074: 'dudes', 1075: 'commentating', 1076: 'clean', 1077: 'idk', 1078: 'rap', 1079: 'nba', 1080: 'son', 1081: 'personal', 1082: 'teachers', 1083: 'tho', 1084: 'awareness', 1085: 'drunk', 1086: 'couple', 1087: 'tag', 1088: 'nearly', 1089: 'appears', 1090: 'vapid', 1091: 'breaks', 1092: 'relnofollowtwitter', 1093: 'butchers', 1094: 'meat', 1095: 'acting', 1096: 'high', 1097: 'together', 1098: 'hahahaha', 1099: 'obvious', 1100: 'cooks', 1101: 'heads', 1102: 'evil', 1103: 'hoping', 1104: 'desse', 1105: 'ice', 1106: 'scoring', 1107: 'sleep', 1108: 'hide', 1109: 'steve', 1110: 'strategic', 1111: 'dustypee', 1112: 'match', 1113: 'n', 1114: 'national', 1115: 'smirk', 1116: 'pathetic', 1117: 'trash', 1118: 'happy', 1119: 'pulled', 1120: 'ahead', 1121: 'smack', 1122: 'bjtqld', 1123: 'future', 1124: 'giving', 1125: 'throw', 1126: 'individual', 1127: 'cheat', 1128: 'nine', 1129: 'fail', 1130: 'stated', 1131: 'aamattyhealy', 1132: 'gyu', 1133: 'afraid', 1134: 'anita', 1135: 'fo', 1136: 'genanoncoward', 1137: 'state', 1138: 'opt', 1139: 'pardusxy', 1140: 'degree', 1141: 'forget', 1142: 'weeks', 1143: 'cry', 1144: 'pariahpotimouth', 1145: 'scyleet', 1146: 'intent', 1147: 'date', 1148: 'designed', 1149: 'thesledgetobias', 1150: 'witchsniffer', 1151: 'hypocrites', 1152: 'valenti', 1153: 'psychscientists', 1154: 'learned', 1155: 'film', 1156: 'httptco', 1157: 'linked', 1158: 'cases', 1159: 'limited', 1160: 'remember', 1161: 'manimeister', 1162: 'geno', 1163: 'mass', 1164: 'cited', 1165: 'angryfeminazi', 1166: 'economics', 1167: 'number', 1168: 'ktonieskacze', 1169: 'dad', 1170: 'failedmgc', 1171: 'source', 1172: 'sargonofakkad', 1173: 'millett', 1174: 'near', 1175: 'ale', 1176: 'control', 1177: 'holy', 1178: 'elizabethhobso', 1179: 'somekindaboogin', 1180: 'antifempsycho', 1181: 'huge', 1182: 'graphicfire', 1183: 'alstonmyles', 1184: 'book', 1185: 'laughed', 1186: 'days', 1187: 'nobody', 1188: 'minasmith', 1189: 'ovechkin', 1190: 'unequal', 1191: 'privwhitegirl', 1192: 'imanothervoice', 1193: 'clue', 1194: 'flat', 1195: 'emotional', 1196: 'rampaigera', 1197: 'wrestling', 1198: 'reverse', 1199: 'tend', 1200: 'early', 1201: 'lyall', 1202: 'problem', 1203: 'pelorshope', 1204: 'mad', 1205: 'note', 1206: 'hungry', 1207: 'personally', 1208: 'clinton', 1209: 'cheuya', 1210: 'masterbatker', 1211: 'bag', 1212: 'natural', 1213: 'tickets', 1214: 'worry', 1215: 'responsible', 1216: 'found', 1217: 'season', 1218: 'trashy', 1219: 'saved', 1220: 'ratings', 1221: 'modelling', 1222: 'bs', 1223: 'vagina', 1224: 'moment', 1225: 'stfu', 1226: 'direct', 1227: 'chef', 1228: 'thighs', 1229: 'tool', 1230: 'stick', 1231: 'may', 1232: 'plain', 1233: 'mum', 1234: 'gotten', 1235: 'wa', 1236: 'voting', 1237: 'gordon', 1238: 'grace', 1239: 'au', 1240: 'rid', 1241: 'fair', 1242: 'secret', 1243: 'manu', 1244: 'personality', 1245: 'nor', 1246: 'pretend', 1247: 'across', 1248: 'children', 1249: 'nervous', 1250: 'glass', 1251: 'humiliated', 1252: 'krazyeyes', 1253: 'lives', 1254: 'twat', 1255: 'clear', 1256: 'process', 1257: 'httptc', 1258: 'shaming', 1259: 'street', 1260: 'bigots', 1261: 'serve', 1262: 'mgtowknight', 1263: 'via', 1264: 'rapists', 1265: 'deny', 1266: 'decide', 1267: 'body', 1268: 'star', 1269: 'ten', 1270: 'click', 1271: 'hatred', 1272: 'canada', 1273: 'reference', 1274: 'derived', 1275: 'meaning', 1276: 'irrelevant', 1277: 'gold', 1278: 'yep', 1279: 'assume', 1280: 'arguments', 1281: 'jdefiant', 1282: 'avoid', 1283: 'dultery', 1284: 'pussy', 1285: 'ca', 1286: 'impoant', 1287: 'town', 1288: 'study', 1289: 'narrative', 1290: 'return', 1291: 'nows', 1292: 'hadnt', 1293: 'relevant', 1294: 'stevenbireal', 1295: 'accept', 1296: 'nitramy', 1297: 'spin', 1298: 'whatfeminismgaveme', 1299: 'msharkess', 1300: 'speech', 1301: 'pc', 1302: 'ago', 1303: 'innocent', 1304: 'kinda', 1305: 'dekashoko', 1306: 'kept', 1307: 'comic', 1308: 'husband', 1309: 'lower', 1310: 'bothers', 1311: 'cazzapuppy', 1312: 'mislukravin', 1313: 'mras', 1314: 'clothes', 1315: 'sposcasters', 1316: 'bro', 1317: 'handle', 1318: 'dear', 1319: 'washing', 1320: 'complete', 1321: 'superior', 1322: 'tbh', 1323: 'annoys', 1324: 'promise', 1325: 'travieee', 1326: 'af', 1327: 'feed', 1328: 'amy', 1329: 'mute', 1330: 'comfoable', 1331: 'annoy', 1332: 'ufc', 1333: 'analyst', 1334: 'correct', 1335: 'family', 1336: 'tweeting', 1337: 'intelligent', 1338: 'entire', 1339: 'struggle', 1340: 'lotrquotes', 1341: 'shape', 1342: 'park', 1343: 'grip', 1344: 'business', 1345: 'coach', 1346: 'synonym', 1347: 'nah', 1348: 'cast', 1349: 'ah', 1350: 'fem', 1351: 'possible', 1352: 'american', 1353: 'unattractive', 1354: 'tone', 1355: 'likes', 1356: 'catching', 1357: 'brains', 1358: 'feeling', 1359: 'wings', 1360: 'dream', 1361: 'fashion', 1362: 'sucking', 1363: 'colins', 1364: 'ugh', 1365: 'mkrfalsemkra', 1366: 'sass', 1367: 'rigged', 1368: 'arse', 1369: 'weve', 1370: 'walking', 1371: 'shot', 1372: 'clubs', 1373: 'classy', 1374: 'plus', 1375: 'blind', 1376: 'water', 1377: 'moist', 1378: 'itsjust', 1379: 'honest', 1380: 'roll', 1381: 'zero', 1382: 'cheats', 1383: 'living', 1384: 'major', 1385: 'constantly', 1386: 'tan', 1387: 'hashtag', 1388: 'appealing', 1389: 'walks', 1390: 'thank', 1391: 'television', 1392: 'bless', 1393: 'unlike', 1394: 'following', 1395: 'paicularly', 1396: 'issues', 1397: 'strong', 1398: 'pass', 1399: 'cow', 1400: 'add', 1401: 'wicked', 1402: 'step', 1403: 'childish', 1404: 'screeching', 1405: 'site', 1406: 'hateful', 1407: 'ebola', 1408: 'followed', 1409: 'morning', 1410: 'willbehelot', 1411: 'create', 1412: 'shoenhead', 1413: 'solely', 1414: 'violence', 1415: 'bigotry', 1416: 'dressing', 1417: 'treat', 1418: 'worn', 1419: 'diva', 1420: 'eye', 1421: 'brittanyblade', 1422: 'patriarchy', 1423: 'forced', 1424: 'abnormalcybias', 1425: 'asking', 1426: 'idontneedfeminism', 1427: 'youtube', 1428: 'ghost', 1429: 'scared', 1430: 'biased', 1431: 'interest', 1432: 'basically', 1433: 'o', 1434: 'watched', 1435: 'chs', 1436: 'action', 1437: 'conversation', 1438: 'learning', 1439: 'fighting', 1440: 'invented', 1441: 'hour', 1442: 'bigot', 1443: 'randomhero', 1444: 'rooshv', 1445: 'chsfword', 1446: 'accounts', 1447: 'trust', 1448: 'poker', 1449: 'switch', 1450: 'died', 1451: 'drinking', 1452: 'truck', 1453: 'st', 1454: 'f', 1455: 'broad', 1456: 'males', 1457: 'tired', 1458: 'speed', 1459: 'laundry', 1460: 'ghosts', 1461: 'angry', 1462: 'thejpdh', 1463: 'mma', 1464: 'road', 1465: 'amount', 1466: 'releasing', 1467: 'sausage', 1468: 'gay', 1469: 'stays', 1470: 'hu', 1471: 'killer', 1472: 'arsehole', 1473: 'kidding', 1474: 'served', 1475: 'words', 1476: 'mention', 1477: 'theme', 1478: 'sorbet', 1479: 'convincing', 1480: 'humble', 1481: 'menu', 1482: 'hrefhttptwittercomdownloadiphone', 1483: 'iphonea', 1484: 'proven', 1485: 'channel', 1486: 'feebee', 1487: 'drama', 1488: 'butcher', 1489: 'stuck', 1490: 'quality', 1491: 'sheri', 1492: 'emilie', 1493: 'choose', 1494: 'danhickey', 1495: 'teeth', 1496: 'wipe', 1497: 'episode', 1498: 'explains', 1499: 'greasy', 1500: 'admitted', 1501: 'holly', 1502: 'rotten', 1503: 'realise', 1504: 'iq', 1505: 'generally', 1506: 'dictionary', 1507: 'decent', 1508: 'equivalent', 1509: 'cough', 1510: 'yup', 1511: 'hotmkr', 1512: 'ramsay', 1513: 'outmkr', 1514: 'thru', 1515: 'cnt', 1516: 'objectionable', 1517: 'burn', 1518: 'australia', 1519: 'witch', 1520: 'crazyeyes', 1521: 'hated', 1522: 'beat', 1523: 'gidgitvonlarue', 1524: 'pieces', 1525: 'hates', 1526: 'anniechaplin', 1527: 'hello', 1528: 'shopping', 1529: 'favourite', 1530: 'jocks', 1531: 'keeps', 1532: 'liked', 1533: 'idiot', 1534: 'spirit', 1535: 'animal', 1536: 'deserves', 1537: 'kant', 1538: 'lismarie', 1539: 'train', 1540: 'corinnasladey', 1541: 'winning', 1542: 'peoples', 1543: 'anniei', 1544: 'sydneyeditor', 1545: 'adds', 1546: 'faults', 1547: 'busy', 1548: 'warming', 1549: 'crazybitch', 1550: 'described', 1551: 'exposes', 1552: 'lines', 1553: 'assaulted', 1554: 'alieastwest', 1555: 'eventually', 1556: 'brotheryellow', 1557: 'mock', 1558: 'philippenis', 1559: 'tweetlikeafeminist', 1560: 'opposes', 1561: 'favorite', 1562: 'huff', 1563: 'catch', 1564: 'listing', 1565: 'flawed', 1566: 'merit', 1567: 'intentionally', 1568: 'vivant', 1569: 'tomsaw', 1570: 'dowewantto', 1571: 'lmargolez', 1572: 'bluntmoms', 1573: 'refers', 1574: 'shhhits', 1575: 'refer', 1576: 'useuongue', 1577: 'twiggins', 1578: 'christinaloken', 1579: 'holliebakerlutz', 1580: 'ytmstawufy', 1581: 'implying', 1582: 'attacked', 1583: 'risk', 1584: 'redscarebot', 1585: 'broketiligetrch', 1586: 'robscragga', 1587: 'sommers', 1588: 'sweden', 1589: 'essentially', 1590: 'antisjw', 1591: 'wrote', 1592: 'msm', 1593: 'shi', 1594: 'root', 1595: 'drjoanbeckwith', 1596: 'basicrepublican', 1597: 'neutral', 1598: 'yawn', 1599: 'synthovine', 1600: 'forgot', 1601: 'oppressed', 1602: 'christianmcbane', 1603: 'excuse', 1604: 'rapist', 1605: 'unpccomix', 1606: 'carolynneva', 1607: 'chivalry', 1608: 'untreated', 1609: 'iloveoldtools', 1610: 'ignore', 1611: 'feministsareugly', 1612: 'fewer', 1613: 'oppounity', 1614: 'ahem', 1615: 'avg', 1616: 'cs', 1617: 'supposenot', 1618: 'doeringnorman', 1619: 'daily', 1620: 'dgbattaglia', 1621: 'jaksoulbright', 1622: 'aist', 1623: 'checkitcool', 1624: 'mechasauce', 1625: 'nkopper', 1626: 'youtuber', 1627: 'thisi', 1628: 'gallery', 1629: 'tablet', 1630: 'enforced', 1631: 'visitation', 1632: 'libeycapent', 1633: 'links', 1634: 'janet', 1635: 'bih', 1636: 'cathy', 1637: 'orwell', 1638: 'conflate', 1639: 'femininity', 1640: 'commit', 1641: 'daftbrian', 1642: 'walker', 1643: 'fanda', 1644: 'eu', 1645: 'equalitymen', 1646: 'mrminibagel', 1647: 'ban', 1648: 'shackscents', 1649: 'awkward', 1650: 'elses', 1651: 'isis', 1652: 'untouchableshe', 1653: 'specifically', 1654: 'executed', 1655: 'rebuild', 1656: 'gary', 1657: 'rigging', 1658: 'draft', 1659: 'rig', 1660: 'avs', 1661: 'gamers', 1662: 'sheep', 1663: 'questionsforfeminists', 1664: 'needed', 1665: 'harryisaacjr', 1666: 'sexyisntsexist', 1667: 'failing', 1668: 'helsybobsmith', 1669: 'heathermoandco', 1670: 'askhermore', 1671: 'ellarosyy', 1672: 'wateronatrain', 1673: 'aliradicali', 1674: 'tax', 1675: 'auntysoapbox', 1676: 'mistaphill', 1677: 'dudebros', 1678: 'hollywood', 1679: 'deals', 1680: 'melisssugh', 1681: 'copy', 1682: 'greyaesthetic', 1683: 'lies', 1684: 'actionflickdoc', 1685: 'raise', 1686: 'ratman', 1687: 'factsvsopinion', 1688: 'susanhaggard', 1689: 'liljaob', 1690: 'stars', 1691: 'hawks', 1692: 'ducks', 1693: 'kanowyatt', 1694: 'h', 1695: 'iron', 1696: 'idc', 1697: 'announcing', 1698: 'com', 1699: 'break', 1700: 'sposcenter', 1701: 'easy', 1702: 'repoer', 1703: 'soccer', 1704: 'relationship', 1705: 'yesallwomen', 1706: 'waste', 1707: 'leviathanpride', 1708: 'smoking', 1709: 'pain', 1710: 'felt', 1711: 'captain', 1712: 'repoers', 1713: 'georgeworshingt', 1714: 'wit', 1715: 'trizzzy', 1716: 'refuse', 1717: 'boobs', 1718: 'ride', 1719: 'phone', 1720: 'managers', 1721: 'officialbeech', 1722: 'asshole', 1723: 'analysts', 1724: 'broken', 1725: 'das', 1726: 'eh', 1727: 'retarded', 1728: 'p', 1729: 'deep', 1730: 'jimboslice', 1731: 'clueless', 1732: 'painful', 1733: 'enteaining', 1734: 'barnflake', 1735: 'flying', 1736: 'irkmeingram', 1737: 'voices', 1738: 'rest', 1739: 'nikeenan', 1740: 'justhonest', 1741: 'extent', 1742: 'inferior', 1743: 'pisses', 1744: 'grindmode', 1745: 'empires', 1746: 'venereveritas', 1747: 'sadly', 1748: 'white', 1749: 'came', 1750: 'ryangebble', 1751: 'shepard', 1752: 'grexican', 1753: 'milk', 1754: 'killa', 1755: 'omgcant', 1756: 'hards', 1757: 'eyed', 1758: 'douch', 1759: 'mmmm', 1760: 'lisamromano', 1761: 'dufresnefrank', 1762: 'hideous', 1763: 'liberal', 1764: 'separate', 1765: 'evidently', 1766: 'laws', 1767: 'questions', 1768: 'misogynist', 1769: 'numbers', 1770: 'beaten', 1771: 'police', 1772: 'humor', 1773: 'somehow', 1774: 'event', 1775: 'anytime', 1776: 'excited', 1777: 'elegant', 1778: 'gosh', 1779: 'cutting', 1780: 'cows', 1781: 'murder', 1782: 'inflated', 1783: 'menus', 1784: 'girlin', 1785: 'wayyy', 1786: 'till', 1787: 'pie', 1788: 'bringing', 1789: 'order', 1790: 'othermon', 1791: 'sausages', 1792: 'horse', 1793: 'katies', 1794: 'weirdness', 1795: 'coloured', 1796: 'amsatweet', 1797: 'slaggynotsassy', 1798: 'supposed', 1799: 'mary', 1800: 'sell', 1801: 'finished', 1802: 'cue', 1803: 'drasco', 1804: 'offered', 1805: 'dark', 1806: 'twice', 1807: 'automatically', 1808: 'fame', 1809: 'syazlicious', 1810: 'selfie', 1811: 'feet', 1812: 'faaark', 1813: 'tradie', 1814: 'drag', 1815: 'freaking', 1816: 'fmd', 1817: 'tall', 1818: 'colour', 1819: 'suekennedy', 1820: 'impossible', 1821: 'health', 1822: 'outraged', 1823: 'sposmanship', 1824: 'karmas', 1825: 'grown', 1826: 'campers', 1827: 'mainly', 1828: 'dummy', 1829: 'justsayin', 1830: 'serving', 1831: 'nails', 1832: 'bake', 1833: 'meatballs', 1834: 'stones', 1835: 'editing', 1836: 'kumkr', 1837: 'olympics', 1838: 'meh', 1839: 'karmaisabitch', 1840: 'humility', 1841: 'bums', 1842: 'finally', 1843: 'laughing', 1844: 'whack', 1845: 'ability', 1846: 'whoa', 1847: 'elderly', 1848: 'warrior', 1849: 'c', 1850: 'radical', 1851: 'threats', 1852: 'ryanklang', 1853: 'mereachingout', 1854: 'shterd', 1855: 'waynejburrows', 1856: 'chsommers', 1857: 'current', 1858: 'concept', 1859: 'pointing', 1860: 'pizza', 1861: 'engage', 1862: 'hire', 1863: 'blackbeard', 1864: 'fraud', 1865: 'powerful', 1866: 'cheering', 1867: 'screams', 1868: 'criticizing', 1869: 'heay', 1870: 'stab', 1871: 'ftrim', 1872: 'era', 1873: 'chooses', 1874: 'discrimination', 1875: 'questionsforwomen', 1876: 'isabellaesco', 1877: 'sometime', 1878: 'passed', 1879: 'led', 1880: 'denying', 1881: 'post', 1882: 'environment', 1883: 'feminismisawful', 1884: 'lied', 1885: 'attend', 1886: 'haven', 1887: 'egalitarian', 1888: 'projection', 1889: 'daughters', 1890: 'remynoh', 1891: 'groups', 1892: 'fit', 1893: 'plan', 1894: 'answers', 1895: 'swedish', 1896: 'fords', 1897: 'criticism', 1898: 'misandrist', 1899: 'bar', 1900: 'guns', 1901: 'waiting', 1902: 'clem', 1903: 'trump', 1904: 'thedailybeast', 1905: 'paicipating', 1906: 'continue', 1907: 'bottom', 1908: 'checked', 1909: 'valentis', 1910: 'blocks', 1911: 'unaware', 1912: 'examine', 1913: 'bother', 1914: 'gg', 1915: 'ht', 1916: 'lesleywallace', 1917: 'push', 1918: 'leaders', 1919: 'nuts', 1920: 'gaga', 1921: 'desire', 1922: 'accusation', 1923: 'toopawned', 1924: 'stabbed', 1925: 'fate', 1926: 'setting', 1927: 'context', 1928: 'socrates', 1929: 'reasonable', 1930: 'germany', 1931: 'exception', 1932: 'ftr', 1933: 'posting', 1934: 'scientist', 1935: 'ed', 1936: 'rd', 1937: 'gop', 1938: 'knowingly', 1939: 'repoing', 1940: 'nations', 1941: 'speak', 1942: 'added', 1943: 'dogsplained', 1944: 'butno', 1945: 'preventative', 1946: 'measures', 1947: 'superb', 1948: 'computer', 1949: 'science', 1950: 'shield', 1951: 'alecmachet', 1952: 'masterninja', 1953: 'ways', 1954: 'sharing', 1955: 'blank', 1956: 'propoional', 1957: 'race', 1958: 'praise', 1959: 'tactical', 1960: 'stats', 1961: 'markuslenz', 1962: 'inane', 1963: 'boxofbudgies', 1964: 'dontdatesjws', 1965: 'harriet', 1966: 'harman', 1967: 'op', 1968: 'opposite', 1969: 'non', 1970: 'achieve', 1971: 'equally', 1972: 'bank', 1973: 'defense', 1974: 'dviper', 1975: 'sympathy', 1976: 'danasheehan', 1977: 'office', 1978: 'sentence', 1979: 'difficult', 1980: 'boycottbrandy', 1981: 'desecrossing', 1982: 'repo', 1983: 'criticalkelly', 1984: 'menshumanrights', 1985: 'overall', 1986: 'understanding', 1987: 'finish', 1988: 'drinks', 1989: 'joelizaharrison', 1990: 'g', 1991: 'pockets', 1992: 'fruit', 1993: 'congress', 1994: 'light', 1995: 'mkriegbaumjr', 1996: 'allmale', 1997: 'lane', 1998: 'hottie', 1999: 'summer', 2000: 'kids', 2001: 'become', 2002: 'skill', 2003: 'deusexjuice', 2004: 'ricanroll', 2005: 'smh', 2006: 'selfawareness', 2007: 'dahkbub', 2008: 'vocalists', 2009: 'calebkn', 2010: 'fully', 2011: 'shelf', 2012: 'cars', 2013: 'forbid', 2014: 'dumbass', 2015: 'travisnashh', 2016: 'andythewookie', 2017: 'rildom', 2018: 'suppose', 2019: 'cgeddings', 2020: 'callums', 2021: 'ajkauffman', 2022: 'cocacola', 2023: 'evilsunbro', 2024: 'sexhonest', 2025: 'voted', 2026: 'polotek', 2027: 'vomit', 2028: 'second', 2029: 'properly', 2030: 'y', 2031: 'camera', 2032: 'werent', 2033: 'slightly', 2034: 'miss', 2035: 'throwing', 2036: 'board', 2037: 'cat', 2038: 'uh', 2039: 'insane', 2040: 'quickly', 2041: 'odd', 2042: 'ad', 2043: 'nhl', 2044: 'general', 2045: 'responsibility', 2046: 'market', 2047: 'dead', 2048: 'symbol', 2049: 'consent', 2050: 'existed', 2051: 'price', 2052: 'insult', 2053: 'x', 2054: 'perhaps', 2055: 'song', 2056: 'yo', 2057: 'btw', 2058: 'halloween', 2059: 'pot', 2060: 'spatchcock', 2061: 'banging', 2062: 'unconscious', 2063: 'staing', 2064: 'hookers', 2065: 'hash', 2066: 'vile', 2067: 'theyve', 2068: 'barbies', 2069: 'narcissism', 2070: 'beavis', 2071: 'butthead', 2072: 'blond', 2073: 'fk', 2074: 'jus', 2075: 'leg', 2076: 'dreadful', 2077: 'httptcolpgtdopb', 2078: 'kim', 2079: 'kardashian', 2080: 'marriages', 2081: 'stretch', 2082: 'bang', 2083: 'skinny', 2084: 'neck', 2085: 'blow', 2086: 'bloke', 2087: 'runway', 2088: 'patricechienne', 2089: 'erections', 2090: 'lazy', 2091: 'finds', 2092: 'armpitvaginas', 2093: 'bloody', 2094: 'incompetent', 2095: 'pls', 2096: 'duck', 2097: 'geordie', 2098: 'shore', 2099: 'halfway', 2100: 'whip', 2101: 'fuckin', 2102: 'smirking', 2103: 'deadset', 2104: 'annoyed', 2105: 'gaaaaah', 2106: 'dare', 2107: 'crash', 2108: 'arghhhhh', 2109: 'despicable', 2110: 'rat', 2111: 'ahh', 2112: 'box', 2113: 'uglier', 2114: 'disgusting', 2115: 'rare', 2116: 'smiles', 2117: 'quiet', 2118: 'unpleasant', 2119: 'late', 2120: 'dry', 2121: 'reversed', 2122: 'driven', 2123: 'tear', 2124: 'dealing', 2125: 'onto', 2126: 'crossed', 2127: 'shovel', 2128: 'mkrkat', 2129: 'illegal', 2130: 'helped', 2131: 'benevolent', 2132: 'reach', 2133: 'potential', 2134: 'rarely', 2135: 'writers', 2136: 'friends', 2137: 'comments', 2138: 'paul', 2139: 'suggest', 2140: 'modern', 2141: 'vaginas', 2142: 'jessica', 2143: 'objectification', 2144: 'misogynists', 2145: 'cordovansplotch', 2146: 'jennifer', 2147: 'trend', 2148: 'knowledge', 2149: 'abo', 2150: 'shis', 2151: 'smaer', 2152: 'armpit', 2153: 'divorce', 2154: 'ruin', 2155: 'abillionjillian', 2156: 'teenage', 2157: 'dig', 2158: 'carry', 2159: 'baseball', 2160: 'attacking', 2161: 'pet', 2162: 'theory', 2163: 'beyonce', 2164: 'students', 2165: 'unblock', 2166: 'paying', 2167: 'gaming', 2168: 'cou', 2169: 'wreck', 2170: 'brain', 2171: 'carpet', 2172: 'hooker', 2173: 'perks', 2174: 'ales', 2175: 'cover', 2176: 'fap', 2177: 'organized', 2178: 'pic', 2179: 'fathers', 2180: 'hang', 2181: 'eliahr', 2182: 'tumblr', 2183: 'letstalkmen', 2184: 'anchors', 2185: 'iowa', 2186: 'seat', 2187: 'lvl', 2188: 'spell', 2189: 'backwards', 2190: 'aged', 2191: 'utterly', 2192: 'auto', 2193: 'ferrari', 2194: 'pretending', 2195: 'training', 2196: 'coaching', 2197: 'proper', 2198: 'staring', 2199: 'whilst', 2200: 'bug', 2201: 'sight', 2202: 'plane', 2203: 'announce', 2204: 'hussmiawad', 2205: 'ridicule', 2206: 'offence', 2207: 'compared', 2208: 'outta', 2209: 'commentary', 2210: 'fiction', 2211: 'raised', 2212: 'wheres', 2213: 'slightest', 2214: 'military', 2215: 'realtalk', 2216: 'siri', 2217: 'directions', 2218: 'dukevsunc', 2219: 'captaincoook', 2220: 'bikes', 2221: 'riding', 2222: 'erin', 2223: 'andrews', 2224: 'popular', 2225: 'painfulaugustus', 2226: 'lilysboo', 2227: 'realist', 2228: 'simply', 2229: 'jamiecowan', 2230: 'hee', 2231: 'httptcohbbhlccqs', 2232: 'periods', 2233: 'whatsoever', 2234: 'machine', 2235: 'classic', 2236: 'locked', 2237: 'ryben', 2238: 'arsenick', 2239: 'informed', 2240: 'lmfao', 2241: 'edgy', 2242: 'thecolouredkid', 2243: 'unfounate', 2244: 'ebah', 2245: 'mentions', 2246: 'ahall', 2247: 'yearolds', 2248: 'meet', 2249: 'stereotype', 2250: 'exceptions', 2251: 'standup', 2252: 'countries', 2253: 'ppl', 2254: 'justscared', 2255: 'magic', 2256: 'hoe', 2257: 'justmarn', 2258: 'scandalous', 2259: 'spaghetti', 2260: 'appropriate', 2261: 'sensip', 2262: 'feminine', 2263: 'mcgorrigan', 2264: 'laarrma', 2265: 'successfully', 2266: 'backed', 2267: 'scientific', 2268: 'belive', 2269: 'peyton', 2270: 'doctorj', 2271: 'lololol', 2272: 'curling', 2273: 'asian', 2274: 'lawyer', 2275: 'screamingfuck', 2276: 'books', 2277: 'athletes', 2278: 'buying', 2279: 'rhace', 2280: 'austinraysmith', 2281: 'sunday', 2282: 'paigedavey', 2283: 'justthetruth', 2284: 'several', 2285: 'therealfattlaff', 2286: 'marchandsego', 2287: 'protagonists', 2288: 'therealtempus', 2289: 'officmattpenny', 2290: 'def', 2291: 'stripper', 2292: 'roads', 2293: 'holes', 2294: 'grumpyvancouver', 2295: 'hosts', 2296: 'talks', 2297: 'chris', 2298: 'masculinity', 2299: 'fast', 2300: 'happened', 2301: 'telecast', 2302: 'license', 2303: 'douche', 2304: 'mannnn', 2305: 'outrage', 2306: 'replacement', 2307: 'blokes', 2308: 'aliffabr', 2309: 'motorcycle', 2310: 'shadeofritch', 2311: 'justfacts', 2312: 'mrlayedbak', 2313: 'sing', 2314: 'band', 2315: 'spoing', 2316: 'depends', 2317: 'tommyward', 2318: 'willtar', 2319: 'volume', 2320: 'christ', 2321: 'rorybrownmufc', 2322: 'phildoran', 2323: 'deanowen', 2324: 'compete', 2325: 'dumpweed', 2326: 'ibustos', 2327: 'johnsarkiss', 2328: 'pov', 2329: 'moviesehhhh', 2330: 'mjb', 2331: 'noshiku', 2332: 'ohthatliamm', 2333: 'odemwingplay', 2334: 'oldgfatherclock', 2335: 'gailsimone', 2336: 'immediately', 2337: 'scripted', 2338: 'sirlummox', 2339: 'richardmeal', 2340: 'trustedtrevor', 2341: 'reasons', 2342: 'driftr', 2343: 'budlightbro', 2344: 'lead', 2345: 'lorry', 2346: 'femshep', 2347: 'depth', 2348: 'cray', 2349: 'die', 2350: 'allfemale', 2351: 'davegreene', 2352: 'beepss', 2353: 'burritos', 2354: 'whiny', 2355: 'xkilluminati', 2356: 'mrstethompson', 2357: 'commentate', 2358: 'four', 2359: 'tadams', 2360: 'childhood', 2361: 'phones', 2362: 'temnightmre', 2363: 'iamyaokhari', 2364: 'wi', 2365: 'remake', 2366: 'imrippy', 2367: 'minikhoza', 2368: 'karlmalonee', 2369: 'bodies', 2370: 'holidays', 2371: 'skull', 2372: 'tomz', 2373: 'nsw', 2374: 'highly', 2375: 'pigs', 2376: 'according', 2377: 'tony', 2378: 'failed', 2379: 'gloves', 2380: 'footy', 2381: 'jim', 2382: 'refined', 2383: 'table', 2384: 'represents', 2385: 'picked', 2386: 'fairly', 2387: 'dignity', 2388: 'fashioned', 2389: 'arms', 2390: 'taste', 2391: 'juicy', 2392: 'sweat', 2393: 'disappointed', 2394: 'saturday', 2395: 'sucks', 2396: 'meanwhile', 2397: 'gentleman', 2398: 'drink', 2399: 'drug', 2400: 'fine', 2401: 'series', 2402: 'bias', 2403: 'adopt', 2404: 'aside', 2405: 'posted', 2406: 'genitals', 2407: 'bill', 2408: 'represent', 2409: 'forcing', 2410: 'blocking', 2411: 'result', 2412: 'unfollow', 2413: 'move', 2414: 'pretzel', 2415: 'tossed', 2416: 'selfish', 2417: 'upon', 2418: 'borderlines', 2419: 'interesting', 2420: 'communism', 2421: 'lots', 2422: 'terms', 2423: 'hitting', 2424: 'paper', 2425: 'rivalry', 2426: 'markets', 2427: 'propaganda', 2428: 'disagree', 2429: 'politics', 2430: 'exist', 2431: 'shady', 2432: 'tries', 2433: 'ignorance', 2434: 'aka', 2435: 'scream', 2436: 'la', 2437: 'values', 2438: 'chest', 2439: 'nd', 2440: 'clever', 2441: 'churn', 2442: 'yuck', 2443: 'treated', 2444: 'calm', 2445: 'shots', 2446: 'riveting', 2447: 'everybody', 2448: 'description', 2449: 'housework', 2450: 'credibility', 2451: 'omfg', 2452: 'satan', 2453: 'thick', 2454: 'villian', 2455: 'integrity', 2456: 'kicked', 2457: 'sideshow', 2458: 'acted', 2459: 'bird', 2460: 'skanky', 2461: 'mole', 2462: 'acceptable', 2463: 'bye', 2464: 'rofl', 2465: 'impression', 2466: 'opposition', 2467: 'yourselves', 2468: 'fingers', 2469: 'ears', 2470: 'events', 2471: 'reproductive', 2472: 'sad', 2473: 'paternity', 2474: 'minority', 2475: 'coward', 2476: 'pics', 2477: 'screen', 2478: 'club', 2479: 'tears', 2480: 'abusive', 2481: 'speaking', 2482: 'founder', 2483: 'views', 2484: 'biases', 2485: 'supply', 2486: 'privileged', 2487: 'handy', 2488: 'misandry', 2489: 'existing', 2490: 'small', 2491: 'bitter', 2492: 'rock', 2493: 'compare', 2494: 'obligations', 2495: 'bills', 2496: 'abandonment', 2497: 'land', 2498: 'prosecuted', 2499: 'cringe', 2500: 'madness', 2501: 'exists', 2502: 'image', 2503: 'war', 2504: 'fear', 2505: 'card', 2506: 'mistakes', 2507: 'beef', 2508: 'cats', 2509: 'private', 2510: 'pays', 2511: 'justice', 2512: 'amusing', 2513: 'page', 2514: 'assuming', 2515: 'content', 2516: 'differences', 2517: 'material', 2518: 'describe', 2519: 'sent', 2520: 'repeating', 2521: 'crime', 2522: 'unsafe', 2523: 'harassment', 2524: 'odds', 2525: 'funniest', 2526: 'terrifying', 2527: 'apologize', 2528: 'thinking', 2529: 'parody', 2530: 'seconds', 2531: 'complicated', 2532: 'amirite', 2533: 'normal', 2534: 'fault', 2535: 'stereotypes', 2536: 'music', 2537: 'singers', 2538: 'parent', 2539: 'ages', 2540: 'heaven', 2541: 'ads', 2542: 'lesbians', 2543: 'soup', 2544: 'jacket', 2545: 'vice', 2546: 'considering', 2547: 'foods', 2548: 'ffs', 2549: 'size', 2550: 'media', 2551: 're', 2552: 'makeup', 2553: 'boy', 2554: 'sandwiches', 2555: 'observation', 2556: 'jk', 2557: 'apparently', 2558: 'chipotle', 2559: 'heels', 2560: 'bruh', 2561: 'infantry', 2562: 'marvel', 2563: 'mums', 2564: 'melting', 2565: 'freezer', 2566: 'leftovers', 2567: 'narcissistic', 2568: 'hostesses', 2569: 'judges', 2570: 'friggin', 2571: 'revolting', 2572: 'former', 2573: 'contestant', 2574: 'bought', 2575: 'amd', 2576: 'duo', 2577: 'conceit', 2578: 'kn', 2579: 'recipe', 2580: 'poultry', 2581: 'inner', 2582: 'bogun', 2583: 'technique', 2584: 'butting', 2585: 'lesson', 2586: 'batshit', 2587: 'loves', 2588: 'downtime', 2589: 'visit', 2590: 'learnt', 2591: 'blush', 2592: 'personalities', 2593: 'appeared', 2594: 'noone', 2595: 'related', 2596: 'apologise', 2597: 'behalf', 2598: 'generation', 2599: 'carnt', 2600: 'lynne', 2601: 'plot', 2602: 'universe', 2603: 'remotely', 2604: 'cigarette', 2605: 'packets', 2606: 'minus', 2607: 'extra', 2608: 'pouting', 2609: 'hill', 2610: 'pimping', 2611: 'beam', 2612: 'dye', 2613: 'complexities', 2614: 'chucked', 2615: 'bamboozled', 2616: 'churner', 2617: 'mocks', 2618: 'leaving', 2619: 'promoskanks', 2620: 'upside', 2621: 'cream', 2622: 'maker', 2623: 'ex', 2624: 'burning', 2625: 'wristy', 2626: 'mile', 2627: 'bingo', 2628: 'cos', 2629: 'vacuum', 2630: 'crumbs', 2631: 'bogan', 2632: 'yr', 2633: 'junk', 2634: 'soft', 2635: 'ure', 2636: 'faux', 2637: 'sneak', 2638: 'peek', 2639: 'closet', 2640: 'pushes', 2641: 'tougher', 2642: 'modesty', 2643: 'filling', 2644: 'slapper', 2645: 'quotient', 2646: 'longer', 2647: 'fuckwits', 2648: 'higher', 2649: 'kandre', 2650: 'rougher', 2651: 'compiled', 2652: 'eating', 2653: 'carrots', 2654: 'purfectly', 2655: 'elimination', 2656: 'purposely', 2657: 'besotted', 2658: 'toast', 2659: 'romp', 2660: 'descent', 2661: 'induced', 2662: 'poppy', 2663: 'sabotage', 2664: 'behaviour', 2665: 'ray', 2666: 'sunshine', 2667: 'blown', 2668: 'beating', 2669: 'blondies', 2670: 'freakshow', 2671: 'dolly', 2672: 'magazine', 2673: 'comp', 2674: 'steaming', 2675: 'flames', 2676: 'illustrious', 2677: 'career', 2678: 'disgusted', 2679: 'shock', 2680: 'caught', 2681: 'suspicious', 2682: 'sassing', 2683: 'layers', 2684: 'pleasant', 2685: 'elephants', 2686: 'relying', 2687: 'charm', 2688: 'powdery', 2689: 'crab', 2690: 'fest', 2691: 'flip', 2692: 'idiots', 2693: 'humiliating', 2694: 'stooped', 2695: 'bricks', 2696: 'viewers', 2697: 'chalk', 2698: 'tide', 2699: 'sink', 2700: 'reprehensible', 2701: 'baddie', 2702: 'barely', 2703: 'escaped', 2704: 'horrid', 2705: 'deluded', 2706: 'decided', 2707: 'corner', 2708: 'couch', 2709: 'slept', 2710: 'whoop', 2711: 'deserved', 2712: 'cop', 2713: 'dreamer', 2714: 'dealer', 2715: 'delivers', 2716: 'gas', 2717: 'bum', 2718: 'poisoning', 2719: 'lake', 2720: 'horrendous', 2721: 'bubble', 2722: 'squeak', 2723: 'steps', 2724: 'squeaking', 2725: 'rank', 2726: 'dough', 2727: 'married', 2728: 'bambi', 2729: 'settles', 2730: 'university', 2731: 'resulting', 2732: 'sarcastically', 2733: 'fool', 2734: 'gif', 2735: 'fighter', 2736: 'player', 2737: 'heat', 2738: 'confused', 2739: 'defend', 2740: 'doubles', 2741: 'cavalry', 2742: 'turns', 2743: 'lapdogs', 2744: 'conniptions', 2745: 'emotionally', 2746: 'crippled', 2747: 'refuses', 2748: 'infested', 2749: 'seeds', 2750: 'rooted', 2751: 'foundation', 2752: 'hating', 2753: 'stoner', 2754: 'dey', 2755: 'sooo', 2756: 'solves', 2757: 'explained', 2758: 'statistics', 2759: 'couples', 2760: 'willing', 2761: 'vocal', 2762: 'argmnt', 2763: 'poison', 2764: 'victimhood', 2765: 'outlandish', 2766: 'satirical', 2767: 'apologist', 2768: 'marries', 2769: 'honeymoon', 2770: 'lollol', 2771: 'rekt', 2772: 'degrees', 2773: 'six', 2774: 'casually', 2775: 'baseless', 2776: 'assumptions', 2777: 'winner', 2778: 'washout', 2779: 'unblocks', 2780: 'reblocks', 2781: 'shelters', 2782: 'reasonably', 2783: 'declare', 2784: 'hay', 2785: 'ham', 2786: 'fisted', 2787: 'suspected', 2788: 'dullard', 2789: 'marginalizing', 2790: 'devolve', 2791: 'comprehend', 2792: 'grabs', 2793: 'present', 2794: 'tribunals', 2795: 'apply', 2796: 'circumcision', 2797: 'whined', 2798: 'derive', 2799: 'hardcore', 2800: 'greater', 2801: 'shitty', 2802: 'enemy', 2803: 'amused', 2804: 'greatly', 2805: 'numbingly', 2806: 'moronic', 2807: 'photo', 2808: 'naively', 2809: 'realizing', 2810: 'anvil', 2811: 'key', 2812: 'apologizing', 2813: 'confusing', 2814: 'complains', 2815: 'multimedia', 2816: 'privileges', 2817: 'exempting', 2818: 'schlocky', 2819: 'clickbait', 2820: 'nut', 2821: 'arrive', 2822: 'lecture', 2823: 'dubious', 2824: 'challenged', 2825: 'exposed', 2826: 'places', 2827: 'states', 2828: 'blazing', 2829: 'quietly', 2830: 'banned', 2831: 'quoted', 2832: 'plz', 2833: 'regard', 2834: 'problematic', 2835: 'propping', 2836: 'decline', 2837: 'swung', 2838: 'coverage', 2839: 'guide', 2840: 'opened', 2841: 'activates', 2842: 'marketing', 2843: 'ends', 2844: 'evolve', 2845: 'remove', 2846: 'adults', 2847: 'morphs', 2848: 'realistically', 2849: 'lifetimes', 2850: 'confer', 2851: 'civil', 2852: 'reliable', 2853: 'slow', 2854: 'thread', 2855: 'remakes', 2856: 'soul', 2857: 'predictable', 2858: 'deflect', 2859: 'backdoor', 2860: 'overwhelmed', 2861: 'grab', 2862: 'include', 2863: 'destroyed', 2864: 'horrifically', 2865: 'pawned', 2866: 'denotes', 2867: 'sarcasm', 2868: 'closer', 2869: 'involuntarily', 2870: 'inhaling', 2871: 'fecal', 2872: 'differentiated', 2873: 'complaints', 2874: 'appear', 2875: 'blog', 2876: 'mucho', 2877: 'mixed', 2878: 'welfare', 2879: 'shed', 2880: 'reminder', 2881: 'cis', 2882: 'racism', 2883: 'default', 2884: 'author', 2885: 'snide', 2886: 'design', 2887: 'poorer', 2888: 'education', 2889: 'memes', 2890: 'expressed', 2891: 'anger', 2892: 'screengrabs', 2893: 'deaf', 2894: 'spam', 2895: 'individuals', 2896: 'violated', 2897: 'walked', 2898: 'becomed', 2899: 'plight', 2900: 'denial', 2901: 'lumping', 2902: 'jailed', 2903: 'operate', 2904: 'defy', 2905: 'horrors', 2906: 'justify', 2907: 'store', 2908: 'actual', 2909: 'patriotic', 2910: 'supposedly', 2911: 'democratic', 2912: 'online', 2913: 'trade', 2914: 'eaten', 2915: 'motive', 2916: 'lessen', 2917: 'negative', 2918: 'draws', 2919: 'indie', 2920: 'corrupt', 2921: 'fifty', 2922: 'writer', 2923: 'regarding', 2924: 'commenters', 2925: 'threaten', 2926: 'mattress', 2927: 'carrying', 2928: 'allows', 2929: 'simultaneously', 2930: 'ideas', 2931: 'redundantly', 2932: 'challenging', 2933: 'convince', 2934: 'teen', 2935: 'soooo', 2936: 'respects', 2937: 'publicly', 2938: 'lez', 2939: 'divisional', 2940: 'fashionably', 2941: 'snicker', 2942: 'rosiest', 2943: 'rubbed', 2944: 'hypocrite', 2945: 'harassed', 2946: 'violating', 2947: 'organize', 2948: 'campaign', 2949: 'sees', 2950: 'rewrite', 2951: 'tanked', 2952: 'lockout', 2953: 'translate', 2954: 'nonsensical', 2955: 'nonanswer', 2956: 'defended', 2957: 'predatory', 2958: 'relevance', 2959: 'weaponised', 2960: 'petition', 2961: 'rewards', 2962: 'anybody', 2963: 'regains', 2964: 'hers', 2965: 'rivals', 2966: 'caliphate', 2967: 'embarrassing', 2968: 'discussions', 2969: 'damage', 2970: 'previous', 2971: 'refresh', 2972: 'economically', 2973: 'illiterate', 2974: 'capitalism', 2975: 'research', 2976: 'intro', 2977: 'hrs', 2978: 'formula', 2979: 'employer', 2980: 'value', 2981: 'undermined', 2982: 'silence', 2983: 'reread', 2984: 'pop', 2985: 'intensive', 2986: 'videos', 2987: 'unprotected', 2988: 'guesses', 2989: 'meeting', 2990: 'payed', 2991: 'protesting', 2992: 'removes', 2993: 'dynamic', 2994: 'interview', 2995: 'collect', 2996: 'randomly', 2997: 'agents', 2998: 'individually', 2999: 'prominent', 3000: 'frozen', 3001: 'determined', 3002: 'delete', 3003: 'asks', 3004: 'strange', 3005: 'seemingly', 3006: 'interested', 3007: 'aimed', 3008: 'micro', 3009: 'macro', 3010: 'inviting', 3011: 'scotch', 3012: 'mystery', 3013: 'expose', 3014: 'unnecessary', 3015: 'brainpower', 3016: 'curvy', 3017: 'spot', 3018: 'believes', 3019: 'fantasy', 3020: 'cum', 3021: 'typed', 3022: 'understands', 3023: 'scroll', 3024: 'salary', 3025: 'protection', 3026: 'guarantee', 3027: 'brand', 3028: 'safety', 3029: 'smell', 3030: 'deflected', 3031: 'demanding', 3032: 'drafted', 3033: 'reliever', 3034: 'catcher', 3035: 'flushed', 3036: 'inclined', 3037: 'patient', 3038: 'smear', 3039: 'suddenly', 3040: 'obligation', 3041: 'abhorrent', 3042: 'display', 3043: 'fork', 3044: 'sold', 3045: 'indictment', 3046: 'exceptionalism', 3047: 'commercial', 3048: 'demonstrating', 3049: 'continued', 3050: 'production', 3051: 'carbon', 3052: 'finishing', 3053: 'conspiracy', 3054: 'inciting', 3055: 'phases', 3056: 'pissbaby', 3057: 'mantears', 3058: 'patience', 3059: 'snowflakes', 3060: 'bleat', 3061: 'activist', 3062: 'beta', 3063: 'cuck', 3064: 'loathes', 3065: 'pitch', 3066: 'inspire', 3067: 'disciplined', 3068: 'accuser', 3069: 'dating', 3070: 'interactions', 3071: 'chargeable', 3072: 'billion', 3073: 'entitled', 3074: 'followyou', 3075: 'tohave', 3076: 'khona', 3077: 'nose', 3078: 'bay', 3079: 'respectable', 3080: 'searching', 3081: 'ranked', 3082: 'received', 3083: 'hostile', 3084: 'nagging', 3085: 'merely', 3086: 'wide', 3087: 'townhouse', 3088: 'anthem', 3089: 'tradition', 3090: 'stupidity', 3091: 'wearhouse', 3092: 'panel', 3093: 'coached', 3094: 'collegiate', 3095: 'panels', 3096: 'shelter', 3097: 'homeless', 3098: 'grandma', 3099: 'foul', 3100: 'rsx', 3101: 'lighten', 3102: 'traditional', 3103: 'weekend', 3104: 'hardware', 3105: 'stores', 3106: 'centuries', 3107: 'sensitive', 3108: 'glad', 3109: 'results', 3110: 'position', 3111: 'multiple', 3112: 'accidents', 3113: 'rocks', 3114: 'passion', 3115: 'timeline', 3116: 'improvement', 3117: 'clowns', 3118: 'geekdom', 3119: 'replaced', 3120: 'instantly', 3121: 'virulent', 3122: 'accuse', 3123: 'presenting', 3124: 'considered', 3125: 'remarks', 3126: 'strikes', 3127: 'repulsive', 3128: 'losing', 3129: 'contest', 3130: 'bollocks', 3131: 'require', 3132: 'inordinate', 3133: 'throwback', 3134: 'memories', 3135: 'pin', 3136: 'protective', 3137: 'commentates', 3138: 'drew', 3139: 'draw', 3140: 'pleasing', 3141: 'concentrate', 3142: 'lesser', 3143: 'subscribed', 3144: 'films', 3145: 'feelings', 3146: 'watery', 3147: 'fish', 3148: 'pushed', 3149: 'sleeves', 3150: 'glee', 3151: 'heaps', 3152: 'enter', 3153: 'selection', 3154: 'viewer', 3155: 'congratulatory', 3156: 'loving', 3157: 'haired', 3158: 'messy', 3159: 'previously', 3160: 'sponsored', 3161: 'send', 3162: 'expel', 3163: 'divulge', 3164: 'paste', 3165: 'accusers', 3166: 'dna', 3167: 'hips', 3168: 'bigger', 3169: 'contestants', 3170: 'si', 3171: 'douchebag', 3172: 'whores', 3173: 'coincidence', 3174: 'lips', 3175: 'biatch', 3176: 'rash', 3177: 'attitude', 3178: 'final', 3179: 'sociopath', 3180: 'suckers', 3181: 'elephant', 3182: 'verbatim', 3183: 'misogyny', 3184: 'wearing', 3185: 'version', 3186: 'teaching', 3187: 'shop', 3188: 'protagonist', 3189: 'perfectly', 3190: 'tip', 3191: 'sexuality', 3192: 'stalk', 3193: 'wash', 3194: 'kills', 3195: 'gain', 3196: 'authority', 3197: 'necessary', 3198: 'drugs', 3199: 'share', 3200: 'palin', 3201: 'practical', 3202: 'dates', 3203: 'l', 3204: 'gym', 3205: 'bf', 3206: 'victims', 3207: 'therefore', 3208: 'housewives', 3209: 'offer', 3210: 'speaker', 3211: 'observant', 3212: 'prime', 3213: 'pas', 3214: 'pilots', 3215: 'referees', 3216: 'womanly', 3217: 'chromosome', 3218: 'greatest', 3219: 'radio', 3220: 'nonsense', 3221: 'legend', 3222: 'korra', 3223: 'sammich', 3224: 'directly', 3225: 'ma', 3226: 'cricket', 3227: 'joking', 3228: 'minds', 3229: 'journalists', 3230: 'hahaha', 3231: 'react', 3232: 'tattoos', 3233: 'sum', 3234: 'lately', 3235: 'asses', 3236: 'hours', 3237: 'pokemon', 3238: 'physically', 3239: 'boss', 3240: 'lucky', 3241: 'um', 3242: 'outside', 3243: 'offense', 3244: 'femal', 3245: 'matches', 3246: 'jahe', 3247: 'writehink', 3248: 'behaviohatll', 3249: 'einschoneag', 3250: 'subtle', 3251: 'butchered', 3252: 'cope', 3253: 'fresh', 3254: 'missus', 3255: 'rusty', 3256: 'chainsaw', 3257: 'subliminal', 3258: 'misses', 3259: 'confirms', 3260: 'casting', 3261: 'trawl', 3262: 'depths', 3263: 'supremely', 3264: 'misguided', 3265: 'banished', 3266: 'item', 3267: 'suited', 3268: 'crush', 3269: 'develop', 3270: 'threw', 3271: 'buckets', 3272: 'accent', 3273: 'oilier', 3274: 'screwing', 3275: 'happiness', 3276: 'oppresses', 3277: 'ditching', 3278: 'advice', 3279: 'older', 3280: 'gendered', 3281: 'lawmaker', 3282: 'proposed', 3283: 'requiring', 3284: 'identify', 3285: 'sarcastic', 3286: 'mocking', 3287: 'hypothetical', 3288: 'distraction', 3289: 'abiding', 3290: 'spoiler', 3291: 'accepting', 3292: 'listened', 3293: 'mislead', 3294: 'retelling', 3295: 'blaming', 3296: 'prop', 3297: 'busstop', 3298: 'socially', 3299: 'likely', 3300: 'compensation', 3301: 'purposefully', 3302: 'details', 3303: 'prostitution', 3304: 'cries', 3305: 'wedding', 3306: 'tried', 3307: 'stands', 3308: 'marry', 3309: 'grasp', 3310: 'lacks', 3311: 'dentist', 3312: 'sticking', 3313: 'wears', 3314: 'directed', 3315: 'unflattering', 3316: 'predominantly', 3317: 'maid', 3318: 'pledge', 3319: 'tech', 3320: 'femme', 3321: 'bots', 3322: 'shits', 3323: 'grade', 3324: 'deconstraucted', 3325: 'mowhores', 3326: 'brought', 3327: 'egos', 3328: 'fly', 3329: 'dug', 3330: 'delusions', 3331: 'spreading', 3332: 'falls', 3333: 'crooked', 3334: 'bra', 3335: 'moisture', 3336: 'spatchcocks', 3337: 'missing', 3338: 'pole', 3339: 'frog', 3340: 'scrubbers', 3341: 'dangle', 3342: 'berry', 3343: 'modeling', 3344: 'showdown', 3345: 'posh', 3346: 'breaking', 3347: 'tomatoes', 3348: 'correction', 3349: 'breeders', 3350: 'afar', 3351: 'capsicum', 3352: 'stock', 3353: 'packet', 3354: 'faggots', 3355: 'stupidly', 3356: 'pronouncing', 3357: 'incorrectly', 3358: 'biz', 3359: 'technical', 3360: 'undie', 3361: 'falling', 3362: 'tights', 3363: 'spent', 3364: 'kissing', 3365: 'mirrors', 3366: 'preparation', 3367: 'deconstructing', 3368: 'frkn', 3369: 'undies', 3370: 'chic', 3371: 'vanity', 3372: 'sas', 3373: 'forehead', 3374: 'thigh', 3375: 'tender', 3376: 'mouse', 3377: 'sweetie', 3378: 'bikini', 3379: 'molls', 3380: 'screwed', 3381: 'gave', 3382: 'recently', 3383: 'claiming', 3384: 'overinflated', 3385: 'fapping', 3386: 'sassily', 3387: 'fantabulous', 3388: 'harder', 3389: 'describes', 3390: 'highest', 3391: 'judgemental', 3392: 'padded', 3393: 'jump', 3394: 'freak', 3395: 'thundercunt', 3396: 'bbbbitch', 3397: 'declared', 3398: 'mayor', 3399: 'smugtown', 3400: 'isle', 3401: 'smuggy', 3402: 'frauleins', 3403: 'pulling', 3404: 'remains', 3405: 'fkn', 3406: 'gouge', 3407: 'remain', 3408: 'worried', 3409: 'craziest', 3410: 'pony', 3411: 'recorded', 3412: 'smacked', 3413: 'gloats', 3414: 'villain', 3415: 'boat', 3416: 'named', 3417: 'whoring', 3418: 'powered', 3419: 'camp', 3420: 'slapping', 3421: 'pouty', 3422: 'sniffer', 3423: 'dogs', 3424: 'kunt', 3425: 'egg', 3426: 'puking', 3427: 'heats', 3428: 'swamp', 3429: 'practice', 3430: 'knock', 3431: 'cocky', 3432: 'midday', 3433: 'afternoon', 3434: 'evening', 3435: 'panic', 3436: 'phantom', 3437: 'calculated', 3438: 'advance', 3439: 'debunked', 3440: 'fairy', 3441: 'tale', 3442: 'distracts', 3443: 'stopping', 3444: 'pregnant', 3445: 'journalist', 3446: 'insults', 3447: 'preteen', 3448: 'comparing', 3449: 'prochoice', 3450: 'insist', 3451: 'deadline', 3452: 'creatively', 3453: 'unthinking', 3454: 'crux', 3455: 'crisis', 3456: 'theories', 3457: 'scientists', 3458: 'valuable', 3459: 'epitomized', 3460: 'permission', 3461: 'roadblock', 3462: 'including', 3463: 'plays', 3464: 'masterfully', 3465: 'trending', 3466: 'critique', 3467: 'threatened', 3468: 'licking', 3469: 'parental', 3470: 'tipoff', 3471: 'angrily', 3472: 'reject', 3473: 'requirement', 3474: 'advocates', 3475: 'theirs', 3476: 'sentences', 3477: 'labeled', 3478: 'magically', 3479: 'bodily', 3480: 'kill', 3481: 'unborn', 3482: 'candidates', 3483: 'uneducated', 3484: 'whether', 3485: 'written', 3486: 'praising', 3487: 'confusion', 3488: 'deeper', 3489: 'shaped', 3490: 'exchanges', 3491: 'opposing', 3492: 'employ', 3493: 'cubist', 3494: 'burden', 3495: 'lectured', 3496: 'wider', 3497: 'penalty', 3498: 'stopped', 3499: 'defending', 3500: 'ruining', 3501: 'sue', 3502: 'fatal', 3503: 'answered', 3504: 'abused', 3505: 'punishment', 3506: 'painfully', 3507: 'damseling', 3508: 'moral', 3509: 'doable', 3510: 'per', 3511: 'se', 3512: 'confuse', 3513: 'grossed', 3514: 'communists', 3515: 'theorize', 3516: 'famous', 3517: 'flattering', 3518: 'profile', 3519: 'stink', 3520: 'allergic', 3521: 'bitchslapped', 3522: 'pimps', 3523: 'junkie', 3524: 'tolerate', 3525: 'impose', 3526: 'detach', 3527: 'propagating', 3528: 'assumes', 3529: 'shepherds', 3530: 'disagrees', 3531: 'desperately', 3532: 'imply', 3533: 'wages', 3534: 'exact', 3535: 'rope', 3536: 'uncle', 3537: 'household', 3538: 'thousand', 3539: 'shares', 3540: 'manipulated', 3541: 'pack', 3542: 'skateboarding', 3543: 'weirdest', 3544: 'currently', 3545: 'curb', 3546: 'picking', 3547: 'hanging', 3548: 'immature', 3549: 'driller', 3550: 'addressed', 3551: 'rampant', 3552: 'lacking', 3553: 'litmus', 3554: 'dood', 3555: 'announces', 3556: 'freakin', 3557: 'repeated', 3558: 'concussions', 3559: 'stroller', 3560: 'remtard', 3561: 'broke', 3562: 'lend', 3563: 'outve', 3564: 'bt', 3565: 'bowl', 3566: 'stadium', 3567: 'hilariously', 3568: 'rly', 3569: 'unfunny', 3570: 'build', 3571: 'par', 3572: 'excellence', 3573: 'exposing', 3574: 'hypocritical', 3575: 'length', 3576: 'bed', 3577: 'fossil', 3578: 'fuels', 3579: 'publish', 3580: 'killong', 3581: 'nuns', 3582: 'segment', 3583: 'defeats', 3584: 'purpose', 3585: 'stareing', 3586: 'breasts', 3587: 'tops', 3588: 'sizes', 3589: 'stubborn', 3590: 'itself', 3591: 'genuinly', 3592: 'ponder', 3593: 'goat', 3594: 'sack', 3595: 'potatoes', 3596: 'nosebleeds', 3597: 'causing', 3598: 'gun', 3599: 'sitting', 3600: 'mechanics', 3601: 'reassurance', 3602: 'tryna', 3603: 'founding', 3604: 'latest', 3605: 'minister', 3606: 'ugirls', 3607: 'recognize', 3608: 'pussies', 3609: 'sadder', 3610: 'hairy', 3611: 'chewbacca', 3612: 'clothing', 3613: 'labor', 3614: 'loud', 3615: 'bite', 3616: 'nipples', 3617: 'satisfied', 3618: 'hahahahahaha', 3619: 'easily', 3620: 'shuld', 3621: 'familiarise', 3622: 'pots', 3623: 'stomach', 3624: 'crying', 3625: 'poorly', 3626: 'belief', 3627: 'intercept', 3628: 'letting', 3629: 'battles', 3630: 'advancement', 3631: 'shoot', 3632: 'waaaay', 3633: 'running', 3634: 'toure', 3635: 'chant', 3636: 'feels', 3637: 'doctor', 3638: 'fiving', 3639: 'kombat', 3640: 'butttttttttttttt', 3641: 'offended', 3642: 'looked', 3643: 'hall', 3644: 'talked', 3645: 'tendency', 3646: 'impractical', 3647: 'ship', 3648: 'sank', 3649: 'skeptical', 3650: 'qualities', 3651: 'professors', 3652: 'snapchatted', 3653: 'plugs', 3654: 'ipad', 3655: 'charger', 3656: 'plug', 3657: 'gem', 3658: 'rear', 3659: 'mirror', 3660: 'researcher', 3661: 'networks', 3662: 'offside', 3663: 'stage', 3664: 'prerogative', 3665: 'sign', 3666: 'biological', 3667: 'wrestle', 3668: 'spoke', 3669: 'loudly', 3670: 'schumer', 3671: 'field', 3672: 'transexual', 3673: 'became', 3674: 'contempt', 3675: 'handicapped', 3676: 'pub', 3677: 'abs', 3678: 'knowledgeable', 3679: 'title', 3680: 'reffing', 3681: 'preferred', 3682: 'degrading', 3683: 'feather', 3684: 'regular', 3685: 'tf', 3686: 'cyber', 3687: 'eoman', 3688: 'drives', 3689: 'trouble', 3690: 'brush', 3691: 'sandpaper', 3692: 'admit', 3693: 'selectively', 3694: 'highlighting', 3695: 'fishing', 3696: 'statement', 3697: 'shoppers', 3698: 'inch', 3699: 'mood', 3700: 'vocalist', 3701: 'presents', 3702: 'experienced', 3703: 'unjoke', 3704: 'fights', 3705: 'kys', 3706: 'atleast', 3707: 'influential', 3708: 'facial', 3709: 'belongs', 3710: 'becoming', 3711: 'gel', 3712: 'filing', 3713: 'routine', 3714: 'paperwork', 3715: 'inexplicable', 3716: 'buff', 3717: 'ableist', 3718: 'scare', 3719: 'formal', 3720: 'apology', 3721: 'spike', 3722: 'recognise', 3723: 'shift', 3724: 'rain', 3725: 'comedienne', 3726: 'involved', 3727: 'oath', 3728: 'matters', 3729: 'easier', 3730: 'jackets', 3731: 'hav', 3732: 'replacin', 3733: 'battery', 3734: 'culinary', 3735: 'attempt', 3736: 'implies', 3737: 'communicate', 3738: 'unbelievanly', 3739: 'fussy', 3740: 'keeping', 3741: 'folding', 3742: 'limb', 3743: 'typical', 3744: 'faints', 3745: 'heck', 3746: 'yids', 3747: 'antique', 3748: 'alimony', 3749: 'shameful', 3750: 'younger', 3751: 'generations', 3752: 'bring', 3753: 'physique', 3754: 'fave', 3755: 'username', 3756: 'players', 3757: 'remembered', 3758: 'rips', 3759: 'discribe', 3760: 'handshake', 3761: 'engineering', 3762: 'watchin', 3763: 'slope', 3764: 'style', 3765: 'combat', 3766: 'liability', 3767: 'shear', 3768: 'athleticism', 3769: 'skaters', 3770: 'graceful', 3771: 'abnormally', 3772: 'lawwwwd', 3773: 'zzzz', 3774: 'sites', 3775: 'dollars', 3776: 'kicks', 3777: 'includes', 3778: 'shocking', 3779: 'razor', 3780: 'sharp', 3781: 'hirsute', 3782: 'armpits', 3783: 'ski', 3784: 'halfpipe', 3785: 'snowboard', 3786: 'tricks', 3787: 'beards', 3788: 'unwatchable', 3789: 'bored', 3790: 'nooo', 3791: 'cost', 3792: 'garbage', 3793: 'city', 3794: 'sets', 3795: 'abilities', 3796: 'leagues', 3797: 'earning', 3798: 'olds', 3799: 'qualified', 3800: 'cleaned', 3801: 'ignoring', 3802: 'historical', 3803: 'idefk', 3804: 'deadly', 3805: 'survival', 3806: 'horrorgames', 3807: 'naive', 3808: 'gamer', 3809: 'extraordinary', 3810: 'vast', 3811: 'rapping', 3812: 'liking', 3813: 'raid', 3814: 'internet', 3815: 'memory', 3816: 'mentally', 3817: 'stable', 3818: 'began', 3819: 'naa', 3820: 'volunteers', 3821: 'actively', 3822: 'defensive', 3823: 'handbags', 3824: 'lad', 3825: 'enjoyment', 3826: 'neurons', 3827: 'firing', 3828: 'weight', 3829: 'purely', 3830: 'pickles', 3831: 'thin', 3832: 'suits', 3833: 'fifa', 3834: 'righteous', 3835: 'stereotyping', 3836: 'nothin', 3837: 'daddy', 3838: 'loved', 3839: 'barf', 3840: 'jumping', 3841: 'gossip', 3842: 'parallel', 3843: 'implemented', 3844: 'constant', 3845: 'thrive', 3846: 'bossing', 3847: 'civilised', 3848: 'debates', 3849: 'presenters', 3850: 'soo', 3851: 'prestigious', 3852: 'lame', 3853: 'background', 3854: 'objectifying', 3855: 'bores', 3856: 'fire', 3857: 'estimation', 3858: 'advise', 3859: 'precautions', 3860: 'snapchat', 3861: 'fold', 3862: 'roommates', 3863: 'broadcast', 3864: 'variation', 3865: 'cleats', 3866: 'chars', 3867: 'respond', 3868: 'horses', 3869: 'musicians', 3870: 'awkwardly', 3871: 'smackem', 3872: 'golf', 3873: 'charge', 3874: 'obligated', 3875: 'kicking', 3876: 'bossy', 3877: 'plague', 3878: 'fell', 3879: 'vegetarian', 3880: 'analyze', 3881: 'battle', 3882: 'princess', 3883: 'exploit', 3884: 'anime', 3885: 'televised', 3886: 'memorial', 3887: 'grass', 3888: 'burrito', 3889: 'names', 3890: 'moderator', 3891: 'ape', 3892: 'ruled', 3893: 'somewhat', 3894: 'provide', 3895: 'perspective', 3896: 'pipes', 3897: 'pint', 3898: 'placed', 3899: 'catered', 3900: 'bounce', 3901: 'reckless', 3902: 'costume', 3903: 'trainers', 3904: 'posts', 3905: 'dumbest', 3906: 'politically', 3907: 'acknowledging', 3908: 'distinctives', 3909: 'rude', 3910: 'sock', 3911: 'uterus', 3912: 'stating', 3913: 'despise', 3914: 'apple', 3915: 'prohibited', 3916: 'versa', 3917: 'naturally', 3918: 'jungle', 3919: 'drummers', 3920: 'cents', 3921: 'yeehh', 3922: 'construction', 3923: 'mascara', 3924: 'incredibly', 3925: 'iirc', 3926: 'skip', 3927: 'beyond', 3928: 'comprehension', 3929: 'rubbish', 3930: 'geography', 3931: 'pinnacle', 3932: 'jealous', 3933: 'mac', 3934: 'product', 3935: 'disrespect', 3936: 'strictly', 3937: 'hmmm', 3938: 'wifey', 3939: 'cameramen', 3940: 'zooming', 3941: 'guna', 3942: 'haircut', 3943: 'tanisha', 3944: 'tattoo', 3945: 'sanitary', 3946: 'towels', 3947: 'delicious', 3948: 'lists', 3949: 'holds', 3950: 'une', 3951: 'licenses', 3952: 'bays', 3953: 'assist', 3954: 'faster', 3955: 'howl', 3956: 'viking', 3957: 'sized', 3958: 'lust', 3959: 'keyboard', 3960: 'sample', 3961: 'rant', 3962: 'sorority', 3963: 'kickass', 3964: 'assistant', 3965: 'asleep', 3966: 'xan', 3967: 'prize', 3968: 'farcical', 3969: 'spewers', 3970: 'cab', 3971: 'joys', 3972: 'proposing', 3973: 'circumstances', 3974: 'idccccc', 3975: 'smoke', 3976: 'supermodel', 3977: 'status', 3978: 'inspiring', 3979: 'mutes', 3980: 'changing', 3981: 'comediennes', 3982: 'becomes', 3983: 'sentiment', 3984: 'excuses', 3985: 'cease', 3986: 'affiliate', 3987: 'competing', 3988: 'bull', 3989: 'sheeeeeit', 3990: 'disrespecting', 3991: 'kristen', 3992: 'wiig', 3993: 'disavow', 3994: 'humour', 3995: 'notable', 3996: 'besides', 3997: 'acknowledgement', 3998: 'revolves', 3999: 'mythological', 4000: 'inequality', 4001: 'cute', 4002: 'soap', 4003: 'believer', 4004: 'spoiled', 4005: 'lil', 4006: 'fuzzy', 4007: 'coz', 4008: 'competitive', 4009: 'shitload', 4010: 'goals', 4011: 'youth', 4012: 'maturity', 4013: 'remained', 4014: 'diapers', 4015: 'tele', 4016: 'hittin', 4017: 'fisesm', 4018: 'stared', 4019: 'catcalled', 4020: 'revealing', 4021: 'fuckn', 4022: 'information', 4023: 'mlb', 4024: 'app', 4025: 'boils', 4026: 'blood', 4027: 'happily', 4028: 'flight', 4029: 'ensure', 4030: 'gene', 4031: 'alive', 4032: 'ummmm', 4033: 'generalizing', 4034: 'among', 4035: 'somethings', 4036: 'ear', 4037: 'nigga', 4038: 'moving', 4039: 'hesitation', 4040: 'upset', 4041: 'reminded', 4042: 'harshly', 4043: 'knights', 4044: 'dust', 4045: 'hammer', 4046: 'hint', 4047: 'usename', 4048: 'practiced', 4049: 'irrationality', 4050: 'recruit', 4051: 'spouting', 4052: 'gullibly', 4053: 'conducting', 4054: 'evident', 4055: 'sideline', 4056: 'singer', 4057: 'maroon', 4058: 'showers', 4059: 'litteraly', 4060: 'turned', 4061: 'hoover', 4062: 'classmate', 4063: 'slit', 4064: 'appease', 4065: 'welterweights', 4066: 'irks', 4067: 'growing', 4068: 'relies', 4069: 'foregone', 4070: 'conclusion', 4071: 'closest', 4072: 'activists', 4073: 'nightmares', 4074: 'bathrooms', 4075: 'birches', 4076: 'critically', 4077: 'levels', 4078: 'badgers', 4079: 'button', 4080: 'yell', 4081: 'lights', 4082: 'wind', 4083: 'wipers', 4084: 'speeding', 4085: 'ambulance', 4086: 'overseas', 4087: 'labour', 4088: 'chicken', 4089: 'fried', 4090: 'analysis', 4091: 'wrap', 4092: 'sexists', 4093: 'visually', 4094: 'eight', 4095: 'insecure', 4096: 'masses', 4097: 'fw', 4098: 'rumour', 4099: 'engineers', 4100: 'fouls', 4101: 'moves', 4102: 'connection', 4103: 'possibly', 4104: 'rich', 4105: 'snobby', 4106: 'discussing', 4107: 'pictures', 4108: 'strawman', 4109: 'goddamn', 4110: 'scares', 4111: 'proving', 4112: 'regardless', 4113: 'album', 4114: 'evolving', 4115: 'semantics', 4116: 'sociolinguistic', 4117: 'enriched', 4118: 'surprises', 4119: 'tradesmen', 4120: 'encounter', 4121: 'passenger', 4122: 'vulgarity', 4123: 'dishwashers', 4124: 'shouts', 4125: 'btwn', 4126: 'struggling', 4127: 'holiday', 4128: 'projects', 4129: 'intend', 4130: 'recurring', 4131: 'employees', 4132: 'shiizzzz', 4133: 'gift', 4134: 'girlfriend', 4135: 'disgust', 4136: 'cell', 4137: 'detracts', 4138: 'achievement', 4139: 'fasten', 4140: 'seatbelt', 4141: 'e', 4142: 'mails', 4143: 'nude', 4144: 'photos', 4145: 'xbox', 4146: 'difficulty', 4147: 'relating', 4148: 'tiny', 4149: 'beleive', 4150: 'throttle', 4151: 'weaker', 4152: 'muted', 4153: 'gf', 4154: 'community', 4155: 'friendly', 4156: 'fought', 4157: 'release', 4158: 'emulates', 4159: 'shooting', 4160: 'yous', 4161: 'wheels', 4162: 'lbs', 4163: 'reserve', 4164: 'positive', 4165: 'semester', 4166: 'busting', 4167: 'catering', 4168: 'tempt', 4169: 'dickless', 4170: 'un', 4171: 'ungrateful', 4172: 'pedestrians', 4173: 'prescribed', 4174: 'meds', 4175: 'tidies', 4176: 'expectantly', 4177: 'marriage', 4178: 'mop', 4179: 'dramatic', 4180: 'suspects', 4181: 'feicin', 4182: 'ion', 4183: 'stairs', 4184: 'ghostbusting', 4185: 'scrutiny', 4186: 'holding', 4187: 'enthusiasm', 4188: 'rally', 4189: 'cure', 4190: 'cancer', 4191: 'brick', 4192: 'tooth', 4193: 'hardened', 4194: 'wankers', 4195: 'faggot', 4196: 'sake', 4197: 'wtfrack', 4198: 'mixing', 4199: 'side', 4200: 'wives', 4201: 'preferences', 4202: 'muscular', 4203: 'propose', 4204: 'ghoul', 4205: 'slaying', 4206: 'shall', 4207: 'accepted', 4208: 'respected', 4209: 'brings', 4210: 'reallllly', 4211: 'rapper', 4212: 'faves', 4213: 'downstairs', 4214: 'neighborhood', 4215: 'strip', 4216: 'designer', 4217: 'purse', 4218: 'cancel', 4219: 'honoring', 4220: 'womem', 4221: 'nurse', 4222: 'ahahahahah', 4223: 'obesity', 4224: 'local', 4225: 'thrift', 4226: 'replace', 4227: 'gal', 4228: 'spend', 4229: 'recommend', 4230: 'cesspools', 4231: 'taught', 4232: 'morals', 4233: 'hook', 4234: 'fullback', 4235: 'bestfriends', 4236: 'videogames', 4237: 'creating', 4238: 'flavours', 4239: 'puke'}\n"
          ]
        }
      ],
      "source": [
        "print(token.index_word)"
      ]
    },
    {
      "cell_type": "code",
      "execution_count": null,
      "metadata": {
        "id": "ZO_r30CJFlBu"
      },
      "outputs": [],
      "source": [
        "#encode this text\n",
        "encoded_text=token.texts_to_sequences(text)\n",
        "enc_male=token.texts_to_sequences(male_text)\n",
        "enc_female=token.texts_to_sequences(female_text)"
      ]
    },
    {
      "cell_type": "code",
      "execution_count": null,
      "metadata": {
        "colab": {
          "base_uri": "https://localhost:8080/"
        },
        "id": "4xiacCeWXyd8",
        "outputId": "d1ef57b4-cba9-42c7-d49b-9b281c0044bd"
      },
      "outputs": [
        {
          "output_type": "stream",
          "name": "stdout",
          "text": [
            "<class 'list'>\n",
            "2663\n",
            "7\n"
          ]
        }
      ],
      "source": [
        "print(type(encoded_text))\n",
        "print(len(encoded_text))\n",
        "print(len(encoded_text[0]))"
      ]
    },
    {
      "cell_type": "code",
      "execution_count": null,
      "metadata": {
        "colab": {
          "base_uri": "https://localhost:8080/"
        },
        "id": "_viQqwVLF_AP",
        "outputId": "1f383a67-973b-4406-dd05-f6332219dd81"
      },
      "outputs": [
        {
          "output_type": "stream",
          "name": "stdout",
          "text": [
            "[[487, 64, 30, 75, 1471, 168, 8], [120, 132, 328, 75, 86, 128, 8, 8, 245], [2, 28, 56, 179, 19, 18, 1775, 20, 4, 187, 2059, 36, 2060, 8], [2, 135, 12, 291, 631, 190, 28, 363, 30, 1472, 8, 1776, 7, 96, 213], [146, 1777, 13, 13, 64, 1353, 75, 28, 2061, 23, 40, 66, 187, 374, 15, 8]]\n"
          ]
        }
      ],
      "source": [
        "print(encoded_text[:5])"
      ]
    },
    {
      "cell_type": "code",
      "execution_count": null,
      "metadata": {
        "id": "R7wWjp3mGFc_"
      },
      "outputs": [],
      "source": [
        "#we need fixed size input\n",
        "max_length = 30\n",
        "X=pad_sequences(encoded_text, maxlen=max_length, padding='post')\n",
        "x_male=pad_sequences(enc_male, maxlen=max_length, padding='post')\n",
        "x_female=pad_sequences(enc_female, maxlen=max_length, padding='post')"
      ]
    },
    {
      "cell_type": "code",
      "execution_count": null,
      "metadata": {
        "colab": {
          "base_uri": "https://localhost:8080/"
        },
        "id": "jcYMQBLqGVJX",
        "outputId": "1fce7195-2216-435b-a1c5-850f39a4be57"
      },
      "outputs": [
        {
          "output_type": "execute_result",
          "data": {
            "text/plain": [
              "(2663, 30)"
            ]
          },
          "metadata": {},
          "execution_count": 83
        }
      ],
      "source": [
        "X.shape"
      ]
    },
    {
      "cell_type": "markdown",
      "metadata": {
        "id": "961gg7YYGeuU"
      },
      "source": [
        "##Glove Vectors"
      ]
    },
    {
      "cell_type": "code",
      "execution_count": null,
      "metadata": {
        "id": "5QLc1t64GXF6"
      },
      "outputs": [],
      "source": [
        "glove_vectors=dict()"
      ]
    },
    {
      "cell_type": "code",
      "execution_count": null,
      "metadata": {
        "colab": {
          "base_uri": "https://localhost:8080/"
        },
        "id": "6d_gu_VsHD42",
        "outputId": "fd88af11-b64d-4532-85b9-659c902663d4"
      },
      "outputs": [
        {
          "output_type": "stream",
          "name": "stdout",
          "text": [
            "CPU times: user 10.3 s, sys: 497 ms, total: 10.8 s\n",
            "Wall time: 11 s\n"
          ]
        }
      ],
      "source": [
        "%%time\n",
        "file = open('/content/drive/MyDrive/AILAB/glove.twitter.27B.25d.txt', encoding='utf-8')\n",
        "\n",
        "for line in file:\n",
        "  values=line.split()\n",
        "  word=values[0]\n",
        "  vectors = np.asarray(values[1:])\n",
        "  glove_vectors[word]=vectors\n",
        "file.close()"
      ]
    },
    {
      "cell_type": "code",
      "execution_count": null,
      "metadata": {
        "colab": {
          "base_uri": "https://localhost:8080/"
        },
        "id": "W01ZfRNtOuWF",
        "outputId": "bda451ad-da45-44da-bc5a-f43b1597eeb6"
      },
      "outputs": [
        {
          "output_type": "execute_result",
          "data": {
            "text/plain": [
              "1193515"
            ]
          },
          "metadata": {},
          "execution_count": 55
        }
      ],
      "source": [
        "len(glove_vectors.keys())"
      ]
    },
    {
      "cell_type": "code",
      "execution_count": null,
      "metadata": {
        "id": "_euIn1p0Qi_B"
      },
      "outputs": [],
      "source": [
        "word_vector_matrix=np.zeros((vocab_size, 25))\n",
        "words_vector_not_present=[]\n",
        "for word, index in token.word_index.items():\n",
        "  vector = glove_vectors.get(word)\n",
        "  if vector is not None:\n",
        "    word_vector_matrix[index]=vector\n",
        "  else:\n",
        "    words_vector_not_present.append(word)"
      ]
    },
    {
      "cell_type": "code",
      "execution_count": null,
      "metadata": {
        "colab": {
          "base_uri": "https://localhost:8080/"
        },
        "id": "m8ICB2GkRdvH",
        "outputId": "21ff840a-d3fe-45d6-f72f-c7f84134edcb"
      },
      "outputs": [
        {
          "output_type": "stream",
          "name": "stdout",
          "text": [
            "456\n"
          ]
        }
      ],
      "source": [
        "print(len(words_vector_not_present))"
      ]
    },
    {
      "cell_type": "code",
      "execution_count": null,
      "metadata": {
        "colab": {
          "base_uri": "https://localhost:8080/"
        },
        "id": "Zkmay9ZzeTqy",
        "outputId": "dc6bc428-529d-4314-98a7-c6b4e046a812"
      },
      "outputs": [
        {
          "output_type": "execute_result",
          "data": {
            "text/plain": [
              "(4240, 25)"
            ]
          },
          "metadata": {},
          "execution_count": 88
        }
      ],
      "source": [
        "word_vector_matrix.shape"
      ]
    },
    {
      "cell_type": "markdown",
      "metadata": {
        "id": "J4K6sy3oUbjA"
      },
      "source": [
        "##TF2.0 and keras Model Building"
      ]
    },
    {
      "cell_type": "code",
      "execution_count": null,
      "metadata": {
        "id": "ytGSwJf_Uhre"
      },
      "outputs": [],
      "source": [
        "x_train,x_test, y_train, y_test=train_test_split(X, y, random_state=42, test_size=0.2, stratify=y)\n",
        "x_male_train, y_male_train, x_male_test, y_male_test=train_test_split(x_male, y_male,random_state=42, test_size=0.3,stratify=y_male)\n",
        "x_female_train, y_female_train, x_female_test, y_female_test=train_test_split(x_female, y_female,random_state=42, test_size=0.3,stratify=y_female)"
      ]
    },
    {
      "cell_type": "code",
      "execution_count": null,
      "metadata": {
        "colab": {
          "base_uri": "https://localhost:8080/"
        },
        "id": "qrEkkZBIUzoU",
        "outputId": "7afd3a23-00c8-4468-b671-f1cb95cfcaae"
      },
      "outputs": [
        {
          "output_type": "stream",
          "name": "stdout",
          "text": [
            "Model: \"sequential\"\n",
            "_________________________________________________________________\n",
            " Layer (type)                Output Shape              Param #   \n",
            "=================================================================\n",
            " embedding (Embedding)       (None, 30, 25)            106000    \n",
            "                                                                 \n",
            " gru (GRU)                   (None, 3)                 270       \n",
            "                                                                 \n",
            " dense (Dense)               (None, 3)                 12        \n",
            "                                                                 \n",
            "=================================================================\n",
            "Total params: 106,282\n",
            "Trainable params: 282\n",
            "Non-trainable params: 106,000\n",
            "_________________________________________________________________\n"
          ]
        }
      ],
      "source": [
        "vec_size=25\n",
        "model =Sequential()\n",
        "model.add(Embedding(vocab_size, vec_size, input_length=max_length, weights=[word_vector_matrix], trainable=False))\n",
        "model.add(GRU(units=3))\n",
        "model.add(Dense(units=3, kernel_initializer='he_normal', activation='softmax'))\n",
        "model.compile(optimizer='adam', loss='sparse_categorical_crossentropy', metrics=['accuracy'])\n",
        "model.summary()"
      ]
    },
    {
      "cell_type": "code",
      "execution_count": null,
      "metadata": {
        "colab": {
          "base_uri": "https://localhost:8080/"
        },
        "id": "1uvRn1UflP4E",
        "outputId": "ee22b6bd-4dcf-4dfd-ad39-9c97f01f655e"
      },
      "outputs": [
        {
          "output_type": "stream",
          "name": "stdout",
          "text": [
            "Epoch 1/300\n",
            "67/67 [==============================] - 4s 22ms/step - loss: 1.0527 - accuracy: 0.5718 - val_loss: 0.9952 - val_accuracy: 0.5779\n",
            "Epoch 2/300\n",
            "67/67 [==============================] - 1s 15ms/step - loss: 0.9329 - accuracy: 0.5779 - val_loss: 0.8716 - val_accuracy: 0.5779\n",
            "Epoch 3/300\n",
            "67/67 [==============================] - 1s 15ms/step - loss: 0.8399 - accuracy: 0.5779 - val_loss: 0.8160 - val_accuracy: 0.5779\n",
            "Epoch 4/300\n",
            "67/67 [==============================] - 1s 15ms/step - loss: 0.8058 - accuracy: 0.5779 - val_loss: 0.7988 - val_accuracy: 0.5779\n",
            "Epoch 5/300\n",
            "67/67 [==============================] - 1s 14ms/step - loss: 0.7953 - accuracy: 0.5779 - val_loss: 0.7940 - val_accuracy: 0.5779\n",
            "Epoch 6/300\n",
            "67/67 [==============================] - 1s 14ms/step - loss: 0.7922 - accuracy: 0.5779 - val_loss: 0.7924 - val_accuracy: 0.5779\n",
            "Epoch 7/300\n",
            "67/67 [==============================] - 1s 15ms/step - loss: 0.7908 - accuracy: 0.5779 - val_loss: 0.7916 - val_accuracy: 0.5779\n",
            "Epoch 8/300\n",
            "67/67 [==============================] - 1s 14ms/step - loss: 0.7899 - accuracy: 0.5779 - val_loss: 0.7906 - val_accuracy: 0.5779\n",
            "Epoch 9/300\n",
            "67/67 [==============================] - 1s 15ms/step - loss: 0.7883 - accuracy: 0.5779 - val_loss: 0.7887 - val_accuracy: 0.5779\n",
            "Epoch 10/300\n",
            "67/67 [==============================] - 1s 14ms/step - loss: 0.7853 - accuracy: 0.5779 - val_loss: 0.7838 - val_accuracy: 0.5779\n",
            "Epoch 11/300\n",
            "67/67 [==============================] - 1s 14ms/step - loss: 0.7796 - accuracy: 0.5779 - val_loss: 0.7757 - val_accuracy: 0.5779\n",
            "Epoch 12/300\n",
            "67/67 [==============================] - 1s 15ms/step - loss: 0.7707 - accuracy: 0.5775 - val_loss: 0.7643 - val_accuracy: 0.5779\n",
            "Epoch 13/300\n",
            "67/67 [==============================] - 1s 15ms/step - loss: 0.7591 - accuracy: 0.5775 - val_loss: 0.7496 - val_accuracy: 0.5816\n",
            "Epoch 14/300\n",
            "67/67 [==============================] - 1s 14ms/step - loss: 0.7436 - accuracy: 0.5826 - val_loss: 0.7300 - val_accuracy: 0.6248\n",
            "Epoch 15/300\n",
            "67/67 [==============================] - 1s 15ms/step - loss: 0.7236 - accuracy: 0.6277 - val_loss: 0.7062 - val_accuracy: 0.6717\n",
            "Epoch 16/300\n",
            "67/67 [==============================] - 1s 15ms/step - loss: 0.6992 - accuracy: 0.6812 - val_loss: 0.6830 - val_accuracy: 0.6867\n",
            "Epoch 17/300\n",
            "67/67 [==============================] - 1s 14ms/step - loss: 0.6739 - accuracy: 0.7099 - val_loss: 0.6583 - val_accuracy: 0.7073\n",
            "Epoch 18/300\n",
            "67/67 [==============================] - 1s 14ms/step - loss: 0.6500 - accuracy: 0.7380 - val_loss: 0.6393 - val_accuracy: 0.7242\n",
            "Epoch 19/300\n",
            "67/67 [==============================] - 1s 15ms/step - loss: 0.6310 - accuracy: 0.7488 - val_loss: 0.6266 - val_accuracy: 0.7373\n",
            "Epoch 20/300\n",
            "67/67 [==============================] - 1s 14ms/step - loss: 0.6146 - accuracy: 0.7535 - val_loss: 0.6211 - val_accuracy: 0.7336\n",
            "Epoch 21/300\n",
            "67/67 [==============================] - 1s 15ms/step - loss: 0.6037 - accuracy: 0.7610 - val_loss: 0.6133 - val_accuracy: 0.7448\n",
            "Epoch 22/300\n",
            "67/67 [==============================] - 1s 14ms/step - loss: 0.5946 - accuracy: 0.7657 - val_loss: 0.6096 - val_accuracy: 0.7505\n",
            "Epoch 23/300\n",
            "67/67 [==============================] - 1s 15ms/step - loss: 0.5882 - accuracy: 0.7685 - val_loss: 0.6063 - val_accuracy: 0.7467\n",
            "Epoch 24/300\n",
            "67/67 [==============================] - 1s 15ms/step - loss: 0.5838 - accuracy: 0.7685 - val_loss: 0.6039 - val_accuracy: 0.7523\n",
            "Epoch 25/300\n",
            "67/67 [==============================] - 1s 14ms/step - loss: 0.5805 - accuracy: 0.7718 - val_loss: 0.6054 - val_accuracy: 0.7505\n",
            "Epoch 26/300\n",
            "67/67 [==============================] - 1s 14ms/step - loss: 0.5780 - accuracy: 0.7737 - val_loss: 0.6030 - val_accuracy: 0.7542\n",
            "Epoch 27/300\n",
            "67/67 [==============================] - 1s 14ms/step - loss: 0.5741 - accuracy: 0.7761 - val_loss: 0.6061 - val_accuracy: 0.7505\n",
            "Epoch 28/300\n",
            "67/67 [==============================] - 1s 15ms/step - loss: 0.5724 - accuracy: 0.7761 - val_loss: 0.6017 - val_accuracy: 0.7580\n",
            "Epoch 29/300\n",
            "67/67 [==============================] - 1s 15ms/step - loss: 0.5705 - accuracy: 0.7765 - val_loss: 0.6045 - val_accuracy: 0.7580\n",
            "Epoch 30/300\n",
            "67/67 [==============================] - 1s 15ms/step - loss: 0.5679 - accuracy: 0.7793 - val_loss: 0.6037 - val_accuracy: 0.7580\n",
            "Epoch 31/300\n",
            "67/67 [==============================] - 1s 14ms/step - loss: 0.5667 - accuracy: 0.7775 - val_loss: 0.6025 - val_accuracy: 0.7523\n",
            "Epoch 32/300\n",
            "67/67 [==============================] - 1s 14ms/step - loss: 0.5648 - accuracy: 0.7784 - val_loss: 0.6030 - val_accuracy: 0.7598\n",
            "Epoch 33/300\n",
            "67/67 [==============================] - 1s 15ms/step - loss: 0.5627 - accuracy: 0.7845 - val_loss: 0.6043 - val_accuracy: 0.7598\n",
            "Epoch 34/300\n",
            "67/67 [==============================] - 1s 15ms/step - loss: 0.5612 - accuracy: 0.7793 - val_loss: 0.6049 - val_accuracy: 0.7598\n",
            "Epoch 35/300\n",
            "67/67 [==============================] - 1s 14ms/step - loss: 0.5603 - accuracy: 0.7854 - val_loss: 0.6057 - val_accuracy: 0.7617\n",
            "Epoch 36/300\n",
            "67/67 [==============================] - 1s 14ms/step - loss: 0.5590 - accuracy: 0.7831 - val_loss: 0.6055 - val_accuracy: 0.7598\n",
            "Epoch 37/300\n",
            "67/67 [==============================] - 1s 14ms/step - loss: 0.5570 - accuracy: 0.7854 - val_loss: 0.6045 - val_accuracy: 0.7580\n",
            "Epoch 38/300\n",
            "67/67 [==============================] - 1s 14ms/step - loss: 0.5566 - accuracy: 0.7869 - val_loss: 0.6026 - val_accuracy: 0.7617\n",
            "Epoch 39/300\n",
            "67/67 [==============================] - 1s 14ms/step - loss: 0.5550 - accuracy: 0.7831 - val_loss: 0.6028 - val_accuracy: 0.7617\n",
            "Epoch 40/300\n",
            "67/67 [==============================] - 1s 14ms/step - loss: 0.5544 - accuracy: 0.7864 - val_loss: 0.6044 - val_accuracy: 0.7617\n",
            "Epoch 41/300\n",
            "67/67 [==============================] - 1s 15ms/step - loss: 0.5535 - accuracy: 0.7883 - val_loss: 0.6042 - val_accuracy: 0.7617\n",
            "Epoch 42/300\n",
            "67/67 [==============================] - 1s 14ms/step - loss: 0.5515 - accuracy: 0.7901 - val_loss: 0.6025 - val_accuracy: 0.7617\n",
            "Epoch 43/300\n",
            "67/67 [==============================] - 1s 15ms/step - loss: 0.5510 - accuracy: 0.7864 - val_loss: 0.6050 - val_accuracy: 0.7598\n",
            "Epoch 44/300\n",
            "67/67 [==============================] - 1s 15ms/step - loss: 0.5505 - accuracy: 0.7883 - val_loss: 0.6035 - val_accuracy: 0.7598\n",
            "Epoch 45/300\n",
            "67/67 [==============================] - 1s 14ms/step - loss: 0.5487 - accuracy: 0.7906 - val_loss: 0.6032 - val_accuracy: 0.7598\n",
            "Epoch 46/300\n",
            "67/67 [==============================] - 1s 15ms/step - loss: 0.5486 - accuracy: 0.7897 - val_loss: 0.6067 - val_accuracy: 0.7617\n",
            "Epoch 47/300\n",
            "67/67 [==============================] - 1s 14ms/step - loss: 0.5466 - accuracy: 0.7911 - val_loss: 0.6033 - val_accuracy: 0.7617\n",
            "Epoch 48/300\n",
            "67/67 [==============================] - 1s 15ms/step - loss: 0.5459 - accuracy: 0.7897 - val_loss: 0.6029 - val_accuracy: 0.7617\n",
            "Epoch 49/300\n",
            "67/67 [==============================] - 1s 14ms/step - loss: 0.5453 - accuracy: 0.7948 - val_loss: 0.6033 - val_accuracy: 0.7598\n",
            "Epoch 50/300\n",
            "67/67 [==============================] - 1s 15ms/step - loss: 0.5446 - accuracy: 0.7948 - val_loss: 0.6070 - val_accuracy: 0.7636\n",
            "Epoch 51/300\n",
            "67/67 [==============================] - 1s 15ms/step - loss: 0.5437 - accuracy: 0.7962 - val_loss: 0.6064 - val_accuracy: 0.7580\n",
            "Epoch 52/300\n",
            "67/67 [==============================] - 1s 18ms/step - loss: 0.5422 - accuracy: 0.7962 - val_loss: 0.6032 - val_accuracy: 0.7636\n",
            "Epoch 53/300\n",
            "67/67 [==============================] - 1s 21ms/step - loss: 0.5433 - accuracy: 0.7930 - val_loss: 0.6048 - val_accuracy: 0.7617\n",
            "Epoch 54/300\n",
            "67/67 [==============================] - 2s 24ms/step - loss: 0.5420 - accuracy: 0.7977 - val_loss: 0.6032 - val_accuracy: 0.7598\n",
            "Epoch 55/300\n",
            "67/67 [==============================] - 1s 22ms/step - loss: 0.5411 - accuracy: 0.7962 - val_loss: 0.6030 - val_accuracy: 0.7580\n",
            "Epoch 56/300\n",
            "67/67 [==============================] - 2s 23ms/step - loss: 0.5403 - accuracy: 0.7991 - val_loss: 0.6057 - val_accuracy: 0.7598\n",
            "Epoch 57/300\n",
            "67/67 [==============================] - 2s 23ms/step - loss: 0.5399 - accuracy: 0.7962 - val_loss: 0.6075 - val_accuracy: 0.7636\n",
            "Epoch 58/300\n",
            "67/67 [==============================] - 1s 22ms/step - loss: 0.5398 - accuracy: 0.7986 - val_loss: 0.6048 - val_accuracy: 0.7636\n",
            "Epoch 59/300\n",
            "67/67 [==============================] - 1s 16ms/step - loss: 0.5381 - accuracy: 0.7995 - val_loss: 0.6109 - val_accuracy: 0.7617\n",
            "Epoch 60/300\n",
            "67/67 [==============================] - 1s 18ms/step - loss: 0.5386 - accuracy: 0.7986 - val_loss: 0.6045 - val_accuracy: 0.7636\n",
            "Epoch 61/300\n",
            "67/67 [==============================] - 1s 19ms/step - loss: 0.5369 - accuracy: 0.8000 - val_loss: 0.6042 - val_accuracy: 0.7580\n",
            "Epoch 62/300\n",
            "67/67 [==============================] - 1s 19ms/step - loss: 0.5370 - accuracy: 0.7995 - val_loss: 0.6041 - val_accuracy: 0.7580\n",
            "Epoch 63/300\n",
            "67/67 [==============================] - 2s 24ms/step - loss: 0.5354 - accuracy: 0.8023 - val_loss: 0.6048 - val_accuracy: 0.7617\n",
            "Epoch 64/300\n",
            "67/67 [==============================] - 1s 20ms/step - loss: 0.5358 - accuracy: 0.7995 - val_loss: 0.6063 - val_accuracy: 0.7636\n",
            "Epoch 65/300\n",
            "67/67 [==============================] - 1s 15ms/step - loss: 0.5347 - accuracy: 0.8028 - val_loss: 0.6065 - val_accuracy: 0.7674\n",
            "Epoch 66/300\n",
            "67/67 [==============================] - 1s 15ms/step - loss: 0.5342 - accuracy: 0.8014 - val_loss: 0.6034 - val_accuracy: 0.7580\n",
            "Epoch 67/300\n",
            "67/67 [==============================] - 1s 15ms/step - loss: 0.5336 - accuracy: 0.8023 - val_loss: 0.6058 - val_accuracy: 0.7636\n",
            "Epoch 68/300\n",
            "67/67 [==============================] - 1s 15ms/step - loss: 0.5319 - accuracy: 0.8061 - val_loss: 0.6038 - val_accuracy: 0.7655\n",
            "Epoch 69/300\n",
            "67/67 [==============================] - 1s 15ms/step - loss: 0.5315 - accuracy: 0.8047 - val_loss: 0.6057 - val_accuracy: 0.7674\n",
            "Epoch 70/300\n",
            "67/67 [==============================] - 1s 15ms/step - loss: 0.5313 - accuracy: 0.8052 - val_loss: 0.6079 - val_accuracy: 0.7655\n",
            "Epoch 71/300\n",
            "67/67 [==============================] - 1s 15ms/step - loss: 0.5307 - accuracy: 0.8061 - val_loss: 0.6064 - val_accuracy: 0.7636\n",
            "Epoch 72/300\n",
            "67/67 [==============================] - 1s 15ms/step - loss: 0.5297 - accuracy: 0.8061 - val_loss: 0.6063 - val_accuracy: 0.7636\n",
            "Epoch 73/300\n",
            "67/67 [==============================] - 1s 15ms/step - loss: 0.5296 - accuracy: 0.8085 - val_loss: 0.6057 - val_accuracy: 0.7655\n",
            "Epoch 74/300\n",
            "67/67 [==============================] - 1s 15ms/step - loss: 0.5300 - accuracy: 0.8066 - val_loss: 0.6053 - val_accuracy: 0.7636\n",
            "Epoch 75/300\n",
            "67/67 [==============================] - 1s 15ms/step - loss: 0.5282 - accuracy: 0.8070 - val_loss: 0.6115 - val_accuracy: 0.7655\n",
            "Epoch 76/300\n",
            "67/67 [==============================] - 1s 15ms/step - loss: 0.5288 - accuracy: 0.8085 - val_loss: 0.6094 - val_accuracy: 0.7674\n",
            "Epoch 77/300\n",
            "67/67 [==============================] - 1s 15ms/step - loss: 0.5272 - accuracy: 0.8103 - val_loss: 0.6087 - val_accuracy: 0.7655\n",
            "Epoch 78/300\n",
            "67/67 [==============================] - 1s 15ms/step - loss: 0.5271 - accuracy: 0.8042 - val_loss: 0.6094 - val_accuracy: 0.7692\n",
            "Epoch 79/300\n",
            "67/67 [==============================] - 1s 21ms/step - loss: 0.5259 - accuracy: 0.8094 - val_loss: 0.6113 - val_accuracy: 0.7655\n",
            "Epoch 80/300\n",
            "67/67 [==============================] - 2s 23ms/step - loss: 0.5269 - accuracy: 0.8099 - val_loss: 0.6090 - val_accuracy: 0.7674\n",
            "Epoch 81/300\n",
            "67/67 [==============================] - 2s 23ms/step - loss: 0.5251 - accuracy: 0.8080 - val_loss: 0.6091 - val_accuracy: 0.7674\n",
            "Epoch 82/300\n",
            "67/67 [==============================] - 2s 34ms/step - loss: 0.5263 - accuracy: 0.8075 - val_loss: 0.6082 - val_accuracy: 0.7655\n",
            "Epoch 83/300\n",
            "67/67 [==============================] - 2s 37ms/step - loss: 0.5246 - accuracy: 0.8061 - val_loss: 0.6089 - val_accuracy: 0.7674\n",
            "Epoch 84/300\n",
            "67/67 [==============================] - 2s 30ms/step - loss: 0.5237 - accuracy: 0.8089 - val_loss: 0.6097 - val_accuracy: 0.7674\n",
            "Epoch 85/300\n",
            "67/67 [==============================] - 2s 35ms/step - loss: 0.5262 - accuracy: 0.8075 - val_loss: 0.6081 - val_accuracy: 0.7636\n",
            "Epoch 86/300\n",
            "67/67 [==============================] - 2s 30ms/step - loss: 0.5237 - accuracy: 0.8094 - val_loss: 0.6102 - val_accuracy: 0.7655\n",
            "Epoch 87/300\n",
            "67/67 [==============================] - 3s 38ms/step - loss: 0.5240 - accuracy: 0.8108 - val_loss: 0.6124 - val_accuracy: 0.7730\n",
            "Epoch 88/300\n",
            "67/67 [==============================] - 2s 30ms/step - loss: 0.5221 - accuracy: 0.8117 - val_loss: 0.6118 - val_accuracy: 0.7692\n",
            "Epoch 89/300\n",
            "67/67 [==============================] - 2s 24ms/step - loss: 0.5218 - accuracy: 0.8117 - val_loss: 0.6121 - val_accuracy: 0.7674\n",
            "Epoch 90/300\n",
            "67/67 [==============================] - 2s 27ms/step - loss: 0.5215 - accuracy: 0.8117 - val_loss: 0.6130 - val_accuracy: 0.7730\n",
            "Epoch 91/300\n",
            "67/67 [==============================] - 2s 26ms/step - loss: 0.5215 - accuracy: 0.8108 - val_loss: 0.6116 - val_accuracy: 0.7674\n",
            "Epoch 92/300\n",
            "67/67 [==============================] - 2s 24ms/step - loss: 0.5208 - accuracy: 0.8131 - val_loss: 0.6179 - val_accuracy: 0.7674\n",
            "Epoch 93/300\n",
            "67/67 [==============================] - 2s 23ms/step - loss: 0.5219 - accuracy: 0.8094 - val_loss: 0.6113 - val_accuracy: 0.7636\n",
            "Epoch 94/300\n",
            "67/67 [==============================] - 2s 24ms/step - loss: 0.5196 - accuracy: 0.8150 - val_loss: 0.6167 - val_accuracy: 0.7655\n",
            "Epoch 95/300\n",
            "67/67 [==============================] - 1s 22ms/step - loss: 0.5211 - accuracy: 0.8131 - val_loss: 0.6194 - val_accuracy: 0.7692\n",
            "Epoch 96/300\n",
            "67/67 [==============================] - 2s 24ms/step - loss: 0.5199 - accuracy: 0.8113 - val_loss: 0.6173 - val_accuracy: 0.7692\n",
            "Epoch 97/300\n",
            "67/67 [==============================] - 2s 24ms/step - loss: 0.5201 - accuracy: 0.8127 - val_loss: 0.6141 - val_accuracy: 0.7730\n",
            "Epoch 98/300\n",
            "67/67 [==============================] - 2s 33ms/step - loss: 0.5193 - accuracy: 0.8150 - val_loss: 0.6145 - val_accuracy: 0.7711\n",
            "Epoch 99/300\n",
            "67/67 [==============================] - 1s 22ms/step - loss: 0.5192 - accuracy: 0.8164 - val_loss: 0.6191 - val_accuracy: 0.7692\n",
            "Epoch 100/300\n",
            "67/67 [==============================] - 2s 25ms/step - loss: 0.5191 - accuracy: 0.8141 - val_loss: 0.6174 - val_accuracy: 0.7711\n",
            "Epoch 101/300\n",
            "67/67 [==============================] - 2s 23ms/step - loss: 0.5180 - accuracy: 0.8150 - val_loss: 0.6187 - val_accuracy: 0.7674\n",
            "Epoch 102/300\n",
            "67/67 [==============================] - 2s 25ms/step - loss: 0.5190 - accuracy: 0.8141 - val_loss: 0.6180 - val_accuracy: 0.7730\n",
            "Epoch 103/300\n",
            "67/67 [==============================] - 2s 24ms/step - loss: 0.5170 - accuracy: 0.8155 - val_loss: 0.6187 - val_accuracy: 0.7711\n",
            "Epoch 104/300\n",
            "67/67 [==============================] - 2s 23ms/step - loss: 0.5167 - accuracy: 0.8169 - val_loss: 0.6183 - val_accuracy: 0.7711\n",
            "Epoch 105/300\n",
            "67/67 [==============================] - 2s 23ms/step - loss: 0.5160 - accuracy: 0.8174 - val_loss: 0.6178 - val_accuracy: 0.7636\n",
            "Epoch 106/300\n",
            "67/67 [==============================] - 2s 25ms/step - loss: 0.5166 - accuracy: 0.8150 - val_loss: 0.6212 - val_accuracy: 0.7674\n",
            "Epoch 107/300\n",
            "67/67 [==============================] - 2s 23ms/step - loss: 0.5168 - accuracy: 0.8183 - val_loss: 0.6180 - val_accuracy: 0.7636\n",
            "Epoch 108/300\n",
            "67/67 [==============================] - 2s 23ms/step - loss: 0.5156 - accuracy: 0.8155 - val_loss: 0.6196 - val_accuracy: 0.7692\n",
            "Epoch 109/300\n",
            "67/67 [==============================] - 1s 22ms/step - loss: 0.5148 - accuracy: 0.8164 - val_loss: 0.6221 - val_accuracy: 0.7655\n",
            "Epoch 110/300\n",
            "67/67 [==============================] - 2s 29ms/step - loss: 0.5150 - accuracy: 0.8169 - val_loss: 0.6228 - val_accuracy: 0.7655\n",
            "Epoch 111/300\n",
            "67/67 [==============================] - 2s 24ms/step - loss: 0.5139 - accuracy: 0.8178 - val_loss: 0.6217 - val_accuracy: 0.7674\n",
            "Epoch 112/300\n",
            "67/67 [==============================] - 2s 24ms/step - loss: 0.5140 - accuracy: 0.8188 - val_loss: 0.6226 - val_accuracy: 0.7692\n",
            "Epoch 113/300\n",
            "67/67 [==============================] - 2s 23ms/step - loss: 0.5129 - accuracy: 0.8216 - val_loss: 0.6256 - val_accuracy: 0.7636\n",
            "Epoch 114/300\n",
            "67/67 [==============================] - 1s 22ms/step - loss: 0.5155 - accuracy: 0.8174 - val_loss: 0.6235 - val_accuracy: 0.7674\n",
            "Epoch 115/300\n",
            "67/67 [==============================] - 1s 22ms/step - loss: 0.5134 - accuracy: 0.8160 - val_loss: 0.6219 - val_accuracy: 0.7655\n",
            "Epoch 116/300\n",
            "67/67 [==============================] - 2s 23ms/step - loss: 0.5122 - accuracy: 0.8202 - val_loss: 0.6220 - val_accuracy: 0.7674\n",
            "Epoch 117/300\n",
            "67/67 [==============================] - 1s 19ms/step - loss: 0.5129 - accuracy: 0.8211 - val_loss: 0.6243 - val_accuracy: 0.7636\n",
            "Epoch 118/300\n",
            "67/67 [==============================] - 1s 15ms/step - loss: 0.5117 - accuracy: 0.8188 - val_loss: 0.6222 - val_accuracy: 0.7692\n",
            "Epoch 119/300\n",
            "67/67 [==============================] - 1s 15ms/step - loss: 0.5132 - accuracy: 0.8164 - val_loss: 0.6263 - val_accuracy: 0.7655\n",
            "Epoch 120/300\n",
            "67/67 [==============================] - 1s 15ms/step - loss: 0.5115 - accuracy: 0.8192 - val_loss: 0.6225 - val_accuracy: 0.7674\n",
            "Epoch 121/300\n",
            "67/67 [==============================] - 1s 22ms/step - loss: 0.5107 - accuracy: 0.8239 - val_loss: 0.6239 - val_accuracy: 0.7711\n",
            "Epoch 122/300\n",
            "67/67 [==============================] - 2s 25ms/step - loss: 0.5105 - accuracy: 0.8221 - val_loss: 0.6253 - val_accuracy: 0.7655\n",
            "Epoch 123/300\n",
            "67/67 [==============================] - 1s 15ms/step - loss: 0.5118 - accuracy: 0.8188 - val_loss: 0.6240 - val_accuracy: 0.7692\n",
            "Epoch 124/300\n",
            "67/67 [==============================] - 1s 15ms/step - loss: 0.5102 - accuracy: 0.8230 - val_loss: 0.6231 - val_accuracy: 0.7674\n",
            "Epoch 125/300\n",
            "67/67 [==============================] - 1s 15ms/step - loss: 0.5088 - accuracy: 0.8239 - val_loss: 0.6259 - val_accuracy: 0.7692\n",
            "Epoch 126/300\n",
            "67/67 [==============================] - 1s 16ms/step - loss: 0.5082 - accuracy: 0.8239 - val_loss: 0.6260 - val_accuracy: 0.7692\n",
            "Epoch 127/300\n",
            "67/67 [==============================] - 2s 26ms/step - loss: 0.5076 - accuracy: 0.8268 - val_loss: 0.6253 - val_accuracy: 0.7674\n",
            "Epoch 128/300\n",
            "67/67 [==============================] - 2s 23ms/step - loss: 0.5080 - accuracy: 0.8239 - val_loss: 0.6268 - val_accuracy: 0.7655\n",
            "Epoch 129/300\n",
            "67/67 [==============================] - 1s 21ms/step - loss: 0.5073 - accuracy: 0.8249 - val_loss: 0.6285 - val_accuracy: 0.7674\n",
            "Epoch 130/300\n",
            "67/67 [==============================] - 1s 20ms/step - loss: 0.5073 - accuracy: 0.8249 - val_loss: 0.6285 - val_accuracy: 0.7711\n",
            "Epoch 131/300\n",
            "67/67 [==============================] - 1s 20ms/step - loss: 0.5066 - accuracy: 0.8254 - val_loss: 0.6300 - val_accuracy: 0.7692\n",
            "Epoch 132/300\n",
            "67/67 [==============================] - 2s 28ms/step - loss: 0.5079 - accuracy: 0.8221 - val_loss: 0.6300 - val_accuracy: 0.7692\n",
            "Epoch 133/300\n",
            "67/67 [==============================] - 1s 20ms/step - loss: 0.5078 - accuracy: 0.8239 - val_loss: 0.6278 - val_accuracy: 0.7674\n",
            "Epoch 134/300\n",
            "67/67 [==============================] - 2s 26ms/step - loss: 0.5051 - accuracy: 0.8291 - val_loss: 0.6286 - val_accuracy: 0.7636\n",
            "Epoch 135/300\n",
            "67/67 [==============================] - 2s 24ms/step - loss: 0.5050 - accuracy: 0.8258 - val_loss: 0.6306 - val_accuracy: 0.7692\n",
            "Epoch 136/300\n",
            "67/67 [==============================] - 2s 23ms/step - loss: 0.5054 - accuracy: 0.8258 - val_loss: 0.6306 - val_accuracy: 0.7636\n",
            "Epoch 137/300\n",
            "67/67 [==============================] - 1s 22ms/step - loss: 0.5046 - accuracy: 0.8258 - val_loss: 0.6328 - val_accuracy: 0.7674\n",
            "Epoch 138/300\n",
            "67/67 [==============================] - 2s 25ms/step - loss: 0.5042 - accuracy: 0.8272 - val_loss: 0.6321 - val_accuracy: 0.7692\n",
            "Epoch 139/300\n",
            "67/67 [==============================] - 2s 25ms/step - loss: 0.5036 - accuracy: 0.8277 - val_loss: 0.6332 - val_accuracy: 0.7655\n",
            "Epoch 140/300\n",
            "67/67 [==============================] - 2s 22ms/step - loss: 0.5041 - accuracy: 0.8286 - val_loss: 0.6336 - val_accuracy: 0.7655\n",
            "Epoch 141/300\n",
            "67/67 [==============================] - 2s 24ms/step - loss: 0.5027 - accuracy: 0.8254 - val_loss: 0.6349 - val_accuracy: 0.7674\n",
            "Epoch 142/300\n",
            "67/67 [==============================] - 2s 24ms/step - loss: 0.5016 - accuracy: 0.8286 - val_loss: 0.6364 - val_accuracy: 0.7692\n",
            "Epoch 143/300\n",
            "67/67 [==============================] - 2s 25ms/step - loss: 0.5025 - accuracy: 0.8272 - val_loss: 0.6356 - val_accuracy: 0.7636\n",
            "Epoch 144/300\n",
            "67/67 [==============================] - 2s 25ms/step - loss: 0.5021 - accuracy: 0.8277 - val_loss: 0.6378 - val_accuracy: 0.7674\n",
            "Epoch 145/300\n",
            "67/67 [==============================] - 2s 23ms/step - loss: 0.5013 - accuracy: 0.8305 - val_loss: 0.6390 - val_accuracy: 0.7655\n",
            "Epoch 146/300\n",
            "67/67 [==============================] - 2s 23ms/step - loss: 0.5002 - accuracy: 0.8296 - val_loss: 0.6396 - val_accuracy: 0.7598\n",
            "Epoch 147/300\n",
            "67/67 [==============================] - 2s 23ms/step - loss: 0.5012 - accuracy: 0.8296 - val_loss: 0.6391 - val_accuracy: 0.7655\n",
            "Epoch 148/300\n",
            "67/67 [==============================] - 1s 22ms/step - loss: 0.5003 - accuracy: 0.8291 - val_loss: 0.6396 - val_accuracy: 0.7674\n",
            "Epoch 149/300\n",
            "67/67 [==============================] - 2s 23ms/step - loss: 0.5052 - accuracy: 0.8272 - val_loss: 0.6403 - val_accuracy: 0.7674\n",
            "Epoch 150/300\n",
            "67/67 [==============================] - 2s 25ms/step - loss: 0.5051 - accuracy: 0.8230 - val_loss: 0.6374 - val_accuracy: 0.7692\n",
            "Epoch 151/300\n",
            "67/67 [==============================] - 2s 24ms/step - loss: 0.4999 - accuracy: 0.8272 - val_loss: 0.6373 - val_accuracy: 0.7636\n",
            "Epoch 152/300\n",
            "67/67 [==============================] - 2s 24ms/step - loss: 0.4991 - accuracy: 0.8296 - val_loss: 0.6398 - val_accuracy: 0.7617\n",
            "Epoch 153/300\n",
            "67/67 [==============================] - 2s 25ms/step - loss: 0.5007 - accuracy: 0.8272 - val_loss: 0.6402 - val_accuracy: 0.7692\n",
            "Epoch 154/300\n",
            "67/67 [==============================] - 2s 23ms/step - loss: 0.4992 - accuracy: 0.8315 - val_loss: 0.6407 - val_accuracy: 0.7598\n",
            "Epoch 155/300\n",
            "67/67 [==============================] - 2s 23ms/step - loss: 0.4974 - accuracy: 0.8315 - val_loss: 0.6411 - val_accuracy: 0.7617\n",
            "Epoch 156/300\n",
            "67/67 [==============================] - 1s 22ms/step - loss: 0.4985 - accuracy: 0.8310 - val_loss: 0.6415 - val_accuracy: 0.7655\n",
            "Epoch 157/300\n",
            "67/67 [==============================] - 2s 24ms/step - loss: 0.4958 - accuracy: 0.8333 - val_loss: 0.6429 - val_accuracy: 0.7674\n",
            "Epoch 158/300\n",
            "67/67 [==============================] - 2s 23ms/step - loss: 0.4977 - accuracy: 0.8300 - val_loss: 0.6421 - val_accuracy: 0.7655\n",
            "Epoch 159/300\n",
            "67/67 [==============================] - 2s 24ms/step - loss: 0.4977 - accuracy: 0.8324 - val_loss: 0.6440 - val_accuracy: 0.7655\n",
            "Epoch 160/300\n",
            "67/67 [==============================] - 1s 21ms/step - loss: 0.4960 - accuracy: 0.8319 - val_loss: 0.6436 - val_accuracy: 0.7655\n",
            "Epoch 161/300\n",
            "67/67 [==============================] - 2s 23ms/step - loss: 0.4951 - accuracy: 0.8315 - val_loss: 0.6443 - val_accuracy: 0.7598\n",
            "Epoch 162/300\n",
            "67/67 [==============================] - 2s 24ms/step - loss: 0.4958 - accuracy: 0.8343 - val_loss: 0.6463 - val_accuracy: 0.7617\n",
            "Epoch 163/300\n",
            "67/67 [==============================] - 2s 23ms/step - loss: 0.4960 - accuracy: 0.8362 - val_loss: 0.6465 - val_accuracy: 0.7561\n",
            "Epoch 164/300\n",
            "67/67 [==============================] - 2s 22ms/step - loss: 0.4960 - accuracy: 0.8343 - val_loss: 0.6463 - val_accuracy: 0.7617\n",
            "Epoch 165/300\n",
            "67/67 [==============================] - 1s 21ms/step - loss: 0.4951 - accuracy: 0.8352 - val_loss: 0.6473 - val_accuracy: 0.7636\n",
            "Epoch 166/300\n",
            "67/67 [==============================] - 2s 23ms/step - loss: 0.5000 - accuracy: 0.8305 - val_loss: 0.6467 - val_accuracy: 0.7561\n",
            "Epoch 167/300\n",
            "67/67 [==============================] - 2s 24ms/step - loss: 0.4941 - accuracy: 0.8347 - val_loss: 0.6464 - val_accuracy: 0.7580\n",
            "Epoch 168/300\n",
            "67/67 [==============================] - 2s 23ms/step - loss: 0.4947 - accuracy: 0.8347 - val_loss: 0.6463 - val_accuracy: 0.7580\n",
            "Epoch 169/300\n",
            "67/67 [==============================] - 1s 22ms/step - loss: 0.4944 - accuracy: 0.8343 - val_loss: 0.6476 - val_accuracy: 0.7580\n",
            "Epoch 170/300\n",
            "67/67 [==============================] - 2s 22ms/step - loss: 0.4953 - accuracy: 0.8315 - val_loss: 0.6487 - val_accuracy: 0.7561\n",
            "Epoch 171/300\n",
            "67/67 [==============================] - 2s 22ms/step - loss: 0.4944 - accuracy: 0.8338 - val_loss: 0.6480 - val_accuracy: 0.7561\n",
            "Epoch 172/300\n",
            "67/67 [==============================] - 2s 25ms/step - loss: 0.4945 - accuracy: 0.8343 - val_loss: 0.6500 - val_accuracy: 0.7542\n",
            "Epoch 173/300\n",
            "67/67 [==============================] - 2s 23ms/step - loss: 0.4928 - accuracy: 0.8362 - val_loss: 0.6503 - val_accuracy: 0.7580\n",
            "Epoch 174/300\n",
            "67/67 [==============================] - 2s 23ms/step - loss: 0.4928 - accuracy: 0.8347 - val_loss: 0.6503 - val_accuracy: 0.7580\n",
            "Epoch 175/300\n",
            "67/67 [==============================] - 2s 27ms/step - loss: 0.4916 - accuracy: 0.8366 - val_loss: 0.6522 - val_accuracy: 0.7523\n",
            "Epoch 176/300\n",
            "67/67 [==============================] - 2s 22ms/step - loss: 0.4924 - accuracy: 0.8338 - val_loss: 0.6522 - val_accuracy: 0.7561\n",
            "Epoch 177/300\n",
            "67/67 [==============================] - 1s 22ms/step - loss: 0.4906 - accuracy: 0.8366 - val_loss: 0.6537 - val_accuracy: 0.7542\n",
            "Epoch 178/300\n",
            "67/67 [==============================] - 2s 24ms/step - loss: 0.4915 - accuracy: 0.8376 - val_loss: 0.6512 - val_accuracy: 0.7561\n",
            "Epoch 179/300\n",
            "67/67 [==============================] - 2s 30ms/step - loss: 0.4914 - accuracy: 0.8366 - val_loss: 0.6538 - val_accuracy: 0.7542\n",
            "Epoch 180/300\n",
            "67/67 [==============================] - 2s 25ms/step - loss: 0.4913 - accuracy: 0.8357 - val_loss: 0.6556 - val_accuracy: 0.7523\n",
            "Epoch 181/300\n",
            "67/67 [==============================] - 2s 26ms/step - loss: 0.4919 - accuracy: 0.8371 - val_loss: 0.6522 - val_accuracy: 0.7561\n",
            "Epoch 182/300\n",
            "67/67 [==============================] - 2s 30ms/step - loss: 0.4898 - accuracy: 0.8371 - val_loss: 0.6536 - val_accuracy: 0.7561\n",
            "Epoch 183/300\n",
            "67/67 [==============================] - 2s 24ms/step - loss: 0.4913 - accuracy: 0.8347 - val_loss: 0.6538 - val_accuracy: 0.7542\n",
            "Epoch 184/300\n",
            "67/67 [==============================] - 2s 23ms/step - loss: 0.4907 - accuracy: 0.8352 - val_loss: 0.6553 - val_accuracy: 0.7542\n",
            "Epoch 185/300\n",
            "67/67 [==============================] - 2s 23ms/step - loss: 0.4899 - accuracy: 0.8376 - val_loss: 0.6558 - val_accuracy: 0.7561\n",
            "Epoch 186/300\n",
            "67/67 [==============================] - 2s 24ms/step - loss: 0.4894 - accuracy: 0.8366 - val_loss: 0.6535 - val_accuracy: 0.7542\n",
            "Epoch 187/300\n",
            "67/67 [==============================] - 2s 24ms/step - loss: 0.4900 - accuracy: 0.8380 - val_loss: 0.6580 - val_accuracy: 0.7561\n",
            "Epoch 188/300\n",
            "67/67 [==============================] - 2s 26ms/step - loss: 0.4885 - accuracy: 0.8394 - val_loss: 0.6573 - val_accuracy: 0.7561\n",
            "Epoch 189/300\n",
            "67/67 [==============================] - 2s 23ms/step - loss: 0.4885 - accuracy: 0.8394 - val_loss: 0.6560 - val_accuracy: 0.7561\n",
            "Epoch 190/300\n",
            "67/67 [==============================] - 2s 25ms/step - loss: 0.4913 - accuracy: 0.8371 - val_loss: 0.6594 - val_accuracy: 0.7505\n",
            "Epoch 191/300\n",
            "67/67 [==============================] - 2s 24ms/step - loss: 0.4889 - accuracy: 0.8404 - val_loss: 0.6573 - val_accuracy: 0.7486\n",
            "Epoch 192/300\n",
            "67/67 [==============================] - 2s 23ms/step - loss: 0.4907 - accuracy: 0.8390 - val_loss: 0.6581 - val_accuracy: 0.7523\n",
            "Epoch 193/300\n",
            "67/67 [==============================] - 2s 23ms/step - loss: 0.4895 - accuracy: 0.8380 - val_loss: 0.6601 - val_accuracy: 0.7542\n",
            "Epoch 194/300\n",
            "67/67 [==============================] - 2s 24ms/step - loss: 0.4888 - accuracy: 0.8380 - val_loss: 0.6582 - val_accuracy: 0.7542\n",
            "Epoch 195/300\n",
            "67/67 [==============================] - 2s 23ms/step - loss: 0.4886 - accuracy: 0.8376 - val_loss: 0.6587 - val_accuracy: 0.7561\n",
            "Epoch 196/300\n",
            "67/67 [==============================] - 2s 23ms/step - loss: 0.4872 - accuracy: 0.8385 - val_loss: 0.6617 - val_accuracy: 0.7542\n",
            "Epoch 197/300\n",
            "67/67 [==============================] - 1s 22ms/step - loss: 0.4887 - accuracy: 0.8357 - val_loss: 0.6569 - val_accuracy: 0.7561\n",
            "Epoch 198/300\n",
            "67/67 [==============================] - 2s 28ms/step - loss: 0.4888 - accuracy: 0.8366 - val_loss: 0.6581 - val_accuracy: 0.7542\n",
            "Epoch 199/300\n",
            "67/67 [==============================] - 2s 28ms/step - loss: 0.4905 - accuracy: 0.8376 - val_loss: 0.6540 - val_accuracy: 0.7561\n",
            "Epoch 200/300\n",
            "67/67 [==============================] - 2s 23ms/step - loss: 0.4862 - accuracy: 0.8413 - val_loss: 0.6585 - val_accuracy: 0.7523\n",
            "Epoch 201/300\n",
            "67/67 [==============================] - 2s 23ms/step - loss: 0.4893 - accuracy: 0.8371 - val_loss: 0.6603 - val_accuracy: 0.7523\n",
            "Epoch 202/300\n",
            "67/67 [==============================] - 1s 21ms/step - loss: 0.4903 - accuracy: 0.8352 - val_loss: 0.6646 - val_accuracy: 0.7486\n",
            "Epoch 203/300\n",
            "67/67 [==============================] - 2s 25ms/step - loss: 0.4894 - accuracy: 0.8362 - val_loss: 0.6623 - val_accuracy: 0.7523\n",
            "Epoch 204/300\n",
            "67/67 [==============================] - 2s 25ms/step - loss: 0.4862 - accuracy: 0.8380 - val_loss: 0.6631 - val_accuracy: 0.7505\n",
            "Epoch 205/300\n",
            "67/67 [==============================] - 2s 26ms/step - loss: 0.4859 - accuracy: 0.8399 - val_loss: 0.6629 - val_accuracy: 0.7542\n",
            "Epoch 206/300\n",
            "67/67 [==============================] - 2s 22ms/step - loss: 0.4850 - accuracy: 0.8408 - val_loss: 0.6646 - val_accuracy: 0.7505\n",
            "Epoch 207/300\n",
            "67/67 [==============================] - 2s 25ms/step - loss: 0.4869 - accuracy: 0.8404 - val_loss: 0.6615 - val_accuracy: 0.7505\n",
            "Epoch 208/300\n",
            "67/67 [==============================] - 1s 15ms/step - loss: 0.4852 - accuracy: 0.8408 - val_loss: 0.6630 - val_accuracy: 0.7523\n",
            "Epoch 209/300\n",
            "67/67 [==============================] - 1s 15ms/step - loss: 0.4856 - accuracy: 0.8408 - val_loss: 0.6613 - val_accuracy: 0.7561\n",
            "Epoch 210/300\n",
            "67/67 [==============================] - 1s 15ms/step - loss: 0.4848 - accuracy: 0.8408 - val_loss: 0.6629 - val_accuracy: 0.7542\n",
            "Epoch 211/300\n",
            "67/67 [==============================] - 1s 15ms/step - loss: 0.4883 - accuracy: 0.8394 - val_loss: 0.6640 - val_accuracy: 0.7523\n",
            "Epoch 212/300\n",
            "67/67 [==============================] - 1s 15ms/step - loss: 0.4864 - accuracy: 0.8394 - val_loss: 0.6612 - val_accuracy: 0.7505\n",
            "Epoch 213/300\n",
            "67/67 [==============================] - 1s 15ms/step - loss: 0.4854 - accuracy: 0.8408 - val_loss: 0.6630 - val_accuracy: 0.7542\n",
            "Epoch 214/300\n",
            "67/67 [==============================] - 1s 15ms/step - loss: 0.4845 - accuracy: 0.8408 - val_loss: 0.6599 - val_accuracy: 0.7561\n",
            "Epoch 215/300\n",
            "67/67 [==============================] - 1s 15ms/step - loss: 0.4860 - accuracy: 0.8399 - val_loss: 0.6665 - val_accuracy: 0.7505\n",
            "Epoch 216/300\n",
            "67/67 [==============================] - 1s 15ms/step - loss: 0.4838 - accuracy: 0.8413 - val_loss: 0.6620 - val_accuracy: 0.7561\n",
            "Epoch 217/300\n",
            "67/67 [==============================] - 1s 16ms/step - loss: 0.4837 - accuracy: 0.8408 - val_loss: 0.6617 - val_accuracy: 0.7542\n",
            "Epoch 218/300\n",
            "67/67 [==============================] - 1s 15ms/step - loss: 0.4836 - accuracy: 0.8418 - val_loss: 0.6617 - val_accuracy: 0.7542\n",
            "Epoch 219/300\n",
            "67/67 [==============================] - 1s 15ms/step - loss: 0.4958 - accuracy: 0.8310 - val_loss: 0.6579 - val_accuracy: 0.7542\n",
            "Epoch 220/300\n",
            "67/67 [==============================] - 1s 15ms/step - loss: 0.4881 - accuracy: 0.8376 - val_loss: 0.6584 - val_accuracy: 0.7561\n",
            "Epoch 221/300\n",
            "67/67 [==============================] - 1s 15ms/step - loss: 0.4852 - accuracy: 0.8408 - val_loss: 0.6637 - val_accuracy: 0.7542\n",
            "Epoch 222/300\n",
            "67/67 [==============================] - 1s 15ms/step - loss: 0.4844 - accuracy: 0.8404 - val_loss: 0.6627 - val_accuracy: 0.7542\n",
            "Epoch 223/300\n",
            "67/67 [==============================] - 1s 15ms/step - loss: 0.4842 - accuracy: 0.8408 - val_loss: 0.6646 - val_accuracy: 0.7505\n",
            "Epoch 224/300\n",
            "67/67 [==============================] - 1s 16ms/step - loss: 0.4892 - accuracy: 0.8390 - val_loss: 0.6656 - val_accuracy: 0.7505\n",
            "Epoch 225/300\n",
            "67/67 [==============================] - 1s 16ms/step - loss: 0.4885 - accuracy: 0.8385 - val_loss: 0.6643 - val_accuracy: 0.7486\n",
            "Epoch 226/300\n",
            "67/67 [==============================] - 1s 15ms/step - loss: 0.4875 - accuracy: 0.8385 - val_loss: 0.6648 - val_accuracy: 0.7542\n",
            "Epoch 227/300\n",
            "67/67 [==============================] - 1s 15ms/step - loss: 0.4864 - accuracy: 0.8390 - val_loss: 0.6651 - val_accuracy: 0.7523\n",
            "Epoch 228/300\n",
            "67/67 [==============================] - 1s 15ms/step - loss: 0.4877 - accuracy: 0.8366 - val_loss: 0.6605 - val_accuracy: 0.7523\n",
            "Epoch 229/300\n",
            "67/67 [==============================] - 1s 16ms/step - loss: 0.4833 - accuracy: 0.8408 - val_loss: 0.6633 - val_accuracy: 0.7523\n",
            "Epoch 230/300\n",
            "67/67 [==============================] - 1s 15ms/step - loss: 0.4836 - accuracy: 0.8408 - val_loss: 0.6598 - val_accuracy: 0.7523\n",
            "Epoch 231/300\n",
            "67/67 [==============================] - 1s 15ms/step - loss: 0.4918 - accuracy: 0.8352 - val_loss: 0.6682 - val_accuracy: 0.7523\n",
            "Epoch 232/300\n",
            "67/67 [==============================] - 1s 15ms/step - loss: 0.4841 - accuracy: 0.8418 - val_loss: 0.6642 - val_accuracy: 0.7542\n",
            "Epoch 233/300\n",
            "67/67 [==============================] - 1s 15ms/step - loss: 0.4823 - accuracy: 0.8432 - val_loss: 0.6638 - val_accuracy: 0.7542\n",
            "Epoch 234/300\n",
            "67/67 [==============================] - 1s 15ms/step - loss: 0.4846 - accuracy: 0.8408 - val_loss: 0.6630 - val_accuracy: 0.7523\n",
            "Epoch 235/300\n",
            "67/67 [==============================] - 1s 15ms/step - loss: 0.4839 - accuracy: 0.8394 - val_loss: 0.6625 - val_accuracy: 0.7561\n",
            "Epoch 236/300\n",
            "67/67 [==============================] - 1s 15ms/step - loss: 0.4825 - accuracy: 0.8418 - val_loss: 0.6668 - val_accuracy: 0.7505\n",
            "Epoch 237/300\n",
            "67/67 [==============================] - 1s 15ms/step - loss: 0.4878 - accuracy: 0.8376 - val_loss: 0.6613 - val_accuracy: 0.7542\n",
            "Epoch 238/300\n",
            "67/67 [==============================] - 1s 16ms/step - loss: 0.4889 - accuracy: 0.8376 - val_loss: 0.6605 - val_accuracy: 0.7505\n",
            "Epoch 239/300\n",
            "67/67 [==============================] - 1s 15ms/step - loss: 0.4825 - accuracy: 0.8413 - val_loss: 0.6613 - val_accuracy: 0.7580\n",
            "Epoch 240/300\n",
            "67/67 [==============================] - 1s 15ms/step - loss: 0.4822 - accuracy: 0.8427 - val_loss: 0.6633 - val_accuracy: 0.7580\n",
            "Epoch 241/300\n",
            "67/67 [==============================] - 1s 16ms/step - loss: 0.4822 - accuracy: 0.8399 - val_loss: 0.6632 - val_accuracy: 0.7561\n",
            "Epoch 242/300\n",
            "67/67 [==============================] - 1s 15ms/step - loss: 0.4819 - accuracy: 0.8427 - val_loss: 0.6629 - val_accuracy: 0.7561\n",
            "Epoch 243/300\n",
            "67/67 [==============================] - 1s 15ms/step - loss: 0.4804 - accuracy: 0.8432 - val_loss: 0.6672 - val_accuracy: 0.7523\n",
            "Epoch 244/300\n",
            "67/67 [==============================] - 1s 15ms/step - loss: 0.4823 - accuracy: 0.8413 - val_loss: 0.6626 - val_accuracy: 0.7561\n",
            "Epoch 245/300\n",
            "67/67 [==============================] - 1s 15ms/step - loss: 0.4813 - accuracy: 0.8427 - val_loss: 0.6634 - val_accuracy: 0.7542\n",
            "Epoch 246/300\n",
            "67/67 [==============================] - 1s 15ms/step - loss: 0.4815 - accuracy: 0.8427 - val_loss: 0.6637 - val_accuracy: 0.7542\n",
            "Epoch 247/300\n",
            "67/67 [==============================] - 1s 15ms/step - loss: 0.4833 - accuracy: 0.8404 - val_loss: 0.6609 - val_accuracy: 0.7523\n",
            "Epoch 248/300\n",
            "67/67 [==============================] - 1s 15ms/step - loss: 0.4827 - accuracy: 0.8394 - val_loss: 0.6635 - val_accuracy: 0.7561\n",
            "Epoch 249/300\n",
            "67/67 [==============================] - 1s 15ms/step - loss: 0.4802 - accuracy: 0.8423 - val_loss: 0.6640 - val_accuracy: 0.7561\n",
            "Epoch 250/300\n",
            "67/67 [==============================] - 1s 15ms/step - loss: 0.4836 - accuracy: 0.8394 - val_loss: 0.6623 - val_accuracy: 0.7523\n",
            "Epoch 251/300\n",
            "67/67 [==============================] - 1s 15ms/step - loss: 0.4889 - accuracy: 0.8357 - val_loss: 0.6643 - val_accuracy: 0.7561\n",
            "Epoch 252/300\n",
            "67/67 [==============================] - 1s 15ms/step - loss: 0.4818 - accuracy: 0.8408 - val_loss: 0.6656 - val_accuracy: 0.7542\n",
            "Epoch 253/300\n",
            "67/67 [==============================] - 1s 15ms/step - loss: 0.4804 - accuracy: 0.8423 - val_loss: 0.6661 - val_accuracy: 0.7542\n",
            "Epoch 254/300\n",
            "67/67 [==============================] - 1s 15ms/step - loss: 0.4816 - accuracy: 0.8418 - val_loss: 0.6675 - val_accuracy: 0.7505\n",
            "Epoch 255/300\n",
            "67/67 [==============================] - 1s 15ms/step - loss: 0.4795 - accuracy: 0.8432 - val_loss: 0.6672 - val_accuracy: 0.7542\n",
            "Epoch 256/300\n",
            "67/67 [==============================] - 1s 15ms/step - loss: 0.4828 - accuracy: 0.8404 - val_loss: 0.6659 - val_accuracy: 0.7542\n",
            "Epoch 257/300\n",
            "67/67 [==============================] - 1s 15ms/step - loss: 0.5074 - accuracy: 0.8221 - val_loss: 0.6655 - val_accuracy: 0.7467\n",
            "Epoch 258/300\n",
            "67/67 [==============================] - 1s 15ms/step - loss: 0.4824 - accuracy: 0.8404 - val_loss: 0.6637 - val_accuracy: 0.7561\n",
            "Epoch 259/300\n",
            "67/67 [==============================] - 1s 15ms/step - loss: 0.4812 - accuracy: 0.8399 - val_loss: 0.6638 - val_accuracy: 0.7561\n",
            "Epoch 260/300\n",
            "67/67 [==============================] - 1s 15ms/step - loss: 0.4768 - accuracy: 0.8460 - val_loss: 0.6678 - val_accuracy: 0.7505\n",
            "Epoch 261/300\n",
            "67/67 [==============================] - 1s 15ms/step - loss: 0.4772 - accuracy: 0.8455 - val_loss: 0.6678 - val_accuracy: 0.7486\n",
            "Epoch 262/300\n",
            "67/67 [==============================] - 1s 15ms/step - loss: 0.4771 - accuracy: 0.8437 - val_loss: 0.6653 - val_accuracy: 0.7542\n",
            "Epoch 263/300\n",
            "67/67 [==============================] - 1s 15ms/step - loss: 0.4855 - accuracy: 0.8390 - val_loss: 0.6624 - val_accuracy: 0.7505\n",
            "Epoch 264/300\n",
            "67/67 [==============================] - 1s 15ms/step - loss: 0.4817 - accuracy: 0.8413 - val_loss: 0.6600 - val_accuracy: 0.7561\n",
            "Epoch 265/300\n",
            "67/67 [==============================] - 1s 16ms/step - loss: 0.4767 - accuracy: 0.8460 - val_loss: 0.6670 - val_accuracy: 0.7542\n",
            "Epoch 266/300\n",
            "67/67 [==============================] - 1s 16ms/step - loss: 0.4810 - accuracy: 0.8423 - val_loss: 0.6661 - val_accuracy: 0.7505\n",
            "Epoch 267/300\n",
            "67/67 [==============================] - 1s 16ms/step - loss: 0.4748 - accuracy: 0.8465 - val_loss: 0.6695 - val_accuracy: 0.7523\n",
            "Epoch 268/300\n",
            "67/67 [==============================] - 1s 17ms/step - loss: 0.4755 - accuracy: 0.8451 - val_loss: 0.6625 - val_accuracy: 0.7561\n",
            "Epoch 269/300\n",
            "67/67 [==============================] - 2s 25ms/step - loss: 0.4796 - accuracy: 0.8427 - val_loss: 0.6639 - val_accuracy: 0.7561\n",
            "Epoch 270/300\n",
            "67/67 [==============================] - 1s 16ms/step - loss: 0.4799 - accuracy: 0.8399 - val_loss: 0.6657 - val_accuracy: 0.7486\n",
            "Epoch 271/300\n",
            "67/67 [==============================] - 1s 16ms/step - loss: 0.4757 - accuracy: 0.8474 - val_loss: 0.6679 - val_accuracy: 0.7505\n",
            "Epoch 272/300\n",
            "67/67 [==============================] - 1s 16ms/step - loss: 0.4747 - accuracy: 0.8451 - val_loss: 0.6664 - val_accuracy: 0.7542\n",
            "Epoch 273/300\n",
            "67/67 [==============================] - 1s 15ms/step - loss: 0.4753 - accuracy: 0.8460 - val_loss: 0.6655 - val_accuracy: 0.7542\n",
            "Epoch 274/300\n",
            "67/67 [==============================] - 1s 16ms/step - loss: 0.4730 - accuracy: 0.8474 - val_loss: 0.6656 - val_accuracy: 0.7542\n",
            "Epoch 275/300\n",
            "67/67 [==============================] - 1s 15ms/step - loss: 0.5017 - accuracy: 0.8296 - val_loss: 0.6631 - val_accuracy: 0.7486\n",
            "Epoch 276/300\n",
            "67/67 [==============================] - 1s 16ms/step - loss: 0.4863 - accuracy: 0.8399 - val_loss: 0.6649 - val_accuracy: 0.7486\n",
            "Epoch 277/300\n",
            "67/67 [==============================] - 1s 15ms/step - loss: 0.4758 - accuracy: 0.8455 - val_loss: 0.6633 - val_accuracy: 0.7542\n",
            "Epoch 278/300\n",
            "67/67 [==============================] - 1s 16ms/step - loss: 0.4938 - accuracy: 0.8333 - val_loss: 0.6626 - val_accuracy: 0.7561\n",
            "Epoch 279/300\n",
            "67/67 [==============================] - 1s 16ms/step - loss: 0.4784 - accuracy: 0.8432 - val_loss: 0.6594 - val_accuracy: 0.7561\n",
            "Epoch 280/300\n",
            "67/67 [==============================] - 1s 15ms/step - loss: 0.4769 - accuracy: 0.8446 - val_loss: 0.6614 - val_accuracy: 0.7561\n",
            "Epoch 281/300\n",
            "67/67 [==============================] - 1s 16ms/step - loss: 0.4763 - accuracy: 0.8446 - val_loss: 0.6651 - val_accuracy: 0.7505\n",
            "Epoch 282/300\n",
            "67/67 [==============================] - 1s 15ms/step - loss: 0.4735 - accuracy: 0.8488 - val_loss: 0.6634 - val_accuracy: 0.7561\n",
            "Epoch 283/300\n",
            "67/67 [==============================] - 1s 15ms/step - loss: 0.4759 - accuracy: 0.8460 - val_loss: 0.6646 - val_accuracy: 0.7542\n",
            "Epoch 284/300\n",
            "67/67 [==============================] - 1s 16ms/step - loss: 0.4762 - accuracy: 0.8441 - val_loss: 0.6664 - val_accuracy: 0.7542\n",
            "Epoch 285/300\n",
            "67/67 [==============================] - 1s 16ms/step - loss: 0.4733 - accuracy: 0.8465 - val_loss: 0.6648 - val_accuracy: 0.7523\n",
            "Epoch 286/300\n",
            "67/67 [==============================] - 1s 16ms/step - loss: 0.4740 - accuracy: 0.8437 - val_loss: 0.6664 - val_accuracy: 0.7523\n",
            "Epoch 287/300\n",
            "67/67 [==============================] - 1s 16ms/step - loss: 0.4723 - accuracy: 0.8479 - val_loss: 0.6665 - val_accuracy: 0.7561\n",
            "Epoch 288/300\n",
            "67/67 [==============================] - 1s 15ms/step - loss: 0.4732 - accuracy: 0.8474 - val_loss: 0.6676 - val_accuracy: 0.7505\n",
            "Epoch 289/300\n",
            "67/67 [==============================] - 1s 16ms/step - loss: 0.4747 - accuracy: 0.8451 - val_loss: 0.6668 - val_accuracy: 0.7523\n",
            "Epoch 290/300\n",
            "67/67 [==============================] - 1s 15ms/step - loss: 0.4729 - accuracy: 0.8469 - val_loss: 0.6674 - val_accuracy: 0.7542\n",
            "Epoch 291/300\n",
            "67/67 [==============================] - 1s 15ms/step - loss: 0.4719 - accuracy: 0.8493 - val_loss: 0.6661 - val_accuracy: 0.7542\n",
            "Epoch 292/300\n",
            "67/67 [==============================] - 1s 15ms/step - loss: 0.4714 - accuracy: 0.8484 - val_loss: 0.6664 - val_accuracy: 0.7561\n",
            "Epoch 293/300\n",
            "67/67 [==============================] - 1s 16ms/step - loss: 0.4749 - accuracy: 0.8446 - val_loss: 0.6654 - val_accuracy: 0.7542\n",
            "Epoch 294/300\n",
            "67/67 [==============================] - 1s 15ms/step - loss: 0.4747 - accuracy: 0.8451 - val_loss: 0.6655 - val_accuracy: 0.7561\n",
            "Epoch 295/300\n",
            "67/67 [==============================] - 1s 15ms/step - loss: 0.4792 - accuracy: 0.8423 - val_loss: 0.6645 - val_accuracy: 0.7486\n",
            "Epoch 296/300\n",
            "67/67 [==============================] - 1s 16ms/step - loss: 0.4976 - accuracy: 0.8268 - val_loss: 0.6605 - val_accuracy: 0.7542\n",
            "Epoch 297/300\n",
            "67/67 [==============================] - 1s 16ms/step - loss: 0.4773 - accuracy: 0.8427 - val_loss: 0.6661 - val_accuracy: 0.7523\n",
            "Epoch 298/300\n",
            "67/67 [==============================] - 1s 16ms/step - loss: 0.4750 - accuracy: 0.8441 - val_loss: 0.6655 - val_accuracy: 0.7505\n",
            "Epoch 299/300\n",
            "67/67 [==============================] - 1s 16ms/step - loss: 0.4774 - accuracy: 0.8423 - val_loss: 0.6638 - val_accuracy: 0.7542\n",
            "Epoch 300/300\n",
            "67/67 [==============================] - 1s 15ms/step - loss: 0.4717 - accuracy: 0.8469 - val_loss: 0.6649 - val_accuracy: 0.7542\n"
          ]
        }
      ],
      "source": [
        "history=model.fit(x_train, y_train, epochs=300, validation_data=(x_test, y_test))"
      ]
    },
    {
      "cell_type": "code",
      "execution_count": null,
      "metadata": {
        "colab": {
          "background_save": true
        },
        "id": "Fm7VYvPax2Y-",
        "outputId": "00842fe6-b146-472a-cf69-0bf85ba5c52f"
      },
      "outputs": [
        {
          "name": "stdout",
          "output_type": "stream",
          "text": [
            "dict_keys(['loss', 'accuracy', 'val_loss', 'val_accuracy'])\n"
          ]
        }
      ],
      "source": [
        "# list all data in history\n",
        "print(history.history.keys())\n"
      ]
    },
    {
      "cell_type": "code",
      "execution_count": null,
      "metadata": {
        "colab": {
          "background_save": true
        },
        "id": "kthB4W03x8r7",
        "outputId": "c193bb77-7003-4bc7-d95d-c165c5b47a15"
      },
      "outputs": [
        {
          "data": {
            "image/png": "[encoded data removed]",
            "text/plain": [
              "<Figure size 432x288 with 1 Axes>"
            ]
          },
          "metadata": {},
          "output_type": "display_data"
        },
        {
          "data": {
            "text/plain": [
              "<Figure size 72000x72000 with 0 Axes>"
            ]
          },
          "metadata": {},
          "output_type": "display_data"
        }
      ],
      "source": [
        "# summarize history for accuracy\n",
        "import matplotlib.pyplot as plt\n",
        "\n",
        "plt.plot(history.history['accuracy'])\n",
        "plt.plot(history.history['val_accuracy'])\n",
        "plt.title('model accuracy')\n",
        "plt.ylabel('accuracy')\n",
        "plt.xlabel('epoch')\n",
        "plt.legend(['train', 'test'], loc='upper left')\n",
        "# changing the size of figure \n",
        "plt.figure(figsize=(1000, 1000))\n",
        "plt.show()"
      ]
    },
    {
      "cell_type": "code",
      "execution_count": null,
      "metadata": {
        "colab": {
          "background_save": true
        },
        "id": "6YDShOapyCZt",
        "outputId": "ef94d0d0-e0b1-4d84-db68-4ca6da1d1e57"
      },
      "outputs": [
        {
          "data": {
            "image/png": "[encoded data removed]",
            "text/plain": [
              "<Figure size 432x288 with 1 Axes>"
            ]
          },
          "metadata": {},
          "output_type": "display_data"
        }
      ],
      "source": [
        "# summarize history for loss\n",
        "plt.plot(history.history['loss'])\n",
        "plt.plot(history.history['val_loss'])\n",
        "plt.title('model loss')\n",
        "plt.ylabel('loss')\n",
        "plt.xlabel('epoch')\n",
        "plt.legend(['train', 'test'], loc='upper left')\n",
        "plt.show()"
      ]
    },
    {
      "cell_type": "code",
      "execution_count": null,
      "metadata": {
        "colab": {
          "background_save": true
        },
        "id": "AdB4fcotZcgK",
        "outputId": "d6f0dfe7-85e3-4ed7-f349-81b14f7e822b"
      },
      "outputs": [
        {
          "name": "stdout",
          "output_type": "stream",
          "text": [
            "Training Accuracy: 0.8432\n",
            "Testing Accuracy:  0.7580\n"
          ]
        }
      ],
      "source": [
        "loss, accuracy = model.evaluate(x_train, y_train, verbose=False)\n",
        "print(\"Training Accuracy: {:.4f}\".format(accuracy))\n",
        "loss, accuracy = model.evaluate(x_test, y_test, verbose=False)\n",
        "print(\"Testing Accuracy:  {:.4f}\".format(accuracy)) "
      ]
    },
    {
      "cell_type": "code",
      "execution_count": null,
      "metadata": {
        "id": "6q8W8u7R5pQb"
      },
      "outputs": [],
      "source": [
        "# predict probabilities for test set\n",
        "y_probs = model.predict(x_test, verbose=0)"
      ]
    },
    {
      "cell_type": "code",
      "execution_count": null,
      "metadata": {
        "colab": {
          "base_uri": "https://localhost:8080/"
        },
        "id": "Ui1SvrNwJxtP",
        "outputId": "ae66d72a-455d-41e3-d1a3-8e3e25b5a4c8"
      },
      "outputs": [
        {
          "output_type": "execute_result",
          "data": {
            "text/plain": [
              "array([[0.06138679, 0.14649254, 0.79212064],\n",
              "       [0.05240812, 0.8417958 , 0.10579605],\n",
              "       [0.0379427 , 0.9023564 , 0.05970097],\n",
              "       ...,\n",
              "       [0.00884618, 0.94042546, 0.05072838],\n",
              "       [0.00440571, 0.9390112 , 0.05658311],\n",
              "       [0.12766306, 0.18789293, 0.684444  ]], dtype=float32)"
            ]
          },
          "metadata": {},
          "execution_count": 96
        }
      ],
      "source": [
        "y_probs"
      ]
    },
    {
      "cell_type": "code",
      "execution_count": null,
      "metadata": {
        "colab": {
          "base_uri": "https://localhost:8080/"
        },
        "id": "mMywXILAJ0m6",
        "outputId": "fd4a6ea6-717f-431d-c491-4a7361af6a3d"
      },
      "outputs": [
        {
          "output_type": "stream",
          "name": "stdout",
          "text": [
            "y_test\n",
            " 454     2.0\n",
            "663     2.0\n",
            "1426    1.0\n",
            "1205    2.0\n",
            "1341    1.0\n",
            "       ... \n",
            "2208    1.0\n",
            "1773    1.0\n",
            "1660    1.0\n",
            "2562    1.0\n",
            "1289    1.0\n",
            "Name: Final, Length: 533, dtype: float64\n",
            "y_classes\n",
            " [2 1 1 2 2 1 2 1 1 1 1 2 2 1 1 1 2 2 1 1 1 1 1 2 1 1 1 1 1 1 2 2 2 2 2 2 2\n",
            " 2 2 1 1 1 1 2 2 2 2 1 2 2 2 1 1 1 1 2 2 2 1 2 1 2 2 2 1 2 1 1 1 2 2 2 1 2\n",
            " 1 1 2 1 2 1 1 2 1 1 1 1 1 2 1 1 2 1 2 2 2 1 1 1 2 1 1 2 2 2 2 1 1 2 2 1 1\n",
            " 1 1 1 1 1 2 1 2 2 1 1 1 2 2 2 2 1 2 2 2 1 2 1 1 2 1 1 2 1 1 1 1 1 1 1 1 1\n",
            " 1 1 2 1 1 1 1 1 2 2 1 1 1 2 2 2 2 2 2 1 1 1 2 1 1 1 1 2 1 1 1 1 2 1 1 2 1\n",
            " 2 2 2 1 1 1 1 1 1 1 1 1 2 1 2 2 2 2 2 1 1 1 1 2 1 2 1 1 2 1 2 2 2 1 2 1 1\n",
            " 1 2 1 2 1 1 1 1 1 1 2 2 2 2 1 1 1 1 1 2 1 2 2 2 2 1 2 2 2 1 2 2 1 2 2 1 2\n",
            " 2 1 1 1 2 1 2 2 2 1 1 2 1 1 2 1 1 1 1 2 1 2 1 2 1 1 2 1 1 1 1 2 1 1 2 2 1\n",
            " 1 2 2 1 1 1 2 1 1 2 2 2 2 1 1 1 1 1 1 1 2 1 2 2 1 2 2 1 1 1 1 1 1 2 2 1 2\n",
            " 1 2 2 1 1 1 1 2 1 2 1 2 1 1 2 1 1 2 2 1 1 1 1 1 2 2 1 1 2 1 1 1 2 2 2 2 1\n",
            " 1 2 2 1 1 1 2 1 1 1 1 2 2 2 1 1 2 1 1 2 2 2 1 1 2 1 1 1 2 1 2 1 2 1 2 1 2\n",
            " 1 1 1 2 2 2 1 1 2 2 1 1 2 1 2 1 2 1 2 1 1 1 1 2 1 2 2 1 2 1 1 1 1 2 1 1 2\n",
            " 1 2 2 2 2 1 1 1 2 1 1 1 2 2 2 2 2 1 1 1 1 2 2 1 2 1 2 2 2 2 1 1 2 2 1 1 1\n",
            " 2 1 1 1 1 1 1 1 1 1 1 2 1 2 2 2 1 1 2 1 2 2 1 1 1 1 2 1 1 1 2 1 1 2 1 2 2\n",
            " 1 1 2 1 1 1 2 2 2 1 1 1 1 1 2]\n"
          ]
        }
      ],
      "source": [
        "y_classes=np.argmax( y_probs,axis=1)\n",
        "y_t=y_test\n",
        "print(\"y_test\\n\",y_t)\n",
        "print(\"y_classes\\n\",y_classes)"
      ]
    },
    {
      "cell_type": "code",
      "execution_count": null,
      "metadata": {
        "colab": {
          "base_uri": "https://localhost:8080/"
        },
        "id": "Z8BbpyfsJ85P",
        "outputId": "49dea600-144d-4e6d-8a2f-bed055ead6d1"
      },
      "outputs": [
        {
          "output_type": "stream",
          "name": "stdout",
          "text": [
            "[[  0   6  11]\n",
            " [  0 248  60]\n",
            " [  0  54 154]]\n"
          ]
        }
      ],
      "source": [
        "from sklearn.metrics import roc_auc_score\n",
        "from sklearn.metrics import confusion_matrix\n",
        "# confusion matrix\n",
        "matrix = confusion_matrix(y_test, y_classes)\n",
        "print(matrix)"
      ]
    },
    {
      "cell_type": "code",
      "execution_count": null,
      "metadata": {
        "colab": {
          "background_save": true
        },
        "id": "7NCOOp-dJ976"
      },
      "outputs": [],
      "source": [
        "from sklearn.metrics import roc_curve, auc\n",
        "from sklearn.model_selection import train_test_split\n",
        "from sklearn.preprocessing import label_binarize\n",
        "from sklearn.multiclass import OneVsRestClassifier\n",
        "from sklearn.metrics import roc_auc_score\n",
        "\n",
        "y_tests = label_binarize(y_test, classes=[0, 1, 2])\n",
        "n_classes = 3\n",
        "y_tests\n",
        "y_preds = label_binarize(y_classes, classes=[0, 1, 2])\n",
        "\n",
        "fpr = dict()\n",
        "tpr = dict()\n",
        "roc_auc = dict()\n",
        "for i in range(n_classes):\n",
        "    fpr[i], tpr[i], _ = roc_curve(y_tests[:, i], y_preds[:, i])\n",
        "    roc_auc[i] = auc(fpr[i], tpr[i])\n",
        "\n",
        "# Compute micro-average ROC curve and ROC area\n",
        "fpr[\"micro\"], tpr[\"micro\"], _ = roc_curve(y_tests.ravel(), y_preds.ravel())\n",
        "roc_auc[\"micro\"] = auc(fpr[\"micro\"], tpr[\"micro\"])"
      ]
    },
    {
      "cell_type": "code",
      "execution_count": null,
      "metadata": {
        "colab": {
          "background_save": true
        },
        "id": "aZ_3ksVRKA9V",
        "outputId": "c4f6c6f7-e5ae-4eb3-a04a-f4e23e443475"
      },
      "outputs": [
        {
          "data": {
            "image/png": "[encoded data removed]",
            "text/plain": [
              "<Figure size 432x288 with 1 Axes>"
            ]
          },
          "metadata": {},
          "output_type": "display_data"
        }
      ],
      "source": [
        "plt.figure()\n",
        "lw = 2\n",
        "plt.plot(\n",
        "    fpr[2],\n",
        "    tpr[2],\n",
        "    color=\"darkorange\",\n",
        "    lw=lw,\n",
        "    label=\"ROC curve (area = %0.2f)\" % roc_auc[2],\n",
        ")\n",
        "plt.plot([0, 1], [0, 1], color=\"navy\", lw=lw, linestyle=\"--\")\n",
        "plt.xlim([0.0, 1.0])\n",
        "plt.ylim([0.0, 1.05])\n",
        "plt.xlabel(\"False Positive Rate\")\n",
        "plt.ylabel(\"True Positive Rate\")\n",
        "plt.title(\"Receiver operating characteristic example\")\n",
        "plt.legend(loc=\"lower right\")\n",
        "plt.show()\n"
      ]
    },
    {
      "cell_type": "code",
      "execution_count": null,
      "metadata": {
        "colab": {
          "background_save": true
        },
        "id": "TcrA66ehKDmq",
        "outputId": "e2037ef6-0f7b-4278-99c2-8e30b614350f"
      },
      "outputs": [
        {
          "data": {
            "image/png": "[encoded data removed]",
            "text/plain": [
              "<Figure size 432x288 with 1 Axes>"
            ]
          },
          "metadata": {},
          "output_type": "display_data"
        },
        {
          "data": {
            "image/png": "[encoded data removed]",
            "text/plain": [
              "<Figure size 432x288 with 1 Axes>"
            ]
          },
          "metadata": {},
          "output_type": "display_data"
        }
      ],
      "source": [
        "from itertools import cycle\n",
        "\n",
        "# First aggregate all false positive rates\n",
        "all_fpr = np.unique(np.concatenate([fpr[i] for i in range(3)]))\n",
        "\n",
        "# Then interpolate all ROC curves at this points\n",
        "mean_tpr = np.zeros_like(all_fpr)\n",
        "for i in range(3):\n",
        "    mean_tpr += np.interp(all_fpr, fpr[i], tpr[i])\n",
        "\n",
        "# Finally average it and compute AUC\n",
        "mean_tpr /= 3\n",
        "\n",
        "\n",
        "fpr[\"macro\"] = all_fpr\n",
        "tpr[\"macro\"] = mean_tpr\n",
        "roc_auc[\"macro\"] = auc(fpr[\"macro\"], tpr[\"macro\"])\n",
        "\n",
        "# Plot all ROC curves\n",
        "plt.figure()\n",
        "plt.plot(\n",
        "    fpr[\"micro\"],\n",
        "    tpr[\"micro\"],\n",
        "    label=\"micro-average ROC curve (area = {0:0.2f})\".format(roc_auc[\"micro\"]),\n",
        "    color=\"deeppink\",\n",
        "    linestyle=\":\",\n",
        "    linewidth=4,\n",
        ")\n",
        "\n",
        "\n",
        "fpr[\"macro\"] = all_fpr\n",
        "tpr[\"macro\"] = mean_tpr\n",
        "roc_auc[\"macro\"] = auc(fpr[\"macro\"], tpr[\"macro\"])\n",
        "\n",
        "# Plot all ROC curves\n",
        "plt.figure()\n",
        "plt.plot(\n",
        "    fpr[\"micro\"],\n",
        "    tpr[\"micro\"],\n",
        "    label=\"micro-average ROC curve (area = {0:0.2f})\".format(roc_auc[\"micro\"]),\n",
        "    color=\"deeppink\",\n",
        "    linestyle=\":\",\n",
        "    linewidth=4,\n",
        ")\n",
        "\n",
        "colors = cycle([\"aqua\", \"darkorange\", \"cornflowerblue\"])\n",
        "\n",
        "for i, color in zip(range(3), colors):\n",
        "    plt.plot(\n",
        "        fpr[i],\n",
        "        tpr[i],\n",
        "        color=color,\n",
        "        lw=lw,\n",
        "        label=\"ROC curve of class {0} (area = {1:0.2f})\".format(i, roc_auc[i]),\n",
        "    )\n",
        "\n",
        "plt.plot([0, 1], [0, 1], \"k--\", lw=lw)\n",
        "plt.xlim([0.0, 1.0])\n",
        "plt.ylim([0.0, 1.05])\n",
        "plt.xlabel(\"False Positive Rate\")\n",
        "plt.ylabel(\"True Positive Rate\")\n",
        "plt.title(\"Some extension of Receiver operating characteristic to multiclass\")\n",
        "plt.legend(loc=\"lower right\")\n",
        "plt.show()"
      ]
    },
    {
      "cell_type": "code",
      "execution_count": null,
      "metadata": {
        "colab": {
          "background_save": true
        },
        "id": "uLoEFVb8KJXf",
        "outputId": "1756ab7f-1d84-4cfc-9392-89b3c520d190"
      },
      "outputs": [
        {
          "name": "stdout",
          "output_type": "stream",
          "text": [
            "One-vs-One ROC AUC scores:\n",
            "0.725975 (macro),\n",
            "0.766052 (weighted by prevalence)\n",
            "One-vs-Rest ROC AUC scores:\n",
            "0.784374 (macro),\n",
            "0.830160 (weighted by prevalence)\n"
          ]
        }
      ],
      "source": [
        "macro_roc_auc_ovo = roc_auc_score(y_test, y_probs, multi_class=\"ovo\", average=\"macro\")\n",
        "weighted_roc_auc_ovo = roc_auc_score(y_test, y_probs, multi_class=\"ovo\", average=\"weighted\")\n",
        "macro_roc_auc_ovr = roc_auc_score(y_test, y_probs, multi_class=\"ovr\", average=\"macro\")\n",
        "weighted_roc_auc_ovr = roc_auc_score(y_test, y_probs, multi_class=\"ovr\", average=\"weighted\")\n",
        "print(\"One-vs-One ROC AUC scores:\\n{:.6f} (macro),\\n{:.6f} \"\"(weighted by prevalence)\".format(macro_roc_auc_ovo, weighted_roc_auc_ovo))\n",
        "print(\"One-vs-Rest ROC AUC scores:\\n{:.6f} (macro),\\n{:.6f} \"\"(weighted by prevalence)\".format(macro_roc_auc_ovr, weighted_roc_auc_ovr))"
      ]
    },
    {
      "cell_type": "markdown",
      "metadata": {
        "id": "IsyG4YiQiRPi"
      },
      "source": [
        "**Classification Report**"
      ]
    },
    {
      "cell_type": "code",
      "execution_count": null,
      "metadata": {
        "colab": {
          "base_uri": "https://localhost:8080/"
        },
        "id": "zjBeos-ZiQFV",
        "outputId": "010bbcc6-0158-4b53-8680-29e5770e827f"
      },
      "outputs": [
        {
          "output_type": "stream",
          "name": "stdout",
          "text": [
            "              precision    recall  f1-score   support\n",
            "\n",
            "         0.0       0.00      0.00      0.00        17\n",
            "         1.0       0.81      0.81      0.81       308\n",
            "         2.0       0.68      0.74      0.71       208\n",
            "\n",
            "    accuracy                           0.75       533\n",
            "   macro avg       0.50      0.52      0.51       533\n",
            "weighted avg       0.73      0.75      0.74       533\n",
            "\n"
          ]
        },
        {
          "output_type": "stream",
          "name": "stderr",
          "text": [
            "/usr/local/lib/python3.7/dist-packages/sklearn/metrics/_classification.py:1318: UndefinedMetricWarning: Precision and F-score are ill-defined and being set to 0.0 in labels with no predicted samples. Use `zero_division` parameter to control this behavior.\n",
            "  _warn_prf(average, modifier, msg_start, len(result))\n",
            "/usr/local/lib/python3.7/dist-packages/sklearn/metrics/_classification.py:1318: UndefinedMetricWarning: Precision and F-score are ill-defined and being set to 0.0 in labels with no predicted samples. Use `zero_division` parameter to control this behavior.\n",
            "  _warn_prf(average, modifier, msg_start, len(result))\n",
            "/usr/local/lib/python3.7/dist-packages/sklearn/metrics/_classification.py:1318: UndefinedMetricWarning: Precision and F-score are ill-defined and being set to 0.0 in labels with no predicted samples. Use `zero_division` parameter to control this behavior.\n",
            "  _warn_prf(average, modifier, msg_start, len(result))\n"
          ]
        }
      ],
      "source": [
        "from sklearn.metrics import classification_report\n",
        "print(classification_report(y_test, y_classes))"
      ]
    },
    {
      "cell_type": "code",
      "source": [
        ""
      ],
      "metadata": {
        "id": "f7okjhYDplIh"
      },
      "execution_count": null,
      "outputs": []
    },
    {
      "cell_type": "markdown",
      "source": [
        "##MALE - FEMALE CONFUSION MATRIX"
      ],
      "metadata": {
        "id": "PSKdsULVplZR"
      }
    },
    {
      "cell_type": "code",
      "source": [
        "ymale_probs=model.predict(x_male, verbose=1)\n",
        "ymale_probs\n",
        "ymale_classes=np.argmax( ymale_probs,axis=1)\n",
        "print(classification_report(y_male, ymale_classes))"
      ],
      "metadata": {
        "colab": {
          "base_uri": "https://localhost:8080/"
        },
        "id": "eIoRQBpops9E",
        "outputId": "c3b9ebd8-23a0-47ca-9759-28bf0b92ab73"
      },
      "execution_count": null,
      "outputs": [
        {
          "output_type": "stream",
          "name": "stdout",
          "text": [
            "36/36 [==============================] - 0s 5ms/step\n",
            "              precision    recall  f1-score   support\n",
            "\n",
            "         0.0       0.00      0.00      0.00        83\n",
            "         1.0       0.00      0.00      0.00         0\n",
            "         2.0       0.93      0.83      0.88      1041\n",
            "\n",
            "    accuracy                           0.77      1124\n",
            "   macro avg       0.31      0.28      0.29      1124\n",
            "weighted avg       0.86      0.77      0.81      1124\n",
            "\n"
          ]
        },
        {
          "output_type": "stream",
          "name": "stderr",
          "text": [
            "/usr/local/lib/python3.7/dist-packages/sklearn/metrics/_classification.py:1318: UndefinedMetricWarning: Precision and F-score are ill-defined and being set to 0.0 in labels with no predicted samples. Use `zero_division` parameter to control this behavior.\n",
            "  _warn_prf(average, modifier, msg_start, len(result))\n",
            "/usr/local/lib/python3.7/dist-packages/sklearn/metrics/_classification.py:1318: UndefinedMetricWarning: Recall and F-score are ill-defined and being set to 0.0 in labels with no true samples. Use `zero_division` parameter to control this behavior.\n",
            "  _warn_prf(average, modifier, msg_start, len(result))\n",
            "/usr/local/lib/python3.7/dist-packages/sklearn/metrics/_classification.py:1318: UndefinedMetricWarning: Precision and F-score are ill-defined and being set to 0.0 in labels with no predicted samples. Use `zero_division` parameter to control this behavior.\n",
            "  _warn_prf(average, modifier, msg_start, len(result))\n",
            "/usr/local/lib/python3.7/dist-packages/sklearn/metrics/_classification.py:1318: UndefinedMetricWarning: Recall and F-score are ill-defined and being set to 0.0 in labels with no true samples. Use `zero_division` parameter to control this behavior.\n",
            "  _warn_prf(average, modifier, msg_start, len(result))\n",
            "/usr/local/lib/python3.7/dist-packages/sklearn/metrics/_classification.py:1318: UndefinedMetricWarning: Precision and F-score are ill-defined and being set to 0.0 in labels with no predicted samples. Use `zero_division` parameter to control this behavior.\n",
            "  _warn_prf(average, modifier, msg_start, len(result))\n",
            "/usr/local/lib/python3.7/dist-packages/sklearn/metrics/_classification.py:1318: UndefinedMetricWarning: Recall and F-score are ill-defined and being set to 0.0 in labels with no true samples. Use `zero_division` parameter to control this behavior.\n",
            "  _warn_prf(average, modifier, msg_start, len(result))\n"
          ]
        }
      ]
    },
    {
      "cell_type": "code",
      "source": [
        "confusion_matrix(y_male, ymale_classes)"
      ],
      "metadata": {
        "colab": {
          "base_uri": "https://localhost:8080/"
        },
        "id": "2qSDm4qxrIzH",
        "outputId": "2d7312e6-60c8-4c4a-c846-5d4a868545a7"
      },
      "execution_count": null,
      "outputs": [
        {
          "output_type": "execute_result",
          "data": {
            "text/plain": [
              "array([[  0,  22,  61],\n",
              "       [  0,   0,   0],\n",
              "       [  0, 181, 860]])"
            ]
          },
          "metadata": {},
          "execution_count": 112
        }
      ]
    },
    {
      "cell_type": "code",
      "source": [
        "yfemale_probs=model.predict(x_female, verbose=1)\n",
        "yfemale_classes=np.argmax( yfemale_probs,axis=1)\n",
        "print(classification_report(y_female, yfemale_classes))"
      ],
      "metadata": {
        "colab": {
          "base_uri": "https://localhost:8080/"
        },
        "id": "IpIm9disrhqJ",
        "outputId": "7eb5bdac-8dbd-4c65-8e18-61d5597f2d26"
      },
      "execution_count": null,
      "outputs": [
        {
          "output_type": "stream",
          "name": "stdout",
          "text": [
            "81/81 [==============================] - 1s 6ms/step\n",
            "              precision    recall  f1-score   support\n",
            "\n",
            "         1.0       0.88      0.83      0.85      1539\n",
            "         2.0       0.77      0.83      0.79      1041\n",
            "\n",
            "    accuracy                           0.83      2580\n",
            "   macro avg       0.82      0.83      0.82      2580\n",
            "weighted avg       0.83      0.83      0.83      2580\n",
            "\n"
          ]
        }
      ]
    },
    {
      "cell_type": "code",
      "source": [
        "confusion_matrix(y_female, yfemale_classes)"
      ],
      "metadata": {
        "colab": {
          "base_uri": "https://localhost:8080/"
        },
        "id": "FzcnE2jFt12l",
        "outputId": "bfc96668-6274-4663-acbe-577c52f5110d"
      },
      "execution_count": null,
      "outputs": [
        {
          "output_type": "execute_result",
          "data": {
            "text/plain": [
              "array([[1275,  264],\n",
              "       [ 181,  860]])"
            ]
          },
          "metadata": {},
          "execution_count": 106
        }
      ]
    },
    {
      "cell_type": "code",
      "source": [
        ""
      ],
      "metadata": {
        "id": "HAEFjwdruRRL"
      },
      "execution_count": null,
      "outputs": []
    }
  ],
  "metadata": {
    "colab": {
      "collapsed_sections": [],
      "name": "ReportOfgloveANDGRU.ipynb",
      "provenance": []
    },
    "kernelspec": {
      "display_name": "Python 3",
      "name": "python3"
    },
    "language_info": {
      "name": "python"
    }
  },
  "nbformat": 4,
  "nbformat_minor": 0
}