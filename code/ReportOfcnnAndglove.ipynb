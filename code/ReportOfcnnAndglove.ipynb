{
  "nbformat": 4,
  "nbformat_minor": 0,
  "metadata": {
    "colab": {
      "name": "ReportOfcnnAndglove.ipynb",
      "provenance": [],
      "collapsed_sections": []
    },
    "kernelspec": {
      "name": "python3",
      "display_name": "Python 3"
    },
    "language_info": {
      "name": "python"
    }
  },
  "cells": [
    {
      "cell_type": "code",
      "source": [
        "import numpy as np\n",
        "from numpy import array\n",
        "import pandas as pd\n",
        "\n",
        "from tensorflow.keras.preprocessing.text import Tokenizer\n",
        "from tensorflow.keras.models import Sequential\n",
        "from tensorflow.keras.preprocessing.sequence import pad_sequences\n",
        "from tensorflow.keras.layers import Dense, Flatten, Embedding, Activation, Dropout, Conv1D, MaxPooling1D, GlobalMaxPooling1D\n",
        "from tensorflow.keras.layers import GRU\n",
        "from tensorflow.keras.optimizers import Adam, RMSprop\n",
        "from keras import regularizers\n"
      ],
      "metadata": {
        "id": "htsXPx4z-yoh"
      },
      "execution_count": null,
      "outputs": []
    },
    {
      "cell_type": "code",
      "source": [
        "df=pd.read_csv('/content/drive/MyDrive/AILAB/final_dataset.csv')\n",
        "df.head()"
      ],
      "metadata": {
        "colab": {
          "base_uri": "https://localhost:8080/",
          "height": 206
        },
        "id": "t5KGA7piS6L-",
        "outputId": "97ce3f4b-0d5c-4b56-98e3-6a19e7a5ee43"
      },
      "execution_count": null,
      "outputs": [
        {
          "output_type": "execute_result",
          "data": {
            "text/plain": [
              "   id                                               text  Garge Archana Atul  \\\n",
              "0   1  Sassy...? More like femme bots than killer blo...                   1   \n",
              "1   2  I've had better looking shits than these two! ...                   1   \n",
              "2   3  The girls can cook for me anytime. Just not ho...                   1   \n",
              "3   4  The face of very ugly promo girls ! Faces like...                   1   \n",
              "4   5  @mykitchenrules Elegant and beautiful?Cheap an...                   1   \n",
              "\n",
              "   Archana Kumari  Priyanshu Raj  Final  \n",
              "0             1.0              1    1.0  \n",
              "1             1.0              2    1.0  \n",
              "2             1.0              2    1.0  \n",
              "3             1.0              1    1.0  \n",
              "4             1.0              1    1.0  "
            ],
            "text/html": [
              "\n",
              "  <div id=\"df-045f94b4-d90c-470b-8049-eadbbd5d1282\">\n",
              "    <div class=\"colab-df-container\">\n",
              "      <div>\n",
              "<style scoped>\n",
              "    .dataframe tbody tr th:only-of-type {\n",
              "        vertical-align: middle;\n",
              "    }\n",
              "\n",
              "    .dataframe tbody tr th {\n",
              "        vertical-align: top;\n",
              "    }\n",
              "\n",
              "    .dataframe thead th {\n",
              "        text-align: right;\n",
              "    }\n",
              "</style>\n",
              "<table border=\"1\" class=\"dataframe\">\n",
              "  <thead>\n",
              "    <tr style=\"text-align: right;\">\n",
              "      <th></th>\n",
              "      <th>id</th>\n",
              "      <th>text</th>\n",
              "      <th>Garge Archana Atul</th>\n",
              "      <th>Archana Kumari</th>\n",
              "      <th>Priyanshu Raj</th>\n",
              "      <th>Final</th>\n",
              "    </tr>\n",
              "  </thead>\n",
              "  <tbody>\n",
              "    <tr>\n",
              "      <th>0</th>\n",
              "      <td>1</td>\n",
              "      <td>Sassy...? More like femme bots than killer blo...</td>\n",
              "      <td>1</td>\n",
              "      <td>1.0</td>\n",
              "      <td>1</td>\n",
              "      <td>1.0</td>\n",
              "    </tr>\n",
              "    <tr>\n",
              "      <th>1</th>\n",
              "      <td>2</td>\n",
              "      <td>I've had better looking shits than these two! ...</td>\n",
              "      <td>1</td>\n",
              "      <td>1.0</td>\n",
              "      <td>2</td>\n",
              "      <td>1.0</td>\n",
              "    </tr>\n",
              "    <tr>\n",
              "      <th>2</th>\n",
              "      <td>3</td>\n",
              "      <td>The girls can cook for me anytime. Just not ho...</td>\n",
              "      <td>1</td>\n",
              "      <td>1.0</td>\n",
              "      <td>2</td>\n",
              "      <td>1.0</td>\n",
              "    </tr>\n",
              "    <tr>\n",
              "      <th>3</th>\n",
              "      <td>4</td>\n",
              "      <td>The face of very ugly promo girls ! Faces like...</td>\n",
              "      <td>1</td>\n",
              "      <td>1.0</td>\n",
              "      <td>1</td>\n",
              "      <td>1.0</td>\n",
              "    </tr>\n",
              "    <tr>\n",
              "      <th>4</th>\n",
              "      <td>5</td>\n",
              "      <td>@mykitchenrules Elegant and beautiful?Cheap an...</td>\n",
              "      <td>1</td>\n",
              "      <td>1.0</td>\n",
              "      <td>1</td>\n",
              "      <td>1.0</td>\n",
              "    </tr>\n",
              "  </tbody>\n",
              "</table>\n",
              "</div>\n",
              "      <button class=\"colab-df-convert\" onclick=\"convertToInteractive('df-045f94b4-d90c-470b-8049-eadbbd5d1282')\"\n",
              "              title=\"Convert this dataframe to an interactive table.\"\n",
              "              style=\"display:none;\">\n",
              "        \n",
              "  <svg xmlns=\"http://www.w3.org/2000/svg\" height=\"24px\"viewBox=\"0 0 24 24\"\n",
              "       width=\"24px\">\n",
              "    <path d=\"M0 0h24v24H0V0z\" fill=\"none\"/>\n",
              "    <path d=\"M18.56 5.44l.94 2.06.94-2.06 2.06-.94-2.06-.94-.94-2.06-.94 2.06-2.06.94zm-11 1L8.5 8.5l.94-2.06 2.06-.94-2.06-.94L8.5 2.5l-.94 2.06-2.06.94zm10 10l.94 2.06.94-2.06 2.06-.94-2.06-.94-.94-2.06-.94 2.06-2.06.94z\"/><path d=\"M17.41 7.96l-1.37-1.37c-.4-.4-.92-.59-1.43-.59-.52 0-1.04.2-1.43.59L10.3 9.45l-7.72 7.72c-.78.78-.78 2.05 0 2.83L4 21.41c.39.39.9.59 1.41.59.51 0 1.02-.2 1.41-.59l7.78-7.78 2.81-2.81c.8-.78.8-2.07 0-2.86zM5.41 20L4 18.59l7.72-7.72 1.47 1.35L5.41 20z\"/>\n",
              "  </svg>\n",
              "      </button>\n",
              "      \n",
              "  <style>\n",
              "    .colab-df-container {\n",
              "      display:flex;\n",
              "      flex-wrap:wrap;\n",
              "      gap: 12px;\n",
              "    }\n",
              "\n",
              "    .colab-df-convert {\n",
              "      background-color: #E8F0FE;\n",
              "      border: none;\n",
              "      border-radius: 50%;\n",
              "      cursor: pointer;\n",
              "      display: none;\n",
              "      fill: #1967D2;\n",
              "      height: 32px;\n",
              "      padding: 0 0 0 0;\n",
              "      width: 32px;\n",
              "    }\n",
              "\n",
              "    .colab-df-convert:hover {\n",
              "      background-color: #E2EBFA;\n",
              "      box-shadow: 0px 1px 2px rgba(60, 64, 67, 0.3), 0px 1px 3px 1px rgba(60, 64, 67, 0.15);\n",
              "      fill: #174EA6;\n",
              "    }\n",
              "\n",
              "    [theme=dark] .colab-df-convert {\n",
              "      background-color: #3B4455;\n",
              "      fill: #D2E3FC;\n",
              "    }\n",
              "\n",
              "    [theme=dark] .colab-df-convert:hover {\n",
              "      background-color: #434B5C;\n",
              "      box-shadow: 0px 1px 3px 1px rgba(0, 0, 0, 0.15);\n",
              "      filter: drop-shadow(0px 1px 2px rgba(0, 0, 0, 0.3));\n",
              "      fill: #FFFFFF;\n",
              "    }\n",
              "  </style>\n",
              "\n",
              "      <script>\n",
              "        const buttonEl =\n",
              "          document.querySelector('#df-045f94b4-d90c-470b-8049-eadbbd5d1282 button.colab-df-convert');\n",
              "        buttonEl.style.display =\n",
              "          google.colab.kernel.accessAllowed ? 'block' : 'none';\n",
              "\n",
              "        async function convertToInteractive(key) {\n",
              "          const element = document.querySelector('#df-045f94b4-d90c-470b-8049-eadbbd5d1282');\n",
              "          const dataTable =\n",
              "            await google.colab.kernel.invokeFunction('convertToInteractive',\n",
              "                                                     [key], {});\n",
              "          if (!dataTable) return;\n",
              "\n",
              "          const docLinkHtml = 'Like what you see? Visit the ' +\n",
              "            '<a target=\"_blank\" href=https://colab.research.google.com/notebooks/data_table.ipynb>data table notebook</a>'\n",
              "            + ' to learn more about interactive tables.';\n",
              "          element.innerHTML = '';\n",
              "          dataTable['output_type'] = 'display_data';\n",
              "          await google.colab.output.renderOutput(dataTable, element);\n",
              "          const docLink = document.createElement('div');\n",
              "          docLink.innerHTML = docLinkHtml;\n",
              "          element.appendChild(docLink);\n",
              "        }\n",
              "      </script>\n",
              "    </div>\n",
              "  </div>\n",
              "  "
            ]
          },
          "metadata": {},
          "execution_count": 2
        }
      ]
    },
    {
      "cell_type": "code",
      "source": [
        "df.isna().sum()"
      ],
      "metadata": {
        "colab": {
          "base_uri": "https://localhost:8080/"
        },
        "id": "WsSmt_o7jqbh",
        "outputId": "58d44536-9998-4f51-df05-46d475b4ce41"
      },
      "execution_count": null,
      "outputs": [
        {
          "output_type": "execute_result",
          "data": {
            "text/plain": [
              "id                    0\n",
              "text                  0\n",
              "Garge Archana Atul    0\n",
              "Archana Kumari        1\n",
              "Priyanshu Raj         0\n",
              "Final                 5\n",
              "dtype: int64"
            ]
          },
          "metadata": {},
          "execution_count": 3
        }
      ]
    },
    {
      "cell_type": "code",
      "source": [
        "df=df.dropna(axis=0, how=\"any\", thresh=None, subset=None, inplace=False)"
      ],
      "metadata": {
        "id": "6LDIfnKbjqfD"
      },
      "execution_count": null,
      "outputs": []
    },
    {
      "cell_type": "code",
      "source": [
        "df.isna().sum()"
      ],
      "metadata": {
        "colab": {
          "base_uri": "https://localhost:8080/"
        },
        "id": "WUJWy5GIkBjh",
        "outputId": "3018a7e3-0753-495d-d00f-57c2eac6936d"
      },
      "execution_count": null,
      "outputs": [
        {
          "output_type": "execute_result",
          "data": {
            "text/plain": [
              "id                    0\n",
              "text                  0\n",
              "Garge Archana Atul    0\n",
              "Archana Kumari        0\n",
              "Priyanshu Raj         0\n",
              "Final                 0\n",
              "dtype: int64"
            ]
          },
          "metadata": {},
          "execution_count": 5
        }
      ]
    },
    {
      "cell_type": "code",
      "source": [
        "df['Final'].value_counts()"
      ],
      "metadata": {
        "colab": {
          "base_uri": "https://localhost:8080/"
        },
        "id": "RuxKK5OR2wYe",
        "outputId": "ee49e27d-3599-4cc3-a271-47e2664441b4"
      },
      "execution_count": null,
      "outputs": [
        {
          "output_type": "execute_result",
          "data": {
            "text/plain": [
              "1.0    1539\n",
              "2.0    1041\n",
              "0.0      83\n",
              "Name: Final, dtype: int64"
            ]
          },
          "metadata": {},
          "execution_count": 6
        }
      ]
    },
    {
      "cell_type": "code",
      "source": [
        "DATA_N_MALE=df.loc[df['Final'].isin([2,0])]\n",
        "print(DATA_N_MALE.shape)\n",
        "DATA_N_FEMALE=df.loc[df['Final'].isin([1, 2])]\n",
        "print(DATA_N_FEMALE.shape)"
      ],
      "metadata": {
        "colab": {
          "base_uri": "https://localhost:8080/"
        },
        "id": "Pd8Gn43KatlA",
        "outputId": "d9715789-5964-46b3-c200-b520b818c768"
      },
      "execution_count": null,
      "outputs": [
        {
          "output_type": "stream",
          "name": "stdout",
          "text": [
            "(1124, 6)\n",
            "(2580, 6)\n"
          ]
        }
      ]
    },
    {
      "cell_type": "code",
      "source": [
        "from sklearn.model_selection import train_test_split"
      ],
      "metadata": {
        "id": "i-DgAbGtBUhu"
      },
      "execution_count": null,
      "outputs": []
    },
    {
      "cell_type": "code",
      "source": [
        "%%time\n",
        "import re\n",
        "\n",
        "text=' '.join(df['text'])\n",
        "text=text.split()\n",
        "freq_comm = pd.Series(text).value_counts()\n",
        "rare=freq_comm[freq_comm.values==1]\n",
        "\n",
        "def get_clean_text(x):\n",
        "  if type(x) is str:\n",
        "    x=x.lower()\n",
        "    x=re.sub(r'([a-zA-Z0-9+._-]+@[a-zA-Z0-9._-]+\\.[a-zA-Z0-9_-]+)', '', x)\n",
        "    x=re.sub('rt', '', x)\n",
        "    x=re.sub('[^A-Z a-z]+','',x)\n",
        "    x=' '.join([t for t in x.split() if t not in rare])\n",
        "    return x\n",
        "  else:\n",
        "    return x\n",
        "df['text']=df['text'].apply(lambda x: get_clean_text(x))\n",
        "DATA_N_MALE['text']=DATA_N_MALE['text'].apply(lambda x: get_clean_text(x))\n",
        "DATA_N_FEMALE['text']=DATA_N_FEMALE['text'].apply(lambda x: get_clean_text(x))"
      ],
      "metadata": {
        "colab": {
          "base_uri": "https://localhost:8080/"
        },
        "id": "WrCdbsf_Cg1_",
        "outputId": "f77236e3-d8dc-4767-c00a-1bd7c7483712"
      },
      "execution_count": null,
      "outputs": [
        {
          "output_type": "stream",
          "name": "stdout",
          "text": [
            "CPU times: user 216 ms, sys: 2.13 ms, total: 219 ms\n",
            "Wall time: 225 ms\n"
          ]
        },
        {
          "output_type": "stream",
          "name": "stderr",
          "text": [
            "/usr/local/lib/python3.7/dist-packages/ipykernel_launcher.py:19: SettingWithCopyWarning: \n",
            "A value is trying to be set on a copy of a slice from a DataFrame.\n",
            "Try using .loc[row_indexer,col_indexer] = value instead\n",
            "\n",
            "See the caveats in the documentation: https://pandas.pydata.org/pandas-docs/stable/user_guide/indexing.html#returning-a-view-versus-a-copy\n",
            "/usr/local/lib/python3.7/dist-packages/ipykernel_launcher.py:20: SettingWithCopyWarning: \n",
            "A value is trying to be set on a copy of a slice from a DataFrame.\n",
            "Try using .loc[row_indexer,col_indexer] = value instead\n",
            "\n",
            "See the caveats in the documentation: https://pandas.pydata.org/pandas-docs/stable/user_guide/indexing.html#returning-a-view-versus-a-copy\n"
          ]
        }
      ]
    },
    {
      "cell_type": "code",
      "source": [
        "df['text']"
      ],
      "metadata": {
        "colab": {
          "base_uri": "https://localhost:8080/"
        },
        "id": "HMepwEJCEvZB",
        "outputId": "c6de86e9-833c-4072-d82d-080265e7e6f2"
      },
      "execution_count": null,
      "outputs": [
        {
          "output_type": "execute_result",
          "data": {
            "text/plain": [
              "0                 sassy more like than killer blondes mkr\n",
              "1       had better looking than these two mkr mkr kill...\n",
              "2       the girls can cook for me anytime just not hot...\n",
              "3       the face of very ugly promo girls faces like a...\n",
              "4       mykitchenrules elegant and beautifulcheap and ...\n",
              "                              ...                        \n",
              "2664    lyall patriarchy will me if i that joelizaharr...\n",
              "2665    superjutah mt is above the national average wa...\n",
              "2666    dufresnefrank gabystama dufresnefrank mt its a...\n",
              "2667    boycottbrandy actionflickdoc this person think...\n",
              "2668    asheschow a look at how clinton would be under...\n",
              "Name: text, Length: 2663, dtype: object"
            ]
          },
          "metadata": {},
          "execution_count": 10
        }
      ]
    },
    {
      "cell_type": "code",
      "source": [
        "text=df['text'].tolist()\n",
        "text[:5]\n",
        "male_text=DATA_N_MALE['text'].tolist()\n",
        "female_text=DATA_N_FEMALE['text'].tolist()"
      ],
      "metadata": {
        "id": "b2WkJUbIE0GO"
      },
      "execution_count": null,
      "outputs": []
    },
    {
      "cell_type": "code",
      "source": [
        "y=df['Final']\n",
        "y_male=DATA_N_MALE['Final']\n",
        "y_female=DATA_N_FEMALE['Final']"
      ],
      "metadata": {
        "id": "CbK3Zd2_FFEb"
      },
      "execution_count": null,
      "outputs": []
    },
    {
      "cell_type": "code",
      "source": [
        "token = Tokenizer()\n",
        "token.fit_on_texts(text)\n",
        "token.fit_on_texts(male_text)\n",
        "token.fit_on_texts(female_text)"
      ],
      "metadata": {
        "id": "QeROcWa8FMPE"
      },
      "execution_count": null,
      "outputs": []
    },
    {
      "cell_type": "code",
      "source": [
        "vocab_size = len(token.word_index)+1\n",
        "vocab_size"
      ],
      "metadata": {
        "colab": {
          "base_uri": "https://localhost:8080/"
        },
        "id": "Y8VAq8DGFUdK",
        "outputId": "d6cb68e3-6c63-4e41-9da3-7ab4297da438"
      },
      "execution_count": null,
      "outputs": [
        {
          "output_type": "execute_result",
          "data": {
            "text/plain": [
              "5865"
            ]
          },
          "metadata": {},
          "execution_count": 14
        }
      ]
    },
    {
      "cell_type": "code",
      "source": [
        "print(token.index_word)"
      ],
      "metadata": {
        "colab": {
          "base_uri": "https://localhost:8080/"
        },
        "id": "95BVi7jLFfUJ",
        "outputId": "156832c8-9531-4acb-fa81-21ab275dfbdc"
      },
      "execution_count": null,
      "outputs": [
        {
          "output_type": "stream",
          "name": "stdout",
          "text": [
            "{1: 'a', 2: 'the', 3: 'i', 4: 'not', 5: 'but', 6: 'sexist', 7: 'to', 8: 'mkr', 9: 'is', 10: 'im', 11: 'you', 12: 'of', 13: 'and', 14: 'in', 15: 'are', 16: 'that', 17: 'women', 18: 'me', 19: 'for', 20: 'just', 21: 'it', 22: 'they', 23: 'on', 24: 'kat', 25: 'be', 26: 'no', 27: 'have', 28: 'girls', 29: 'dont', 30: 'like', 31: 'if', 32: 'this', 33: 'my', 34: 'notsexist', 35: 'so', 36: 'or', 37: 'its', 38: 'do', 39: 'call', 40: 'about', 41: 'when', 42: 'female', 43: 'what', 44: 'men', 45: 'think', 46: 'with', 47: 'at', 48: 'all', 49: 'her', 50: 'as', 51: 'she', 52: 'cant', 53: 'was', 54: 'get', 55: 'should', 56: 'can', 57: 'your', 58: 'woman', 59: 'know', 60: 'who', 61: 'one', 62: 'an', 63: 'why', 64: 'more', 65: 'out', 66: 'how', 67: 'up', 68: 'their', 69: 'amp', 70: 'really', 71: 'would', 72: 'will', 73: 'want', 74: 'by', 75: 'than', 76: 'we', 77: 'good', 78: 'mt', 79: 'right', 80: 'football', 81: 'has', 82: 'because', 83: 'never', 84: 'spos', 85: 'girl', 86: 'these', 87: 'there', 88: 'them', 89: 'make', 90: 'some', 91: 'need', 92: 'from', 93: 'hate', 94: 'go', 95: 'now', 96: 'see', 97: 'people', 98: 'feminists', 99: 'too', 100: 'off', 101: 'feminism', 102: 'only', 103: 'man', 104: 'most', 105: 'ever', 106: 'then', 107: 'even', 108: 'were', 109: 'yesyouresexist', 110: 'any', 111: 'being', 112: 'say', 113: 'sorry', 114: 'lol', 115: 'funny', 116: 'take', 117: 'shit', 118: 'pretty', 119: 'still', 120: 'had', 121: 'womens', 122: 'thats', 123: 'actually', 124: 'way', 125: 'fuck', 126: 'look', 127: 'he', 128: 'two', 129: 'every', 130: 'much', 131: 'same', 132: 'better', 133: 'rights', 134: 'feminist', 135: 'face', 136: 'time', 137: 'bitch', 138: 'bad', 139: 'did', 140: 'male', 141: 'andre', 142: 'well', 143: 'find', 144: 'over', 145: 'doesnt', 146: 'mykitchenrules', 147: 'oh', 148: 'those', 149: 'stop', 150: 'does', 151: 'stand', 152: 'am', 153: 'other', 154: 'yes', 155: 'females', 156: 'theyre', 157: 'going', 158: 'wrong', 159: 'dumb', 160: 'said', 161: 'u', 162: 'got', 163: 'w', 164: 'back', 165: 'real', 166: 'questionsformen', 167: 'thing', 168: 'blondes', 169: 'fucking', 170: 'drive', 171: 'please', 172: 'stupid', 173: 'believe', 174: 'his', 175: 'cannot', 176: 'someone', 177: 'equal', 178: 'drivers', 179: 'cook', 180: 'saying', 181: 'rape', 182: 'seriously', 183: 'equality', 184: 'tell', 185: 'comedians', 186: 'hot', 187: 'made', 188: 'watch', 189: 'promo', 190: 'arent', 191: 'work', 192: 'play', 193: 'use', 194: 'shouldnt', 195: 'talk', 196: 'hope', 197: 'great', 198: 'driving', 199: 'been', 200: 'mean', 201: 'ill', 202: 'idea', 203: 'awful', 204: 'job', 205: 'yeah', 206: 'anything', 207: 'guys', 208: 'game', 209: 'which', 210: 'true', 211: 'new', 212: 'down', 213: 'isnt', 214: 'here', 215: 'always', 216: 'something', 217: 'guy', 218: 'nothing', 219: 'hard', 220: 'doing', 221: 'cuntandandre', 222: 'care', 223: 'before', 224: 'love', 225: 'ok', 226: 'womenagainstfeminism', 227: 'shaner', 228: 'annoying', 229: 'swear', 230: 'could', 231: 'things', 232: 'hear', 233: 'through', 234: 'mens', 235: 'fact', 236: 'tv', 237: 'enough', 238: 'sexism', 239: 'put', 240: 'blonde', 241: 'many', 242: 'after', 243: 'person', 244: 'killerblondes', 245: 'less', 246: 'god', 247: 'again', 248: 'theres', 249: 'ladies', 250: 'also', 251: 'whatever', 252: 'twitter', 253: 'humanistfury', 254: 'us', 255: 'year', 256: 'read', 257: 'best', 258: 'suck', 259: 'life', 260: 'little', 261: 'joke', 262: 'watching', 263: 'tweet', 264: 'justlaurenb', 265: 'gamergate', 266: 'seen', 267: 'day', 268: 'cooking', 269: 'old', 270: 'another', 271: 'talking', 272: 'everyone', 273: 'let', 274: 'ta', 275: 'keep', 276: 'world', 277: 'show', 278: 'come', 279: 'big', 280: 'makes', 281: 'shermeron', 282: 'bristolben', 283: 'gender', 284: 'own', 285: 'maybe', 286: 'annie', 287: 'though', 288: 'nope', 289: 'very', 290: 'against', 291: 'sure', 292: 'feel', 293: 'thought', 294: 'blackopal', 295: 'saw', 296: 'give', 297: 'pay', 298: 'home', 299: 'damn', 300: 'around', 301: 'looks', 302: 'models', 303: 'him', 304: 'wow', 305: 'comes', 306: 'choice', 307: 'opinion', 308: 'times', 309: 'hair', 310: 'first', 311: 'making', 312: 'both', 313: 'head', 314: 'point', 315: 'explain', 316: 'kitchen', 317: 'guess', 318: 'anyone', 319: 'might', 320: 'told', 321: 'different', 322: 'looking', 323: 'sense', 324: 'needs', 325: 'child', 326: 'legal', 327: 'reason', 328: 'thor', 329: 'wait', 330: 'question', 331: 'trying', 332: 'our', 333: 'listentoraisin', 334: 'commentators', 335: 'na', 336: 'themselves', 337: 'end', 338: 'kats', 339: 'school', 340: 'scarmichael', 341: 'unless', 342: 'ghostbusters', 343: 'whats', 344: 'called', 345: 'bit', 346: 'rather', 347: 'must', 348: 'trishesdishes', 349: 'help', 350: 'cause', 351: 'such', 352: 'wont', 353: 'answer', 354: 'aboion', 355: 'boys', 356: 'faces', 357: 'omg', 358: 'self', 359: 'free', 360: 'already', 361: 'says', 362: 'honestly', 363: 'into', 364: 'shave', 365: 'feministlah', 366: 'listen', 367: 'hey', 368: 'deconstructed', 369: 'gonna', 370: 'either', 371: 'everything', 372: 'wouldnt', 373: 'name', 374: 'gets', 375: 'lostsailorny', 376: 'having', 377: 'asredasmyhair', 378: 'google', 379: 'exactly', 380: 'games', 381: 'last', 382: 'long', 383: 'kind', 384: 'ass', 385: 'hell', 386: 's', 387: 'fake', 388: 'yet', 389: 'blocked', 390: 'gap', 391: 'uberfeminist', 392: 'racist', 393: 'hit', 394: 'katandandre', 395: 'try', 396: 'years', 397: 'vote', 398: 'allowed', 399: 'where', 400: 'movement', 401: 'greenweiner', 402: 'lot', 403: 'sister', 404: 'comattwow', 405: 'crazy', 406: 'else', 407: 'bitches', 408: 'half', 409: 'night', 410: 'place', 411: 'jokes', 412: 'lady', 413: 'argue', 414: 'realize', 415: 'espn', 416: 'announcers', 417: 'driver', 418: 'tonight', 419: 'shut', 420: 'calling', 421: 'voice', 422: 'heard', 423: 'pa', 424: 'eyes', 425: 'wife', 426: 'literally', 427: 'leave', 428: 'understand', 429: 'wo', 430: 'boxedariel', 431: 'thelokijotunn', 432: 'chubssays', 433: 'nice', 434: 'wants', 435: 'cunt', 436: 'main', 437: 'couldnt', 438: 'full', 439: 'prefer', 440: 'hes', 441: 'http', 442: 'tweets', 443: 'while', 444: 'agree', 445: 'word', 446: 'today', 447: 'red', 448: 'knew', 449: 'playing', 450: 'behind', 451: 'cut', 452: 'fan', 453: 'none', 454: 'httpt', 455: 'anniekfox', 456: 'totally', 457: 'car', 458: 'next', 459: 'top', 460: 'bimbos', 461: 'wonder', 462: 'jobs', 463: 'probably', 464: 'under', 465: 'team', 466: 'punch', 467: 'fight', 468: 'news', 469: 'vs', 470: 'list', 471: 'prove', 472: 'money', 473: 'wage', 474: 'kmx', 475: 'cares', 476: 'thegeekchick', 477: 'spo', 478: 'rappers', 479: 'sassy', 480: 'wish', 481: 'whole', 482: 'dishes', 483: 'r', 484: 'nasty', 485: 'ones', 486: 'aint', 487: 'stay', 488: 'win', 489: 'd', 490: 'turn', 491: 'getting', 492: 'house', 493: 'abuse', 494: 'figure', 495: 'fems', 496: 'tehmenz', 497: 'femfreefriday', 498: 'opinions', 499: 'superjutah', 500: 'each', 501: 'commentator', 502: 'away', 503: 'black', 504: 'reality', 505: 'far', 506: 'standards', 507: 'ya', 508: 'lemon', 509: 'able', 510: 'stuff', 511: 'teams', 512: 'mind', 513: 'majority', 514: 'sexual', 515: 'argument', 516: 'video', 517: 'seems', 518: 'facts', 519: 'hilarious', 520: 'sara', 521: 'tamedinsanity', 522: 'without', 523: 'president', 524: 'basketball', 525: 'weird', 526: 'front', 527: 'since', 528: 'ask', 529: 'worst', 530: 'truth', 531: 'sex', 532: 'thinks', 533: 'death', 534: 'herself', 535: 'asheschow', 536: 'amberhasalamb', 537: 'example', 538: 'comment', 539: 'sta', 540: 'anonmnom', 541: 'definition', 542: 'lbigmann', 543: 'mom', 544: 'avacadosoup', 545: 'delusional', 546: 'b', 547: 'ash', 548: 'between', 549: 'rules', 550: 'bet', 551: 'kick', 552: 'horrible', 553: 'balls', 554: 'huh', 555: 'ur', 556: 'instead', 557: 'close', 558: 'lie', 559: 'means', 560: 'known', 561: 'single', 562: 'taking', 563: 'cathyyoung', 564: 'femitheist', 565: 'character', 566: 'america', 567: 'leokikilady', 568: 'obviously', 569: 'room', 570: 'super', 571: 'matter', 572: 'walk', 573: 'model', 574: 'slap', 575: 'low', 576: 'yourself', 577: 'young', 578: 'least', 579: 'deserve', 580: 'deal', 581: 'proof', 582: 'thisonesakillaa', 583: 'dreysander', 584: 'usually', 585: 'logic', 586: 'k', 587: 'judgybitch', 588: 'dqtwitchstream', 589: 'announcer', 590: 'chick', 591: 'dude', 592: 'roles', 593: 'knows', 594: 'minutes', 595: 'score', 596: 'bitchy', 597: 'hands', 598: 'haha', 599: 'coming', 600: 'once', 601: 'poor', 602: 'sick', 603: 'karma', 604: 'seem', 605: 'piss', 606: 'change', 607: 'until', 608: 'bus', 609: 'justsaying', 610: 'system', 611: 'oppose', 612: 'michmcconnell', 613: 'pndiamond', 614: 'hayleyjoness', 615: 'block', 616: 'false', 617: 'aicle', 618: 'irony', 619: 'oneiorosgrip', 620: 'run', 621: 'sorrynotsorry', 622: 'ugly', 623: 'especially', 624: 'quit', 625: 'boring', 626: 'line', 627: 'dress', 628: 'annies', 629: 'seeing', 630: 'telling', 631: 'ready', 632: 'almost', 633: 'slut', 634: 'gt', 635: 'left', 636: 'live', 637: 'straight', 638: 'lloyd', 639: 'eliminated', 640: 'youll', 641: 'human', 642: 'laugh', 643: 'goes', 644: 'blame', 645: 'culture', 646: 'kid', 647: 'mine', 648: 'trolling', 649: 'hypocrisy', 650: 'working', 651: 'during', 652: 'cjnu', 653: 'respect', 654: 'hillary', 655: 'raped', 656: 'attractive', 657: 'terrible', 658: 'definitely', 659: 'case', 660: 'mar', 661: 'fun', 662: 'myself', 663: 'fat', 664: 'history', 665: 'worse', 666: 'pick', 667: 'wear', 668: 'wanna', 669: 'woh', 670: 'pipe', 671: 'thegags', 672: 'legally', 673: 'except', 674: 'luck', 675: 'serious', 676: 'jail', 677: 'college', 678: 'yours', 679: 'fyi', 680: 'space', 681: 'brenbarber', 682: 'write', 683: 'comics', 684: 'complain', 685: 'original', 686: 'tigerclaud', 687: 'dezzantibus', 688: 'learn', 689: 'parking', 690: 'sometimes', 691: 'alone', 692: 'wnba', 693: 'comedian', 694: 'cleaning', 695: 'appreciate', 696: 'act', 697: 'gone', 698: 'competition', 699: 'youd', 700: 'anyway', 701: 'hand', 702: 'double', 703: 'round', 704: 'absolutely', 705: 'theyll', 706: 'lost', 707: 'done', 708: 'level', 709: 'simple', 710: 'chicks', 711: 'scored', 712: 'unfair', 713: 'hearing', 714: 'truly', 715: 'shame', 716: 'meant', 717: 'mouth', 718: 'stronger', 719: 'showing', 720: 'belong', 721: 'arguing', 722: 'few', 723: 'picture', 724: 'grimachu', 725: 'parenthood', 726: 'htt', 727: 'problems', 728: 'western', 729: 'often', 730: 'issue', 731: 'ilivundrurbed', 732: 'whining', 733: 'twitterfeminism', 734: 'social', 735: 'attention', 736: 'traininvainn', 737: 'group', 738: 'nosexist', 739: 'restaurant', 740: 'drasko', 741: 'using', 742: 'dislike', 743: 'tas', 744: 'gross', 745: 'gotta', 746: 'faketoniatodman', 747: 'save', 748: 'youve', 749: 'putting', 750: 'type', 751: 'class', 752: 'strategically', 753: 'works', 754: 'smug', 755: 'set', 756: 'smile', 757: 'mistake', 758: 'role', 759: 'wanted', 760: 'soon', 761: 'mostly', 762: 'assault', 763: 'suppo', 764: 'sounds', 765: 'ignorant', 766: 'financial', 767: 'aussielung', 768: 'asked', 769: 'evidence', 770: 'safe', 771: 'above', 772: 'okay', 773: 'theshujaatali', 774: 'anti', 775: 'meme', 776: 'due', 777: 'scary', 778: 'natalietudor', 779: 'notchrissmith', 780: 'played', 781: 'ref', 782: 'mans', 783: 'sound', 784: 'hockey', 785: 'ceain', 786: 'refs', 787: 'league', 788: 'crap', 789: 'opener', 790: 'age', 791: 'used', 792: 'notice', 793: 'based', 794: 'quite', 795: 'cooked', 796: 'producers', 797: 'missed', 798: 'paid', 799: 'dish', 800: 'funnier', 801: 'past', 802: 'course', 803: 'cunts', 804: 'completely', 805: 'judge', 806: 'whore', 807: 'kate', 808: 'food', 809: 'happen', 810: 'co', 811: 'staed', 812: 'useless', 813: 'mra', 814: 'victim', 815: 'fired', 816: 'feministfailure', 817: 'whose', 818: 'valid', 819: 'follow', 820: 'aware', 821: 'tennis', 822: 'shelbylynne', 823: 'cup', 824: 'consider', 825: 'specific', 826: 'power', 827: 'lack', 828: 'goal', 829: 'twothugu', 830: 'complaining', 831: 'pull', 832: 'society', 833: 'instant', 834: 'mental', 835: 'nikkis', 836: 'fucked', 837: 'pink', 838: 't', 839: 'ceainly', 840: 'sho', 841: 'porn', 842: 'massive', 843: 'hoes', 844: 'student', 845: 'wtf', 846: 'tough', 847: 'test', 848: 'difference', 849: 'bitching', 850: 'biggest', 851: 'week', 852: 'country', 853: 'sudden', 854: 'eat', 855: 'everytime', 856: 'uses', 857: 'expect', 858: 'campus', 859: 'eaballesty', 860: 'timgeelen', 861: 'shethewolf', 862: 'created', 863: 'sorryitsaboy', 864: 'victorymonk', 865: 'nation', 866: 'reply', 867: 'shell', 868: 'openly', 869: 'laid', 870: 'account', 871: 'credit', 872: 'later', 873: 'ford', 874: 'bananaramble', 875: 'awesome', 876: 'claim', 877: 'population', 878: 'compliment', 879: 'valiantrook', 880: 'doubt', 881: 'focus', 882: 'open', 883: 'troll', 884: 'sirscatters', 885: 'wheel', 886: 'adviceforyoungfeminists', 887: 'poe', 888: 'buy', 889: 'went', 890: 'maddybaylor', 891: 'theesadiemarie', 892: 'gabystama', 893: 'vcrblog', 894: 'pure', 895: 'sxflint', 896: 'paicipate', 897: 'bout', 898: 'standard', 899: 'sexistbut', 900: 'm', 901: 'shows', 902: 'sky', 903: 'gives', 904: 'pwreclive', 905: 'skank', 906: 'dog', 907: 'dinner', 908: 'promogirls', 909: 'em', 910: 'catwalk', 911: 'writing', 912: 'camilla', 913: 'total', 914: 'anymore', 915: 'dick', 916: 'bunch', 917: 'pants', 918: 'hat', 919: 'view', 920: 'tight', 921: 'takes', 922: 'quote', 923: 'wasnt', 924: 'enjoy', 925: 'response', 926: 'grow', 927: 'wiped', 928: 'amazing', 929: 'mother', 930: 'dollar', 931: 'lose', 932: 'piece', 933: 'hasnt', 934: 'romney', 935: 'killed', 936: 'characters', 937: 'realtrumpsfeels', 938: 'privilege', 939: 'knowing', 940: 'todays', 941: 'legit', 942: 'criticalkaiju', 943: 'equalpay', 944: 'others', 945: 'record', 946: 'uk', 947: 'bmackillopthio', 948: 'knux', 949: 'law', 950: 'reading', 951: 'examples', 952: 'robinashe', 953: 'agreed', 954: 'audmum', 955: 'myth', 956: 'period', 957: 'special', 958: 'buti', 959: 'referring', 960: 'story', 961: 'nonirishpaddy', 962: 'legs', 963: 'allehegens', 964: 'amarinaw', 965: 'prison', 966: 'noin', 967: 'repeat', 968: 'fans', 969: 'form', 970: 'negotiate', 971: 'given', 972: 'movies', 973: 'wizardryofozil', 974: 'comedy', 975: 'proved', 976: 'plate', 977: 'sluts', 978: 'cock', 979: 'foot', 980: 'million', 981: 'calls', 982: 'daughter', 983: 'average', 984: 'sit', 985: 'three', 986: 'check', 987: 'forward', 988: 'silly', 989: 'five', 990: 'staying', 991: 'tits', 992: 'smiling', 993: 'meth', 994: 'common', 995: 'count', 996: 'jesus', 997: 'ridiculous', 998: 'scores', 999: 'cool', 1000: 'heres', 1001: 'otherwise', 1002: 'cantcook', 1003: 'chance', 1004: 'lloyds', 1005: 'crack', 1006: 'whos', 1007: 'bbq', 1008: 'listening', 1009: 'proves', 1010: 'changed', 1011: 'nomorepage', 1012: 'jennykutner', 1013: 'cuz', 1014: 'everydaysexism', 1015: 'clearly', 1016: 'politicalcynic', 1017: 'plenty', 1018: 'auragasmic', 1019: 'taken', 1020: 'cops', 1021: 'term', 1022: 'transicnyc', 1023: 'hold', 1024: 'straw', 1025: 'concerned', 1026: 'movie', 1027: 'euroslava', 1028: 'math', 1029: 'middle', 1030: 'happens', 1031: 'experience', 1032: 'manishlimbu', 1033: 'fruitondabottom', 1034: 'genuinely', 1035: 'weak', 1036: 'studies', 1037: 'safer', 1038: 'lt', 1039: 'erikssonmalin', 1040: 'bc', 1041: 'fall', 1042: 'baby', 1043: 'ben', 1044: 'didymusleonha', 1045: 'guessing', 1046: 'friend', 1047: 'firm', 1048: 'yesyoureracist', 1049: 'rugby', 1050: 'month', 1051: 'met', 1052: 'sandwich', 1053: 'extremely', 1054: 'dudes', 1055: 'commentating', 1056: 'clean', 1057: 'idk', 1058: 'rap', 1059: 'nba', 1060: 'son', 1061: 'personal', 1062: 'teachers', 1063: 'tho', 1064: 'drunk', 1065: 'couple', 1066: 'tag', 1067: 'nearly', 1068: 'appears', 1069: 'vapid', 1070: 'breaks', 1071: 'relnofollowtwitter', 1072: 'butchers', 1073: 'meat', 1074: 'acting', 1075: 'high', 1076: 'together', 1077: 'hahahaha', 1078: 'obvious', 1079: 'cooks', 1080: 'heads', 1081: 'evil', 1082: 'hoping', 1083: 'desse', 1084: 'ice', 1085: 'scoring', 1086: 'sleep', 1087: 'hide', 1088: 'steve', 1089: 'strategic', 1090: 'dustypee', 1091: 'match', 1092: 'n', 1093: 'national', 1094: 'smirk', 1095: 'pathetic', 1096: 'trash', 1097: 'happy', 1098: 'pulled', 1099: 'ahead', 1100: 'smack', 1101: 'bjtqld', 1102: 'future', 1103: 'giving', 1104: 'throw', 1105: 'individual', 1106: 'cheat', 1107: 'nine', 1108: 'fail', 1109: 'stated', 1110: 'aamattyhealy', 1111: 'gyu', 1112: 'afraid', 1113: 'anita', 1114: 'fo', 1115: 'genanoncoward', 1116: 'state', 1117: 'opt', 1118: 'pardusxy', 1119: 'degree', 1120: 'forget', 1121: 'weeks', 1122: 'cry', 1123: 'pariahpotimouth', 1124: 'scyleet', 1125: 'intent', 1126: 'date', 1127: 'designed', 1128: 'thesledgetobias', 1129: 'witchsniffer', 1130: 'hypocrites', 1131: 'valenti', 1132: 'psychscientists', 1133: 'learned', 1134: 'film', 1135: 'httptco', 1136: 'linked', 1137: 'cases', 1138: 'limited', 1139: 'remember', 1140: 'manimeister', 1141: 'geno', 1142: 'mass', 1143: 'cited', 1144: 'angryfeminazi', 1145: 'economics', 1146: 'number', 1147: 'ktonieskacze', 1148: 'dad', 1149: 'failedmgc', 1150: 'source', 1151: 'sargonofakkad', 1152: 'millett', 1153: 'near', 1154: 'ale', 1155: 'control', 1156: 'holy', 1157: 'elizabethhobso', 1158: 'somekindaboogin', 1159: 'antifempsycho', 1160: 'huge', 1161: 'graphicfire', 1162: 'alstonmyles', 1163: 'book', 1164: 'laughed', 1165: 'days', 1166: 'nobody', 1167: 'minasmith', 1168: 'ovechkin', 1169: 'unequal', 1170: 'privwhitegirl', 1171: 'imanothervoice', 1172: 'clue', 1173: 'flat', 1174: 'emotional', 1175: 'rampaigera', 1176: 'wrestling', 1177: 'reverse', 1178: 'tend', 1179: 'early', 1180: 'lyall', 1181: 'problem', 1182: 'pelorshope', 1183: 'mad', 1184: 'note', 1185: 'hungry', 1186: 'personally', 1187: 'clinton', 1188: 'cheuya', 1189: 'masterbatker', 1190: 'bag', 1191: 'natural', 1192: 'tickets', 1193: 'worry', 1194: 'responsible', 1195: 'found', 1196: 'season', 1197: 'trashy', 1198: 'saved', 1199: 'ratings', 1200: 'modelling', 1201: 'bs', 1202: 'vagina', 1203: 'moment', 1204: 'stfu', 1205: 'direct', 1206: 'chef', 1207: 'thighs', 1208: 'tool', 1209: 'stick', 1210: 'may', 1211: 'plain', 1212: 'mum', 1213: 'gotten', 1214: 'wa', 1215: 'voting', 1216: 'gordon', 1217: 'grace', 1218: 'au', 1219: 'rid', 1220: 'fair', 1221: 'secret', 1222: 'manu', 1223: 'personality', 1224: 'nor', 1225: 'pretend', 1226: 'across', 1227: 'children', 1228: 'nervous', 1229: 'glass', 1230: 'humiliated', 1231: 'krazyeyes', 1232: 'lives', 1233: 'twat', 1234: 'clear', 1235: 'process', 1236: 'httptc', 1237: 'shaming', 1238: 'street', 1239: 'bigots', 1240: 'serve', 1241: 'mgtowknight', 1242: 'via', 1243: 'rapists', 1244: 'deny', 1245: 'decide', 1246: 'body', 1247: 'star', 1248: 'ten', 1249: 'click', 1250: 'hatred', 1251: 'canada', 1252: 'reference', 1253: 'derived', 1254: 'meaning', 1255: 'irrelevant', 1256: 'gold', 1257: 'yep', 1258: 'assume', 1259: 'arguments', 1260: 'jdefiant', 1261: 'avoid', 1262: 'dultery', 1263: 'pussy', 1264: 'ca', 1265: 'impoant', 1266: 'town', 1267: 'study', 1268: 'narrative', 1269: 'return', 1270: 'nows', 1271: 'hadnt', 1272: 'relevant', 1273: 'stevenbireal', 1274: 'accept', 1275: 'nitramy', 1276: 'spin', 1277: 'whatfeminismgaveme', 1278: 'msharkess', 1279: 'speech', 1280: 'pc', 1281: 'ago', 1282: 'innocent', 1283: 'kinda', 1284: 'dekashoko', 1285: 'kept', 1286: 'comic', 1287: 'husband', 1288: 'lower', 1289: 'bothers', 1290: 'cazzapuppy', 1291: 'mislukravin', 1292: 'mras', 1293: 'clothes', 1294: 'sposcasters', 1295: 'bro', 1296: 'handle', 1297: 'dear', 1298: 'washing', 1299: 'complete', 1300: 'superior', 1301: 'tbh', 1302: 'annoys', 1303: 'promise', 1304: 'travieee', 1305: 'af', 1306: 'feed', 1307: 'amy', 1308: 'mute', 1309: 'comfoable', 1310: 'annoy', 1311: 'ufc', 1312: 'analyst', 1313: 'correct', 1314: 'family', 1315: 'tweeting', 1316: 'intelligent', 1317: 'entire', 1318: 'struggle', 1319: 'lotrquotes', 1320: 'shape', 1321: 'park', 1322: 'grip', 1323: 'business', 1324: 'coach', 1325: 'synonym', 1326: 'nah', 1327: 'cast', 1328: 'unattractive', 1329: 'tone', 1330: 'likes', 1331: 'catching', 1332: 'brains', 1333: 'feeling', 1334: 'wings', 1335: 'dream', 1336: 'fashion', 1337: 'sucking', 1338: 'colins', 1339: 'ugh', 1340: 'mkrfalsemkra', 1341: 'sass', 1342: 'rigged', 1343: 'arse', 1344: 'weve', 1345: 'walking', 1346: 'shot', 1347: 'clubs', 1348: 'classy', 1349: 'plus', 1350: 'blind', 1351: 'water', 1352: 'moist', 1353: 'itsjust', 1354: 'honest', 1355: 'roll', 1356: 'zero', 1357: 'cheats', 1358: 'living', 1359: 'major', 1360: 'constantly', 1361: 'tan', 1362: 'hashtag', 1363: 'appealing', 1364: 'walks', 1365: 'thank', 1366: 'television', 1367: 'bless', 1368: 'unlike', 1369: 'following', 1370: 'paicularly', 1371: 'issues', 1372: 'strong', 1373: 'pass', 1374: 'cow', 1375: 'add', 1376: 'wicked', 1377: 'step', 1378: 'childish', 1379: 'screeching', 1380: 'site', 1381: 'hateful', 1382: 'ebola', 1383: 'followed', 1384: 'morning', 1385: 'willbehelot', 1386: 'create', 1387: 'shoenhead', 1388: 'solely', 1389: 'violence', 1390: 'bigotry', 1391: 'dressing', 1392: 'treat', 1393: 'worn', 1394: 'diva', 1395: 'eye', 1396: 'brittanyblade', 1397: 'patriarchy', 1398: 'forced', 1399: 'abnormalcybias', 1400: 'asking', 1401: 'idontneedfeminism', 1402: 'youtube', 1403: 'ghost', 1404: 'scared', 1405: 'biased', 1406: 'interest', 1407: 'basically', 1408: 'o', 1409: 'watched', 1410: 'chs', 1411: 'action', 1412: 'conversation', 1413: 'learning', 1414: 'fighting', 1415: 'invented', 1416: 'hour', 1417: 'bigot', 1418: 'randomhero', 1419: 'rooshv', 1420: 'chsfword', 1421: 'accounts', 1422: 'trust', 1423: 'poker', 1424: 'switch', 1425: 'died', 1426: 'drinking', 1427: 'truck', 1428: 'st', 1429: 'f', 1430: 'broad', 1431: 'males', 1432: 'tired', 1433: 'speed', 1434: 'laundry', 1435: 'ghosts', 1436: 'angry', 1437: 'thejpdh', 1438: 'mma', 1439: 'road', 1440: 'amount', 1441: 'releasing', 1442: 'killer', 1443: 'arsehole', 1444: 'kidding', 1445: 'served', 1446: 'words', 1447: 'mention', 1448: 'theme', 1449: 'sorbet', 1450: 'convincing', 1451: 'humble', 1452: 'menu', 1453: 'hrefhttptwittercomdownloadiphone', 1454: 'iphonea', 1455: 'proven', 1456: 'channel', 1457: 'feebee', 1458: 'drama', 1459: 'butcher', 1460: 'stuck', 1461: 'quality', 1462: 'sheri', 1463: 'emilie', 1464: 'choose', 1465: 'danhickey', 1466: 'teeth', 1467: 'wipe', 1468: 'episode', 1469: 'explains', 1470: 'greasy', 1471: 'admitted', 1472: 'holly', 1473: 'rotten', 1474: 'realise', 1475: 'iq', 1476: 'generally', 1477: 'dictionary', 1478: 'decent', 1479: 'equivalent', 1480: 'cough', 1481: 'yup', 1482: 'hotmkr', 1483: 'ramsay', 1484: 'outmkr', 1485: 'thru', 1486: 'cnt', 1487: 'objectionable', 1488: 'burn', 1489: 'australia', 1490: 'witch', 1491: 'crazyeyes', 1492: 'hated', 1493: 'beat', 1494: 'gidgitvonlarue', 1495: 'pieces', 1496: 'hates', 1497: 'anniechaplin', 1498: 'hello', 1499: 'shopping', 1500: 'favourite', 1501: 'jocks', 1502: 'keeps', 1503: 'liked', 1504: 'idiot', 1505: 'spirit', 1506: 'animal', 1507: 'deserves', 1508: 'kant', 1509: 'lismarie', 1510: 'train', 1511: 'corinnasladey', 1512: 'winning', 1513: 'peoples', 1514: 'anniei', 1515: 'sydneyeditor', 1516: 'adds', 1517: 'faults', 1518: 'busy', 1519: 'warming', 1520: 'crazybitch', 1521: 'described', 1522: 'exposes', 1523: 'lines', 1524: 'assaulted', 1525: 'alieastwest', 1526: 'eventually', 1527: 'brotheryellow', 1528: 'mock', 1529: 'philippenis', 1530: 'tweetlikeafeminist', 1531: 'opposes', 1532: 'favorite', 1533: 'huff', 1534: 'catch', 1535: 'listing', 1536: 'flawed', 1537: 'merit', 1538: 'intentionally', 1539: 'vivant', 1540: 'tomsaw', 1541: 'dowewantto', 1542: 'lmargolez', 1543: 'bluntmoms', 1544: 'refers', 1545: 'shhhits', 1546: 'refer', 1547: 'useuongue', 1548: 'twiggins', 1549: 'christinaloken', 1550: 'holliebakerlutz', 1551: 'ytmstawufy', 1552: 'implying', 1553: 'attacked', 1554: 'risk', 1555: 'redscarebot', 1556: 'broketiligetrch', 1557: 'robscragga', 1558: 'sommers', 1559: 'sweden', 1560: 'essentially', 1561: 'antisjw', 1562: 'wrote', 1563: 'msm', 1564: 'shi', 1565: 'root', 1566: 'drjoanbeckwith', 1567: 'basicrepublican', 1568: 'neutral', 1569: 'yawn', 1570: 'synthovine', 1571: 'forgot', 1572: 'oppressed', 1573: 'christianmcbane', 1574: 'excuse', 1575: 'rapist', 1576: 'unpccomix', 1577: 'carolynneva', 1578: 'chivalry', 1579: 'untreated', 1580: 'iloveoldtools', 1581: 'ignore', 1582: 'feministsareugly', 1583: 'fewer', 1584: 'oppounity', 1585: 'ahem', 1586: 'avg', 1587: 'cs', 1588: 'supposenot', 1589: 'doeringnorman', 1590: 'daily', 1591: 'dgbattaglia', 1592: 'jaksoulbright', 1593: 'aist', 1594: 'checkitcool', 1595: 'mechasauce', 1596: 'nkopper', 1597: 'youtuber', 1598: 'thisi', 1599: 'gallery', 1600: 'tablet', 1601: 'enforced', 1602: 'visitation', 1603: 'libeycapent', 1604: 'links', 1605: 'janet', 1606: 'bih', 1607: 'cathy', 1608: 'orwell', 1609: 'conflate', 1610: 'femininity', 1611: 'commit', 1612: 'daftbrian', 1613: 'walker', 1614: 'fanda', 1615: 'eu', 1616: 'equalitymen', 1617: 'mrminibagel', 1618: 'ban', 1619: 'shackscents', 1620: 'awkward', 1621: 'elses', 1622: 'isis', 1623: 'untouchableshe', 1624: 'specifically', 1625: 'executed', 1626: 'rebuild', 1627: 'gary', 1628: 'rigging', 1629: 'draft', 1630: 'rig', 1631: 'avs', 1632: 'gamers', 1633: 'sheep', 1634: 'questionsforfeminists', 1635: 'needed', 1636: 'harryisaacjr', 1637: 'sexyisntsexist', 1638: 'failing', 1639: 'helsybobsmith', 1640: 'heathermoandco', 1641: 'askhermore', 1642: 'ellarosyy', 1643: 'wateronatrain', 1644: 'aliradicali', 1645: 'tax', 1646: 'auntysoapbox', 1647: 'mistaphill', 1648: 'dudebros', 1649: 'hollywood', 1650: 'deals', 1651: 'melisssugh', 1652: 'copy', 1653: 'greyaesthetic', 1654: 'lies', 1655: 'actionflickdoc', 1656: 'raise', 1657: 'ratman', 1658: 'factsvsopinion', 1659: 'susanhaggard', 1660: 'liljaob', 1661: 'stars', 1662: 'hawks', 1663: 'ducks', 1664: 'kanowyatt', 1665: 'h', 1666: 'iron', 1667: 'idc', 1668: 'announcing', 1669: 'com', 1670: 'break', 1671: 'sposcenter', 1672: 'easy', 1673: 'repoer', 1674: 'soccer', 1675: 'relationship', 1676: 'yesallwomen', 1677: 'waste', 1678: 'leviathanpride', 1679: 'smoking', 1680: 'pain', 1681: 'felt', 1682: 'captain', 1683: 'repoers', 1684: 'georgeworshingt', 1685: 'wit', 1686: 'trizzzy', 1687: 'refuse', 1688: 'boobs', 1689: 'ride', 1690: 'phone', 1691: 'managers', 1692: 'officialbeech', 1693: 'asshole', 1694: 'analysts', 1695: 'broken', 1696: 'das', 1697: 'eh', 1698: 'retarded', 1699: 'p', 1700: 'deep', 1701: 'jimboslice', 1702: 'clueless', 1703: 'painful', 1704: 'enteaining', 1705: 'barnflake', 1706: 'flying', 1707: 'irkmeingram', 1708: 'voices', 1709: 'rest', 1710: 'nikeenan', 1711: 'justhonest', 1712: 'extent', 1713: 'inferior', 1714: 'pisses', 1715: 'grindmode', 1716: 'empires', 1717: 'venereveritas', 1718: 'sadly', 1719: 'white', 1720: 'came', 1721: 'ryangebble', 1722: 'shepard', 1723: 'grexican', 1724: 'milk', 1725: 'killa', 1726: 'omgcant', 1727: 'hards', 1728: 'eyed', 1729: 'douch', 1730: 'mmmm', 1731: 'lisamromano', 1732: 'dufresnefrank', 1733: 'anytime', 1734: 'excited', 1735: 'elegant', 1736: 'gosh', 1737: 'cutting', 1738: 'cows', 1739: 'murder', 1740: 'inflated', 1741: 'menus', 1742: 'girlin', 1743: 'wayyy', 1744: 'till', 1745: 'pie', 1746: 'bringing', 1747: 'order', 1748: 'othermon', 1749: 'sausages', 1750: 'horse', 1751: 'katies', 1752: 'weirdness', 1753: 'coloured', 1754: 'amsatweet', 1755: 'slaggynotsassy', 1756: 'supposed', 1757: 'mary', 1758: 'sell', 1759: 'finished', 1760: 'cue', 1761: 'drasco', 1762: 'offered', 1763: 'dark', 1764: 'twice', 1765: 'automatically', 1766: 'fame', 1767: 'syazlicious', 1768: 'selfie', 1769: 'feet', 1770: 'faaark', 1771: 'tradie', 1772: 'drag', 1773: 'freaking', 1774: 'fmd', 1775: 'tall', 1776: 'colour', 1777: 'suekennedy', 1778: 'impossible', 1779: 'health', 1780: 'outraged', 1781: 'sposmanship', 1782: 'karmas', 1783: 'grown', 1784: 'campers', 1785: 'mainly', 1786: 'dummy', 1787: 'justsayin', 1788: 'serving', 1789: 'nails', 1790: 'bake', 1791: 'meatballs', 1792: 'stones', 1793: 'editing', 1794: 'kumkr', 1795: 'olympics', 1796: 'meh', 1797: 'karmaisabitch', 1798: 'humility', 1799: 'bums', 1800: 'finally', 1801: 'laughing', 1802: 'whack', 1803: 'ability', 1804: 'whoa', 1805: 'elderly', 1806: 'warrior', 1807: 'c', 1808: 'radical', 1809: 'threats', 1810: 'ryanklang', 1811: 'mereachingout', 1812: 'shterd', 1813: 'waynejburrows', 1814: 'chsommers', 1815: 'current', 1816: 'concept', 1817: 'pointing', 1818: 'pizza', 1819: 'engage', 1820: 'hire', 1821: 'blackbeard', 1822: 'fraud', 1823: 'powerful', 1824: 'cheering', 1825: 'screams', 1826: 'criticizing', 1827: 'heay', 1828: 'stab', 1829: 'ftrim', 1830: 'era', 1831: 'chooses', 1832: 'discrimination', 1833: 'questionsforwomen', 1834: 'isabellaesco', 1835: 'sometime', 1836: 'passed', 1837: 'led', 1838: 'denying', 1839: 'post', 1840: 'environment', 1841: 'feminismisawful', 1842: 'lied', 1843: 'attend', 1844: 'haven', 1845: 'egalitarian', 1846: 'projection', 1847: 'daughters', 1848: 'remynoh', 1849: 'groups', 1850: 'fit', 1851: 'plan', 1852: 'answers', 1853: 'swedish', 1854: 'fords', 1855: 'criticism', 1856: 'misandrist', 1857: 'bar', 1858: 'guns', 1859: 'waiting', 1860: 'clem', 1861: 'trump', 1862: 'thedailybeast', 1863: 'paicipating', 1864: 'continue', 1865: 'bottom', 1866: 'checked', 1867: 'valentis', 1868: 'blocks', 1869: 'unaware', 1870: 'examine', 1871: 'bother', 1872: 'gg', 1873: 'ht', 1874: 'lesleywallace', 1875: 'push', 1876: 'leaders', 1877: 'nuts', 1878: 'gaga', 1879: 'desire', 1880: 'accusation', 1881: 'toopawned', 1882: 'stabbed', 1883: 'fate', 1884: 'setting', 1885: 'context', 1886: 'socrates', 1887: 'reasonable', 1888: 'germany', 1889: 'exception', 1890: 'ftr', 1891: 'posting', 1892: 'scientist', 1893: 'ed', 1894: 'rd', 1895: 'gop', 1896: 'knowingly', 1897: 'repoing', 1898: 'nations', 1899: 'speak', 1900: 'added', 1901: 'dogsplained', 1902: 'butno', 1903: 'preventative', 1904: 'measures', 1905: 'superb', 1906: 'computer', 1907: 'science', 1908: 'shield', 1909: 'alecmachet', 1910: 'masterninja', 1911: 'ways', 1912: 'sharing', 1913: 'blank', 1914: 'propoional', 1915: 'race', 1916: 'praise', 1917: 'tactical', 1918: 'stats', 1919: 'markuslenz', 1920: 'inane', 1921: 'boxofbudgies', 1922: 'dontdatesjws', 1923: 'harriet', 1924: 'harman', 1925: 'op', 1926: 'opposite', 1927: 'non', 1928: 'achieve', 1929: 'equally', 1930: 'bank', 1931: 'defense', 1932: 'dviper', 1933: 'sympathy', 1934: 'danasheehan', 1935: 'office', 1936: 'sentence', 1937: 'difficult', 1938: 'boycottbrandy', 1939: 'desecrossing', 1940: 'repo', 1941: 'criticalkelly', 1942: 'menshumanrights', 1943: 'overall', 1944: 'understanding', 1945: 'finish', 1946: 'drinks', 1947: 'joelizaharrison', 1948: 'g', 1949: 'pockets', 1950: 'fruit', 1951: 'congress', 1952: 'light', 1953: 'mkriegbaumjr', 1954: 'allmale', 1955: 'lane', 1956: 'hottie', 1957: 'summer', 1958: 'kids', 1959: 'become', 1960: 'skill', 1961: 'deusexjuice', 1962: 'ricanroll', 1963: 'smh', 1964: 'selfawareness', 1965: 'dahkbub', 1966: 'vocalists', 1967: 'calebkn', 1968: 'fully', 1969: 'shelf', 1970: 'cars', 1971: 'forbid', 1972: 'dumbass', 1973: 'travisnashh', 1974: 'andythewookie', 1975: 'rildom', 1976: 'suppose', 1977: 'cgeddings', 1978: 'callums', 1979: 'ajkauffman', 1980: 'cocacola', 1981: 'evilsunbro', 1982: 'sexhonest', 1983: 'voted', 1984: 'polotek', 1985: 'pot', 1986: 'spatchcock', 1987: 'banging', 1988: 'unconscious', 1989: 'staing', 1990: 'hookers', 1991: 'hash', 1992: 'vile', 1993: 'theyve', 1994: 'barbies', 1995: 'narcissism', 1996: 'beavis', 1997: 'butthead', 1998: 'blond', 1999: 'fk', 2000: 'jus', 2001: 'leg', 2002: 'dreadful', 2003: 'httptcolpgtdopb', 2004: 'kim', 2005: 'kardashian', 2006: 'marriages', 2007: 'stretch', 2008: 'bang', 2009: 'skinny', 2010: 'neck', 2011: 'blow', 2012: 'bloke', 2013: 'runway', 2014: 'patricechienne', 2015: 'erections', 2016: 'lazy', 2017: 'finds', 2018: 'armpitvaginas', 2019: 'bloody', 2020: 'incompetent', 2021: 'pls', 2022: 'duck', 2023: 'geordie', 2024: 'shore', 2025: 'halfway', 2026: 'whip', 2027: 'fuckin', 2028: 'smirking', 2029: 'deadset', 2030: 'annoyed', 2031: 'gaaaaah', 2032: 'dare', 2033: 'crash', 2034: 'arghhhhh', 2035: 'despicable', 2036: 'rat', 2037: 'ahh', 2038: 'box', 2039: 'uglier', 2040: 'disgusting', 2041: 'rare', 2042: 'smiles', 2043: 'quiet', 2044: 'unpleasant', 2045: 'late', 2046: 'dry', 2047: 'reversed', 2048: 'driven', 2049: 'tear', 2050: 'dealing', 2051: 'onto', 2052: 'crossed', 2053: 'shovel', 2054: 'mkrkat', 2055: 'illegal', 2056: 'helped', 2057: 'benevolent', 2058: 'reach', 2059: 'potential', 2060: 'rarely', 2061: 'writers', 2062: 'friends', 2063: 'comments', 2064: 'paul', 2065: 'suggest', 2066: 'modern', 2067: 'vaginas', 2068: 'jessica', 2069: 'objectification', 2070: 'misogynists', 2071: 'cordovansplotch', 2072: 'jennifer', 2073: 'trend', 2074: 'knowledge', 2075: 'abo', 2076: 'shis', 2077: 'smaer', 2078: 'armpit', 2079: 'divorce', 2080: 'ruin', 2081: 'abillionjillian', 2082: 'teenage', 2083: 'dig', 2084: 'carry', 2085: 'baseball', 2086: 'attacking', 2087: 'pet', 2088: 'theory', 2089: 'beyonce', 2090: 'students', 2091: 'unblock', 2092: 'paying', 2093: 'gaming', 2094: 'cou', 2095: 'wreck', 2096: 'brain', 2097: 'carpet', 2098: 'hooker', 2099: 'perks', 2100: 'ales', 2101: 'cover', 2102: 'fap', 2103: 'organized', 2104: 'pic', 2105: 'fathers', 2106: 'hang', 2107: 'eliahr', 2108: 'tumblr', 2109: 'letstalkmen', 2110: 'anchors', 2111: 'iowa', 2112: 'seat', 2113: 'lvl', 2114: 'spell', 2115: 'backwards', 2116: 'aged', 2117: 'utterly', 2118: 'auto', 2119: 'ferrari', 2120: 'pretending', 2121: 'training', 2122: 'coaching', 2123: 'proper', 2124: 'staring', 2125: 'whilst', 2126: 'bug', 2127: 'sight', 2128: 'plane', 2129: 'announce', 2130: 'hussmiawad', 2131: 'ridicule', 2132: 'offence', 2133: 'compared', 2134: 'outta', 2135: 'commentary', 2136: 'fiction', 2137: 'raised', 2138: 'wheres', 2139: 'slightest', 2140: 'military', 2141: 'realtalk', 2142: 'siri', 2143: 'directions', 2144: 'dukevsunc', 2145: 'captaincoook', 2146: 'bikes', 2147: 'riding', 2148: 'erin', 2149: 'andrews', 2150: 'popular', 2151: 'painfulaugustus', 2152: 'lilysboo', 2153: 'realist', 2154: 'simply', 2155: 'jamiecowan', 2156: 'hee', 2157: 'httptcohbbhlccqs', 2158: 'periods', 2159: 'whatsoever', 2160: 'machine', 2161: 'classic', 2162: 'locked', 2163: 'ryben', 2164: 'arsenick', 2165: 'informed', 2166: 'lmfao', 2167: 'edgy', 2168: 'thecolouredkid', 2169: 'unfounate', 2170: 'ebah', 2171: 'mentions', 2172: 'ahall', 2173: 'yearolds', 2174: 'meet', 2175: 'stereotype', 2176: 'exceptions', 2177: 'standup', 2178: 'countries', 2179: 'ppl', 2180: 'justscared', 2181: 'magic', 2182: 'hoe', 2183: 'justmarn', 2184: 'scandalous', 2185: 'spaghetti', 2186: 'appropriate', 2187: 'sensip', 2188: 'feminine', 2189: 'mcgorrigan', 2190: 'laarrma', 2191: 'successfully', 2192: 'backed', 2193: 'scientific', 2194: 'belive', 2195: 'peyton', 2196: 'doctorj', 2197: 'lololol', 2198: 'curling', 2199: 'asian', 2200: 'lawyer', 2201: 'screamingfuck', 2202: 'books', 2203: 'athletes', 2204: 'buying', 2205: 'rhace', 2206: 'austinraysmith', 2207: 'sunday', 2208: 'paigedavey', 2209: 'justthetruth', 2210: 'several', 2211: 'therealfattlaff', 2212: 'marchandsego', 2213: 'protagonists', 2214: 'therealtempus', 2215: 'officmattpenny', 2216: 'def', 2217: 'stripper', 2218: 'roads', 2219: 'holes', 2220: 'grumpyvancouver', 2221: 'hosts', 2222: 'talks', 2223: 'chris', 2224: 'masculinity', 2225: 'fast', 2226: 'happened', 2227: 'telecast', 2228: 'license', 2229: 'douche', 2230: 'mannnn', 2231: 'outrage', 2232: 'replacement', 2233: 'blokes', 2234: 'aliffabr', 2235: 'motorcycle', 2236: 'shadeofritch', 2237: 'justfacts', 2238: 'mrlayedbak', 2239: 'sing', 2240: 'band', 2241: 'spoing', 2242: 'depends', 2243: 'tommyward', 2244: 'willtar', 2245: 'volume', 2246: 'christ', 2247: 'rorybrownmufc', 2248: 'phildoran', 2249: 'deanowen', 2250: 'compete', 2251: 'dumpweed', 2252: 'ibustos', 2253: 'johnsarkiss', 2254: 'pov', 2255: 'moviesehhhh', 2256: 'mjb', 2257: 'noshiku', 2258: 'ohthatliamm', 2259: 'odemwingplay', 2260: 'oldgfatherclock', 2261: 'gailsimone', 2262: 'immediately', 2263: 'scripted', 2264: 'sirlummox', 2265: 'richardmeal', 2266: 'trustedtrevor', 2267: 'reasons', 2268: 'driftr', 2269: 'budlightbro', 2270: 'lead', 2271: 'lorry', 2272: 'femshep', 2273: 'depth', 2274: 'cray', 2275: 'die', 2276: 'allfemale', 2277: 'davegreene', 2278: 'beepss', 2279: 'burritos', 2280: 'whiny', 2281: 'xkilluminati', 2282: 'mrstethompson', 2283: 'commentate', 2284: 'four', 2285: 'tadams', 2286: 'childhood', 2287: 'phones', 2288: 'temnightmre', 2289: 'iamyaokhari', 2290: 'wi', 2291: 'remake', 2292: 'imrippy', 2293: 'minikhoza', 2294: 'karlmalonee', 2295: 'bodies', 2296: 'holidays', 2297: 'skull', 2298: 'tomz', 2299: 'nsw', 2300: 'highly', 2301: 'gawd', 2302: 'httptcoyiskqvhmkh', 2303: 'deconstruct', 2304: 'waist', 2305: 'whatsnextjake', 2306: 'farm', 2307: 'reminds', 2308: 'wtfmkr', 2309: 'standout', 2310: 'disqualified', 2311: 'suicideblondes', 2312: 'newstand', 2313: 'photography', 2314: 'switching', 2315: 'mon', 2316: 'bimbolines', 2317: 'hrefhttptwittercom', 2318: 'web', 2319: 'clienta', 2320: 'salmonellaqueens', 2321: 'whistle', 2322: 'fingersinthemouth', 2323: 'ewwww', 2324: 'druitts', 2325: 'dazzling', 2326: 'chuck', 2327: 'aww', 2328: 'wouldve', 2329: 'kel', 2330: 'httptcochgkbrirw', 2331: 'napolon', 2332: 'perdis', 2333: 'bimboweaning', 2334: 'carlyandtresne', 2335: 'stevie', 2336: 'blondemoment', 2337: 'weeezza', 2338: 'jessiej', 2339: 'thevoiceau', 2340: 'nikkiandkatie', 2341: 'exposerealitytv', 2342: 'hahahahaha', 2343: 'dese', 2344: 'messlike', 2345: 'makers', 2346: 'gumboots', 2347: 'outof', 2348: 'barbie', 2349: 'lisastanbridge', 2350: 'eloisepeace', 2351: 'lukeyook', 2352: 'beautiful', 2353: 'painfulmorons', 2354: 'trinnybopper', 2355: 'finicalgal', 2356: 'nicki', 2357: 'lord', 2358: 'blondemomentfohe', 2359: 'kindergaen', 2360: 'tasks', 2361: 'infomercials', 2362: 'meatgirls', 2363: 'danis', 2364: 'shaunnagh', 2365: 'lemontas', 2366: 'irinalv', 2367: 'spajacock', 2368: 'mascaronie', 2369: 'atrocities', 2370: 'inse', 2371: 'brothers', 2372: 'globealone', 2373: 'lynn', 2374: 'violet', 2375: 'beauregarde', 2376: 'httptcoceohcawrk', 2377: 'flab', 2378: 'eeee', 2379: 'lilbeastunleash', 2380: 'unsposmanlike', 2381: 'chore', 2382: 'colinfassnidge', 2383: 'marking', 2384: 'sellingout', 2385: 'bottle', 2386: 'gen', 2387: 'neither', 2388: 'ct', 2389: 'wannabe', 2390: 'damnukat', 2391: 'bianca', 2392: 'swallow', 2393: 'cnts', 2394: 'mimothykaye', 2395: 'traction', 2396: 'ashpash', 2397: 'serieswe', 2398: 'revoir', 2399: 'jgray', 2400: 'cunce', 2401: 'katisadog', 2402: 'katisdi', 2403: 'musicshooter', 2404: 'ginga', 2405: 'roundto', 2406: 'patsherlock', 2407: 'youngmkr', 2408: 'pork', 2409: 'wedancedonce', 2410: 'danielkaye', 2411: 'katisawanker', 2412: 'httptcoofozak', 2413: 'awww', 2414: 'mmm', 2415: 'bittersweet', 2416: 'victory', 2417: 'draskos', 2418: 'insanity', 2419: 'cymriaaa', 2420: 'syndrome', 2421: 'borrowed', 2422: 'cuntandarsehole', 2423: 'firstelimination', 2424: 'beatitdogs', 2425: 'feckkkk', 2426: 'gemmarogers', 2427: 'gracious', 2428: 'compmkr', 2429: 'younghot', 2430: 'knowshow', 2431: 'awe', 2432: 'victorias', 2433: 'nikkioh', 2434: 'target', 2435: 'marykaye', 2436: 'katreally', 2437: 'tasteless', 2438: 'island', 2439: 'foolthey', 2440: 'poppin', 2441: 'pug', 2442: 'ep', 2443: 'bobble', 2444: 'cuntstill', 2445: 'crazykat', 2446: 'suffer', 2447: 'smugbitch', 2448: 'comin', 2449: 'bobs', 2450: 'surprise', 2451: 'lynnemcgranger', 2452: 'catchup', 2453: 'crazydame', 2454: 'pieceofwork', 2455: 'mandurah', 2456: 'moll', 2457: 'newscomauhq', 2458: 'katstupiditybully', 2459: 'aroundshe', 2460: 'soongo', 2461: 'rose', 2462: 'joshrob', 2463: 'lynzey', 2464: 'pity', 2465: 'nastier', 2466: 'pckeane', 2467: 'sa', 2468: 'pounding', 2469: 'kca', 2470: 'votejktid', 2471: 'auspolquesttime', 2472: 'prawn', 2473: 'hsaymssik', 2474: 'hubs', 2475: 'skankkat', 2476: 'tent', 2477: 'burp', 2478: 'httptcotzlbeysx', 2479: 'childishxbreezy', 2480: 'loool', 2481: 'delusionalcow', 2482: 'deanmachine', 2483: 'cookmkr', 2484: 'ashleylukee', 2485: 'niamhbull', 2486: 'grrrrrr', 2487: 'bahahaha', 2488: 'kristinaaegger', 2489: 'initialsgames', 2490: 'charming', 2491: 'addmkr', 2492: 'annielloyd', 2493: 'offshit', 2494: 'shitmkr', 2495: 'whatdrugproblem', 2496: 'bbqs', 2497: 'wimps', 2498: 'celineelephant', 2499: 'nailedit', 2500: 'rounds', 2501: 'durrie', 2502: 'cuntandandrenot', 2503: 'surprisingmkr', 2504: 'chinese', 2505: 'krazyeyeskat', 2506: 'hungrycampers', 2507: 'hearings', 2508: 'chereecorbin', 2509: 'feminazi', 2510: 'rad', 2511: 'yunglibearian', 2512: 'explaingop', 2513: 'nominate', 2514: 'coand', 2515: 'wh', 2516: 'httptcoqftaqlytnd', 2517: 'slutwalkto', 2518: 'filotto', 2519: 'bowtieguy', 2520: 'mylostgadget', 2521: 'woc', 2522: 'doingthinking', 2523: 'httptcosvxfppihef', 2524: 'kinghatemode', 2525: 'monkey', 2526: 'httptcodq', 2527: 'gssipsquirrelx', 2528: 'guesswhat', 2529: 'menwomen', 2530: 'kirstarific', 2531: 'justiceforanita', 2532: 'onemust', 2533: 'timesso', 2534: 'tammykennon', 2535: 'httptcoqirddb', 2536: 'timesyou', 2537: 'telegraph', 2538: 'httptcoullegknyy', 2539: 'feminazifront', 2540: 'kaijusoshingeki', 2541: 'cultofvivian', 2542: 'ineedmeninismbecause', 2543: 'feministstheir', 2544: 'offlimits', 2545: 'hypocrisies', 2546: 'welcome', 2547: 'httptcogbnxywpg', 2548: 'princelaqroix', 2549: 'eliot', 2550: 'rodger', 2551: 'vio', 2552: 'oneright', 2553: 'httptcoyteir', 2554: 'pmb', 2555: 'madden', 2556: 'livbo', 2557: 'mojgovuk', 2558: 'erikalopezdurel', 2559: 'weeds', 2560: 'cracks', 2561: 'talisasofie', 2562: 'dannyvelasco', 2563: 'russian', 2564: 'meninism', 2565: 'uva', 2566: 'hoax', 2567: 'galaxyallie', 2568: 'thatfrancopoli', 2569: 'hacks', 2570: 'ranch', 2571: 'pineapple', 2572: 'monsters', 2573: 'postthats', 2574: 'whitest', 2575: 'knight', 2576: 'almain', 2577: 'jackbarnesmra', 2578: 'avoiceformen', 2579: 'girlwriteswhat', 2580: 'da', 2581: 'womenz', 2582: 'oppwessed', 2583: 'tonygoze', 2584: 'amyjoryan', 2585: 'needtwit', 2586: 'amyalkon', 2587: 'basic', 2588: 'fairness', 2589: 'revolutionary', 2590: 'washington', 2591: 'detroit', 2592: 'rationalmale', 2593: 'httptcoxbekiefs', 2594: 'jacquescuze', 2595: 'kimoidoutei', 2596: 'jenlawliet', 2597: 'switchmanzzz', 2598: 'httptcoabiggtzph', 2599: 'grabbing', 2600: 'httptcohmtwwzpt', 2601: 'menonstrike', 2602: 'httptcoeavlrraa', 2603: 'argumentsjust', 2604: 'rejectraine', 2605: 'thatfeminism', 2606: 'whew', 2607: 'ideaor', 2608: 'bloodmouthview', 2609: 'snugrailgun', 2610: 'mr', 2611: 'dubai', 2612: 'httptcodfcian', 2613: 'brofreq', 2614: 'founate', 2615: 'httptcopctrrmpvy', 2616: 'hotpocky', 2617: 'jtpuhlyak', 2618: 'orbvase', 2619: 'lynndp', 2620: 'dudebro', 2621: 'trek', 2622: 'actor', 2623: 'jeopardy', 2624: 'vikings', 2625: 'whiteblack', 2626: 'salon', 2627: 'feminismgender', 2628: 'specificity', 2629: 'twitnrun', 2630: 'olewahr', 2631: 'norah', 2632: 'vincent', 2633: 'httpstcoymwxwaqgv', 2634: 'scotsman', 2635: 'workplace', 2636: 'frankworleypr', 2637: 'httptcoidinjglje', 2638: 'doctrinedark', 2639: 'hereright', 2640: 'option', 2641: 'accurate', 2642: 'obtuse', 2643: 'httptcoxojhwhuiz', 2644: 'mrlowercasea', 2645: 'pedos', 2646: 'einstein', 2647: 'themlot', 2648: 'needles', 2649: 'mislabeled', 2650: 'cisrabbit', 2651: 'loose', 2652: 'freudian', 2653: 'curiousdo', 2654: 'aly', 2655: 'juliarforster', 2656: 'httptcoixbtuchn', 2657: 'methout', 2658: 'trap', 2659: 'httptcoumkbqyfa', 2660: 'gags', 2661: 'httptcowunsjmh', 2662: 'chrisdowns', 2663: 'topical', 2664: 'httptcorrpizrrpe', 2665: 'fugly', 2666: 'filthydegen', 2667: 'reused', 2668: 'dunno', 2669: 'fatboyisangry', 2670: 'feminisms', 2671: 'strongbut', 2672: 'pam', 2673: 'carmen', 2674: 'googled', 2675: 'tsupdawgs', 2676: 'httptcoptkwkpp', 2677: 'davidiclineage', 2678: 'exhibits', 2679: 'vz', 2680: 'httptcoxdhuvqel', 2681: 'domesticpirate', 2682: 'vosnic', 2683: 'uomo', 2684: 'conversations', 2685: 'hmmmthats', 2686: 'bathing', 2687: 'httptcoyk', 2688: 'sjhough', 2689: 'heyhow', 2690: 'ryangg', 2691: 'adoption', 2692: 'bound', 2693: 'conversely', 2694: 'juliagoolia', 2695: 'iamchantastic', 2696: 'sons', 2697: 'httptcothwizqdbr', 2698: 'anikaroseaus', 2699: 'wildeahur', 2700: 'morafornelli', 2701: 'clementineford', 2702: 'meff', 2703: 'escapevelo', 2704: 'jakesayshibro', 2705: 'yw', 2706: 'tags', 2707: 'httptcofrgiqmng', 2708: 'monogamy', 2709: 'nearinstant', 2710: 'httptcoywmcialv', 2711: 'jsydneym', 2712: 'ideology', 2713: 'httptcogbvojnmbcv', 2714: 'approach', 2715: 'rawobjectivism', 2716: 'christina', 2717: 'hoff', 2718: 'anecdotes', 2719: 'loserbtw', 2720: 'hopefully', 2721: 'wayjameso', 2722: 'coyotes', 2723: 'seattle', 2724: 'building', 2725: 'vegas', 2726: 'aviname', 2727: 'kachoarinodesu', 2728: 'hacksis', 2729: 'cattle', 2730: 'httptcopgehzuqt', 2731: 'atlspospayton', 2732: 'ga', 2733: 'didntthat', 2734: 'oneand', 2735: 'notthats', 2736: 'httptcolmpvpjvsyx', 2737: 'writerthink', 2738: 'po', 2739: 'anthony', 2740: 'luckykaa', 2741: 'sjw', 2742: 'pride', 2743: 'geekyjessica', 2744: 'wiemanindenwald', 2745: 'sooooo', 2746: 'parents', 2747: 'trojan', 2748: 'chappygolucky', 2749: 'wasis', 2750: 'underwaterprick', 2751: 'httptcogqlkjhwvqq', 2752: 'paetron', 2753: 'disability', 2754: 'httptcoxhxdywxi', 2755: 'hmmpossible', 2756: 'tabloids', 2757: 'boxes', 2758: 'donald', 2759: 'sultrasov', 2760: 'billrigg', 2761: 'picwhatting', 2762: 'nothis', 2763: 'kittiedolls', 2764: 'tiodecapanegra', 2765: 'zbruceey', 2766: 'wellid', 2767: 'latter', 2768: 'httptcoqamyrwdw', 2769: 'httptcodmidwxps', 2770: 'favoritewhen', 2771: 'democrats', 2772: 'diseased', 2773: 'nubionicwoman', 2774: 'conception', 2775: 'dwidgy', 2776: 'define', 2777: 'ajm', 2778: 'hmmwhich', 2779: 'column', 2780: 'columbiaspec', 2781: 'emmasulkowicz', 2782: 'httptcozjwjwnjsj', 2783: 'sociopolital', 2784: 'autobotblades', 2785: 'equivalency', 2786: 'httptcodcjprecjcx', 2787: 'decries', 2788: 'butsure', 2789: 'malugatto', 2790: 'httptcoghodnwoj', 2791: 'understatement', 2792: 'sjwlogic', 2793: 'sears', 2794: 'tower', 2795: 'puddle', 2796: 'wrongsexist', 2797: 'httptcoqmhfsyik', 2798: 'ided', 2799: 'silverwolfcc', 2800: 'unrelated', 2801: 'highlander', 2802: 'fletch', 2803: 'gb', 2804: 'opposed', 2805: 'httptcoanoubgcrr', 2806: 'econtried', 2807: 'antifeminists', 2808: 'oscoscoscosc', 2809: 'ploy', 2810: 'east', 2811: 'httptcopuyimqjk', 2812: 'jarodfrye', 2813: 'african', 2814: 'americans', 2815: 'spanish', 2816: 'minorities', 2817: 'allow', 2818: 'nobullshitgamin', 2819: 'conan', 2820: 'obrien', 2821: 'absurd', 2822: 'shockfems', 2823: 'schools', 2824: 'plaidcat', 2825: 'excellent', 2826: 'blasphemy', 2827: 'mlk', 2828: 'depament', 2829: 'adaj', 2830: 'terry', 2831: 'pendleton', 2832: 'pencil', 2833: 'filled', 2834: 'jamesbolton', 2835: 'unpc', 2836: 'comix', 2837: 'httptcordzdcqhjsc', 2838: 'sexyconserv', 2839: 'meantcan', 2840: 'httptcoigvxqzqj', 2841: 'pace', 2842: 'foxfairy', 2843: 'sbhouse', 2844: 'gamediviner', 2845: 'defiant', 2846: 'vancanucks', 2847: 'captaincanuck', 2848: 'raidersgirl', 2849: 'questionof', 2850: 'apathy', 2851: 'wiki', 2852: 'mythat', 2853: 'wmd', 2854: 'destruction', 2855: 'aloneyes', 2856: 'mothers', 2857: 'loveandlonging', 2858: 'extentwe', 2859: 'optionschoices', 2860: 'mharrisperry', 2861: 'blacklivesmatter', 2862: 'brian', 2863: 'banks', 2864: 'candidate', 2865: 'butbush', 2866: 'santorum', 2867: 'huckabee', 2868: 'suspended', 2869: 'acct', 2870: 'stalked', 2871: 'httptcockdwbywqv', 2872: 'jewelry', 2873: 'however', 2874: 'goebbels', 2875: 'questionresearch', 2876: 'jakepentland', 2877: 'burping', 2878: 'sneezing', 2879: 'somoot', 2880: 'paicles', 2881: 'recanted', 2882: 'france', 2883: 'switzerland', 2884: 'india', 2885: 'calcetin', 2886: 'founders', 2887: 'imprisonedrider', 2888: 'mikeyfenn', 2889: 'occasion', 2890: 'sois', 2891: 'fulleray', 2892: 'httptcoxdicmjhbo', 2893: 'riley', 2894: 'stern', 2895: 'biovians', 2896: 'eah', 2897: 'purposelyflawed', 2898: 'httptcopktltxbz', 2899: 'cerebrawl', 2900: 'npd', 2901: 'bipolarity', 2902: 'illinois', 2903: 'pd', 2904: 'gamercathenri', 2905: 'oldisolatedfits', 2906: 'rule', 2907: 'measured', 2908: 'payingi', 2909: 'madmax', 2910: 'ozyratisbon', 2911: 'payment', 2912: 'reduce', 2913: 'incentive', 2914: 'gamerbobobobob', 2915: 'mlktestbot', 2916: 'aliennnqueen', 2917: 'jewss', 2918: 'httptcoxenjexkh', 2919: 'sinisterben', 2920: 'phasmatis', 2921: 'liberalfem', 2922: 'formerly', 2923: 'michsomething', 2924: 'offereds', 2925: 'sopranojm', 2926: 'relate', 2927: 'oveime', 2928: 'stanley', 2929: 'finals', 2930: 'dvr', 2931: 'sergeantkozi', 2932: 'radioclashed', 2933: 'catsarehorrible', 2934: 'honeybadgerbite', 2935: 'naughtynerdess', 2936: 'stanphilo', 2937: 'httptcoeaktgodfy', 2938: 'codenamewiax', 2939: 'rhwanda', 2940: 'ghana', 2941: 'bunk', 2942: 'innominatesterd', 2943: 'hatemy', 2944: 'eversorry', 2945: 'conservmiss', 2946: 'httptcopnhzjrhhqr', 2947: 'laurahollis', 2948: 'brando', 2949: 'justcurious', 2950: 'incentives', 2951: 'jenniferkatefps', 2952: 'hormonal', 2953: 'testerosterone', 2954: 'rosesareswift', 2955: 'httptcoiyxiisjajp', 2956: 'mikedevil', 2957: 'httptcogdqgeqw', 2958: 'mansplained', 2959: 'keengaze', 2960: 'apolocalypses', 2961: 'pointwalk', 2962: 'bruce', 2963: 'willis', 2964: 'marciacrocker', 2965: 'detestable', 2966: 'hmm', 2967: 'httptcoyuwouzugw', 2968: 'nono', 2969: 'physical', 2970: 'recourse', 2971: 'janellebrindle', 2972: 'lancewalton', 2973: 'sassnpearls', 2974: 'decency', 2975: 'beavergate', 2976: 'beaver', 2977: 'monoculturalist', 2978: 'mfing', 2979: 'union', 2980: 'invite', 2981: 'andrewbleh', 2982: 'rambo', 2983: 'nes', 2984: 'thoughtful', 2985: 'gearhea', 2986: 'dazzythemermaid', 2987: 'bbrad', 2988: 'racists', 2989: 'homophobia', 2990: 'wam', 2991: 'bans', 2992: 'twoone', 2993: 'solutions', 2994: 'chemaly', 2995: 'twit', 2996: 'master', 2997: 'pottyparity', 2998: 'jjordon', 2999: 'reefer', 3000: 'romneys', 3001: 'suppoer', 3002: 'difooljohn', 3003: 'httptconssxyzjxfk', 3004: 'sushilulutwitch', 3005: 'info', 3006: 'storytelling', 3007: 'shedoes', 3008: 'dems', 3009: 'httptcosffgep', 3010: 'readsee', 3011: 'ideawhat', 3012: 'rbpundit', 3013: 'scott', 3014: 'cappyd', 3015: 'chevaldayoff', 3016: 'weightwhat', 3017: 'jets', 3018: 'decades', 3019: 'playbook', 3020: 'motorcitybellex', 3021: 'satanplss', 3022: 'jeb', 3023: 'menrwizards', 3024: 'maniacmcgee', 3025: 'thespypoet', 3026: 'sameexcept', 3027: 'usdnobody', 3028: 'fakeuntil', 3029: 'longno', 3030: 'poejust', 3031: 'endsexabusenow', 3032: 'smackfacemcgee', 3033: 'atrocious', 3034: 'starius', 3035: 'httptcocctwstqry', 3036: 'outcome', 3037: 'conce', 3038: 'genius', 3039: 'httptcocsepnxse', 3040: 'antiyou', 3041: 'sorryi', 3042: 'ideareal', 3043: 'termites', 3044: 'snstrmephisto', 3045: 'indiecadeeast', 3046: 'competitions', 3047: 'proposals', 3048: 'bsklein', 3049: 'quetzalcoatlel', 3050: 'kanes', 3051: 'letang', 3052: 'fraaanksalazar', 3053: 'brilliant', 3054: 'httptcoytokdpaiga', 3055: 'httptcolmwvaegsa', 3056: 'peterpois', 3057: 'sulkowiczs', 3058: 'httptcov', 3059: 'manabanana', 3060: 'httptcowyzllpbfs', 3061: 'ardentadvocate', 3062: 'welding', 3063: 'kinderganers', 3064: 'iribrise', 3065: 'seriouslywent', 3066: 'fakedumb', 3067: 'holyplease', 3068: 'wendymcelroy', 3069: 'youngs', 3070: 'columbia', 3071: 'themanclaw', 3072: 'yesand', 3073: 'suppos', 3074: 'margaret', 3075: 'sangers', 3076: 'battleofwho', 3077: 'hence', 3078: 'ty', 3079: 'appreciated', 3080: 'steal', 3081: 'ivf', 3082: 'effective', 3083: 'christian', 3084: 'grey', 3085: 'righ', 3086: 'hannahashpole', 3087: 'pensinitiative', 3088: 'retweet', 3089: 'fav', 3090: 'rogers', 3091: 'mcdavid', 3092: 'sabres', 3093: 'eichel', 3094: 'sp', 3095: 'rekindles', 3096: 'torbuf', 3097: 'wizardofcause', 3098: 'percei', 3099: 'okbut', 3100: 'parodying', 3101: 'ludacris', 3102: 'sholy', 3103: 'mybodymychoice', 3104: 'httptcooqppgewue', 3105: 'antinatal', 3106: 'tos', 3107: 'thoughtoffense', 3108: 'femfreq', 3109: 'httptcoeogiqyok', 3110: 'fleury', 3111: 'sid', 3112: 'canty', 3113: 'futurefeminism', 3114: 'justdavidvideos', 3115: 'httptcotiqdnnipbw', 3116: 'guessits', 3117: 'hed', 3118: 'seth', 3119: 'jones', 3120: 'chloeseashell', 3121: 'sjwish', 3122: 'spoton', 3123: 'httptcofchqfyhkdb', 3124: 'causticsodafizz', 3125: 'autumnreinhardt', 3126: 'daseetmane', 3127: 'aguyuno', 3128: 'analogy', 3129: 'twitfem', 3130: 'sjws', 3131: 'chouhos', 3132: 'unoriginalbabe', 3133: 'stare', 3134: 'scottmclelland', 3135: 'adriarichards', 3136: 'securedhappines', 3137: 'williambakergg', 3138: 'mcentropy', 3139: 'jezebel', 3140: 'marcotte', 3141: 'carnell', 3142: 'mensrightsrdt', 3143: 'mensrightsreddit', 3144: 'httptcovoffuhmnas', 3145: 'kathleen', 3146: 'mccar', 3147: 'httptcotjltpfdn', 3148: 'months', 3149: 'mckinnon', 3150: 'ahemas', 3151: 'pens', 3152: 'souh', 3153: 'sniper', 3154: 'fiftyshades', 3155: 'toobut', 3156: 'scouting', 3157: 'patimehobo', 3158: 'redhurricane', 3159: 'mehif', 3160: 'myers', 3161: 'armia', 3162: 'lemieux', 3163: 'assets', 3164: 'cyandvai', 3165: 'democrat', 3166: 'breed', 3167: 'verified', 3168: 'lndlerock', 3169: 'httptcornumpjhjh', 3170: 'organization', 3171: 'commie', 3172: 'trucker', 3173: 'wellits', 3174: 'httptcofqozcwczb', 3175: 'mcdavideichel', 3176: 'geographicdivision', 3177: 'ultraliberal', 3178: 'archibaldcrane', 3179: 'mlkwow', 3180: 'compares', 3181: 'gende', 3182: 'koss', 3183: 'plural', 3184: 'misplaced', 3185: 'notificationsvery', 3186: 'annoyinglose', 3187: 'wavinator', 3188: 'chobitcoin', 3189: 'hts', 3190: 'rothbarbarian', 3191: 'cuckooduuude', 3192: 'httptcodagaioapd', 3193: 'somestrangefx', 3194: 'equalatbih', 3195: 'vicesandviagra', 3196: 'gibberaus', 3197: 'ruleofthumbumd', 3198: 'criticallywho', 3199: 'chrismmcdougall', 3200: 'expectations', 3201: 'comparatively', 3202: 'imagine', 3203: 'tom', 3204: 'cruise', 3205: 'triple', 3206: 'squat', 3207: 'ohlike', 3208: 'btwpunching', 3209: 'dissentand', 3210: 'factsand', 3211: 'gray', 3212: 'pantssweatshi', 3213: 'httptcomnhbayi', 3214: 'httptcoupchdsf', 3215: 'httptcorgjjnbutao', 3216: 'httptcokazmqmynq', 3217: 'httptcorosxht', 3218: 'sealioning', 3219: 'although', 3220: 'brigadeering', 3221: 'dogging', 3222: 'shahanamin', 3223: 'thingsdo', 3224: 'mhwitchfinder', 3225: 'httptcohpydzetrpn', 3226: 'httptcoodfbicebr', 3227: 'econ', 3228: 'belzer', 3229: 'ric', 3230: 'ocasek', 3231: 'carsim', 3232: 'torn', 3233: 'harry', 3234: 'mighthe', 3235: 'butsomeone', 3236: 'estimates', 3237: 'rotherham', 3238: 'redux', 3239: 'cytheria', 3240: 'undeadturning', 3241: 'stories', 3242: 'lucywalcott', 3243: 'nomurud', 3244: 'bastille', 3245: 'knowwas', 3246: 'yetno', 3247: 'helen', 3248: 'uhhow', 3249: 'nicely', 3250: 'maddy', 3251: 'isnot', 3252: 'smaat', 3253: 'lemming', 3254: 'jaasboyle', 3255: 'httptcoogqjfsy', 3256: 'jiabrahams', 3257: 'malesuicide', 3258: 'vawa', 3259: 'accuseds', 3260: 'owncommenting', 3261: 'actoractress', 3262: 'notthelastmaybe', 3263: 'rate', 3264: 'terrorism', 3265: 'httpstcoonrvctoxv', 3266: 'slim', 3267: 'thug', 3268: 'httpstcoycbqvtti', 3269: 'anaswanson', 3270: 'httptcoaddvaadvtw', 3271: 'thatthats', 3272: 'nutshell', 3273: 'folder', 3274: 'druid', 3275: 'effo', 3276: 'cwgusu', 3277: 'madeunless', 3278: 'idiocy', 3279: 'closed', 3280: 'seei', 3281: 'drawing', 3282: 'excluded', 3283: 'indust', 3284: 'beerandfeminism', 3285: 'wyowanderer', 3286: 'shhhno', 3287: 'hints', 3288: 'prostathlitis', 3289: 'sinclair', 3290: 'trifecta', 3291: 'offthecuff', 3292: 'clai', 3293: 'david', 3294: 'wrongnowshutup', 3295: 'blixkrogg', 3296: 'disgruntlegamer', 3297: 'juliandavis', 3298: 'email', 3299: 'iswai', 3300: 'charlestrakshel', 3301: 'thehaternation', 3302: 'couesy', 3303: 'tonyarko', 3304: 'hairman', 3305: 'patriciaarquette', 3306: 'httptcokckrnbaai', 3307: 'priorjust', 3308: 'mrjackalstalks', 3309: 'lemmonteagg', 3310: 'oddly', 3311: 'insulted', 3312: 'hollywoodtake', 3313: 'httptconwpuifwby', 3314: 'mcall', 3315: 'charlicehurst', 3316: 'nm', 3317: 'facerealitynow', 3318: 'sawed', 3319: 'httptconliudkfdw', 3320: 'jimyisahappyboy', 3321: 'gee', 3322: 'fatslagsad', 3323: 'knowthats', 3324: 'flynnicism', 3325: 'butthanks', 3326: 'rapebombing', 3327: 'httptcoqclsqaxojr', 3328: 'arielamigdal', 3329: 'norsegamer', 3330: 'httptconjpantsq', 3331: 'grampybone', 3332: 'leyna', 3333: 'kimpalencia', 3334: 'arquette', 3335: 'ryansorge', 3336: 'prisons', 3337: 'thehiredmind', 3338: 'untag', 3339: 'httptcorpuhmyj', 3340: 'scoutnj', 3341: 'njemm', 3342: 'jimyisahappyb', 3343: 'paygap', 3344: 'solution', 3345: 'httptcohkfsnhfine', 3346: 'equalrights', 3347: 'ardentlyaphotic', 3348: 'httptcominfqsdy', 3349: 'sigh', 3350: 'httptcoszpwoilvvp', 3351: 'kaitlynshae', 3352: 'racket', 3353: 'drip', 3354: 'depenthene', 3355: 'perydwyn', 3356: 'vettedvixen', 3357: 'kkk', 3358: 'httptcorumtnvpxs', 3359: 'owynnp', 3360: 'lookbecause', 3361: 'jodiarias', 3362: 'breath', 3363: 'httptcoboagdo', 3364: 'kainlarsen', 3365: 'gigagiga', 3366: 'nowdidnt', 3367: 'nafalt', 3368: 'pirates', 3369: 'httptcoucmkptqwr', 3370: 'chances', 3371: 'dasjef', 3372: 'pattypickles', 3373: 'dishonest', 3374: 'mrm', 3375: 'httptcocyhcdyu', 3376: 'themercedesxxx', 3377: 'httptcowpjpwteqn', 3378: 'moderncomments', 3379: 'liberals', 3380: 'threat', 3381: 'mcrelyt', 3382: 'wapolaying', 3383: 'tragic', 3384: 'httptcoeywcrwoaf', 3385: 'cousins', 3386: 'sprinkles', 3387: 'winners', 3388: 'leonhwolf', 3389: 'jimmy', 3390: 'buffett', 3391: 'sawuntil', 3392: 'maury', 3393: 'pmforeheadsp', 3394: 'rightjust', 3395: 'personvalentis', 3396: 'salemp', 3397: 'midnitebacon', 3398: 'blaqangus', 3399: 'nimoy', 3400: 'og', 3401: 'galvatron', 3402: 'rip', 3403: 'httptcouyquzhqjl', 3404: 'nolanwhyte', 3405: 'spangnation', 3406: 'dioxide', 3407: 'welles', 3408: 'chrisjenki', 3409: 'jodi', 3410: 'arias', 3411: 'convicted', 3412: 'murderer', 3413: 'butalong', 3414: 'riot', 3415: 'flyers', 3416: 'sync', 3417: 'forwards', 3418: 'httptcoiaimkwfc', 3419: 'wrcorg', 3420: 'ucla', 3421: 'libels', 3422: 'httptconfqigwky', 3423: 'borisnemtsov', 3424: 'sai', 3425: 'ducesettutamen', 3426: 'httptcodldxhctq', 3427: 'advocate', 3428: 'maravillatom', 3429: 'coburn', 3430: 'mistaketook', 3431: 'timonen', 3432: 'hextall', 3433: 'pondereroftruth', 3434: 'rag', 3435: 'seasonbut', 3436: 'gibson', 3437: 'butducks', 3438: 'nethercotteden', 3439: 'et', 3440: 'tu', 3441: 'httptcoevsrefrd', 3442: 'dunnoran', 3443: 'charactersmeant', 3444: 'transformers', 3445: 'godfreyelfwick', 3446: 'jowilliams', 3447: 'internationalwomensday', 3448: 'foxclaire', 3449: 'clairlemon', 3450: 'clkitchens', 3451: 'xxfactor', 3452: 'shoulda', 3453: 'richards', 3454: 'caer', 3455: 'bob', 3456: 'orangepuck', 3457: 'rutherford', 3458: 'fanthat', 3459: 'radleybalko', 3460: 'univ', 3461: 'colorado', 3462: 'httptcouhtv', 3463: 'destintruehea', 3464: 'itdefinition', 3465: 'httptcodokgsrlg', 3466: 'xrocknroll', 3467: 'trollingyou', 3468: 'tw', 3469: 'mzi', 3470: 'hayi', 3471: 'anikahle', 3472: 'reverenddg', 3473: 'window', 3474: 'ideal', 3475: 'oversensitive', 3476: 'dogscaged', 3477: 'justinthyme', 3478: 'bgtruckdriver', 3479: 'joyintorah', 3480: 'chas', 3481: 'grammy', 3482: 'noms', 3483: 'everywhere', 3484: 'dubhe', 3485: 'howmariefeels', 3486: 'tvexpe', 3487: 'hostel', 3488: 'xwritersblockx', 3489: 'itnever', 3490: 'boomerangwang', 3491: 'karengeier', 3492: 'ticklishquill', 3493: 'soeasy', 3494: 'campbellpaton', 3495: 'canadian', 3496: 'joshcobbler', 3497: 'cassandrayoung', 3498: 'causticdefiler', 3499: 'httptcojyqmqjuhua', 3500: 'jevensteakobson', 3501: 'rhysdempsey', 3502: 'justfunny', 3503: 'httptcopdfuivuyg', 3504: 'tichacekwill', 3505: 'wars', 3506: 'tnolton', 3507: 'redidi', 3508: 'homed', 3509: 'ronndeezy', 3510: 'httptcoyivoaryt', 3511: 'austindrawbond', 3512: 'richconnor', 3513: 'jamesaltoft', 3514: 'krayfish', 3515: 'language', 3516: 'keepitclean', 3517: 'sfxvii', 3518: 'watzittoyaa', 3519: 'micross', 3520: 'kinnleeb', 3521: 'brazil', 3522: 'notsexis', 3523: 'imudassir', 3524: 'gtlt', 3525: 'masontillidie', 3526: 'mattissotrendy', 3527: 'umarzf', 3528: 'mrwrong', 3529: 'eskimotori', 3530: 'enriquetreto', 3531: 'jiggathatnigga', 3532: 'jeandalmeida', 3533: 'lovrmesomefood', 3534: 'sexistim', 3535: 'selfentitlement', 3536: 'gifs', 3537: 'thisisfnw', 3538: 'biology', 3539: 'jkow', 3540: 'autofill', 3541: 'httptcokfaguit', 3542: 'mikesmash', 3543: 'smouv', 3544: 'rmv', 3545: 'theeaglesfan', 3546: 'kbeelrsreiyen', 3547: 'ratchlex', 3548: 'myaunt', 3549: 'musicyousavedme', 3550: 'wnbaill', 3551: 'thumperbryan', 3552: 'thoughts', 3553: 'zachduffy', 3554: 'tammy', 3555: 'theater', 3556: 'guaranteed', 3557: 'notse', 3558: 'phlight', 3559: 'parented', 3560: 'meganavocado', 3561: 'ha', 3562: 'amman', 3563: 'arabdizzle', 3564: 'gabronies', 3565: 'misfitinchains', 3566: 'butthor', 3567: 'geclassicevent', 3568: 'driverless', 3569: 'capehog', 3570: 'jedediahbila', 3571: 'approves', 3572: 'glenneheath', 3573: 'thunder', 3574: 'olipeace', 3575: 'omahajon', 3576: 'johnrbubba', 3577: 'spencerkaer', 3578: 'megan', 3579: 'dice', 3580: 'larry', 3581: 'collins', 3582: 'wcbd', 3583: 'weekends', 3584: 'inexperienced', 3585: 'matt', 3586: 'wanker', 3587: 'cu', 3588: 'rapezone', 3589: 'ollielobb', 3590: 'wkjase', 3591: 'franga', 3592: 'gimpymuse', 3593: 'equalist', 3594: 'mayatyahya', 3595: 'motdfuck', 3596: 'hq', 3597: 'strubbestition', 3598: 'ldyjerie', 3599: 'limit', 3600: 'mattlegend', 3601: 'harrysteanson', 3602: 'nots', 3603: 'asyrfmzlan', 3604: 'lavita', 3605: 'sabc', 3606: 'lewisburgkid', 3607: 'whodat', 3608: 'womanswork', 3609: 'ocaritna', 3610: 'aaand', 3611: 'simondrewery', 3612: 'wise', 3613: 'kennedyjordan', 3614: 'beings', 3615: 'latenightthoughts', 3616: 'swifteryt', 3617: 'footballears', 3618: 'gspotnacht', 3619: 'mothernature', 3620: 'vicky', 3621: 'forkingawesome', 3622: 'miami', 3623: 'greatfood', 3624: 'greatcompany', 3625: 'peteampmanu', 3626: 'howdoyouevenselfie', 3627: 'thai', 3628: 'httpstcoegbqlo', 3629: 'woops', 3630: 'misfoune', 3631: 'thedooristhatway', 3632: 'blows', 3633: 'naked', 3634: 'someones', 3635: 'whatacow', 3636: 'critiqueshes', 3637: 'garydlum', 3638: 'missy', 3639: 'drool', 3640: 'manufeildel', 3641: 'fourinhand', 3642: 'perfection', 3643: 'superiorfruit', 3644: 'graceville', 3645: 'brisbane', 3646: 'foodie', 3647: 'goodfoodie', 3648: 'httpstcolfutzymhmh', 3649: 'congratulations', 3650: 'reckon', 3651: 'braxtondsnyder', 3652: 'kara', 3653: 'lawson', 3654: 'colonelkickhead', 3655: 'immichaeldixon', 3656: 'vacuous', 3657: 'condescending', 3658: 'putrid', 3659: 'bland', 3660: 'jaccidental', 3661: 'jennawilkins', 3662: 'cake', 3663: 'nb', 3664: 'httptcobjuaezyjj', 3665: 'website', 3666: 'httptcofmohtrpjkn', 3667: 'commies', 3668: 'httptcoqoumhohj', 3669: 'httptcobaramj', 3670: 'themgo', 3671: 'tonightliterally', 3672: 'httptcohgojrfoieo', 3673: 'beautifulcheap', 3674: 'trashynothing', 3675: 'notsassy', 3676: 'newideamagazinethey', 3677: 'yeh', 3678: 'magazi', 3679: 'rightsorry', 3680: 'pro', 3681: 'httptcottqsnol', 3682: 'basichotdog', 3683: 'nobun', 3684: 'showmkr', 3685: 'saral', 3686: 'sasquatch', 3687: 'walslab', 3688: 'notaustraliasnexttopmodel', 3689: 'blondesmmmperhaps', 3690: 'adequacy', 3691: 'itagaindumb', 3692: 'unhygienic', 3693: 'walkyou', 3694: 'girlone', 3695: 'othermkr', 3696: 'imbeautiful', 3697: 'katieandnikki', 3698: 'hotyoure', 3699: 'eitherstfu', 3700: 'sassyges', 3701: 'nikkikermit', 3702: 'raachel', 3703: 'vom', 3704: 'prettyawful', 3705: 'gohome', 3706: 'cheapmon', 3707: 'littleoldme', 3708: 'dumblondes', 3709: 'whereisyourdignity', 3710: 'texan', 3711: 'stayingjust', 3712: 'bringit', 3713: 'slags', 3714: 'furrybugga', 3715: 'simpsonmatt', 3716: 'stweethea', 3717: 'fianc', 3718: 'peppers', 3719: 'fatty', 3720: 'idiotic', 3721: 'goingtobed', 3722: 'fleurybanery', 3723: 'gurls', 3724: 'sauce', 3725: 'jarthe', 3726: 'expected', 3727: 'breast', 3728: 'unexpected', 3729: 'httptcocxxgcfmhl', 3730: 'cringewohy', 3731: 'deb', 3732: 'porno', 3733: 'harsh', 3734: 'girlmodel', 3735: 'craiglescraig', 3736: 'sore', 3737: 'breeannamclovin', 3738: 'pudding', 3739: 'messaging', 3740: 'subtleasasledgehammer', 3741: 'missgypsyck', 3742: 'prprau', 3743: 'mkrofficial', 3744: 'tvweekmag', 3745: 'hajiishak', 3746: 'deaannnaakatie', 3747: 'stopmon', 3748: 'seaeph', 3749: 'zebra', 3750: 'gohjarrod', 3751: 'reenacted', 3752: 'cupmon', 3753: 'druitt', 3754: 'westpoint', 3755: 'fucktards', 3756: 'wanka', 3757: 'nickis', 3758: 'petehattam', 3759: 'robinriedstra', 3760: 'ovehink', 3761: 'banana', 3762: 'tonights', 3763: 'statements', 3764: 'cheaters', 3765: 'byebye', 3766: 'irritate', 3767: 'ratingsbonanza', 3768: 'uglycow', 3769: 'httptcovjvdcrqcq', 3770: 'bullshit', 3771: 'mkraus', 3772: 'nasally', 3773: 'superbogan', 3774: 'ihateyou', 3775: 'httptcopnnmrrf', 3776: 'poshlopez', 3777: 'cuntofahead', 3778: 'preferably', 3779: 'angewilson', 3780: 'henryivpaii', 3781: 'simplygorge', 3782: 'blondeswed', 3783: 'httptcoqaabwipmfalsemkra', 3784: 'jeans', 3785: 'nofucksgiven', 3786: 'emilyylam', 3787: 'missclarolyn', 3788: 'aussiegal', 3789: 'orange', 3790: 'flogs', 3791: 'fuckoff', 3792: 'nastyjvc', 3793: 'kyah', 3794: 'celebrate', 3795: 'mh', 3796: 'httptcozvcxkvaiv', 3797: 'brandonmckenzie', 3798: 'simples', 3799: 'sexylloydmkr', 3800: 'twist', 3801: 'andreyou', 3802: 'andrea', 3803: 'moreyou', 3804: 'sorrybraunhilders', 3805: 'falzonies', 3806: 'choke', 3807: 'arseholes', 3808: 'httptcomxdshz', 3809: 'goneyet', 3810: 'toodles', 3811: 'fuckerface', 3812: 'catandandre', 3813: 'gloat', 3814: 'cuntsfuckoff', 3815: 'shitcooks', 3816: 'oops', 3817: 'bigthighs', 3818: 'caoon', 3819: 'characterskat', 3820: 'httptcondguhgh', 3821: 'feistyfoodies', 3822: 'summary', 3823: 'katstupidviciousaggressivedisrespectfuldishonestshamelesslack', 3824: 'skillsplease', 3825: 'bully', 3826: 'shitbags', 3827: 'west', 3828: 'hehehe', 3829: 'jokingyou', 3830: 'meangirl', 3831: 'ashamed', 3832: 'andres', 3833: 'pardon', 3834: 'pun', 3835: 'stupidbitch', 3836: 'hopeyouareeliminated', 3837: 'andreur', 3838: 'ankles', 3839: 'bond', 3840: 'witchs', 3841: 'thopia', 3842: 'slop', 3843: 'offherlips', 3844: 'manus', 3845: 'thicker', 3846: 'pete', 3847: 'oranger', 3848: 'staceyrenee', 3849: 'cuntcook', 3850: 'wontstoptilltheydrop', 3851: 'thingopen', 3852: 'celina', 3853: 'oliecoco', 3854: 'callmemrcaer', 3855: 'hahahahahahaha', 3856: 'babybrucewayne', 3857: 'mrfantapants', 3858: 'surely', 3859: 'kent', 3860: 'naaadnerb', 3861: 'deadbeat', 3862: 'dadism', 3863: 'jessi', 3864: 'httptcozruzpba', 3865: 'manpiness', 3866: 'manpenis', 3867: 'twe', 3868: 'niceguy', 3869: 'exposefeminism', 3870: 'mjjchgdm', 3871: 'httptcoceemxzh', 3872: 'npr', 3873: 'jonathanchait', 3874: 'sullydish', 3875: 'davidfrum', 3876: 'dileted', 3877: 'exploited', 3878: 'careers', 3879: 'sexismchivalry', 3880: 'advantage', 3881: 'mgm', 3882: 'twee', 3883: 'garbageperson', 3884: 'femszero', 3885: 'orders', 3886: 'theagumbe', 3887: 'convenient', 3888: 'kal', 3889: 'tango', 3890: 'rainn', 3891: 'findingmariah', 3892: 'ostensibly', 3893: 'journalism', 3894: 'stylist', 3895: 'twittingsystem', 3896: 'zombieneith', 3897: 'womensign', 3898: 'newspapers', 3899: 'biurny', 3900: 'pegeuro', 3901: 'internalized', 3902: 'httptcoqtlafeku', 3903: 'killallmen', 3904: 'prolife', 3905: 'jerk', 3906: 'thereginamom', 3907: 'jeffj', 3908: 'elam', 3909: 'womenyoud', 3910: 'passes', 3911: 'megalomaniac', 3912: 'slur', 3913: 'megalomaniacs', 3914: 'dexisdope', 3915: 'pee', 3916: 'lucasdavid', 3917: 'realized', 3918: 'httptcoxrhx', 3919: 'httptcoglplasoa', 3920: 'hypocrisymisandry', 3921: 'sweetwalktalk', 3922: 'charges', 3923: 'bigbadcharn', 3924: 'dunce', 3925: 'hateplay', 3926: 'egalitarianisms', 3927: 'gynocentric', 3928: 'shanifrr', 3929: 'lopez', 3930: 'iliad', 3931: 'smfh', 3932: 'injured', 3933: 'adriennecgomez', 3934: 'split', 3935: 'httptcowhyrpb', 3936: 'judithshulevitz', 3937: 'sabri', 3938: 'chargedconvicted', 3939: 'prism', 3940: 'httptcojoetvnha', 3941: 'doubting', 3942: 'nights', 3943: 'fetish', 3944: 'feminismisequalitywhen', 3945: 'dialog', 3946: 'heforshe', 3947: 'jamieagatharose', 3948: 'likeahem', 3949: 'jmillerworks', 3950: 'caves', 3951: 'banpink', 3952: 'iloveobama', 3953: 'itsonus', 3954: 'kerpen', 3955: 'jpj', 3956: 'prorapist', 3957: 'youngblkrepub', 3958: 'httptcodgwiywrex', 3959: 'thelastride', 3960: 'reinvent', 3961: 'daredevil', 3962: 'gimmick', 3963: 'buttalk', 3964: 'transphobic', 3965: 'fluidflux', 3966: 'agender', 3967: 'autonomy', 3968: 'likebeing', 3969: 'lfesexuality', 3970: 'chickensmost', 3971: 'voters', 3972: 'french', 3973: 'angst', 3974: 'saysdoes', 3975: 'accountrejected', 3976: 'hmmi', 3977: 'jawher', 3978: 'plateto', 3979: 'motif', 3980: 'httptcowuzirvthsy', 3981: 'rememberrespect', 3982: 'noconvo', 3983: 'httptcoeb', 3984: 'httptcowvqh', 3985: 'firsthavent', 3986: 'soi', 3987: 'httptcogezdeef', 3988: 'robjamjar', 3989: 'emma', 3990: 'watson', 3991: 'ddbomont', 3992: 'judgebambi', 3993: 'republicanmrs', 3994: 'httptcogmfoawjrd', 3995: 'lube', 3996: 'tweetlik', 3997: 'produe', 3998: 'prorape', 3999: 'antideath', 4000: 'promurder', 4001: 'httptconrehvbe', 4002: 'herevidently', 4003: 'kidhttptcowdevlr', 4004: 'antifeminist', 4005: 'moronicas', 4006: 'atheist', 4007: 'embraceenjoy', 4008: 'charltaylorpage', 4009: 'atheism', 4010: 'lizzethismetal', 4011: 'feministsyesallmen', 4012: 'httptcoqhodhumjc', 4013: 'gloriamitchell', 4014: 'suit', 4015: 'utah', 4016: 'httptcojyfhmibc', 4017: 'foxnews', 4018: 'snipe', 4019: 'reblock', 4020: 'rinse', 4021: 'ceejaycraig', 4022: 'sexistbecause', 4023: 'movementok', 4024: 'kaytugs', 4025: 'naomirwolf', 4026: 'whenever', 4027: 'friendlyfemale', 4028: 'cooperlewis', 4029: 'toxic', 4030: 'shadesisabuse', 4031: 'discipline', 4032: 'barb', 4033: 'sheehan', 4034: 'claims', 4035: 'cheer', 4036: 'equalityand', 4037: 'cont', 4038: 'dmelms', 4039: 'policy', 4040: 'rapial', 4041: 'profiling', 4042: 'duh', 4043: 'httptcozdqmvfku', 4044: 'skypiratevegeta', 4045: 'familiar', 4046: 'mitrebox', 4047: 'httptconaphhbfuc', 4048: 'exfeminist', 4049: 'httptcoazdxuw', 4050: 'huing', 4051: 'hottakegamer', 4052: 'beanfrompa', 4053: 'thisgt', 4054: 'performance', 4055: 'httptcovrpolnc', 4056: 'dresses', 4057: 'sexismour', 4058: 'demand', 4059: 'earlier', 4060: 'wasshe', 4061: 'chendanhek', 4062: 'ironically', 4063: 'paybut', 4064: 'beowolf', 4065: 'egyptinparadise', 4066: 'okcant', 4067: 'dressoh', 4068: 'tick', 4069: 'ladiesunlike', 4070: 'thatfems', 4071: 'httptcomgzuvsomi', 4072: 'figures', 4073: 'iqs', 4074: 'russelleelliott', 4075: 'lying', 4076: 'mikeq', 4077: 'prettier', 4078: 'ivyexec', 4079: 'butlove', 4080: 'wwe', 4081: 'uminn', 4082: 'httptcogkzv', 4083: 'botticellicream', 4084: 'httptcolrgrigqo', 4085: 'patty', 4086: 'cannibalism', 4087: 'whereas', 4088: 'audience', 4089: 'repeatedly', 4090: 'letwomenspeak', 4091: 'bosom', 4092: 'tshi', 4093: 'feministselfie', 4094: 'praxis', 4095: 'notbad', 4096: 'malegaze', 4097: 'indyintx', 4098: 'tronathon', 4099: 'accountability', 4100: 'allegedly', 4101: 'hanells', 4102: 'maf', 4103: 'kittoms', 4104: 'liberalsfeminists', 4105: 'tolerant', 4106: 'httptcoeubryujluw', 4107: 'httptcodqlsadwth', 4108: 'assigned', 4109: 'negotiated', 4110: 'proequality', 4111: 'anotherfallow', 4112: 'stalker', 4113: 'li', 4114: 'jennahhhx', 4115: 'enteainment', 4116: 'zacktermini', 4117: 'msu', 4118: 'harde', 4119: 'harrymeisel', 4120: 'okpaulista', 4121: 'therealciaranw', 4122: 'funnily', 4123: 'stereotypical', 4124: 'philbrindamour', 4125: 'uncomfoable', 4126: 'obsidianfiles', 4127: 'httptcorkctthzhu', 4128: 'backawayfromthetable', 4129: 'theenvygap', 4130: 'blackfeminists', 4131: 'deanesmay', 4132: 'maullyolly', 4133: 'nothgirmas', 4134: 'lahellraiser', 4135: 'tonycollinet', 4136: 'boooring', 4137: 'antrooney', 4138: 'lightheaed', 4139: 'harmless', 4140: 'yandiisa', 4141: 'countrycookin', 4142: 'whyisitdiy', 4143: 'antifeminism', 4144: 'boggsy', 4145: 'arm', 4146: 'popeharrigan', 4147: 'anywhere', 4148: 'fuuck', 4149: 'nofeminism', 4150: 'httptconjv', 4151: 'brianday', 4152: 'roccopolis', 4153: 'michigan', 4154: 'mydearwormwood', 4155: 'ig', 4156: 'thedarkmanchris', 4157: 'random', 4158: 'ablazing', 4159: 'singleisaiahmhoon', 4160: 'committokitchentoo', 4161: 'wakenjake', 4162: 'lukemac', 4163: 'gameonmute', 4164: 'getheroff', 4165: 'kingjake', 4166: 'sammysharples', 4167: 'endof', 4168: 'caseclosed', 4169: 'jonnyg', 4170: 'kaitavender', 4171: 'fas', 4172: 'httptcoygfgftrj', 4173: 'dairemaureen', 4174: 'comedianssns', 4175: 'jaydenkramer', 4176: 'liz', 4177: 'httptcojhqzvjcx', 4178: 'dosier', 4179: 'aggravating', 4180: 'lexnaija', 4181: 'success', 4182: 'failur', 4183: 'milesmtv', 4184: 'arabkell', 4185: 'womenequalwashing', 4186: 'wellslightlysexist', 4187: 'imeanmumisb', 4188: 'mannythemenace', 4189: 'receptionists', 4190: 'farouqzaib', 4191: 'feces', 4192: 'jacobkramer', 4193: 'roldy', 4194: 'tests', 4195: 'nonrefundable', 4196: 'truestory', 4197: 'onlyallwomen', 4198: 'brownnicholas', 4199: 'jordanatkinson', 4200: 'thetruth', 4201: 'mattlevine', 4202: 'norasict', 4203: 'smoovfellow', 4204: 'kenzieeannn', 4205: 'thankafeminist', 4206: 'khz', 4207: 'soffetus', 4208: 'hannahcamille', 4209: 'harrison', 4210: 'retd', 4211: 'boot', 4212: 'charlessschan', 4213: 'worrrrrrd', 4214: 'truthdoe', 4215: 'justbeingabel', 4216: 'oa', 4217: 'walkaway', 4218: 'mooseoftorment', 4219: 'wantsomemoerice', 4220: 'gspangler', 4221: 'onnionion', 4222: 'knownfromexperience', 4223: 'lucasrobson', 4224: 'gladi', 4225: 'yoarob', 4226: 'mrwolfeee', 4227: 'rowe', 4228: 'jadecfc', 4229: 'emmamcgregs', 4230: 'deski', 4231: 'condwyer', 4232: 'mansspo', 4233: 'joshuacorley', 4234: 'leadfootedlion', 4235: 'carpark', 4236: 'cwoho', 4237: 'babe', 4238: 'ryxter', 4239: 'mantasfl', 4240: 'republicans', 4241: 'ajchip', 4242: 'littlebrinks', 4243: 'vinosteph', 4244: 'genarom', 4245: 'dylahoogaah', 4246: 'chrisnobody', 4247: 'alexgon', 4248: 'whateverbut', 4249: 'lordyogu', 4250: 'crowlberg', 4251: 'japple', 4252: 'danielsheppard', 4253: 'dylanwwilson', 4254: 'paddymcbride', 4255: 'cornfedbeachbum', 4256: 'matttherios', 4257: 'hats', 4258: 'weed', 4259: 'ligh', 4260: 'spencerhynes', 4261: 'mardeekm', 4262: 'theboghdady', 4263: 'mazloum', 4264: 'httptcokyxnxtzzf', 4265: 'akshxy', 4266: 'emilypoultney', 4267: 'julescarbonaro', 4268: 'presidentjust', 4269: 'wrigjo', 4270: 'tegrayscales', 4271: 'areyessss', 4272: 'pierresodope', 4273: 'romeorakheila', 4274: 'src', 4275: 'middleborman', 4276: 'highlights', 4277: 'akheemv', 4278: 'beckles', 4279: 'rickygee', 4280: 'tomregan', 4281: 'maybesexist', 4282: 'ahmedgheriani', 4283: 'noh', 4284: 'childrenteens', 4285: 'temiokomi', 4286: 'label', 4287: 'saddens', 4288: 'shawnfinchum', 4289: 'stirfrie', 4290: 'earrings', 4291: 'allentheshift', 4292: 'thombomb', 4293: 'plastercole', 4294: 'mrcocoyam', 4295: 'shawnreynolds', 4296: 'sellis', 4297: 'neveryield', 4298: 'topnotch', 4299: 'ltcuntmuscle', 4300: 'alfiegame', 4301: 'businessminded', 4302: 'nktko', 4303: 'hea', 4304: 'datdudedamon', 4305: 'natashaallen', 4306: 'dylanmills', 4307: 'rachelinnesst', 4308: 'hatemyowngender', 4309: 'hymnforrachel', 4310: 'mafghan', 4311: 'khristafer', 4312: 'aryas', 4313: 'lewrichardson', 4314: 'jaydotcoes', 4315: 'fashionedcall', 4316: 'provides', 4317: 'galenherron', 4318: 'girlswomen', 4319: 'dmaffatato', 4320: 'jcsliva', 4321: 'pjmcentee', 4322: 'marquesdaryl', 4323: 'bryanurns', 4324: 'thatashtonkid', 4325: 'andrewmnoon', 4326: 'sbrew', 4327: 'kenbest', 4328: 'katedudge', 4329: 'colbyharris', 4330: 'soldiers', 4331: 'duty', 4332: 'ud', 4333: 'sthing', 4334: 'hheath', 4335: 'kinghammock', 4336: 'osmanmays', 4337: 'bumpyride', 4338: 'lithiumja', 4339: 'troymv', 4340: 'nathancharman', 4341: 'yayakolo', 4342: 'bcmakinitbig', 4343: 'itsamansspo', 4344: 'nowomenexis', 4345: 'omgmitch', 4346: 'vulcnmind', 4347: 'aandapples', 4348: 'cielsolwazi', 4349: 'braindestroying', 4350: 'talkin', 4351: 'joegallois', 4352: 'thecrispyman', 4353: 'carlozaffino', 4354: 'savant', 4355: 'tropicalcoffin', 4356: 'moal', 4357: 'programming', 4358: 'httptcorxbehzwa', 4359: 'tannerleecook', 4360: 'psychicstoner', 4361: 'magnetic', 4362: 'poetry', 4363: 'cliche', 4364: 'jamesxx', 4365: 'davidithink', 4366: 'benethejet', 4367: 'cammi', 4368: 'granato', 4369: 'adam', 4370: 'oates', 4371: 'patrickehem', 4372: 'assface', 4373: 'cashyeww', 4374: 'peytondrinking', 4375: 'reeealbigsean', 4376: 'maverick', 4377: 'superstitious', 4378: 'vbergs', 4379: 'bwilly', 4380: 'hahaa', 4381: 'demamatar', 4382: 'isaaaacdavid', 4383: 'devinlord', 4384: 'lewishutchinson', 4385: 'typicalwoman', 4386: 'jonathanfowler', 4387: 'charlesclassiqk', 4388: 'djkaye', 4389: 'creation', 4390: 'chiiil', 4391: 'sewer', 4392: 'brettonme', 4393: 'henrybeans', 4394: 'durazzocover', 4395: 'jgmason', 4396: 'womandriver', 4397: 'writeoff', 4398: 'httptcomqjpcmnds', 4399: 'intheayerr', 4400: 'keltonsexy', 4401: 'weather', 4402: 'haulinbass', 4403: 'jamesycuv', 4404: 'pulitzer', 4405: 'cclus', 4406: 'occasionally', 4407: 'sclowers', 4408: 'madjoypad', 4409: 'sm', 4410: 'ryanclevenger', 4411: 'keatonrich', 4412: 'seasoning', 4413: 'frankteezy', 4414: 'aledthomas', 4415: 'eminentdude', 4416: 'vsvpdeezyy', 4417: 'frankthewank', 4418: 'tee', 4419: 'akidaffendi', 4420: 'alexdramaaklilu', 4421: 'urself', 4422: 'joeldanger', 4423: 'rollercoaster', 4424: 'tjbernasky', 4425: 'barber', 4426: 'truthhus', 4427: 'itsjontyler', 4428: 'chazspence', 4429: 'scotlandvsaustralia', 4430: 'genetic', 4431: 'melvobaptiste', 4432: 'stas', 4433: 'bjdgaf', 4434: 'stopp', 4435: 'wmales', 4436: 'dylanvadnais', 4437: 'femalescall', 4438: 'matttoppa', 4439: 'theyrejustannoying', 4440: 'ellishornabrook', 4441: 'thespanishafro', 4442: 'bigjhill', 4443: 'sam', 4444: 'nhowe', 4445: 'ryanwhuck', 4446: 'rhoward', 4447: 'rossbarnes', 4448: 'casters', 4449: 'healle', 4450: 'joelnoizes', 4451: 'snoogens', 4452: 'khalilaofficial', 4453: 'announcerswhat', 4454: 'tonotsexist', 4455: 'ninjaphi', 4456: 'lukeyjuke', 4457: 'joeparker', 4458: 'justshocking', 4459: 'ljoyce', 4460: 'oimatewtf', 4461: 'httptcobvazjfhs', 4462: 'cycopplelops', 4463: 'daft', 4464: 'chadt', 4465: 'deancarr', 4466: 'grahharwarddd', 4467: 'gabemiller', 4468: 'brandonhonaker', 4469: 'elliottvkay', 4470: 'theonlyjharris', 4471: 'barrettwatson', 4472: 'buttersnips', 4473: 'oglefro', 4474: 'analytical', 4475: 'elledunc', 4476: 'cod', 4477: 'dehner', 4478: 'nathanbonter', 4479: 'stevobrooo', 4480: 'duster', 4481: 'genderroleshock', 4482: 'justmanly', 4483: 'jabzzsalam', 4484: 'andrewbossvoss', 4485: 'httptcoajbwkkp', 4486: 'wordswoh', 4487: 'thedontwon', 4488: 'joekriz', 4489: 'jackieboyyyyy', 4490: 'xboxs', 4491: 'abeamas', 4492: 'christiancraw', 4493: 'notthesame', 4494: 'tcrawford', 4495: 'jrdrury', 4496: 'rking', 4497: 'saudiadjacent', 4498: 'jaxblaster', 4499: 'kellixbrown', 4500: 'nocoolknickname', 4501: 'ebeisner', 4502: 'noahrough', 4503: 'dyslexicdwarf', 4504: 'ianpipebomb', 4505: 'beth', 4506: 'mowins', 4507: 'beefobradysbowl', 4508: 'beefsbowl', 4509: 'atchley', 4510: 'bmkt', 4511: 'oldiymarco', 4512: 'chuckle', 4513: 'abdula', 4514: 'linesman', 4515: 'byu', 4516: 'adnanbahatti', 4517: 'object', 4518: 'loweryjake', 4519: 'wlem', 4520: 'confirm', 4521: 'jdegeorge', 4522: 'knowyourplace', 4523: 'fgkz', 4524: 'davidrobesss', 4525: 'sexkittenpay', 4526: 'nword', 4527: 'fundamental', 4528: 'donivangray', 4529: 'jmontgomery', 4530: 'garage', 4531: 'benthomas', 4532: 'chonz', 4533: 'bandsaw', 4534: 'coltonodohey', 4535: 'josephmc', 4536: 'benoxd', 4537: 'gnsl', 4538: 'jaykyew', 4539: 'httptcoaikxjup', 4540: 'nzzml', 4541: 'amirashaa', 4542: 'unicatbirdwhale', 4543: 'grahaminglish', 4544: 'itsjustweird', 4545: 'dcopee', 4546: 'hadyn', 4547: 'theyr', 4548: 'stephaybabes', 4549: 'httptconrjqfuzxi', 4550: 'socrasteeez', 4551: 'wom', 4552: 'jesseeljefe', 4553: 'benhumes', 4554: 'womenand', 4555: 'corybeats', 4556: 'blacckgall', 4557: 'mrdangdang', 4558: 'evan', 4559: 'fornier', 4560: 'justtruthful', 4561: 'elyahalim', 4562: 'abeamass', 4563: 'mako', 4564: 'jayfj', 4565: 'inept', 4566: 'httptcooahejcdm', 4567: 'kristc', 4568: 'gymtime', 4569: 'eeew', 4570: 'notcute', 4571: 'inkywetrust', 4572: 'imsandeshjain', 4573: 'burkhah', 4574: 'jcantrell', 4575: 'mmnsexism', 4576: 'gwbear', 4577: 'elderawesomeish', 4578: 'relax', 4579: 'afterward', 4580: 'childrearing', 4581: 'pjbish', 4582: 'pocolow', 4583: 'umbrella', 4584: 'peterwsp', 4585: 'bennyd', 4586: 'patrickfish', 4587: 'chrisnichols', 4588: 'fairbairn', 4589: 'iwantmooro', 4590: 'lan', 4591: 'tomfordyce', 4592: 'jkronenwetter', 4593: 'flash', 4594: 'reddy', 4595: 'skis', 4596: 'shos', 4597: 'grateful', 4598: 'loganbrown', 4599: 'selfaware', 4600: 'farinjini', 4601: 'micaleel', 4602: 'lobnatm', 4603: 'caermontg', 4604: 'fantastic', 4605: 'gottacopewithit', 4606: 'lettermana', 4607: 'heyitsreecie', 4608: 'strangenotsexist', 4609: 'nkrause', 4610: 'findawife', 4611: 'persona', 4612: 'color', 4613: 'shocked', 4614: 'inkiebird', 4615: 'alexxxarich', 4616: 'benjilaw', 4617: 'sandwichbut', 4618: 'metingozde', 4619: 'jontaylorr', 4620: 'paralympics', 4621: 'humanity', 4622: 'lonelybanana', 4623: 'cepedaariana', 4624: 'stdan', 4625: 'cinvlou', 4626: 'flavmiss', 4627: 'ryangowan', 4628: 'silencing', 4629: 'kingareed', 4630: 'gfwomanwife', 4631: 'houseexception', 4632: 'boardman', 4633: 'jakepowles', 4634: 'charlwhat', 4635: 'alot', 4636: 'djp', 4637: 'sorryitsthetruth', 4638: 'bazjayuu', 4639: 'rachdancey', 4640: 'joannepardoe', 4641: 'tracci', 4642: 'asherbudd', 4643: 'vsvpgoblin', 4644: 'kohfuckyourself', 4645: 'pumpkinking', 4646: 'dammit', 4647: 'pmsing', 4648: 'fsenkiw', 4649: 'olipaterson', 4650: 'aaronobviously', 4651: 'brianrienecker', 4652: 'ikemahrer', 4653: 'jramirez', 4654: 'trainer', 4655: 'johnjohniskilla', 4656: 'els', 4657: 'shitnoonesays', 4658: 'stillenjoywatchingivanovic', 4659: 'averagespursfan', 4660: 'samevs', 4661: 'pubsclubs', 4662: 'stefc', 4663: 'nil', 4664: 'furniture', 4665: 'rojdarabbit', 4666: 'ladiesif', 4667: 'therobotard', 4668: 'unmasculine', 4669: 'bensulley', 4670: 'luchi', 4671: 'bradwall', 4672: 'exclusiveginger', 4673: 'awkwardep', 4674: 'goddess', 4675: 'healthlooks', 4676: 'connellybock', 4677: 'nathanwassihun', 4678: 'terrwill', 4679: 'urbina', 4680: 'mysweetness', 4681: 'precision', 4682: 'jonnystallone', 4683: 'judging', 4684: 'skateparkslut', 4685: 'patsaydat', 4686: 'httptcohtfbqzut', 4687: 'maizerage', 4688: 'trutherbot', 4689: 'httptcooaejpjr', 4690: 'idgaf', 4691: 'bait', 4692: 'strosdude', 4693: 'isaiahblood', 4694: 'manning', 4695: 'girling', 4696: 'nooffenseladies', 4697: 'katieorsini', 4698: 'cpham', 4699: 'justth', 4700: 'oppressions', 4701: 'prattsays', 4702: 'orjewish', 4703: 'mrsorrentino', 4704: 'oi', 4705: 'london', 4706: 'rycasper', 4707: 'pauleldridge', 4708: 'bizarresexism', 4709: 'lifeofstrife', 4710: 'christophwelsh', 4711: 'robdurbinn', 4712: 'babaaibrahim', 4713: 'poleboy', 4714: 'bachelor', 4715: 'natchampionship', 4716: 'atruth', 4717: 'pakistani', 4718: 'roti', 4719: 'rylandfoster', 4720: 'mross', 4721: 'butwomen', 4722: 'loganopatrick', 4723: 'thewoolerite', 4724: 'teesmurf', 4725: 'richard', 4726: 'petty', 4727: 'danica', 4728: 'patrick', 4729: 'track', 4730: 'daytona', 4731: 'tmattynopain', 4732: 'nealcarr', 4733: 'bilalali', 4734: 'cookyall', 4735: 'allxncook', 4736: 'makvarcoe', 4737: 'killme', 4738: 'ericmorrisons', 4739: 'kushkingmorris', 4740: 'itnotsexist', 4741: 'excitin', 4742: 'zoeharris', 4743: 'amorris', 4744: 'noberger', 4745: 'brutal', 4746: 'iwanttocry', 4747: 'camlafontaine', 4748: 'countrygirl', 4749: 'nascar', 4750: 'hammmyy', 4751: 'mugnezee', 4752: 'johnbunando', 4753: 'cmsteele', 4754: 'tylerbucket', 4755: 'butdamn', 4756: 'dmvargas', 4757: 'ellisholt', 4758: 'flyinsoloski', 4759: 'ncaab', 4760: 'joeapplebythfc', 4761: 'kingme', 4762: 'srfernando', 4763: 'fanny', 4764: 'trademarkfeminist', 4765: 'httptcoayoygs', 4766: 'abbebarca', 4767: 'itsacompliment', 4768: 'jamesharries', 4769: 'truedat', 4770: 'sochi', 4771: 'winterolympics', 4772: 'rajashok', 4773: 'insisting', 4774: 'criminals', 4775: 'jmdunner', 4776: 'doris', 4777: 'burke', 4778: 'rfc', 4779: 'neve', 4780: 'pray', 4781: 'shaunmichael', 4782: 'debayancfc', 4783: 'millhouse', 4784: 'maureenjs', 4785: 'kbrnnr', 4786: 'cp', 4787: 'workaholics', 4788: 'brunsprov', 4789: 'mikefields', 4790: 'bigrilesmma', 4791: 'lisa', 4792: 'lampanelli', 4793: 'shumer', 4794: 'don', 4795: 'carlooega', 4796: 'emmaaflanagan', 4797: 'lisanhayes', 4798: 'qua', 4799: 'basyoni', 4800: 'assassin', 4801: 'assassinscreedliberation', 4802: 'nathaniellk', 4803: 'hipsternudesgod', 4804: 'behi', 4805: 'deandrewest', 4806: 'nbathoughts', 4807: 'sliceofslater', 4808: 'ththinkr', 4809: 'itreeby', 4810: 'hahahah', 4811: 'jonaahv', 4812: 'curse', 4813: 'trippr', 4814: 'ainthappenin', 4815: 'texasserge', 4816: 'funnycall', 4817: 'kristrealest', 4818: 'mattcamps', 4819: 'girlz', 4820: 'davidfranzen', 4821: 'gojonnybananas', 4822: 'british', 4823: 'stuapaget', 4824: 'netball', 4825: 'mrmodace', 4826: 'jacobselvey', 4827: 'chauvinism', 4828: 'vocabword', 4829: 'httptcoflerluqxq', 4830: 'molliejones', 4831: 'controversial', 4832: 'decisions', 4833: 'hilarys', 4834: 'bin', 4835: 'laden', 4836: 'ihatethiskid', 4837: 'whoami', 4838: 'kitchla', 4839: 'paige', 4840: 'kaycz', 4841: 'semen', 4842: 'occasions', 4843: 'laug', 4844: 'aishoousha', 4845: 'feministslookaway', 4846: 'egoarchitect', 4847: 'minded', 4848: 'butfemale', 4849: 'thetokennegro', 4850: 'soyour', 4851: 'tomgreenbean', 4852: 'jushollywood', 4853: 'louisrithpotter', 4854: 'httptcomgtptstn', 4855: 'harryt', 4856: 'integratedme', 4857: 'bjp', 4858: 'httptcowaiyytxiwb', 4859: 'archangeldux', 4860: 'suppoing', 4861: 'httptcovsgqoh', 4862: 'ofahmio', 4863: 'theovercrowded', 4864: 'eoind', 4865: 'damnstraight', 4866: 'ryanbrimble', 4867: 'richietftw', 4868: 'lamest', 4869: 'char', 4870: 'terror', 4871: 'reptarfanatic', 4872: 'screaming', 4873: 'jackmccormick', 4874: 'jamessspurcell', 4875: 'theholykuran', 4876: 'fagitaaron', 4877: 'mo', 4878: 'theironnb', 4879: 'truthful', 4880: 'molonlabe', 4881: 'liarso', 4882: 'hazzmurphy', 4883: 'imo', 4884: 'hath', 4885: 'blinded', 4886: 'capitalgains', 4887: 'elraymos', 4888: 'alexsummers', 4889: 'ellenskinner', 4890: 'rayybands', 4891: 'andor', 4892: 'aurrraaaa', 4893: 'dillonchaissonn', 4894: 'someonecomeclean', 4895: 'snackprine', 4896: 'phildgreen', 4897: 'itvnews', 4898: 'hole', 4899: 'classiccody', 4900: 'notlearningmuch', 4901: 'totallyneededtobetweeted', 4902: 'powerbombjutsu', 4903: 'jamescaerffc', 4904: 'thanhlachowsky', 4905: 'failla', 4906: 'spotter', 4907: 'dakotacoy', 4908: 'jayvizzy', 4909: 'shanmcgowan', 4910: 'ashleekelts', 4911: 'kaylies', 4912: 'laughter', 4913: 'juckfohn', 4914: 'ezmacthedream', 4915: 'tommythetank', 4916: 'saintmarche', 4917: 'hanniballuther', 4918: 'devonbarr', 4919: 'nicbeardsley', 4920: 'annoyi', 4921: 'debtdebate', 4922: 'willygoncalves', 4923: 'kaischnitker', 4924: 'gazclues', 4925: 'httptconkqqwiuav', 4926: 'banta', 4927: 'womanbeater', 4928: 'strangers', 4929: 'razirofficial', 4930: 'novels', 4931: 'themajesticplum', 4932: 'tgud', 4933: 'griffithbempah', 4934: 'davidrcpoer', 4935: 'englandcricket', 4936: 'slowgun', 4937: 'cal', 4938: 'darwinlp', 4939: 'shutupjeff', 4940: 'serlasco', 4941: 'thatll', 4942: 'discussion', 4943: 'fadedawray', 4944: 'damianmichael', 4945: 'perf', 4946: 'darylmansbridge', 4947: 'amadal', 4948: 'tbowditch', 4949: 'olivia', 4950: 'chow', 4951: 'debate', 4952: 'ronancleere', 4953: 'vanessa', 4954: 'mae', 4955: 'nate', 4956: 'longarmjohnson', 4957: 'justicechrome', 4958: 'poppet', 4959: 'behaviorthatll', 4960: 'conquisatdorrf', 4961: 'sunshinejafiwi', 4962: 'xxjoycee', 4963: 'mrbrighteyes', 4964: 'seahawk', 4965: 'womensday', 4966: 'blktone', 4967: 'asterisk', 4968: 'joeytdb', 4969: 'redundant', 4970: 'dodadrew', 4971: 'cleans', 4972: 'joeyvital', 4973: 'lang', 4974: 'jacklilley', 4975: 'thatswhatloosewomensfor', 4976: 'tayraeaye', 4977: 'tpkennedyy', 4978: 'simmerforlife', 4979: 'adamknight', 4980: 'xs', 4981: 'tharodickk', 4982: 'sposcenterjust', 4983: 'connorapercival', 4984: 'mbrew', 4985: 'juniorjeavons', 4986: 'scmp', 4987: 'cutest', 4988: 'parodyguy', 4989: 'therealheez', 4990: 'layups', 4991: 'livebylove', 4992: 'michigans', 4993: 'insurance', 4994: 'httptcoaikxqsix', 4995: 'anandkothekar', 4996: 'arnabgoswami', 4997: 'beds', 4998: 'kmsdkris', 4999: 'vv', 5000: 'kieranmdk', 5001: 'pcaudi', 5002: 'itstherealdre', 5003: 'yoliana', 5004: 'yungthothunter', 5005: 'ianaries', 5006: 'battleships', 5007: 'rhiannas', 5008: 'watchi', 5009: 'fearnoman', 5010: 'adamjibali', 5011: 'httptcojrscwtcr', 5012: 'oftheguild', 5013: 'killyaself', 5014: 'bedroom', 5015: 'lmlyeera', 5016: 'wcrane', 5017: 'nfl', 5018: 'oppression', 5019: 'freewilly', 5020: 'annika', 5021: 'badges', 5022: 'pganotlpga', 5023: 'guyfierl', 5024: 'garyworkid', 5025: 'dubainameshame', 5026: 'ryanmersh', 5027: 'bigbang', 5028: 'fansite', 5029: 'objective', 5030: 'balockayayayron', 5031: 'hangers', 5032: 'dmballsohard', 5033: 'carlosdeluna', 5034: 'charlie', 5035: 'counteralso', 5036: 'sorynotsorry', 5037: 'levikrueger', 5038: 'jsmiller', 5039: 'unnatural', 5040: 'observations', 5041: 'joshpowers', 5042: 'mobjigga', 5043: 'enteain', 5044: 'pr', 5045: 'travisgutshall', 5046: 'jasoneyerman', 5047: 'joeyeitner', 5048: 'justobservant', 5049: 'jcow', 5050: 'normally', 5051: 'haley', 5052: 'williams', 5053: 'paramore', 5054: 'pyesyouresexistback', 5055: 'johnhague', 5056: 'ramble', 5057: 'ramirmilhem', 5058: 'justdatroof', 5059: 'joshrayney', 5060: 'cabbiesjust', 5061: 'bignono', 5062: 'teereel', 5063: 'mouthlol', 5064: 'cjsajulga', 5065: 'lorddexter', 5066: 'alexcruz', 5067: 'nowlinn', 5068: 'jubsmoove', 5069: 'imma', 5070: 'sexy', 5071: 'httptcozjbwagvnrg', 5072: 'nopromises', 5073: 'gndbdurham', 5074: 'magallonaian', 5075: 'eminemtbfh', 5076: 'factthe', 5077: 'emotions', 5078: 'tanygriff', 5079: 'velouk', 5080: 'scrag', 5081: 'paner', 5082: 'shoer', 5083: 'leoolivares', 5084: 'itsbariecool', 5085: 'mccheesy', 5086: 'staggering', 5087: 'cooohkies', 5088: 'pleaseshave', 5089: 'chrisdubsaye', 5090: 'bquinn', 5091: 'terpconfessions', 5092: 'justinj', 5093: 'relationships', 5094: 'msaleh', 5095: 'uzairjaat', 5096: 'theregoty', 5097: 'doesntmakemesexist', 5098: 'mshaysoul', 5099: 'billyk', 5100: 'ew', 5101: 'mattyclark', 5102: 'decept', 5103: 'christianmedna', 5104: 'yuyunarutoballz', 5105: 'legendaryarose', 5106: 'mmmotorspos', 5107: 'chasedahlabillz', 5108: 'keatonwessman', 5109: 'cjobray', 5110: 'httptcontaz', 5111: 'maleled', 5112: 'fallen', 5113: 'ryankrong', 5114: 'hennessy', 5115: 'sopko', 5116: 'richyredd', 5117: 'banthemmm', 5118: 'jordypordy', 5119: 'shite', 5120: 'banthem', 5121: 'kweezykevin', 5122: 'sarah', 5123: 'rpickett', 5124: 'sarahkylee', 5125: 'notrealwaldo', 5126: 'unappealing', 5127: 'nategutman', 5128: 'ruffelldan', 5129: 'joeyg', 5130: 'cackle', 5131: 'ifeeldope', 5132: 'connorsma', 5133: 'mwilbur', 5134: 'camtayylor', 5135: 'rockers', 5136: 'isaacf', 5137: 'glockzr', 5138: 'malessociety', 5139: 'factsoflife', 5140: 'ademich', 5141: 'sharkyobitch', 5142: 'jepattybun', 5143: 'runni', 5144: 'teamskynick', 5145: 'greatfunny', 5146: 'nathanpoole', 5147: 'wasteofaredcard', 5148: 'secondheadloss', 5149: 'concussion', 5150: 'cfcfanatic', 5151: 'spainballin', 5152: 'bdiddy', 5153: 'willhinders', 5154: 'forever', 5155: 'dickweed', 5156: 'reddogrobes', 5157: 'ltotheewis', 5158: 'jovvven', 5159: 'tweakerbell', 5160: 'rjclifestyle', 5161: 'kfuru', 5162: 'notracist', 5163: 'jessxlove', 5164: 'aists', 5165: 'getmeafuckinbeer', 5166: 'slag', 5167: 'cammyhoskins', 5168: 'bdjmauri', 5169: 'wisnastypoint', 5170: 'snap', 5171: 'chief', 5172: 'connorrutledge', 5173: 'dickjagr', 5174: 'pissed', 5175: 'maserati', 5176: 'parliamentreally', 5177: 'jayirvine', 5178: 'ceci', 5179: 'nest', 5180: 'nuckajuice', 5181: 'chyaboizellms', 5182: 'macleodrobe', 5183: 'ratillathehun', 5184: 'womendefyukip', 5185: 'mess', 5186: 'nadine', 5187: 'dor', 5188: 'jordisdead', 5189: 'purplekissco', 5190: 'gordonramsay', 5191: 'jarvee', 5192: 'fiorellagiordan', 5193: 'jesustakethewheel', 5194: 'justtruth', 5195: 'billycronch', 5196: 'officialtedsays', 5197: 'ovens', 5198: 'dantomlinson', 5199: 'jadonpaco', 5200: 'cknightt', 5201: 'berhm', 5202: 'cm', 5203: 'pvalue', 5204: 'darienpamplin', 5205: 'chrisfelipe', 5206: 'oitnb', 5207: 'reallifeyamcha', 5208: 'remind', 5209: 'stevenkgang', 5210: 'smugglymcweed', 5211: 'stayinginpower', 5212: 'thusbloggeda', 5213: 'vacuumslayer', 5214: 'anthonydepetres', 5215: 'zedseen', 5216: 'spiderman', 5217: 'millermad', 5218: 'addyell', 5219: 'unreal', 5220: 'zstonecipher', 5221: 'sht', 5222: 'j', 5223: 'bipolarbrute', 5224: 'cerseiyou', 5225: 'bigboi', 5226: 'punditacademic', 5227: 'pleasedontshoot', 5228: 'handsup', 5229: 'mikebrown', 5230: 'ferguson', 5231: 'peace', 5232: 'janellemonae', 5233: 'httptcotpaopz', 5234: 'ihatejono', 5235: 'jameskakisingi', 5236: 'thatdamnram', 5237: 'riqolive', 5238: 'wimbledon', 5239: 'champions', 5240: 'ent', 5241: 'mrcus', 5242: 'kawaiichristi', 5243: 'jbi', 5244: 'ahhhaaahunnie', 5245: 'neahetown', 5246: 'viragobooks', 5247: 'guardian', 5248: 'worked', 5249: 'viually', 5250: 'wibbys', 5251: 'hectasticcc', 5252: 'mriceguy', 5253: 'bu', 5254: 'justindvg', 5255: 'uberfacts', 5256: 'dc', 5257: 'gtgtgt', 5258: 'picazzoent', 5259: 'officialreplayy', 5260: 'breathtaking', 5261: 'ipwnedyurmom', 5262: 'leeluuhbabyy', 5263: 'lewisinho', 5264: 'grahambutler', 5265: 'lukestidham', 5266: 'allhailcaesar', 5267: 'jowens', 5268: 'michael', 5269: 'benjamiin', 5270: 'thehout', 5271: 'hectornewcomb', 5272: 'qefuckind', 5273: 'rizwanrock', 5274: 'turing', 5275: 'mikeltfubrown', 5276: 'getalife', 5277: 'andycambridgio', 5278: 'pokemonprobs', 5279: 'evansutton', 5280: 'al', 5281: 'itsshaqhoe', 5282: 'exploded', 5283: 'shawnyeds', 5284: 'lordmafffsss', 5285: 'nigeriannytmare', 5286: 'gilly', 5287: 'wheresmytea', 5288: 'jobotherwise', 5289: 'sposperso', 5290: 'thecunningham', 5291: 'unwohy', 5292: 'mjolnir', 5293: 'likewise', 5294: 'renirinse', 5295: 'fn', 5296: 'mars', 5297: 'thedanielnoon', 5298: 'grantweaver', 5299: 'silver', 5300: 'wheredidmychildhoodgo', 5301: 'jcarnivale', 5302: 'guysdoitbetter', 5303: 'damong', 5304: 'agost', 5305: 'poehler', 5306: 'tina', 5307: 'fey', 5308: 'advocacy', 5309: 'httptcozyhosbrfff', 5310: 'eddieabell', 5311: 'marct', 5312: 'skynews', 5313: 'widow', 5314: 'andrewdoe', 5315: 'lmao', 5316: 'itstrickey', 5317: 'mitt', 5318: 'themfiles', 5319: 'floana', 5320: 'zeus', 5321: 'iamshapit', 5322: 'jrodriguez', 5323: 'pettymarshall', 5324: 'lesizmore', 5325: 'unbiased', 5326: 'unsexist', 5327: 'isaiahguy', 5328: 'whit', 5329: 'harrymallen', 5330: 'khalvy', 5331: 'justannoyed', 5332: 'terrencewoods', 5333: 'presented', 5334: 'snwojcik', 5335: 'gurujeremy', 5336: 'unfairly', 5337: 'defeated', 5338: 'samkleinwarnkemg', 5339: 'equivalence', 5340: 'hitlersbihday', 5341: 'shubhashish', 5342: 'luggage', 5343: 'plissescooz', 5344: 'woodchopper', 5345: 'daddys', 5346: 'crossmagic', 5347: 'handlebars', 5348: 'miamidade', 5349: 'livinghu', 5350: 'joshuayowler', 5351: 'depleted', 5352: 'aarcayne', 5353: 'tuition', 5354: 'anotherscoop', 5355: 'kingdani', 5356: 'professional', 5357: 'billyhiphop', 5358: 'chrishihosilver', 5359: 'rapperguydmv', 5360: 'coryryannuckels', 5361: 'gag', 5362: 'kissntheclown', 5363: 'theliamjohnson', 5364: 'acestayicy', 5365: 'tylerxclark', 5366: 'davidalice', 5367: 'notofeminism', 5368: 'truflo', 5369: 'ignorantjoe', 5370: 'credible', 5371: 'touched', 5372: 'magconboysthe', 5373: 'httpstcosfpjedmqx', 5374: 'fzfarulsweg', 5375: 'oliverhunter', 5376: 'controls', 5377: 'sohrabiamin', 5378: 'rationality', 5379: 'swearingpat', 5380: 'buses', 5381: 'justanobservation', 5382: 'jordanwalker', 5383: 'womenbusdriverproblems', 5384: 'deanieswienies', 5385: 'wihy', 5386: 'cjalred', 5387: 'radfems', 5388: 'dankfrogmusic', 5389: 'tradechat', 5390: 'prattle', 5391: 'regxb', 5392: 'connorreed', 5393: 'nonchecking', 5394: 'weirdsexism', 5395: 'hehweh', 5396: 'sheneededmusic', 5397: 'iaaine', 5398: 'mikehomosapien', 5399: 'siekensou', 5400: 'teach', 5401: 'adamk', 5402: 'pointless', 5403: 'nylenestor', 5404: 'darrellhall', 5405: 'keyonmorris', 5406: 'ryand', 5407: 'soulxciety', 5408: 'haters', 5409: 'sketch', 5410: 'schmeezi', 5411: 'itsfact', 5412: 'force', 5413: 'ettweethome', 5414: 'sashwilden', 5415: 'finest', 5416: 'rineha', 5417: 'daibhidc', 5418: 'brennanking', 5419: 'renaissancereez', 5420: 'thefanvent', 5421: 'bihing', 5422: 'aristeodgo', 5423: 'vehicle', 5424: 'clifty', 5425: 'mauresmoout', 5426: 'bohagan', 5427: 'storiesseeing', 5428: 'rogersherrer', 5429: 'hawaiinshis', 5430: 'gangraped', 5431: 'thebigkahuna', 5432: 'victorlisboa', 5433: 'ne', 5434: 'desani', 5435: 'rappersyuck', 5436: 'mafitz', 5437: 'garethjumaoas', 5438: 'unlikely', 5439: 'jdcalamia', 5440: 'skanks', 5441: 'frayers', 5442: 'pileup', 5443: 'nocomment', 5444: 'httptcohqiakjjwuw', 5445: 'tommyjohn', 5446: 'katsferdayz', 5447: 'dif', 5448: 'danielcoletta', 5449: 'scottcarasik', 5450: 'layla', 5451: 'ali', 5452: 'compe', 5453: 'spencerb', 5454: 'effect', 5455: 'captainaxiom', 5456: 'homebodies', 5457: 'liamkiniery', 5458: 'justbiology', 5459: 'jaffaref', 5460: 'zone', 5461: 'wellactually', 5462: 'fahest', 5463: 'nkilgore', 5464: 'bets', 5465: 'womenagainstfeminis', 5466: 'purexelegance', 5467: 'nancy', 5468: 'pelosi', 5469: 'elizabeth', 5470: 'warren', 5471: 'philmcaleavey', 5472: 'nickatnightt', 5473: 'lordmarx', 5474: 'jstndvs', 5475: 'agrees', 5476: 'fuckthanksgiving', 5477: 'boches', 5478: 'benday', 5479: 'youknowitsdoug', 5480: 'motherfuckers', 5481: 'shearettler', 5482: 'toobaddjs', 5483: 'sosueme', 5484: 'oglesbeast', 5485: 'monikidd', 5486: 'basedmane', 5487: 'grasspunch', 5488: 'urmindblown', 5489: 'robe', 5490: 'douglass', 5491: 'calvindh', 5492: 'lewisduncan', 5493: 'kirbytaylorcox', 5494: 'senorandrew', 5495: 'raquellykelly', 5496: 'crowndominus', 5497: 'rkp', 5498: 'sweatshops', 5499: 'httptcoevgbu', 5500: 'senna', 5501: 'vonta', 5502: 'snelson', 5503: 'bigpoppagaines', 5504: 'mdelafontaine', 5505: 'mmjspelman', 5506: 'stedmanclaire', 5507: 'mandbeck', 5508: 'youngsmaggie', 5509: 'beckym', 5510: 'mxattx', 5511: 'antiquusxy', 5512: 'carlyfreddy', 5513: 'rennie', 5514: 'vakeelmem', 5515: 'soplease', 5516: 'ins', 5517: 'roseveleth', 5518: 'horror', 5519: 'freespeech', 5520: 'mattyhammons', 5521: 'tiquangray', 5522: 'sneaks', 5523: 'differenc', 5524: 'jaketm', 5525: 'louvsken', 5526: 'sharmai', 5527: 'realconorjones', 5528: 'realgabbylogan', 5529: 'stupi', 5530: 'olijwilliams', 5531: 'cbdlife', 5532: 'leggusmc', 5533: 'casamih', 5534: 'steel', 5535: 'magnolias', 5536: 'express', 5537: 'benjorrell', 5538: 'limitbrker', 5539: 'tommyviue', 5540: 'liammacl', 5541: 'propey', 5542: 'aamessinger', 5543: 'jackgillhouse', 5544: 'wor', 5545: 'banthemoms', 5546: 'bambambam', 5547: 'justventing', 5548: 'connollyisking', 5549: 'ruby', 5550: 'potent', 5551: 'jjfcomedy', 5552: 'latraffic', 5553: 'juliansemenza', 5554: 'noticed', 5555: 'cammatthews', 5556: 'killyridol', 5557: 'miamoughanni', 5558: 'aid', 5559: 'ctwino', 5560: 'skelator', 5561: 'stuareeves', 5562: 'badidea', 5563: 'scottelder', 5564: 'charmandork', 5565: 'therealfta', 5566: 'yooofredd', 5567: 'nicky', 5568: 'minaj', 5569: 'femaleled', 5570: 'phenomenon', 5571: 'realparkerj', 5572: 'baender', 5573: 'hits', 5574: 'alexstoleurdog', 5575: 'nyami', 5576: 'wisdom', 5577: 'moemixedkid', 5578: 'competence', 5579: 'thx', 5580: 'nevanfuqua', 5581: 'protomahawks', 5582: 'subway', 5583: 'ordering', 5584: 'jamesbarrett', 5585: 'winkfieldjohn', 5586: 'pfilippelli', 5587: 'supernovablaze', 5588: 'riic', 5589: 'diy', 5590: 'crafts', 5591: 'doublebirdexit', 5592: 'official', 5593: 'bitchcavs', 5594: 'johnnycashman', 5595: 'justscience', 5596: 'loser', 5597: 'thoughtcatalog', 5598: 'httptcoptalsyx', 5599: 'sherlockholmboy', 5600: 'gta', 5601: 'httptcoyxintq', 5602: 'parkerbradley', 5603: 'rykerdomz', 5604: 'surprised', 5605: 'abuserdynamics', 5606: 'kingdijk', 5607: 'mattcote', 5608: 'along', 5609: 'inkdarapper', 5610: 'christine', 5611: 'brennan', 5612: 'loo', 5613: 'colemcdowell', 5614: 'beyondbabymamas', 5615: 'mamas', 5616: 'toyfill', 5617: 'httptcoeja', 5618: 'vonnegot', 5619: 'likefuck', 5620: 'rickmcgray', 5621: 'destroyednotcool', 5622: 'itzsivz', 5623: 'deyzho', 5624: 'janicewidit', 5625: 'aguynamednick', 5626: 'wrapping', 5627: 'xx', 5628: 'mrskparrish', 5629: 'heelsdontbelongonthefield', 5630: 'rageahooligan', 5631: 'dalekdoctor', 5632: 'conflict', 5633: 'villegod', 5634: 'imhighokay', 5635: 'toolazy', 5636: 'aremula', 5637: 'hs', 5638: 'benjaminlforman', 5639: 'booty', 5640: 'bestgender', 5641: 'jblaze', 5642: 'bodied', 5643: 'ahmadkamil', 5644: 'brosexist', 5645: 'mattmkelly', 5646: 'pinups', 5647: 'runyanave', 5648: 'plox', 5649: 'favor', 5650: 'nigelbigmeech', 5651: 'nora', 5652: 'helmer', 5653: 'instance', 5654: 'sirivan', 5655: 'juddapatow', 5656: 'sony', 5657: 'lawrence', 5658: 'nickcmccahy', 5659: 'richyoc', 5660: 'simpl', 5661: 'reidlostoof', 5662: 'japanese', 5663: 'ckerr', 5664: 'door', 5665: 'carrotfuck', 5666: 'fanwalker', 5667: 'unable', 5668: 'lenletaylor', 5669: 'yip', 5670: 'bahramehsas', 5671: 'sparksher', 5672: 'sammuraishawty', 5673: 'krygierlilly', 5674: 'cutigerbruce', 5675: 'handcarwash', 5676: 'norwich', 5677: 'httptcod', 5678: 'ri', 5679: 'osamatwinladen', 5680: 'moms', 5681: 'factsonly', 5682: 'jcassinelli', 5683: 'hashtaglorenzo', 5684: 'howlintwolf', 5685: 'chase', 5686: 'budingers', 5687: 'gymalwaysliftin', 5688: 'wemon', 5689: 'thecaseylacey', 5690: 'dyke', 5691: 'haylescomet', 5692: 'drivemaneuveroperate', 5693: 'enoyong', 5694: 'geemichelleex', 5695: 'bigjoeknows', 5696: 'notsex', 5697: 'nashtysteve', 5698: 'whim', 5699: 'watcanbrwndu', 5700: 'flynchster', 5701: 'larrydollazz', 5702: 'huin', 5703: 'danieimao', 5704: 'kubelcher', 5705: 'httptcoqrdprlqi', 5706: 'davidcrools', 5707: 'lwilliams', 5708: 'soitout', 5709: 'gillistheone', 5710: 'lifeofcriley', 5711: 'kylecrilly', 5712: 'blindfold', 5713: 'ptierney', 5714: 'joshharvey', 5715: 'spenceyd', 5716: 'gentlemanbycond', 5717: 'dammitboden', 5718: 'floor', 5719: 'thatdomguy', 5720: 'cameronmines', 5721: 'kieranmorrisny', 5722: 'ceainty', 5723: 'mitchkelly', 5724: 'amyadams', 5725: 'bestactress', 5726: 'yvonnenishiocru', 5727: 'katherine', 5728: 'ryan', 5729: 'hillarious', 5730: 'therealtjorsini', 5731: 'sicknessthedick', 5732: 'butts', 5733: 'lukejeffrey', 5734: 'lifefacts', 5735: 'awithmines', 5736: 'prolly', 5737: 'winernick', 5738: 'covoec', 5739: 'httptcognvdifadir', 5740: 'heeg', 5741: 'valentines', 5742: 'httpstcoylkwslk', 5743: 'dboundjojo', 5744: 'imkindofasavage', 5745: 'doormat', 5746: 'moan', 5747: 'giv', 5748: 'leftydammit', 5749: 'https', 5750: 'chriske', 5751: 'busters', 5752: 'alexnew', 5753: 'nickodemon', 5754: 'shutup', 5755: 'einschonertag', 5756: 'shedevil', 5757: 'ahptik', 5758: 'faiqlutfishahrn', 5759: 'steventurnbu', 5760: 'secondreally', 5761: 'gershom', 5762: 'shawarma', 5763: 'manorwood', 5764: 'lolol', 5765: 'mcacapello', 5766: 'cariaddraig', 5767: 'cocojambo', 5768: 'twelvehundred', 5769: 'cmon', 5770: 'mickeyzor', 5771: 'ironcuainyc', 5772: 'whoisluese', 5773: 'thebossjimmbo', 5774: 'samhuz', 5775: 'saviours', 5776: 'yungmicjsu', 5777: 'pullytm', 5778: 'mabnoxshuz', 5779: 'sorryim', 5780: 'flop', 5781: 'jacksmiff', 5782: 'center', 5783: 'daveparky', 5784: 'soundswell', 5785: 'tdotstateofmind', 5786: 'akkawiahmad', 5787: 'shaynaleibowitz', 5788: 'harimenui', 5789: 'samuelmahoney', 5790: 'tr', 5791: 'nawshus', 5792: 'abrett', 5793: 'mrmichaud', 5794: 'notamisogynist', 5795: 'followers', 5796: 'peggyolrenshaw', 5797: 'kingconnar', 5798: 'iamomarkhalifa', 5799: 'ballondor', 5800: 'iblame', 5801: 'peurbed', 5802: 'httptcocglkwnzy', 5803: 'httptcoq', 5804: 'blazinbirdman', 5805: 'mayncapp', 5806: 'boom', 5807: 'danhazelton', 5808: 'bigsmooth', 5809: 'fuxkrello', 5810: 'jvolk', 5811: 'ashoorb', 5812: 'dre', 5813: 'papi', 5814: 'castreally', 5815: 'raiderbearcat', 5816: 'march', 5817: 'markkaiserr', 5818: 'micholspalag', 5819: 'saturdaynightonline', 5820: 'httptcoxhjhakea', 5821: 'manfsteeel', 5822: 'mohamedk', 5823: 'jaguar', 5824: 'hus', 5825: 'inside', 5826: 'dandebuf', 5827: 'silicon', 5828: 'valley', 5829: 'zimmerman', 5830: 'httptcomayigarfkm', 5831: 'btch', 5832: 'lathandd', 5833: 'jdubzlad', 5834: 'puhlease', 5835: 'nigglypuffsjr', 5836: 'jackson', 5837: 'torikyuun', 5838: 'connect', 5839: 'seeshe', 5840: 'alien', 5841: 'jackheathh', 5842: 'collin', 5843: 'jeremymonti', 5844: 'theheraldsun', 5845: 'toxickat', 5846: 'fked', 5847: 'mustve', 5848: 'swallowed', 5849: 'anal', 5850: 'blomquistrich', 5851: 'httptcohrbnrajtf', 5852: 'sparkesie', 5853: 'boyfriend', 5854: 'nikfuq', 5855: 'demiboyharry', 5856: 'ivantrba', 5857: 'jerrys', 5858: 'icecreamqueensoffal', 5859: 'marrow', 5860: 'newideamagazine', 5861: 'fuher', 5862: 'vickisecret', 5863: 'paypay', 5864: 'jstdomo'}\n"
          ]
        }
      ]
    },
    {
      "cell_type": "code",
      "source": [
        "#encode this text\n",
        "encoded_text=token.texts_to_sequences(text)\n",
        "enc_male=token.texts_to_sequences(male_text)\n",
        "enc_female=token.texts_to_sequences(female_text)"
      ],
      "metadata": {
        "id": "ZO_r30CJFlBu"
      },
      "execution_count": null,
      "outputs": []
    },
    {
      "cell_type": "code",
      "source": [
        "print(type(encoded_text))\n",
        "print(len(encoded_text))\n",
        "print(len(encoded_text[0]))"
      ],
      "metadata": {
        "colab": {
          "base_uri": "https://localhost:8080/"
        },
        "id": "4xiacCeWXyd8",
        "outputId": "02a0fbd0-9883-4049-ccf0-8c6fcc89098c"
      },
      "execution_count": null,
      "outputs": [
        {
          "output_type": "stream",
          "name": "stdout",
          "text": [
            "<class 'list'>\n",
            "2663\n",
            "7\n"
          ]
        }
      ]
    },
    {
      "cell_type": "code",
      "source": [
        "print(encoded_text[:5])"
      ],
      "metadata": {
        "colab": {
          "base_uri": "https://localhost:8080/"
        },
        "id": "_viQqwVLF_AP",
        "outputId": "cac07cbe-9635-486d-925b-1f303a4149d6"
      },
      "execution_count": null,
      "outputs": [
        {
          "output_type": "stream",
          "name": "stdout",
          "text": [
            "[[479, 64, 30, 75, 1442, 168, 8], [120, 132, 322, 75, 86, 128, 8, 8, 244], [2, 28, 56, 179, 19, 18, 1733, 20, 4, 186, 1985, 36, 1986, 8], [2, 135, 12, 289, 622, 189, 28, 356, 30, 1443, 8, 1734, 7, 96, 3670, 212, 3671, 3672], [146, 1735, 13, 3673, 13, 3674, 64, 1328, 75, 28, 1987, 23, 40, 66, 186, 367, 15, 8, 3675]]\n"
          ]
        }
      ]
    },
    {
      "cell_type": "code",
      "source": [
        "#we need fixed size input\n",
        "max_length = 30\n",
        "X=pad_sequences(encoded_text, maxlen=max_length, padding='post')\n",
        "x_male=pad_sequences(enc_male, maxlen=max_length, padding='post')\n",
        "x_female=pad_sequences(enc_female, maxlen=max_length, padding='post')"
      ],
      "metadata": {
        "id": "R7wWjp3mGFc_"
      },
      "execution_count": null,
      "outputs": []
    },
    {
      "cell_type": "code",
      "source": [
        "X.shape"
      ],
      "metadata": {
        "colab": {
          "base_uri": "https://localhost:8080/"
        },
        "id": "jcYMQBLqGVJX",
        "outputId": "7951108b-8ca0-4d2b-84ad-86eb8945923d"
      },
      "execution_count": null,
      "outputs": [
        {
          "output_type": "execute_result",
          "data": {
            "text/plain": [
              "(2663, 30)"
            ]
          },
          "metadata": {},
          "execution_count": 20
        }
      ]
    },
    {
      "cell_type": "markdown",
      "source": [
        "##Glove Vectors"
      ],
      "metadata": {
        "id": "961gg7YYGeuU"
      }
    },
    {
      "cell_type": "code",
      "source": [
        "glove_vectors=dict()"
      ],
      "metadata": {
        "id": "5QLc1t64GXF6"
      },
      "execution_count": null,
      "outputs": []
    },
    {
      "cell_type": "code",
      "source": [
        "%%time\n",
        "file = open('/content/drive/MyDrive/AILAB/glove.twitter.27B.25d.txt', encoding='utf-8')\n",
        "\n",
        "for line in file:\n",
        "  values=line.split()\n",
        "  word=values[0]\n",
        "  vectors = np.asarray(values[1:])\n",
        "  glove_vectors[word]=vectors\n",
        "file.close()"
      ],
      "metadata": {
        "colab": {
          "base_uri": "https://localhost:8080/"
        },
        "id": "6d_gu_VsHD42",
        "outputId": "fe7d4770-73f1-4afb-a2c7-07e0409a69d0"
      },
      "execution_count": null,
      "outputs": [
        {
          "output_type": "stream",
          "name": "stdout",
          "text": [
            "CPU times: user 16.8 s, sys: 1.77 s, total: 18.6 s\n",
            "Wall time: 28.1 s\n"
          ]
        }
      ]
    },
    {
      "cell_type": "code",
      "source": [
        "len(glove_vectors.keys())"
      ],
      "metadata": {
        "colab": {
          "base_uri": "https://localhost:8080/"
        },
        "id": "W01ZfRNtOuWF",
        "outputId": "893452f6-59a2-476a-b0ff-43338a29dd6d"
      },
      "execution_count": null,
      "outputs": [
        {
          "output_type": "execute_result",
          "data": {
            "text/plain": [
              "1193515"
            ]
          },
          "metadata": {},
          "execution_count": 23
        }
      ]
    },
    {
      "cell_type": "code",
      "source": [
        "glove_vectors.get('you')"
      ],
      "metadata": {
        "colab": {
          "base_uri": "https://localhost:8080/"
        },
        "id": "4vNoNG04QQeB",
        "outputId": "56264018-4528-4f19-d3fe-e7f3a38badee"
      },
      "execution_count": null,
      "outputs": [
        {
          "output_type": "execute_result",
          "data": {
            "text/plain": [
              "array(['-0.41586', '0.32548', '-0.087621', '0.2018', '-0.80017',\n",
              "       '-0.34418', '2.1431', '0.37188', '-0.9409', '0.24283', '-0.86396',\n",
              "       '0.63858', '-6.0171', '-0.54081', '-0.43305', '0.095707',\n",
              "       '0.37971', '-1.1432', '0.11382', '-0.38361', '0.41758', '0.081476',\n",
              "       '-0.02659', '0.75438', '-0.77178'], dtype='<U9')"
            ]
          },
          "metadata": {},
          "execution_count": 24
        }
      ]
    },
    {
      "cell_type": "code",
      "source": [
        "word_vector_matrix=np.zeros((vocab_size, 25))\n",
        "words_vector_not_present=[]\n",
        "for word, index in token.word_index.items():\n",
        "  vector = glove_vectors.get(word)\n",
        "  if vector is not None:\n",
        "    word_vector_matrix[index]=vector\n",
        "  else:\n",
        "    words_vector_not_present.append(word)"
      ],
      "metadata": {
        "id": "_euIn1p0Qi_B"
      },
      "execution_count": null,
      "outputs": []
    },
    {
      "cell_type": "code",
      "source": [
        "print(len(words_vector_not_present))"
      ],
      "metadata": {
        "colab": {
          "base_uri": "https://localhost:8080/"
        },
        "id": "m8ICB2GkRdvH",
        "outputId": "1387ec74-aee3-4d04-ed0d-5bd9b504a419"
      },
      "execution_count": null,
      "outputs": [
        {
          "output_type": "stream",
          "name": "stdout",
          "text": [
            "2691\n"
          ]
        }
      ]
    },
    {
      "cell_type": "code",
      "source": [
        "word_vector_matrix.shape"
      ],
      "metadata": {
        "colab": {
          "base_uri": "https://localhost:8080/"
        },
        "id": "Zkmay9ZzeTqy",
        "outputId": "d44a96db-42e1-435f-8fbe-014e3ba7a30e"
      },
      "execution_count": null,
      "outputs": [
        {
          "output_type": "execute_result",
          "data": {
            "text/plain": [
              "(5865, 25)"
            ]
          },
          "metadata": {},
          "execution_count": 27
        }
      ]
    },
    {
      "cell_type": "markdown",
      "source": [
        "##TF2.0 and keras Model Building"
      ],
      "metadata": {
        "id": "J4K6sy3oUbjA"
      }
    },
    {
      "cell_type": "code",
      "source": [
        "X[:5]"
      ],
      "metadata": {
        "colab": {
          "base_uri": "https://localhost:8080/"
        },
        "id": "5D3iNC_yUgDT",
        "outputId": "6b59b090-c8a2-4088-cabf-8b48e9d0464e"
      },
      "execution_count": null,
      "outputs": [
        {
          "output_type": "execute_result",
          "data": {
            "text/plain": [
              "array([[ 479,   64,   30,   75, 1442,  168,    8,    0,    0,    0,    0,\n",
              "           0,    0,    0,    0,    0,    0,    0,    0,    0,    0,    0,\n",
              "           0,    0,    0,    0,    0,    0,    0,    0],\n",
              "       [ 120,  132,  322,   75,   86,  128,    8,    8,  244,    0,    0,\n",
              "           0,    0,    0,    0,    0,    0,    0,    0,    0,    0,    0,\n",
              "           0,    0,    0,    0,    0,    0,    0,    0],\n",
              "       [   2,   28,   56,  179,   19,   18, 1733,   20,    4,  186, 1985,\n",
              "          36, 1986,    8,    0,    0,    0,    0,    0,    0,    0,    0,\n",
              "           0,    0,    0,    0,    0,    0,    0,    0],\n",
              "       [   2,  135,   12,  289,  622,  189,   28,  356,   30, 1443,    8,\n",
              "        1734,    7,   96, 3670,  212, 3671, 3672,    0,    0,    0,    0,\n",
              "           0,    0,    0,    0,    0,    0,    0,    0],\n",
              "       [ 146, 1735,   13, 3673,   13, 3674,   64, 1328,   75,   28, 1987,\n",
              "          23,   40,   66,  186,  367,   15,    8, 3675,    0,    0,    0,\n",
              "           0,    0,    0,    0,    0,    0,    0,    0]], dtype=int32)"
            ]
          },
          "metadata": {},
          "execution_count": 28
        }
      ]
    },
    {
      "cell_type": "code",
      "source": [
        "x_train,x_test, y_train, y_test=train_test_split(X, y, random_state=42, test_size=0.2, stratify=y)\n",
        "x_male_train, y_male_train, x_male_test, y_male_test=train_test_split(x_male, y_male,random_state=42, test_size=0.3,stratify=y_male)\n",
        "x_female_train, y_female_train, x_female_test, y_female_test=train_test_split(x_female, y_female,random_state=42, test_size=0.3,stratify=y_female)"
      ],
      "metadata": {
        "id": "ytGSwJf_Uhre"
      },
      "execution_count": null,
      "outputs": []
    },
    {
      "cell_type": "code",
      "source": [
        "vec_size=25\n",
        "\n",
        "model =Sequential()\n",
        "model.add(Embedding(vocab_size, vec_size, input_length=max_length, weights=[word_vector_matrix], trainable=False))\n",
        "model.add(Conv1D(32, 1))\n",
        "model.add(MaxPooling1D(2))\n",
        "model.add(Dropout(0.4))\n",
        "model.add(Flatten())\n",
        "model.add(Dense(32, activation='relu', kernel_initializer='he_normal', kernel_regularizer=regularizers.l2(l=0.01)))\n",
        "model.add(Dropout(0.5))\n",
        "model.add(Dense(16, activation='relu', kernel_initializer='he_normal', kernel_regularizer=regularizers.l2(l=0.01)))\n",
        "model.add(Dropout(0.3))\n",
        "model.add(Dense(32,kernel_initializer='he_normal', activation='softmax'))\n",
        "model.add(Dense(3,kernel_initializer='he_normal', activation='softmax'))\n",
        "\n",
        "model.compile(optimizer=Adam(learning_rate=0.01), loss='sparse_categorical_crossentropy', metrics=['accuracy'])\n",
        "model.summary()"
      ],
      "metadata": {
        "colab": {
          "base_uri": "https://localhost:8080/"
        },
        "outputId": "85f51f98-bb45-4915-e76e-dc4f606c4690",
        "id": "hYIXEIgA8gam"
      },
      "execution_count": null,
      "outputs": [
        {
          "output_type": "stream",
          "name": "stdout",
          "text": [
            "Model: \"sequential\"\n",
            "_________________________________________________________________\n",
            " Layer (type)                Output Shape              Param #   \n",
            "=================================================================\n",
            " embedding (Embedding)       (None, 30, 25)            146625    \n",
            "                                                                 \n",
            " conv1d (Conv1D)             (None, 30, 32)            832       \n",
            "                                                                 \n",
            " max_pooling1d (MaxPooling1D  (None, 15, 32)           0         \n",
            " )                                                               \n",
            "                                                                 \n",
            " dropout (Dropout)           (None, 15, 32)            0         \n",
            "                                                                 \n",
            " flatten (Flatten)           (None, 480)               0         \n",
            "                                                                 \n",
            " dense (Dense)               (None, 32)                15392     \n",
            "                                                                 \n",
            " dropout_1 (Dropout)         (None, 32)                0         \n",
            "                                                                 \n",
            " dense_1 (Dense)             (None, 16)                528       \n",
            "                                                                 \n",
            " dropout_2 (Dropout)         (None, 16)                0         \n",
            "                                                                 \n",
            " dense_2 (Dense)             (None, 32)                544       \n",
            "                                                                 \n",
            " dense_3 (Dense)             (None, 3)                 99        \n",
            "                                                                 \n",
            "=================================================================\n",
            "Total params: 164,020\n",
            "Trainable params: 17,395\n",
            "Non-trainable params: 146,625\n",
            "_________________________________________________________________\n"
          ]
        }
      ]
    },
    {
      "cell_type": "code",
      "source": [
        "history=model.fit(x_train, y_train, epochs=300, validation_data=(x_test, y_test))"
      ],
      "metadata": {
        "colab": {
          "base_uri": "https://localhost:8080/"
        },
        "id": "1uvRn1UflP4E",
        "outputId": "da7d0547-ea64-4e5f-ce7d-e7a03151a021"
      },
      "execution_count": null,
      "outputs": [
        {
          "output_type": "stream",
          "name": "stdout",
          "text": [
            "Epoch 1/300\n",
            "67/67 [==============================] - 3s 14ms/step - loss: 1.0143 - accuracy: 0.5573 - val_loss: 0.8090 - val_accuracy: 0.6154\n",
            "Epoch 2/300\n",
            "67/67 [==============================] - 0s 5ms/step - loss: 0.8161 - accuracy: 0.6296 - val_loss: 0.7883 - val_accuracy: 0.6642\n",
            "Epoch 3/300\n",
            "67/67 [==============================] - 0s 5ms/step - loss: 0.8214 - accuracy: 0.6606 - val_loss: 0.8175 - val_accuracy: 0.7017\n",
            "Epoch 4/300\n",
            "67/67 [==============================] - 0s 5ms/step - loss: 0.8263 - accuracy: 0.6897 - val_loss: 0.7874 - val_accuracy: 0.7317\n",
            "Epoch 5/300\n",
            "67/67 [==============================] - 0s 4ms/step - loss: 0.8659 - accuracy: 0.7122 - val_loss: 0.7757 - val_accuracy: 0.7692\n",
            "Epoch 6/300\n",
            "67/67 [==============================] - 0s 5ms/step - loss: 0.8174 - accuracy: 0.7150 - val_loss: 0.7519 - val_accuracy: 0.7467\n",
            "Epoch 7/300\n",
            "67/67 [==============================] - 0s 5ms/step - loss: 0.7938 - accuracy: 0.7183 - val_loss: 0.7820 - val_accuracy: 0.7467\n",
            "Epoch 8/300\n",
            "67/67 [==============================] - 0s 4ms/step - loss: 0.7989 - accuracy: 0.7202 - val_loss: 0.7443 - val_accuracy: 0.7692\n",
            "Epoch 9/300\n",
            "67/67 [==============================] - 0s 5ms/step - loss: 0.7767 - accuracy: 0.7315 - val_loss: 0.7482 - val_accuracy: 0.7674\n",
            "Epoch 10/300\n",
            "67/67 [==============================] - 0s 5ms/step - loss: 0.7849 - accuracy: 0.7258 - val_loss: 0.7841 - val_accuracy: 0.7336\n",
            "Epoch 11/300\n",
            "67/67 [==============================] - 0s 5ms/step - loss: 0.7520 - accuracy: 0.7305 - val_loss: 0.7112 - val_accuracy: 0.7598\n",
            "Epoch 12/300\n",
            "67/67 [==============================] - 0s 5ms/step - loss: 0.7774 - accuracy: 0.7343 - val_loss: 0.7275 - val_accuracy: 0.7467\n",
            "Epoch 13/300\n",
            "67/67 [==============================] - 0s 5ms/step - loss: 0.7646 - accuracy: 0.7418 - val_loss: 0.7314 - val_accuracy: 0.7505\n",
            "Epoch 14/300\n",
            "67/67 [==============================] - 0s 5ms/step - loss: 0.7655 - accuracy: 0.7423 - val_loss: 0.7425 - val_accuracy: 0.7598\n",
            "Epoch 15/300\n",
            "67/67 [==============================] - 0s 5ms/step - loss: 0.7455 - accuracy: 0.7469 - val_loss: 0.7293 - val_accuracy: 0.7523\n",
            "Epoch 16/300\n",
            "67/67 [==============================] - 0s 5ms/step - loss: 0.7629 - accuracy: 0.7432 - val_loss: 0.7111 - val_accuracy: 0.7636\n",
            "Epoch 17/300\n",
            "67/67 [==============================] - 0s 5ms/step - loss: 0.7619 - accuracy: 0.7413 - val_loss: 0.7403 - val_accuracy: 0.7561\n",
            "Epoch 18/300\n",
            "67/67 [==============================] - 0s 5ms/step - loss: 0.7628 - accuracy: 0.7399 - val_loss: 0.7145 - val_accuracy: 0.7598\n",
            "Epoch 19/300\n",
            "67/67 [==============================] - 0s 4ms/step - loss: 0.7449 - accuracy: 0.7423 - val_loss: 0.7471 - val_accuracy: 0.7411\n",
            "Epoch 20/300\n",
            "67/67 [==============================] - 0s 5ms/step - loss: 0.7647 - accuracy: 0.7380 - val_loss: 0.7429 - val_accuracy: 0.7505\n",
            "Epoch 21/300\n",
            "67/67 [==============================] - 0s 5ms/step - loss: 0.7644 - accuracy: 0.7390 - val_loss: 0.7098 - val_accuracy: 0.7617\n",
            "Epoch 22/300\n",
            "67/67 [==============================] - 0s 4ms/step - loss: 0.7328 - accuracy: 0.7507 - val_loss: 0.7462 - val_accuracy: 0.7336\n",
            "Epoch 23/300\n",
            "67/67 [==============================] - 0s 5ms/step - loss: 0.7740 - accuracy: 0.7343 - val_loss: 0.7514 - val_accuracy: 0.7561\n",
            "Epoch 24/300\n",
            "67/67 [==============================] - 0s 5ms/step - loss: 0.7713 - accuracy: 0.7516 - val_loss: 0.7606 - val_accuracy: 0.7598\n",
            "Epoch 25/300\n",
            "67/67 [==============================] - 0s 5ms/step - loss: 0.7714 - accuracy: 0.7362 - val_loss: 0.7313 - val_accuracy: 0.7486\n",
            "Epoch 26/300\n",
            "67/67 [==============================] - 0s 4ms/step - loss: 0.7783 - accuracy: 0.7521 - val_loss: 0.7400 - val_accuracy: 0.7561\n",
            "Epoch 27/300\n",
            "67/67 [==============================] - 0s 5ms/step - loss: 0.7465 - accuracy: 0.7423 - val_loss: 0.7642 - val_accuracy: 0.7430\n",
            "Epoch 28/300\n",
            "67/67 [==============================] - 0s 4ms/step - loss: 0.7616 - accuracy: 0.7516 - val_loss: 0.7518 - val_accuracy: 0.7580\n",
            "Epoch 29/300\n",
            "67/67 [==============================] - 0s 4ms/step - loss: 0.7956 - accuracy: 0.7305 - val_loss: 0.7310 - val_accuracy: 0.7711\n",
            "Epoch 30/300\n",
            "67/67 [==============================] - 0s 4ms/step - loss: 0.7490 - accuracy: 0.7460 - val_loss: 0.7601 - val_accuracy: 0.7655\n",
            "Epoch 31/300\n",
            "67/67 [==============================] - 0s 4ms/step - loss: 0.7750 - accuracy: 0.7418 - val_loss: 0.7584 - val_accuracy: 0.7448\n",
            "Epoch 32/300\n",
            "67/67 [==============================] - 0s 4ms/step - loss: 0.7357 - accuracy: 0.7535 - val_loss: 0.7462 - val_accuracy: 0.7598\n",
            "Epoch 33/300\n",
            "67/67 [==============================] - 0s 4ms/step - loss: 0.7549 - accuracy: 0.7408 - val_loss: 0.7657 - val_accuracy: 0.7598\n",
            "Epoch 34/300\n",
            "67/67 [==============================] - 0s 4ms/step - loss: 0.7685 - accuracy: 0.7455 - val_loss: 0.7706 - val_accuracy: 0.7242\n",
            "Epoch 35/300\n",
            "67/67 [==============================] - 0s 4ms/step - loss: 0.8345 - accuracy: 0.7455 - val_loss: 0.8090 - val_accuracy: 0.7242\n",
            "Epoch 36/300\n",
            "67/67 [==============================] - 0s 5ms/step - loss: 0.7849 - accuracy: 0.7418 - val_loss: 0.7757 - val_accuracy: 0.7411\n",
            "Epoch 37/300\n",
            "67/67 [==============================] - 0s 5ms/step - loss: 0.7540 - accuracy: 0.7493 - val_loss: 0.7510 - val_accuracy: 0.7523\n",
            "Epoch 38/300\n",
            "67/67 [==============================] - 0s 5ms/step - loss: 0.7667 - accuracy: 0.7385 - val_loss: 0.7516 - val_accuracy: 0.7373\n",
            "Epoch 39/300\n",
            "67/67 [==============================] - 0s 4ms/step - loss: 0.7709 - accuracy: 0.7465 - val_loss: 0.7861 - val_accuracy: 0.7430\n",
            "Epoch 40/300\n",
            "67/67 [==============================] - 0s 4ms/step - loss: 0.7619 - accuracy: 0.7526 - val_loss: 0.7328 - val_accuracy: 0.7542\n",
            "Epoch 41/300\n",
            "67/67 [==============================] - 0s 5ms/step - loss: 0.7417 - accuracy: 0.7507 - val_loss: 0.7682 - val_accuracy: 0.7467\n",
            "Epoch 42/300\n",
            "67/67 [==============================] - 0s 5ms/step - loss: 0.7656 - accuracy: 0.7516 - val_loss: 0.7673 - val_accuracy: 0.7242\n",
            "Epoch 43/300\n",
            "67/67 [==============================] - 0s 4ms/step - loss: 0.7451 - accuracy: 0.7498 - val_loss: 0.7486 - val_accuracy: 0.7411\n",
            "Epoch 44/300\n",
            "67/67 [==============================] - 0s 5ms/step - loss: 0.7654 - accuracy: 0.7385 - val_loss: 0.7622 - val_accuracy: 0.7167\n",
            "Epoch 45/300\n",
            "67/67 [==============================] - 0s 5ms/step - loss: 0.7678 - accuracy: 0.7521 - val_loss: 0.7652 - val_accuracy: 0.7430\n",
            "Epoch 46/300\n",
            "67/67 [==============================] - 0s 5ms/step - loss: 0.7505 - accuracy: 0.7493 - val_loss: 0.7356 - val_accuracy: 0.7467\n",
            "Epoch 47/300\n",
            "67/67 [==============================] - 0s 5ms/step - loss: 0.7472 - accuracy: 0.7432 - val_loss: 0.7378 - val_accuracy: 0.7580\n",
            "Epoch 48/300\n",
            "67/67 [==============================] - 0s 4ms/step - loss: 0.7443 - accuracy: 0.7587 - val_loss: 0.7459 - val_accuracy: 0.7336\n",
            "Epoch 49/300\n",
            "67/67 [==============================] - 0s 5ms/step - loss: 0.7543 - accuracy: 0.7469 - val_loss: 0.7645 - val_accuracy: 0.7373\n",
            "Epoch 50/300\n",
            "67/67 [==============================] - 0s 5ms/step - loss: 0.7554 - accuracy: 0.7507 - val_loss: 0.7965 - val_accuracy: 0.7261\n",
            "Epoch 51/300\n",
            "67/67 [==============================] - 0s 4ms/step - loss: 0.7771 - accuracy: 0.7484 - val_loss: 0.7393 - val_accuracy: 0.7655\n",
            "Epoch 52/300\n",
            "67/67 [==============================] - 0s 4ms/step - loss: 0.7661 - accuracy: 0.7418 - val_loss: 0.7529 - val_accuracy: 0.7655\n",
            "Epoch 53/300\n",
            "67/67 [==============================] - 0s 5ms/step - loss: 0.7467 - accuracy: 0.7554 - val_loss: 0.7363 - val_accuracy: 0.7448\n",
            "Epoch 54/300\n",
            "67/67 [==============================] - 0s 4ms/step - loss: 0.7595 - accuracy: 0.7446 - val_loss: 0.7443 - val_accuracy: 0.7373\n",
            "Epoch 55/300\n",
            "67/67 [==============================] - 0s 5ms/step - loss: 0.7551 - accuracy: 0.7394 - val_loss: 0.7522 - val_accuracy: 0.7411\n",
            "Epoch 56/300\n",
            "67/67 [==============================] - 0s 4ms/step - loss: 0.7502 - accuracy: 0.7437 - val_loss: 0.7526 - val_accuracy: 0.7336\n",
            "Epoch 57/300\n",
            "67/67 [==============================] - 0s 4ms/step - loss: 0.7910 - accuracy: 0.7286 - val_loss: 0.7687 - val_accuracy: 0.7411\n",
            "Epoch 58/300\n",
            "67/67 [==============================] - 0s 5ms/step - loss: 0.7646 - accuracy: 0.7507 - val_loss: 0.7454 - val_accuracy: 0.7561\n",
            "Epoch 59/300\n",
            "67/67 [==============================] - 0s 5ms/step - loss: 0.7741 - accuracy: 0.7451 - val_loss: 0.7316 - val_accuracy: 0.7711\n",
            "Epoch 60/300\n",
            "67/67 [==============================] - 0s 5ms/step - loss: 0.7652 - accuracy: 0.7437 - val_loss: 0.7582 - val_accuracy: 0.7486\n",
            "Epoch 61/300\n",
            "67/67 [==============================] - 0s 5ms/step - loss: 0.7625 - accuracy: 0.7535 - val_loss: 0.7292 - val_accuracy: 0.7617\n",
            "Epoch 62/300\n",
            "67/67 [==============================] - 0s 4ms/step - loss: 0.7363 - accuracy: 0.7573 - val_loss: 0.7294 - val_accuracy: 0.7636\n",
            "Epoch 63/300\n",
            "67/67 [==============================] - 0s 4ms/step - loss: 0.7597 - accuracy: 0.7432 - val_loss: 0.8058 - val_accuracy: 0.7205\n",
            "Epoch 64/300\n",
            "67/67 [==============================] - 0s 4ms/step - loss: 0.7673 - accuracy: 0.7362 - val_loss: 0.8163 - val_accuracy: 0.7205\n",
            "Epoch 65/300\n",
            "67/67 [==============================] - 0s 4ms/step - loss: 0.7488 - accuracy: 0.7587 - val_loss: 0.7718 - val_accuracy: 0.7317\n",
            "Epoch 66/300\n",
            "67/67 [==============================] - 0s 5ms/step - loss: 0.7776 - accuracy: 0.7413 - val_loss: 0.7526 - val_accuracy: 0.7561\n",
            "Epoch 67/300\n",
            "67/67 [==============================] - 0s 5ms/step - loss: 0.7720 - accuracy: 0.7516 - val_loss: 0.7574 - val_accuracy: 0.7542\n",
            "Epoch 68/300\n",
            "67/67 [==============================] - 0s 5ms/step - loss: 0.7531 - accuracy: 0.7549 - val_loss: 0.7657 - val_accuracy: 0.7505\n",
            "Epoch 69/300\n",
            "67/67 [==============================] - 0s 5ms/step - loss: 0.7652 - accuracy: 0.7498 - val_loss: 0.7524 - val_accuracy: 0.7542\n",
            "Epoch 70/300\n",
            "67/67 [==============================] - 0s 4ms/step - loss: 0.7422 - accuracy: 0.7582 - val_loss: 0.7405 - val_accuracy: 0.7373\n",
            "Epoch 71/300\n",
            "67/67 [==============================] - 0s 5ms/step - loss: 0.7564 - accuracy: 0.7488 - val_loss: 0.7680 - val_accuracy: 0.7411\n",
            "Epoch 72/300\n",
            "67/67 [==============================] - 0s 5ms/step - loss: 0.7619 - accuracy: 0.7484 - val_loss: 0.7520 - val_accuracy: 0.7317\n",
            "Epoch 73/300\n",
            "67/67 [==============================] - 0s 5ms/step - loss: 0.7604 - accuracy: 0.7545 - val_loss: 0.7432 - val_accuracy: 0.7636\n",
            "Epoch 74/300\n",
            "67/67 [==============================] - 0s 4ms/step - loss: 0.7199 - accuracy: 0.7596 - val_loss: 0.7376 - val_accuracy: 0.7542\n",
            "Epoch 75/300\n",
            "67/67 [==============================] - 0s 4ms/step - loss: 0.7669 - accuracy: 0.7469 - val_loss: 0.7635 - val_accuracy: 0.7505\n",
            "Epoch 76/300\n",
            "67/67 [==============================] - 0s 5ms/step - loss: 0.7489 - accuracy: 0.7620 - val_loss: 0.7802 - val_accuracy: 0.7523\n",
            "Epoch 77/300\n",
            "67/67 [==============================] - 0s 4ms/step - loss: 0.7628 - accuracy: 0.7643 - val_loss: 0.7671 - val_accuracy: 0.7336\n",
            "Epoch 78/300\n",
            "67/67 [==============================] - 0s 5ms/step - loss: 0.7732 - accuracy: 0.7418 - val_loss: 0.7815 - val_accuracy: 0.7430\n",
            "Epoch 79/300\n",
            "67/67 [==============================] - 0s 4ms/step - loss: 0.7574 - accuracy: 0.7394 - val_loss: 0.7221 - val_accuracy: 0.7805\n",
            "Epoch 80/300\n",
            "67/67 [==============================] - 0s 4ms/step - loss: 0.7664 - accuracy: 0.7540 - val_loss: 0.7460 - val_accuracy: 0.7730\n",
            "Epoch 81/300\n",
            "67/67 [==============================] - 0s 5ms/step - loss: 0.7710 - accuracy: 0.7329 - val_loss: 0.7281 - val_accuracy: 0.7655\n",
            "Epoch 82/300\n",
            "67/67 [==============================] - 0s 5ms/step - loss: 0.7395 - accuracy: 0.7540 - val_loss: 0.7390 - val_accuracy: 0.7598\n",
            "Epoch 83/300\n",
            "67/67 [==============================] - 0s 5ms/step - loss: 0.7627 - accuracy: 0.7394 - val_loss: 0.7515 - val_accuracy: 0.7355\n",
            "Epoch 84/300\n",
            "67/67 [==============================] - 0s 4ms/step - loss: 0.7381 - accuracy: 0.7531 - val_loss: 0.7730 - val_accuracy: 0.7298\n",
            "Epoch 85/300\n",
            "67/67 [==============================] - 0s 5ms/step - loss: 0.7652 - accuracy: 0.7451 - val_loss: 0.7545 - val_accuracy: 0.7523\n",
            "Epoch 86/300\n",
            "67/67 [==============================] - 0s 5ms/step - loss: 0.7519 - accuracy: 0.7507 - val_loss: 0.7524 - val_accuracy: 0.7542\n",
            "Epoch 87/300\n",
            "67/67 [==============================] - 0s 5ms/step - loss: 0.7786 - accuracy: 0.7549 - val_loss: 0.7383 - val_accuracy: 0.7486\n",
            "Epoch 88/300\n",
            "67/67 [==============================] - 0s 5ms/step - loss: 0.7390 - accuracy: 0.7568 - val_loss: 0.7520 - val_accuracy: 0.7467\n",
            "Epoch 89/300\n",
            "67/67 [==============================] - 0s 5ms/step - loss: 0.7616 - accuracy: 0.7545 - val_loss: 0.7805 - val_accuracy: 0.7392\n",
            "Epoch 90/300\n",
            "67/67 [==============================] - 0s 4ms/step - loss: 0.7559 - accuracy: 0.7638 - val_loss: 0.7420 - val_accuracy: 0.7542\n",
            "Epoch 91/300\n",
            "67/67 [==============================] - 0s 5ms/step - loss: 0.7722 - accuracy: 0.7479 - val_loss: 0.7854 - val_accuracy: 0.7542\n",
            "Epoch 92/300\n",
            "67/67 [==============================] - 0s 6ms/step - loss: 0.7629 - accuracy: 0.7512 - val_loss: 0.7413 - val_accuracy: 0.7486\n",
            "Epoch 93/300\n",
            "67/67 [==============================] - 0s 5ms/step - loss: 0.7465 - accuracy: 0.7606 - val_loss: 0.7554 - val_accuracy: 0.7561\n",
            "Epoch 94/300\n",
            "67/67 [==============================] - 0s 5ms/step - loss: 0.7495 - accuracy: 0.7535 - val_loss: 0.7376 - val_accuracy: 0.7467\n",
            "Epoch 95/300\n",
            "67/67 [==============================] - 0s 5ms/step - loss: 0.7363 - accuracy: 0.7606 - val_loss: 0.7643 - val_accuracy: 0.7355\n",
            "Epoch 96/300\n",
            "67/67 [==============================] - 0s 5ms/step - loss: 0.7572 - accuracy: 0.7545 - val_loss: 0.7509 - val_accuracy: 0.7655\n",
            "Epoch 97/300\n",
            "67/67 [==============================] - 0s 6ms/step - loss: 0.7363 - accuracy: 0.7521 - val_loss: 0.7397 - val_accuracy: 0.7711\n",
            "Epoch 98/300\n",
            "67/67 [==============================] - 0s 6ms/step - loss: 0.7531 - accuracy: 0.7423 - val_loss: 0.7347 - val_accuracy: 0.7636\n",
            "Epoch 99/300\n",
            "67/67 [==============================] - 0s 5ms/step - loss: 0.7411 - accuracy: 0.7573 - val_loss: 0.7461 - val_accuracy: 0.7542\n",
            "Epoch 100/300\n",
            "67/67 [==============================] - 0s 6ms/step - loss: 0.7356 - accuracy: 0.7502 - val_loss: 0.7312 - val_accuracy: 0.7355\n",
            "Epoch 101/300\n",
            "67/67 [==============================] - 0s 5ms/step - loss: 0.7401 - accuracy: 0.7484 - val_loss: 0.7430 - val_accuracy: 0.7636\n",
            "Epoch 102/300\n",
            "67/67 [==============================] - 0s 5ms/step - loss: 0.7468 - accuracy: 0.7610 - val_loss: 0.7407 - val_accuracy: 0.7505\n",
            "Epoch 103/300\n",
            "67/67 [==============================] - 0s 5ms/step - loss: 0.7437 - accuracy: 0.7469 - val_loss: 0.7623 - val_accuracy: 0.7617\n",
            "Epoch 104/300\n",
            "67/67 [==============================] - 0s 5ms/step - loss: 0.7672 - accuracy: 0.7606 - val_loss: 0.8356 - val_accuracy: 0.7223\n",
            "Epoch 105/300\n",
            "67/67 [==============================] - 0s 5ms/step - loss: 0.7981 - accuracy: 0.7423 - val_loss: 0.7554 - val_accuracy: 0.7636\n",
            "Epoch 106/300\n",
            "67/67 [==============================] - 0s 5ms/step - loss: 0.7932 - accuracy: 0.7460 - val_loss: 0.8018 - val_accuracy: 0.7711\n",
            "Epoch 107/300\n",
            "67/67 [==============================] - 0s 5ms/step - loss: 0.7846 - accuracy: 0.7568 - val_loss: 0.7710 - val_accuracy: 0.7486\n",
            "Epoch 108/300\n",
            "67/67 [==============================] - 0s 5ms/step - loss: 0.7630 - accuracy: 0.7512 - val_loss: 0.7385 - val_accuracy: 0.7711\n",
            "Epoch 109/300\n",
            "67/67 [==============================] - 0s 6ms/step - loss: 0.7507 - accuracy: 0.7559 - val_loss: 0.7426 - val_accuracy: 0.7486\n",
            "Epoch 110/300\n",
            "67/67 [==============================] - 0s 5ms/step - loss: 0.7777 - accuracy: 0.7502 - val_loss: 0.7751 - val_accuracy: 0.7467\n",
            "Epoch 111/300\n",
            "67/67 [==============================] - 0s 5ms/step - loss: 0.7704 - accuracy: 0.7545 - val_loss: 0.7617 - val_accuracy: 0.7505\n",
            "Epoch 112/300\n",
            "67/67 [==============================] - 0s 5ms/step - loss: 0.7758 - accuracy: 0.7498 - val_loss: 0.8170 - val_accuracy: 0.7561\n",
            "Epoch 113/300\n",
            "67/67 [==============================] - 0s 5ms/step - loss: 0.7650 - accuracy: 0.7606 - val_loss: 0.7536 - val_accuracy: 0.7392\n",
            "Epoch 114/300\n",
            "67/67 [==============================] - 0s 5ms/step - loss: 0.7410 - accuracy: 0.7516 - val_loss: 0.7428 - val_accuracy: 0.7523\n",
            "Epoch 115/300\n",
            "67/67 [==============================] - 0s 5ms/step - loss: 0.7365 - accuracy: 0.7596 - val_loss: 0.7504 - val_accuracy: 0.7580\n",
            "Epoch 116/300\n",
            "67/67 [==============================] - 0s 5ms/step - loss: 0.7628 - accuracy: 0.7512 - val_loss: 0.7611 - val_accuracy: 0.7430\n",
            "Epoch 117/300\n",
            "67/67 [==============================] - 0s 5ms/step - loss: 0.7515 - accuracy: 0.7582 - val_loss: 0.7575 - val_accuracy: 0.7542\n",
            "Epoch 118/300\n",
            "67/67 [==============================] - 0s 5ms/step - loss: 0.7663 - accuracy: 0.7531 - val_loss: 0.7453 - val_accuracy: 0.7617\n",
            "Epoch 119/300\n",
            "67/67 [==============================] - 0s 5ms/step - loss: 0.7743 - accuracy: 0.7596 - val_loss: 0.7706 - val_accuracy: 0.7467\n",
            "Epoch 120/300\n",
            "67/67 [==============================] - 0s 5ms/step - loss: 0.7633 - accuracy: 0.7441 - val_loss: 0.7511 - val_accuracy: 0.7636\n",
            "Epoch 121/300\n",
            "67/67 [==============================] - 0s 5ms/step - loss: 0.7526 - accuracy: 0.7531 - val_loss: 0.7449 - val_accuracy: 0.7542\n",
            "Epoch 122/300\n",
            "67/67 [==============================] - 0s 5ms/step - loss: 0.7608 - accuracy: 0.7437 - val_loss: 0.7337 - val_accuracy: 0.7636\n",
            "Epoch 123/300\n",
            "67/67 [==============================] - 0s 5ms/step - loss: 0.7560 - accuracy: 0.7460 - val_loss: 0.7463 - val_accuracy: 0.7805\n",
            "Epoch 124/300\n",
            "67/67 [==============================] - 0s 5ms/step - loss: 0.7517 - accuracy: 0.7512 - val_loss: 0.7807 - val_accuracy: 0.7561\n",
            "Epoch 125/300\n",
            "67/67 [==============================] - 0s 5ms/step - loss: 0.7770 - accuracy: 0.7484 - val_loss: 0.7685 - val_accuracy: 0.7486\n",
            "Epoch 126/300\n",
            "67/67 [==============================] - 0s 4ms/step - loss: 0.7562 - accuracy: 0.7587 - val_loss: 0.7478 - val_accuracy: 0.7467\n",
            "Epoch 127/300\n",
            "67/67 [==============================] - 0s 5ms/step - loss: 0.7510 - accuracy: 0.7474 - val_loss: 0.7442 - val_accuracy: 0.7636\n",
            "Epoch 128/300\n",
            "67/67 [==============================] - 0s 4ms/step - loss: 0.7652 - accuracy: 0.7507 - val_loss: 0.7634 - val_accuracy: 0.7317\n",
            "Epoch 129/300\n",
            "67/67 [==============================] - 0s 5ms/step - loss: 0.7534 - accuracy: 0.7606 - val_loss: 0.7692 - val_accuracy: 0.7486\n",
            "Epoch 130/300\n",
            "67/67 [==============================] - 0s 5ms/step - loss: 0.7476 - accuracy: 0.7582 - val_loss: 0.7903 - val_accuracy: 0.7411\n",
            "Epoch 131/300\n",
            "67/67 [==============================] - 0s 5ms/step - loss: 0.7528 - accuracy: 0.7512 - val_loss: 0.7568 - val_accuracy: 0.7542\n",
            "Epoch 132/300\n",
            "67/67 [==============================] - 0s 5ms/step - loss: 0.7624 - accuracy: 0.7423 - val_loss: 0.7413 - val_accuracy: 0.7598\n",
            "Epoch 133/300\n",
            "67/67 [==============================] - 0s 5ms/step - loss: 0.7551 - accuracy: 0.7620 - val_loss: 0.8577 - val_accuracy: 0.7280\n",
            "Epoch 134/300\n",
            "67/67 [==============================] - 0s 5ms/step - loss: 0.7857 - accuracy: 0.7535 - val_loss: 0.7694 - val_accuracy: 0.7467\n",
            "Epoch 135/300\n",
            "67/67 [==============================] - 0s 5ms/step - loss: 0.7653 - accuracy: 0.7441 - val_loss: 0.7620 - val_accuracy: 0.7561\n",
            "Epoch 136/300\n",
            "67/67 [==============================] - 0s 5ms/step - loss: 0.7554 - accuracy: 0.7587 - val_loss: 0.7301 - val_accuracy: 0.7505\n",
            "Epoch 137/300\n",
            "67/67 [==============================] - 0s 5ms/step - loss: 0.7359 - accuracy: 0.7657 - val_loss: 0.7491 - val_accuracy: 0.7523\n",
            "Epoch 138/300\n",
            "67/67 [==============================] - 0s 5ms/step - loss: 0.7380 - accuracy: 0.7667 - val_loss: 0.7573 - val_accuracy: 0.7655\n",
            "Epoch 139/300\n",
            "67/67 [==============================] - 0s 5ms/step - loss: 0.7591 - accuracy: 0.7535 - val_loss: 0.7514 - val_accuracy: 0.7523\n",
            "Epoch 140/300\n",
            "67/67 [==============================] - 0s 4ms/step - loss: 0.7696 - accuracy: 0.7474 - val_loss: 0.7913 - val_accuracy: 0.7505\n",
            "Epoch 141/300\n",
            "67/67 [==============================] - 0s 5ms/step - loss: 0.7753 - accuracy: 0.7474 - val_loss: 0.7520 - val_accuracy: 0.7598\n",
            "Epoch 142/300\n",
            "67/67 [==============================] - 0s 5ms/step - loss: 0.7567 - accuracy: 0.7549 - val_loss: 0.7783 - val_accuracy: 0.7561\n",
            "Epoch 143/300\n",
            "67/67 [==============================] - 0s 5ms/step - loss: 0.7727 - accuracy: 0.7512 - val_loss: 0.7680 - val_accuracy: 0.7617\n",
            "Epoch 144/300\n",
            "67/67 [==============================] - 0s 5ms/step - loss: 0.7551 - accuracy: 0.7568 - val_loss: 0.8133 - val_accuracy: 0.7411\n",
            "Epoch 145/300\n",
            "67/67 [==============================] - 0s 5ms/step - loss: 0.8000 - accuracy: 0.7512 - val_loss: 0.7736 - val_accuracy: 0.7505\n",
            "Epoch 146/300\n",
            "67/67 [==============================] - 0s 4ms/step - loss: 0.7583 - accuracy: 0.7535 - val_loss: 0.7687 - val_accuracy: 0.7392\n",
            "Epoch 147/300\n",
            "67/67 [==============================] - 0s 4ms/step - loss: 0.7558 - accuracy: 0.7507 - val_loss: 0.7860 - val_accuracy: 0.7523\n",
            "Epoch 148/300\n",
            "67/67 [==============================] - 0s 4ms/step - loss: 0.7768 - accuracy: 0.7648 - val_loss: 0.7959 - val_accuracy: 0.7373\n",
            "Epoch 149/300\n",
            "67/67 [==============================] - 0s 4ms/step - loss: 0.7710 - accuracy: 0.7653 - val_loss: 0.7580 - val_accuracy: 0.7430\n",
            "Epoch 150/300\n",
            "67/67 [==============================] - 0s 4ms/step - loss: 0.7507 - accuracy: 0.7587 - val_loss: 0.7644 - val_accuracy: 0.7523\n",
            "Epoch 151/300\n",
            "67/67 [==============================] - 0s 5ms/step - loss: 0.7464 - accuracy: 0.7695 - val_loss: 0.7719 - val_accuracy: 0.7692\n",
            "Epoch 152/300\n",
            "67/67 [==============================] - 0s 5ms/step - loss: 0.7580 - accuracy: 0.7643 - val_loss: 0.7491 - val_accuracy: 0.7730\n",
            "Epoch 153/300\n",
            "67/67 [==============================] - 0s 4ms/step - loss: 0.7624 - accuracy: 0.7535 - val_loss: 0.7572 - val_accuracy: 0.7411\n",
            "Epoch 154/300\n",
            "67/67 [==============================] - 0s 4ms/step - loss: 0.7555 - accuracy: 0.7610 - val_loss: 0.7530 - val_accuracy: 0.7467\n",
            "Epoch 155/300\n",
            "67/67 [==============================] - 0s 5ms/step - loss: 0.7833 - accuracy: 0.7531 - val_loss: 0.7773 - val_accuracy: 0.7749\n",
            "Epoch 156/300\n",
            "67/67 [==============================] - 0s 5ms/step - loss: 0.7601 - accuracy: 0.7624 - val_loss: 0.7600 - val_accuracy: 0.7523\n",
            "Epoch 157/300\n",
            "67/67 [==============================] - 0s 6ms/step - loss: 0.7708 - accuracy: 0.7568 - val_loss: 0.7745 - val_accuracy: 0.7580\n",
            "Epoch 158/300\n",
            "67/67 [==============================] - 0s 6ms/step - loss: 0.7805 - accuracy: 0.7549 - val_loss: 0.7962 - val_accuracy: 0.7467\n",
            "Epoch 159/300\n",
            "67/67 [==============================] - 0s 5ms/step - loss: 0.7651 - accuracy: 0.7493 - val_loss: 0.7633 - val_accuracy: 0.7411\n",
            "Epoch 160/300\n",
            "67/67 [==============================] - 0s 5ms/step - loss: 0.7703 - accuracy: 0.7624 - val_loss: 0.7709 - val_accuracy: 0.7542\n",
            "Epoch 161/300\n",
            "67/67 [==============================] - 0s 5ms/step - loss: 0.7555 - accuracy: 0.7479 - val_loss: 0.7516 - val_accuracy: 0.7617\n",
            "Epoch 162/300\n",
            "67/67 [==============================] - 0s 4ms/step - loss: 0.7590 - accuracy: 0.7587 - val_loss: 0.7688 - val_accuracy: 0.7580\n",
            "Epoch 163/300\n",
            "67/67 [==============================] - 0s 5ms/step - loss: 0.7433 - accuracy: 0.7685 - val_loss: 0.7580 - val_accuracy: 0.7617\n",
            "Epoch 164/300\n",
            "67/67 [==============================] - 0s 5ms/step - loss: 0.7612 - accuracy: 0.7502 - val_loss: 0.7843 - val_accuracy: 0.7448\n",
            "Epoch 165/300\n",
            "67/67 [==============================] - 0s 5ms/step - loss: 0.7387 - accuracy: 0.7676 - val_loss: 0.7692 - val_accuracy: 0.7505\n",
            "Epoch 166/300\n",
            "67/67 [==============================] - 0s 5ms/step - loss: 0.7852 - accuracy: 0.7596 - val_loss: 0.8007 - val_accuracy: 0.7505\n",
            "Epoch 167/300\n",
            "67/67 [==============================] - 0s 5ms/step - loss: 0.7780 - accuracy: 0.7587 - val_loss: 0.7558 - val_accuracy: 0.7542\n",
            "Epoch 168/300\n",
            "67/67 [==============================] - 0s 5ms/step - loss: 0.7481 - accuracy: 0.7723 - val_loss: 0.7777 - val_accuracy: 0.7561\n",
            "Epoch 169/300\n",
            "67/67 [==============================] - 0s 5ms/step - loss: 0.7658 - accuracy: 0.7737 - val_loss: 0.7715 - val_accuracy: 0.7580\n",
            "Epoch 170/300\n",
            "67/67 [==============================] - 0s 5ms/step - loss: 0.7700 - accuracy: 0.7526 - val_loss: 0.7549 - val_accuracy: 0.7786\n",
            "Epoch 171/300\n",
            "67/67 [==============================] - 0s 6ms/step - loss: 0.7405 - accuracy: 0.7615 - val_loss: 0.7521 - val_accuracy: 0.7617\n",
            "Epoch 172/300\n",
            "67/67 [==============================] - 0s 5ms/step - loss: 0.7741 - accuracy: 0.7653 - val_loss: 0.7562 - val_accuracy: 0.7580\n",
            "Epoch 173/300\n",
            "67/67 [==============================] - 0s 5ms/step - loss: 0.7356 - accuracy: 0.7714 - val_loss: 0.7635 - val_accuracy: 0.7523\n",
            "Epoch 174/300\n",
            "67/67 [==============================] - 0s 5ms/step - loss: 0.7832 - accuracy: 0.7531 - val_loss: 0.7690 - val_accuracy: 0.7467\n",
            "Epoch 175/300\n",
            "67/67 [==============================] - 0s 5ms/step - loss: 0.7517 - accuracy: 0.7559 - val_loss: 0.7459 - val_accuracy: 0.7711\n",
            "Epoch 176/300\n",
            "67/67 [==============================] - 0s 5ms/step - loss: 0.7645 - accuracy: 0.7554 - val_loss: 0.8033 - val_accuracy: 0.7561\n",
            "Epoch 177/300\n",
            "67/67 [==============================] - 0s 5ms/step - loss: 0.8071 - accuracy: 0.7596 - val_loss: 0.7830 - val_accuracy: 0.7542\n",
            "Epoch 178/300\n",
            "67/67 [==============================] - 0s 5ms/step - loss: 0.7760 - accuracy: 0.7479 - val_loss: 0.7843 - val_accuracy: 0.7486\n",
            "Epoch 179/300\n",
            "67/67 [==============================] - 0s 5ms/step - loss: 0.7827 - accuracy: 0.7592 - val_loss: 0.7747 - val_accuracy: 0.7392\n",
            "Epoch 180/300\n",
            "67/67 [==============================] - 0s 5ms/step - loss: 0.7855 - accuracy: 0.7582 - val_loss: 0.7760 - val_accuracy: 0.7523\n",
            "Epoch 181/300\n",
            "67/67 [==============================] - 0s 5ms/step - loss: 0.7798 - accuracy: 0.7610 - val_loss: 0.7659 - val_accuracy: 0.7655\n",
            "Epoch 182/300\n",
            "67/67 [==============================] - 0s 5ms/step - loss: 0.7627 - accuracy: 0.7559 - val_loss: 0.7567 - val_accuracy: 0.7430\n",
            "Epoch 183/300\n",
            "67/67 [==============================] - 0s 4ms/step - loss: 0.7586 - accuracy: 0.7563 - val_loss: 0.7652 - val_accuracy: 0.7561\n",
            "Epoch 184/300\n",
            "67/67 [==============================] - 0s 5ms/step - loss: 0.7744 - accuracy: 0.7446 - val_loss: 0.7871 - val_accuracy: 0.7542\n",
            "Epoch 185/300\n",
            "67/67 [==============================] - 0s 5ms/step - loss: 0.7675 - accuracy: 0.7554 - val_loss: 0.7382 - val_accuracy: 0.7749\n",
            "Epoch 186/300\n",
            "67/67 [==============================] - 0s 5ms/step - loss: 0.7463 - accuracy: 0.7634 - val_loss: 0.8018 - val_accuracy: 0.7336\n",
            "Epoch 187/300\n",
            "67/67 [==============================] - 0s 4ms/step - loss: 0.7940 - accuracy: 0.7437 - val_loss: 0.7879 - val_accuracy: 0.7448\n",
            "Epoch 188/300\n",
            "67/67 [==============================] - 0s 5ms/step - loss: 0.7790 - accuracy: 0.7582 - val_loss: 0.7586 - val_accuracy: 0.7542\n",
            "Epoch 189/300\n",
            "67/67 [==============================] - 0s 5ms/step - loss: 0.7588 - accuracy: 0.7601 - val_loss: 0.7862 - val_accuracy: 0.7467\n",
            "Epoch 190/300\n",
            "67/67 [==============================] - 0s 4ms/step - loss: 0.7494 - accuracy: 0.7526 - val_loss: 0.7667 - val_accuracy: 0.7505\n",
            "Epoch 191/300\n",
            "67/67 [==============================] - 0s 5ms/step - loss: 0.7657 - accuracy: 0.7681 - val_loss: 0.7837 - val_accuracy: 0.7542\n",
            "Epoch 192/300\n",
            "67/67 [==============================] - 0s 5ms/step - loss: 0.7742 - accuracy: 0.7507 - val_loss: 0.7414 - val_accuracy: 0.7767\n",
            "Epoch 193/300\n",
            "67/67 [==============================] - 0s 5ms/step - loss: 0.7503 - accuracy: 0.7592 - val_loss: 0.7479 - val_accuracy: 0.7523\n",
            "Epoch 194/300\n",
            "67/67 [==============================] - 0s 5ms/step - loss: 0.7457 - accuracy: 0.7545 - val_loss: 0.7308 - val_accuracy: 0.7505\n",
            "Epoch 195/300\n",
            "67/67 [==============================] - 0s 5ms/step - loss: 0.7406 - accuracy: 0.7596 - val_loss: 0.7434 - val_accuracy: 0.7561\n",
            "Epoch 196/300\n",
            "67/67 [==============================] - 0s 5ms/step - loss: 0.7584 - accuracy: 0.7620 - val_loss: 0.7608 - val_accuracy: 0.7674\n",
            "Epoch 197/300\n",
            "67/67 [==============================] - 0s 5ms/step - loss: 0.7653 - accuracy: 0.7573 - val_loss: 0.7813 - val_accuracy: 0.7542\n",
            "Epoch 198/300\n",
            "67/67 [==============================] - 0s 5ms/step - loss: 0.7542 - accuracy: 0.7610 - val_loss: 0.7647 - val_accuracy: 0.7486\n",
            "Epoch 199/300\n",
            "67/67 [==============================] - 0s 5ms/step - loss: 0.7815 - accuracy: 0.7559 - val_loss: 0.7636 - val_accuracy: 0.7467\n",
            "Epoch 200/300\n",
            "67/67 [==============================] - 0s 6ms/step - loss: 0.7528 - accuracy: 0.7573 - val_loss: 0.7791 - val_accuracy: 0.7317\n",
            "Epoch 201/300\n",
            "67/67 [==============================] - 0s 4ms/step - loss: 0.7701 - accuracy: 0.7643 - val_loss: 0.7715 - val_accuracy: 0.7636\n",
            "Epoch 202/300\n",
            "67/67 [==============================] - 0s 4ms/step - loss: 0.7705 - accuracy: 0.7620 - val_loss: 0.7513 - val_accuracy: 0.7749\n",
            "Epoch 203/300\n",
            "67/67 [==============================] - 0s 5ms/step - loss: 0.7941 - accuracy: 0.7432 - val_loss: 0.7963 - val_accuracy: 0.7430\n",
            "Epoch 204/300\n",
            "67/67 [==============================] - 0s 4ms/step - loss: 0.7656 - accuracy: 0.7582 - val_loss: 0.7662 - val_accuracy: 0.7692\n",
            "Epoch 205/300\n",
            "67/67 [==============================] - 0s 5ms/step - loss: 0.7666 - accuracy: 0.7638 - val_loss: 0.7759 - val_accuracy: 0.7542\n",
            "Epoch 206/300\n",
            "67/67 [==============================] - 0s 5ms/step - loss: 0.7454 - accuracy: 0.7615 - val_loss: 0.7573 - val_accuracy: 0.7505\n",
            "Epoch 207/300\n",
            "67/67 [==============================] - 0s 4ms/step - loss: 0.7375 - accuracy: 0.7662 - val_loss: 0.7524 - val_accuracy: 0.7486\n",
            "Epoch 208/300\n",
            "67/67 [==============================] - 0s 5ms/step - loss: 0.7325 - accuracy: 0.7676 - val_loss: 0.7602 - val_accuracy: 0.7561\n",
            "Epoch 209/300\n",
            "67/67 [==============================] - 0s 5ms/step - loss: 0.7496 - accuracy: 0.7559 - val_loss: 0.7601 - val_accuracy: 0.7336\n",
            "Epoch 210/300\n",
            "67/67 [==============================] - 0s 5ms/step - loss: 0.7564 - accuracy: 0.7559 - val_loss: 0.7642 - val_accuracy: 0.7523\n",
            "Epoch 211/300\n",
            "67/67 [==============================] - 0s 5ms/step - loss: 0.7665 - accuracy: 0.7516 - val_loss: 0.7856 - val_accuracy: 0.7355\n",
            "Epoch 212/300\n",
            "67/67 [==============================] - 0s 5ms/step - loss: 0.7511 - accuracy: 0.7596 - val_loss: 0.7810 - val_accuracy: 0.7448\n",
            "Epoch 213/300\n",
            "67/67 [==============================] - 0s 5ms/step - loss: 0.7793 - accuracy: 0.7568 - val_loss: 0.7971 - val_accuracy: 0.7598\n",
            "Epoch 214/300\n",
            "67/67 [==============================] - 0s 5ms/step - loss: 0.7790 - accuracy: 0.7512 - val_loss: 0.7887 - val_accuracy: 0.7655\n",
            "Epoch 215/300\n",
            "67/67 [==============================] - 0s 5ms/step - loss: 0.7662 - accuracy: 0.7601 - val_loss: 0.7505 - val_accuracy: 0.7486\n",
            "Epoch 216/300\n",
            "67/67 [==============================] - 0s 5ms/step - loss: 0.7770 - accuracy: 0.7587 - val_loss: 0.7736 - val_accuracy: 0.7598\n",
            "Epoch 217/300\n",
            "67/67 [==============================] - 0s 5ms/step - loss: 0.7614 - accuracy: 0.7563 - val_loss: 0.7633 - val_accuracy: 0.7486\n",
            "Epoch 218/300\n",
            "67/67 [==============================] - 0s 6ms/step - loss: 0.7346 - accuracy: 0.7606 - val_loss: 0.7578 - val_accuracy: 0.7411\n",
            "Epoch 219/300\n",
            "67/67 [==============================] - 0s 5ms/step - loss: 0.7579 - accuracy: 0.7516 - val_loss: 0.7564 - val_accuracy: 0.7598\n",
            "Epoch 220/300\n",
            "67/67 [==============================] - 0s 5ms/step - loss: 0.7561 - accuracy: 0.7577 - val_loss: 0.7423 - val_accuracy: 0.7561\n",
            "Epoch 221/300\n",
            "67/67 [==============================] - 0s 6ms/step - loss: 0.7470 - accuracy: 0.7545 - val_loss: 0.7368 - val_accuracy: 0.7430\n",
            "Epoch 222/300\n",
            "67/67 [==============================] - 0s 6ms/step - loss: 0.7374 - accuracy: 0.7587 - val_loss: 0.7673 - val_accuracy: 0.7542\n",
            "Epoch 223/300\n",
            "67/67 [==============================] - 0s 5ms/step - loss: 0.7696 - accuracy: 0.7474 - val_loss: 0.7516 - val_accuracy: 0.7636\n",
            "Epoch 224/300\n",
            "67/67 [==============================] - 0s 6ms/step - loss: 0.7962 - accuracy: 0.7446 - val_loss: 0.7738 - val_accuracy: 0.7598\n",
            "Epoch 225/300\n",
            "67/67 [==============================] - 0s 5ms/step - loss: 0.7543 - accuracy: 0.7657 - val_loss: 0.7486 - val_accuracy: 0.7430\n",
            "Epoch 226/300\n",
            "67/67 [==============================] - 0s 5ms/step - loss: 0.7660 - accuracy: 0.7577 - val_loss: 0.7644 - val_accuracy: 0.7523\n",
            "Epoch 227/300\n",
            "67/67 [==============================] - 0s 4ms/step - loss: 0.7392 - accuracy: 0.7601 - val_loss: 0.7535 - val_accuracy: 0.7598\n",
            "Epoch 228/300\n",
            "67/67 [==============================] - 0s 5ms/step - loss: 0.7342 - accuracy: 0.7723 - val_loss: 0.7559 - val_accuracy: 0.7505\n",
            "Epoch 229/300\n",
            "67/67 [==============================] - 0s 5ms/step - loss: 0.7705 - accuracy: 0.7601 - val_loss: 0.7685 - val_accuracy: 0.7505\n",
            "Epoch 230/300\n",
            "67/67 [==============================] - 0s 5ms/step - loss: 0.7506 - accuracy: 0.7554 - val_loss: 0.8052 - val_accuracy: 0.7523\n",
            "Epoch 231/300\n",
            "67/67 [==============================] - 0s 5ms/step - loss: 0.7988 - accuracy: 0.7559 - val_loss: 0.7896 - val_accuracy: 0.7373\n",
            "Epoch 232/300\n",
            "67/67 [==============================] - 0s 5ms/step - loss: 0.7661 - accuracy: 0.7577 - val_loss: 0.7603 - val_accuracy: 0.7598\n",
            "Epoch 233/300\n",
            "67/67 [==============================] - 0s 5ms/step - loss: 0.7591 - accuracy: 0.7624 - val_loss: 0.7782 - val_accuracy: 0.7674\n",
            "Epoch 234/300\n",
            "67/67 [==============================] - 0s 5ms/step - loss: 0.7692 - accuracy: 0.7601 - val_loss: 0.7842 - val_accuracy: 0.7448\n",
            "Epoch 235/300\n",
            "67/67 [==============================] - 0s 5ms/step - loss: 0.7760 - accuracy: 0.7535 - val_loss: 0.7804 - val_accuracy: 0.7580\n",
            "Epoch 236/300\n",
            "67/67 [==============================] - 0s 5ms/step - loss: 0.7719 - accuracy: 0.7535 - val_loss: 0.7557 - val_accuracy: 0.7711\n",
            "Epoch 237/300\n",
            "67/67 [==============================] - 0s 5ms/step - loss: 0.7796 - accuracy: 0.7521 - val_loss: 0.8084 - val_accuracy: 0.7523\n",
            "Epoch 238/300\n",
            "67/67 [==============================] - 0s 5ms/step - loss: 0.7625 - accuracy: 0.7615 - val_loss: 0.7587 - val_accuracy: 0.7636\n",
            "Epoch 239/300\n",
            "67/67 [==============================] - 0s 4ms/step - loss: 0.7618 - accuracy: 0.7554 - val_loss: 0.7828 - val_accuracy: 0.7636\n",
            "Epoch 240/300\n",
            "67/67 [==============================] - 0s 5ms/step - loss: 0.7525 - accuracy: 0.7681 - val_loss: 0.7530 - val_accuracy: 0.7430\n",
            "Epoch 241/300\n",
            "67/67 [==============================] - 0s 5ms/step - loss: 0.7403 - accuracy: 0.7718 - val_loss: 0.7844 - val_accuracy: 0.7448\n",
            "Epoch 242/300\n",
            "67/67 [==============================] - 0s 5ms/step - loss: 0.7649 - accuracy: 0.7587 - val_loss: 0.7692 - val_accuracy: 0.7598\n",
            "Epoch 243/300\n",
            "67/67 [==============================] - 0s 4ms/step - loss: 0.7559 - accuracy: 0.7653 - val_loss: 0.7538 - val_accuracy: 0.7580\n",
            "Epoch 244/300\n",
            "67/67 [==============================] - 0s 4ms/step - loss: 0.7479 - accuracy: 0.7601 - val_loss: 0.7498 - val_accuracy: 0.7767\n",
            "Epoch 245/300\n",
            "67/67 [==============================] - 0s 5ms/step - loss: 0.7675 - accuracy: 0.7573 - val_loss: 0.7824 - val_accuracy: 0.7448\n",
            "Epoch 246/300\n",
            "67/67 [==============================] - 0s 4ms/step - loss: 0.7405 - accuracy: 0.7653 - val_loss: 0.7625 - val_accuracy: 0.7392\n",
            "Epoch 247/300\n",
            "67/67 [==============================] - 0s 5ms/step - loss: 0.7586 - accuracy: 0.7577 - val_loss: 0.7782 - val_accuracy: 0.7824\n",
            "Epoch 248/300\n",
            "67/67 [==============================] - 0s 4ms/step - loss: 0.7627 - accuracy: 0.7601 - val_loss: 0.7638 - val_accuracy: 0.7373\n",
            "Epoch 249/300\n",
            "67/67 [==============================] - 0s 4ms/step - loss: 0.7328 - accuracy: 0.7671 - val_loss: 0.7594 - val_accuracy: 0.7636\n",
            "Epoch 250/300\n",
            "67/67 [==============================] - 0s 5ms/step - loss: 0.7889 - accuracy: 0.7451 - val_loss: 0.7832 - val_accuracy: 0.7411\n",
            "Epoch 251/300\n",
            "67/67 [==============================] - 0s 5ms/step - loss: 0.7476 - accuracy: 0.7667 - val_loss: 0.7501 - val_accuracy: 0.7542\n",
            "Epoch 252/300\n",
            "67/67 [==============================] - 0s 4ms/step - loss: 0.7328 - accuracy: 0.7549 - val_loss: 0.7502 - val_accuracy: 0.7467\n",
            "Epoch 253/300\n",
            "67/67 [==============================] - 0s 4ms/step - loss: 0.7664 - accuracy: 0.7498 - val_loss: 0.7807 - val_accuracy: 0.7767\n",
            "Epoch 254/300\n",
            "67/67 [==============================] - 0s 5ms/step - loss: 0.7676 - accuracy: 0.7432 - val_loss: 0.7444 - val_accuracy: 0.7674\n",
            "Epoch 255/300\n",
            "67/67 [==============================] - 0s 5ms/step - loss: 0.7418 - accuracy: 0.7667 - val_loss: 0.7496 - val_accuracy: 0.7617\n",
            "Epoch 256/300\n",
            "67/67 [==============================] - 0s 5ms/step - loss: 0.7469 - accuracy: 0.7512 - val_loss: 0.7524 - val_accuracy: 0.7523\n",
            "Epoch 257/300\n",
            "67/67 [==============================] - 0s 6ms/step - loss: 0.7615 - accuracy: 0.7521 - val_loss: 0.7654 - val_accuracy: 0.7617\n",
            "Epoch 258/300\n",
            "67/67 [==============================] - 0s 5ms/step - loss: 0.7834 - accuracy: 0.7460 - val_loss: 0.7774 - val_accuracy: 0.7598\n",
            "Epoch 259/300\n",
            "67/67 [==============================] - 0s 5ms/step - loss: 0.7798 - accuracy: 0.7606 - val_loss: 0.7921 - val_accuracy: 0.7336\n",
            "Epoch 260/300\n",
            "67/67 [==============================] - 0s 5ms/step - loss: 0.7802 - accuracy: 0.7516 - val_loss: 0.7746 - val_accuracy: 0.7636\n",
            "Epoch 261/300\n",
            "67/67 [==============================] - 0s 5ms/step - loss: 0.7719 - accuracy: 0.7526 - val_loss: 0.8096 - val_accuracy: 0.7430\n",
            "Epoch 262/300\n",
            "67/67 [==============================] - 0s 6ms/step - loss: 0.7853 - accuracy: 0.7563 - val_loss: 0.7776 - val_accuracy: 0.7786\n",
            "Epoch 263/300\n",
            "67/67 [==============================] - 0s 5ms/step - loss: 0.8211 - accuracy: 0.7437 - val_loss: 0.8364 - val_accuracy: 0.7580\n",
            "Epoch 264/300\n",
            "67/67 [==============================] - 0s 5ms/step - loss: 0.7872 - accuracy: 0.7606 - val_loss: 0.7850 - val_accuracy: 0.7505\n",
            "Epoch 265/300\n",
            "67/67 [==============================] - 0s 6ms/step - loss: 0.7944 - accuracy: 0.7474 - val_loss: 0.7864 - val_accuracy: 0.7448\n",
            "Epoch 266/300\n",
            "67/67 [==============================] - 0s 6ms/step - loss: 0.7587 - accuracy: 0.7667 - val_loss: 0.7894 - val_accuracy: 0.7561\n",
            "Epoch 267/300\n",
            "67/67 [==============================] - 0s 5ms/step - loss: 0.8052 - accuracy: 0.7563 - val_loss: 0.8089 - val_accuracy: 0.7430\n",
            "Epoch 268/300\n",
            "67/67 [==============================] - 0s 5ms/step - loss: 0.8071 - accuracy: 0.7408 - val_loss: 0.7821 - val_accuracy: 0.7505\n",
            "Epoch 269/300\n",
            "67/67 [==============================] - 0s 6ms/step - loss: 0.7407 - accuracy: 0.7681 - val_loss: 0.7468 - val_accuracy: 0.7617\n",
            "Epoch 270/300\n",
            "67/67 [==============================] - 0s 5ms/step - loss: 0.7479 - accuracy: 0.7704 - val_loss: 0.8257 - val_accuracy: 0.7467\n",
            "Epoch 271/300\n",
            "67/67 [==============================] - 0s 5ms/step - loss: 0.7874 - accuracy: 0.7610 - val_loss: 0.7867 - val_accuracy: 0.7561\n",
            "Epoch 272/300\n",
            "67/67 [==============================] - 0s 5ms/step - loss: 0.7864 - accuracy: 0.7507 - val_loss: 0.8158 - val_accuracy: 0.7336\n",
            "Epoch 273/300\n",
            "67/67 [==============================] - 0s 5ms/step - loss: 0.7744 - accuracy: 0.7545 - val_loss: 0.7521 - val_accuracy: 0.7486\n",
            "Epoch 274/300\n",
            "67/67 [==============================] - 0s 6ms/step - loss: 0.7642 - accuracy: 0.7469 - val_loss: 0.7651 - val_accuracy: 0.7486\n",
            "Epoch 275/300\n",
            "67/67 [==============================] - 0s 5ms/step - loss: 0.7514 - accuracy: 0.7695 - val_loss: 0.7409 - val_accuracy: 0.7542\n",
            "Epoch 276/300\n",
            "67/67 [==============================] - 0s 6ms/step - loss: 0.7355 - accuracy: 0.7761 - val_loss: 0.8078 - val_accuracy: 0.7430\n",
            "Epoch 277/300\n",
            "67/67 [==============================] - 0s 6ms/step - loss: 0.7633 - accuracy: 0.7648 - val_loss: 0.7401 - val_accuracy: 0.7523\n",
            "Epoch 278/300\n",
            "67/67 [==============================] - 0s 6ms/step - loss: 0.7325 - accuracy: 0.7700 - val_loss: 0.7541 - val_accuracy: 0.7523\n",
            "Epoch 279/300\n",
            "67/67 [==============================] - 0s 6ms/step - loss: 0.7210 - accuracy: 0.7714 - val_loss: 0.7693 - val_accuracy: 0.7486\n",
            "Epoch 280/300\n",
            "67/67 [==============================] - 0s 5ms/step - loss: 0.7264 - accuracy: 0.7554 - val_loss: 0.7455 - val_accuracy: 0.7486\n",
            "Epoch 281/300\n",
            "67/67 [==============================] - 0s 6ms/step - loss: 0.7621 - accuracy: 0.7493 - val_loss: 0.7752 - val_accuracy: 0.7617\n",
            "Epoch 282/300\n",
            "67/67 [==============================] - 0s 5ms/step - loss: 0.7800 - accuracy: 0.7549 - val_loss: 0.7462 - val_accuracy: 0.7786\n",
            "Epoch 283/300\n",
            "67/67 [==============================] - 0s 5ms/step - loss: 0.7590 - accuracy: 0.7681 - val_loss: 0.7691 - val_accuracy: 0.7598\n",
            "Epoch 284/300\n",
            "67/67 [==============================] - 0s 5ms/step - loss: 0.7888 - accuracy: 0.7469 - val_loss: 0.7447 - val_accuracy: 0.7692\n",
            "Epoch 285/300\n",
            "67/67 [==============================] - 0s 5ms/step - loss: 0.7661 - accuracy: 0.7413 - val_loss: 0.7495 - val_accuracy: 0.7692\n",
            "Epoch 286/300\n",
            "67/67 [==============================] - 0s 5ms/step - loss: 0.7896 - accuracy: 0.7413 - val_loss: 0.7561 - val_accuracy: 0.7523\n",
            "Epoch 287/300\n",
            "67/67 [==============================] - 0s 5ms/step - loss: 0.7618 - accuracy: 0.7540 - val_loss: 0.7817 - val_accuracy: 0.7392\n",
            "Epoch 288/300\n",
            "67/67 [==============================] - 0s 5ms/step - loss: 0.7540 - accuracy: 0.7484 - val_loss: 0.7637 - val_accuracy: 0.7580\n",
            "Epoch 289/300\n",
            "67/67 [==============================] - 0s 6ms/step - loss: 0.7582 - accuracy: 0.7549 - val_loss: 0.7627 - val_accuracy: 0.7505\n",
            "Epoch 290/300\n",
            "67/67 [==============================] - 1s 13ms/step - loss: 0.7409 - accuracy: 0.7634 - val_loss: 0.7502 - val_accuracy: 0.7542\n",
            "Epoch 291/300\n",
            "67/67 [==============================] - 0s 7ms/step - loss: 0.7624 - accuracy: 0.7568 - val_loss: 0.7661 - val_accuracy: 0.7598\n",
            "Epoch 292/300\n",
            "67/67 [==============================] - 0s 6ms/step - loss: 0.7714 - accuracy: 0.7568 - val_loss: 0.8256 - val_accuracy: 0.7448\n",
            "Epoch 293/300\n",
            "67/67 [==============================] - 0s 6ms/step - loss: 0.7930 - accuracy: 0.7526 - val_loss: 0.8023 - val_accuracy: 0.7655\n",
            "Epoch 294/300\n",
            "67/67 [==============================] - 0s 6ms/step - loss: 0.7546 - accuracy: 0.7587 - val_loss: 0.7714 - val_accuracy: 0.7561\n",
            "Epoch 295/300\n",
            "67/67 [==============================] - 0s 6ms/step - loss: 0.7603 - accuracy: 0.7526 - val_loss: 0.8363 - val_accuracy: 0.7129\n",
            "Epoch 296/300\n",
            "67/67 [==============================] - 0s 5ms/step - loss: 0.7629 - accuracy: 0.7638 - val_loss: 0.7529 - val_accuracy: 0.7674\n",
            "Epoch 297/300\n",
            "67/67 [==============================] - 0s 6ms/step - loss: 0.7928 - accuracy: 0.7371 - val_loss: 0.7673 - val_accuracy: 0.7580\n",
            "Epoch 298/300\n",
            "67/67 [==============================] - 0s 6ms/step - loss: 0.7579 - accuracy: 0.7657 - val_loss: 0.7442 - val_accuracy: 0.7561\n",
            "Epoch 299/300\n",
            "67/67 [==============================] - 0s 5ms/step - loss: 0.7154 - accuracy: 0.7629 - val_loss: 0.7684 - val_accuracy: 0.7373\n",
            "Epoch 300/300\n",
            "67/67 [==============================] - 0s 5ms/step - loss: 0.7704 - accuracy: 0.7549 - val_loss: 0.7813 - val_accuracy: 0.7486\n"
          ]
        }
      ]
    },
    {
      "cell_type": "code",
      "source": [
        "# list all data in history\n",
        "print(history.history.keys())\n"
      ],
      "metadata": {
        "colab": {
          "base_uri": "https://localhost:8080/"
        },
        "id": "Fm7VYvPax2Y-",
        "outputId": "e95aee45-47db-49d6-d9b5-9b9ff725014a"
      },
      "execution_count": null,
      "outputs": [
        {
          "output_type": "stream",
          "name": "stdout",
          "text": [
            "dict_keys(['loss', 'accuracy', 'val_loss', 'val_accuracy'])\n"
          ]
        }
      ]
    },
    {
      "cell_type": "code",
      "source": [
        "# summarize history for accuracy\n",
        "import matplotlib.pyplot as plt\n",
        "\n",
        "plt.plot(history.history['accuracy'])\n",
        "plt.plot(history.history['val_accuracy'])\n",
        "plt.title('model accuracy')\n",
        "plt.ylabel('accuracy')\n",
        "plt.xlabel('epoch')\n",
        "plt.legend(['train', 'test'], loc='upper left')\n",
        "# changing the size of figure \n",
        "plt.figure(figsize=(1000, 1000))\n",
        "plt.show()"
      ],
      "metadata": {
        "colab": {
          "base_uri": "https://localhost:8080/",
          "height": 312
        },
        "id": "kthB4W03x8r7",
        "outputId": "55903d72-a74a-477c-be03-a65613e7ce50"
      },
      "execution_count": null,
      "outputs": [
        {
          "output_type": "display_data",
          "data": {
            "text/plain": [
              "<Figure size 432x288 with 1 Axes>"
            ],
            "image/png": "[encoded data removed]"
          },
          "metadata": {
            "needs_background": "light"
          }
        },
        {
          "output_type": "display_data",
          "data": {
            "text/plain": [
              "<Figure size 72000x72000 with 0 Axes>"
            ]
          },
          "metadata": {}
        }
      ]
    },
    {
      "cell_type": "code",
      "source": [
        "# summarize history for loss\n",
        "plt.plot(history.history['loss'])\n",
        "plt.plot(history.history['val_loss'])\n",
        "plt.title('model loss')\n",
        "plt.ylabel('loss')\n",
        "plt.xlabel('epoch')\n",
        "plt.legend(['train', 'test'], loc='upper left')\n",
        "plt.show()"
      ],
      "metadata": {
        "colab": {
          "base_uri": "https://localhost:8080/",
          "height": 295
        },
        "id": "6YDShOapyCZt",
        "outputId": "59d6c6f3-177a-4983-c65a-5f9f3fdabdfa"
      },
      "execution_count": null,
      "outputs": [
        {
          "output_type": "display_data",
          "data": {
            "text/plain": [
              "<Figure size 432x288 with 1 Axes>"
            ],
            "image/png": "[encoded data removed]"
          },
          "metadata": {
            "needs_background": "light"
          }
        }
      ]
    },
    {
      "cell_type": "code",
      "source": [
        "loss, accuracy = model.evaluate(x_train, y_train, verbose=False)\n",
        "print(\"Training Accuracy: {:.4f}\".format(accuracy))\n",
        "loss, accuracy = model.evaluate(x_test, y_test, verbose=False)\n",
        "print(\"Testing Accuracy:  {:.4f}\".format(accuracy)) "
      ],
      "metadata": {
        "colab": {
          "base_uri": "https://localhost:8080/"
        },
        "id": "AdB4fcotZcgK",
        "outputId": "fd344c17-93c1-4042-904d-267c1845d870"
      },
      "execution_count": null,
      "outputs": [
        {
          "output_type": "stream",
          "name": "stdout",
          "text": [
            "Training Accuracy: 0.7953\n",
            "Testing Accuracy:  0.7486\n"
          ]
        }
      ]
    },
    {
      "cell_type": "code",
      "source": [
        "# plot metrics\n",
        "plt.plot(history.history['accuracy'])\n",
        "plt.show()"
      ],
      "metadata": {
        "id": "6q8W8u7R5pQb",
        "colab": {
          "base_uri": "https://localhost:8080/",
          "height": 265
        },
        "outputId": "1ade766f-55ce-4252-9173-e695b274c851"
      },
      "execution_count": null,
      "outputs": [
        {
          "output_type": "display_data",
          "data": {
            "text/plain": [
              "<Figure size 432x288 with 1 Axes>"
            ],
            "image/png": "[encoded data removed]"
          },
          "metadata": {
            "needs_background": "light"
          }
        }
      ]
    },
    {
      "cell_type": "code",
      "source": [
        "# predict probabilities for test set\n",
        "y_probs = model.predict(x_test, verbose=0)"
      ],
      "metadata": {
        "id": "lYf7_Amm3P9O"
      },
      "execution_count": null,
      "outputs": []
    },
    {
      "cell_type": "code",
      "source": [
        "y_probs"
      ],
      "metadata": {
        "colab": {
          "base_uri": "https://localhost:8080/"
        },
        "id": "3w7VkvB13hVD",
        "outputId": "36a9e137-d738-419d-8b6b-489df8f5bf89"
      },
      "execution_count": null,
      "outputs": [
        {
          "output_type": "execute_result",
          "data": {
            "text/plain": [
              "array([[0.04476748, 0.31998682, 0.6352457 ],\n",
              "       [0.04709465, 0.3803835 , 0.57252187],\n",
              "       [0.01774955, 0.9001142 , 0.08213627],\n",
              "       ...,\n",
              "       [0.04213341, 0.64964706, 0.30821955],\n",
              "       [0.03321188, 0.7650827 , 0.20170537],\n",
              "       [0.04324876, 0.29487866, 0.6618725 ]], dtype=float32)"
            ]
          },
          "metadata": {},
          "execution_count": 38
        }
      ]
    },
    {
      "cell_type": "code",
      "source": [
        "# reduce to 1d array\n",
        "#y_probs = y_probs[:, 0]"
      ],
      "metadata": {
        "id": "JzEDxZGR4PNJ"
      },
      "execution_count": null,
      "outputs": []
    },
    {
      "cell_type": "code",
      "source": [
        "y_classes=np.argmax( y_probs,axis=1)"
      ],
      "metadata": {
        "id": "uDd3ho_r4V1G"
      },
      "execution_count": null,
      "outputs": []
    },
    {
      "cell_type": "code",
      "source": [
        "y_classes.shape"
      ],
      "metadata": {
        "colab": {
          "base_uri": "https://localhost:8080/"
        },
        "id": "VKTUaSVZ63l-",
        "outputId": "35ec43eb-1663-42b7-cd8e-9283bf638971"
      },
      "execution_count": null,
      "outputs": [
        {
          "output_type": "execute_result",
          "data": {
            "text/plain": [
              "(533,)"
            ]
          },
          "metadata": {},
          "execution_count": 41
        }
      ]
    },
    {
      "cell_type": "code",
      "source": [
        "y_test.shape"
      ],
      "metadata": {
        "colab": {
          "base_uri": "https://localhost:8080/"
        },
        "id": "C9TxW4fJ705E",
        "outputId": "09b5fe99-7e5d-4237-af71-97f1f01f1978"
      },
      "execution_count": null,
      "outputs": [
        {
          "output_type": "execute_result",
          "data": {
            "text/plain": [
              "(533,)"
            ]
          },
          "metadata": {},
          "execution_count": 42
        }
      ]
    },
    {
      "cell_type": "code",
      "source": [
        "y_t=y_test\n",
        "print(\"y_test\\n\",y_t)\n",
        "print(\"y_classes\\n\",y_classes)"
      ],
      "metadata": {
        "colab": {
          "base_uri": "https://localhost:8080/"
        },
        "id": "82h3qYqa8ked",
        "outputId": "a743e3a3-96ee-44fb-969e-48a39ab84c38"
      },
      "execution_count": null,
      "outputs": [
        {
          "output_type": "stream",
          "name": "stdout",
          "text": [
            "y_test\n",
            " 454     2.0\n",
            "663     2.0\n",
            "1426    1.0\n",
            "1205    2.0\n",
            "1341    1.0\n",
            "       ... \n",
            "2208    1.0\n",
            "1773    1.0\n",
            "1660    1.0\n",
            "2562    1.0\n",
            "1289    1.0\n",
            "Name: Final, Length: 533, dtype: float64\n",
            "y_classes\n",
            " [2 2 1 2 2 1 2 1 1 1 2 2 2 2 1 1 2 2 1 1 1 1 2 1 1 1 2 1 1 1 2 2 2 2 2 2 1\n",
            " 2 2 1 1 1 1 2 2 2 2 1 2 2 2 1 1 1 1 2 2 1 1 2 1 2 1 2 1 1 1 1 1 1 2 2 1 2\n",
            " 1 1 2 1 2 1 2 2 1 1 1 1 1 2 1 1 2 1 2 1 1 2 1 2 2 2 1 2 2 2 2 1 1 2 2 1 1\n",
            " 1 2 1 1 2 2 1 2 1 2 1 1 2 1 2 2 1 1 2 2 1 1 1 2 2 1 2 1 1 1 2 1 1 1 1 1 1\n",
            " 1 1 2 2 1 1 1 1 2 2 1 1 1 2 2 2 2 2 1 1 1 1 2 1 1 1 2 2 2 2 1 1 2 1 1 2 1\n",
            " 1 1 2 1 2 1 1 1 1 1 1 1 2 1 2 2 1 2 2 1 1 1 2 2 1 2 1 1 2 1 2 1 2 1 2 1 1\n",
            " 1 2 1 2 1 2 1 1 1 1 1 2 2 2 1 1 2 2 2 2 1 2 2 2 2 1 2 2 2 2 1 2 1 1 1 2 1\n",
            " 2 1 1 1 2 1 2 2 2 1 2 2 1 1 2 1 1 2 2 2 1 2 1 2 1 1 2 1 1 1 1 2 1 2 2 1 1\n",
            " 1 2 2 1 1 1 1 1 1 1 2 2 2 2 2 2 1 2 1 1 1 1 2 2 1 2 2 1 2 1 1 1 1 2 1 1 2\n",
            " 1 1 2 2 1 1 1 2 2 2 1 2 1 2 2 1 1 2 2 2 1 1 1 1 2 2 1 1 2 1 1 1 2 2 2 2 1\n",
            " 2 1 2 1 2 1 2 1 1 1 1 2 2 2 1 1 2 1 2 2 2 2 1 1 2 1 1 1 2 1 2 1 2 1 1 1 1\n",
            " 1 1 1 2 2 2 1 1 2 2 1 1 2 1 2 2 2 1 2 1 1 1 1 2 1 2 2 2 1 1 1 1 1 1 1 1 2\n",
            " 1 2 2 2 2 1 1 2 2 1 2 1 2 2 2 1 1 1 1 2 1 2 2 1 2 1 2 2 1 2 1 1 2 2 1 1 1\n",
            " 2 1 1 1 1 1 1 1 2 2 1 2 2 1 2 2 1 1 2 1 1 2 1 1 1 1 2 1 2 2 2 1 1 1 1 2 2\n",
            " 1 1 2 1 1 1 2 2 1 1 1 1 1 1 2]\n"
          ]
        }
      ]
    },
    {
      "cell_type": "code",
      "source": [
        "from sklearn.metrics import roc_auc_score\n",
        "from sklearn.metrics import confusion_matrix\n",
        "# confusion matrix\n",
        "matrix = confusion_matrix(y_test, y_classes)\n",
        "print(matrix)"
      ],
      "metadata": {
        "colab": {
          "base_uri": "https://localhost:8080/"
        },
        "id": "315Sk5z54pPk",
        "outputId": "3bf087c8-a503-44e1-c78d-47bbf7e0f20d"
      },
      "execution_count": null,
      "outputs": [
        {
          "output_type": "stream",
          "name": "stdout",
          "text": [
            "[[  0   7  10]\n",
            " [  0 240  68]\n",
            " [  0  49 159]]\n"
          ]
        }
      ]
    },
    {
      "cell_type": "code",
      "source": [
        "from sklearn.metrics import roc_curve, auc\n",
        "from sklearn.model_selection import train_test_split\n",
        "from sklearn.preprocessing import label_binarize\n",
        "from sklearn.multiclass import OneVsRestClassifier\n",
        "from sklearn.metrics import roc_auc_score\n",
        "\n",
        "y_tests = label_binarize(y_test, classes=[0, 1, 2])\n",
        "n_classes = 3\n",
        "y_tests\n",
        "y_preds = label_binarize(y_classes, classes=[0, 1, 2])\n",
        "\n",
        "fpr = dict()\n",
        "tpr = dict()\n",
        "roc_auc = dict()\n",
        "for i in range(n_classes):\n",
        "    fpr[i], tpr[i], _ = roc_curve(y_tests[:, i], y_preds[:, i])\n",
        "    roc_auc[i] = auc(fpr[i], tpr[i])\n",
        "\n",
        "# Compute micro-average ROC curve and ROC area\n",
        "fpr[\"micro\"], tpr[\"micro\"], _ = roc_curve(y_tests.ravel(), y_preds.ravel())\n",
        "roc_auc[\"micro\"] = auc(fpr[\"micro\"], tpr[\"micro\"])"
      ],
      "metadata": {
        "id": "USlSz8zS5Blo"
      },
      "execution_count": null,
      "outputs": []
    },
    {
      "cell_type": "code",
      "source": [
        "plt.figure()\n",
        "lw = 2\n",
        "plt.plot(\n",
        "    fpr[2],\n",
        "    tpr[2],\n",
        "    color=\"darkorange\",\n",
        "    lw=lw,\n",
        "    label=\"ROC curve (area = %0.2f)\" % roc_auc[2],\n",
        ")\n",
        "plt.plot([0, 1], [0, 1], color=\"navy\", lw=lw, linestyle=\"--\")\n",
        "plt.xlim([0.0, 1.0])\n",
        "plt.ylim([0.0, 1.05])\n",
        "plt.xlabel(\"False Positive Rate\")\n",
        "plt.ylabel(\"True Positive Rate\")\n",
        "plt.title(\"Receiver operating characteristic example\")\n",
        "plt.legend(loc=\"lower right\")\n",
        "plt.show()\n"
      ],
      "metadata": {
        "colab": {
          "base_uri": "https://localhost:8080/",
          "height": 295
        },
        "id": "h9oe8Y0uAitt",
        "outputId": "bf59afb3-9811-42c6-dd5c-7419431c556b"
      },
      "execution_count": null,
      "outputs": [
        {
          "output_type": "display_data",
          "data": {
            "text/plain": [
              "<Figure size 432x288 with 1 Axes>"
            ],
            "image/png": "[encoded data removed]"
          },
          "metadata": {
            "needs_background": "light"
          }
        }
      ]
    },
    {
      "cell_type": "code",
      "source": [
        "from itertools import cycle\n",
        "\n",
        "# First aggregate all false positive rates\n",
        "all_fpr = np.unique(np.concatenate([fpr[i] for i in range(3)]))\n",
        "\n",
        "# Then interpolate all ROC curves at this points\n",
        "mean_tpr = np.zeros_like(all_fpr)\n",
        "for i in range(3):\n",
        "    mean_tpr += np.interp(all_fpr, fpr[i], tpr[i])\n",
        "\n",
        "# Finally average it and compute AUC\n",
        "mean_tpr /= 3\n",
        "\n",
        "\n",
        "fpr[\"macro\"] = all_fpr\n",
        "tpr[\"macro\"] = mean_tpr\n",
        "roc_auc[\"macro\"] = auc(fpr[\"macro\"], tpr[\"macro\"])\n",
        "\n",
        "# Plot all ROC curves\n",
        "plt.figure()\n",
        "plt.plot(\n",
        "    fpr[\"micro\"],\n",
        "    tpr[\"micro\"],\n",
        "    label=\"micro-average ROC curve (area = {0:0.2f})\".format(roc_auc[\"micro\"]),\n",
        "    color=\"deeppink\",\n",
        "    linestyle=\":\",\n",
        "    linewidth=4,\n",
        ")\n",
        "\n",
        "\n",
        "fpr[\"macro\"] = all_fpr\n",
        "tpr[\"macro\"] = mean_tpr\n",
        "roc_auc[\"macro\"] = auc(fpr[\"macro\"], tpr[\"macro\"])\n",
        "\n",
        "# Plot all ROC curves\n",
        "plt.figure()\n",
        "plt.plot(\n",
        "    fpr[\"micro\"],\n",
        "    tpr[\"micro\"],\n",
        "    label=\"micro-average ROC curve (area = {0:0.2f})\".format(roc_auc[\"micro\"]),\n",
        "    color=\"deeppink\",\n",
        "    linestyle=\":\",\n",
        "    linewidth=4,\n",
        ")\n",
        "\n",
        "colors = cycle([\"aqua\", \"darkorange\", \"cornflowerblue\"])\n",
        "\n",
        "for i, color in zip(range(3), colors):\n",
        "    plt.plot(\n",
        "        fpr[i],\n",
        "        tpr[i],\n",
        "        color=color,\n",
        "        lw=lw,\n",
        "        label=\"ROC curve of class {0} (area = {1:0.2f})\".format(i, roc_auc[i]),\n",
        "    )\n",
        "\n",
        "plt.plot([0, 1], [0, 1], \"k--\", lw=lw)\n",
        "plt.xlim([0.0, 1.0])\n",
        "plt.ylim([0.0, 1.05])\n",
        "plt.xlabel(\"False Positive Rate\")\n",
        "plt.ylabel(\"True Positive Rate\")\n",
        "plt.title(\"Some extension of Receiver operating characteristic to multiclass\")\n",
        "plt.legend(loc=\"lower right\")\n",
        "plt.show()"
      ],
      "metadata": {
        "colab": {
          "base_uri": "https://localhost:8080/",
          "height": 543
        },
        "id": "lpJtOV7zCm8j",
        "outputId": "a5c7f76e-cb68-486b-c6e1-349ba093885f"
      },
      "execution_count": null,
      "outputs": [
        {
          "output_type": "display_data",
          "data": {
            "text/plain": [
              "<Figure size 432x288 with 1 Axes>"
            ],
            "image/png": "[encoded data removed]"
          },
          "metadata": {
            "needs_background": "light"
          }
        },
        {
          "output_type": "display_data",
          "data": {
            "text/plain": [
              "<Figure size 432x288 with 1 Axes>"
            ],
            "image/png": "[encoded data removed]"
          },
          "metadata": {
            "needs_background": "light"
          }
        }
      ]
    },
    {
      "cell_type": "code",
      "source": [
        "macro_roc_auc_ovo = roc_auc_score(y_test, y_probs, multi_class=\"ovo\", average=\"macro\")\n",
        "weighted_roc_auc_ovo = roc_auc_score(y_test, y_probs, multi_class=\"ovo\", average=\"weighted\")\n",
        "macro_roc_auc_ovr = roc_auc_score(y_test, y_probs, multi_class=\"ovr\", average=\"macro\")\n",
        "weighted_roc_auc_ovr = roc_auc_score(y_test, y_probs, multi_class=\"ovr\", average=\"weighted\")\n",
        "print(\"One-vs-One ROC AUC scores:\\n{:.6f} (macro),\\n{:.6f} \"\"(weighted by prevalence)\".format(macro_roc_auc_ovo, weighted_roc_auc_ovo))\n",
        "print(\"One-vs-Rest ROC AUC scores:\\n{:.6f} (macro),\\n{:.6f} \"\"(weighted by prevalence)\".format(macro_roc_auc_ovr, weighted_roc_auc_ovr))"
      ],
      "metadata": {
        "colab": {
          "base_uri": "https://localhost:8080/"
        },
        "id": "cLYjo2qWEHRm",
        "outputId": "1168aea1-aac8-4594-d697-b15cd3be6b1d"
      },
      "execution_count": null,
      "outputs": [
        {
          "output_type": "stream",
          "name": "stdout",
          "text": [
            "One-vs-One ROC AUC scores:\n",
            "0.689809 (macro),\n",
            "0.734136 (weighted by prevalence)\n",
            "One-vs-Rest ROC AUC scores:\n",
            "0.745085 (macro),\n",
            "0.829588 (weighted by prevalence)\n"
          ]
        }
      ]
    },
    {
      "cell_type": "markdown",
      "source": [
        "**Classification Report**"
      ],
      "metadata": {
        "id": "ZlOFojiOgHwm"
      }
    },
    {
      "cell_type": "code",
      "source": [
        "from sklearn.metrics import classification_report\n",
        "print(classification_report(y_test, y_classes))"
      ],
      "metadata": {
        "id": "kKsdFxFrEyXJ",
        "colab": {
          "base_uri": "https://localhost:8080/"
        },
        "outputId": "beea3a9a-d599-447e-96cc-fbc9bbc69acc"
      },
      "execution_count": null,
      "outputs": [
        {
          "output_type": "stream",
          "name": "stdout",
          "text": [
            "              precision    recall  f1-score   support\n",
            "\n",
            "         0.0       0.00      0.00      0.00        17\n",
            "         1.0       0.81      0.78      0.79       308\n",
            "         2.0       0.67      0.76      0.71       208\n",
            "\n",
            "    accuracy                           0.75       533\n",
            "   macro avg       0.49      0.51      0.50       533\n",
            "weighted avg       0.73      0.75      0.74       533\n",
            "\n"
          ]
        },
        {
          "output_type": "stream",
          "name": "stderr",
          "text": [
            "/usr/local/lib/python3.7/dist-packages/sklearn/metrics/_classification.py:1318: UndefinedMetricWarning: Precision and F-score are ill-defined and being set to 0.0 in labels with no predicted samples. Use `zero_division` parameter to control this behavior.\n",
            "  _warn_prf(average, modifier, msg_start, len(result))\n",
            "/usr/local/lib/python3.7/dist-packages/sklearn/metrics/_classification.py:1318: UndefinedMetricWarning: Precision and F-score are ill-defined and being set to 0.0 in labels with no predicted samples. Use `zero_division` parameter to control this behavior.\n",
            "  _warn_prf(average, modifier, msg_start, len(result))\n",
            "/usr/local/lib/python3.7/dist-packages/sklearn/metrics/_classification.py:1318: UndefinedMetricWarning: Precision and F-score are ill-defined and being set to 0.0 in labels with no predicted samples. Use `zero_division` parameter to control this behavior.\n",
            "  _warn_prf(average, modifier, msg_start, len(result))\n"
          ]
        }
      ]
    },
    {
      "cell_type": "markdown",
      "source": [
        "##MALE - FEMALE CONFUSION MATRIX##"
      ],
      "metadata": {
        "id": "wZ8yyMZ5bqJH"
      }
    },
    {
      "cell_type": "code",
      "source": [
        "ymale_probs=model.predict(x_male, verbose=1)\n",
        "ymale_probs\n",
        "ymale_classes=np.argmax( ymale_probs,axis=1)\n",
        "print(classification_report(y_male, ymale_classes))"
      ],
      "metadata": {
        "id": "S4v9UuixgaDr",
        "colab": {
          "base_uri": "https://localhost:8080/"
        },
        "outputId": "2780ed74-050f-468f-8ffe-f9e440ab1f27"
      },
      "execution_count": null,
      "outputs": [
        {
          "output_type": "stream",
          "name": "stdout",
          "text": [
            "36/36 [==============================] - 0s 2ms/step\n",
            "              precision    recall  f1-score   support\n",
            "\n",
            "         0.0       0.00      0.00      0.00        83\n",
            "         1.0       0.00      0.00      0.00         0\n",
            "         2.0       0.94      0.84      0.89      1041\n",
            "\n",
            "    accuracy                           0.77      1124\n",
            "   macro avg       0.31      0.28      0.30      1124\n",
            "weighted avg       0.87      0.77      0.82      1124\n",
            "\n"
          ]
        },
        {
          "output_type": "stream",
          "name": "stderr",
          "text": [
            "/usr/local/lib/python3.7/dist-packages/sklearn/metrics/_classification.py:1318: UndefinedMetricWarning: Precision and F-score are ill-defined and being set to 0.0 in labels with no predicted samples. Use `zero_division` parameter to control this behavior.\n",
            "  _warn_prf(average, modifier, msg_start, len(result))\n",
            "/usr/local/lib/python3.7/dist-packages/sklearn/metrics/_classification.py:1318: UndefinedMetricWarning: Recall and F-score are ill-defined and being set to 0.0 in labels with no true samples. Use `zero_division` parameter to control this behavior.\n",
            "  _warn_prf(average, modifier, msg_start, len(result))\n",
            "/usr/local/lib/python3.7/dist-packages/sklearn/metrics/_classification.py:1318: UndefinedMetricWarning: Precision and F-score are ill-defined and being set to 0.0 in labels with no predicted samples. Use `zero_division` parameter to control this behavior.\n",
            "  _warn_prf(average, modifier, msg_start, len(result))\n",
            "/usr/local/lib/python3.7/dist-packages/sklearn/metrics/_classification.py:1318: UndefinedMetricWarning: Recall and F-score are ill-defined and being set to 0.0 in labels with no true samples. Use `zero_division` parameter to control this behavior.\n",
            "  _warn_prf(average, modifier, msg_start, len(result))\n",
            "/usr/local/lib/python3.7/dist-packages/sklearn/metrics/_classification.py:1318: UndefinedMetricWarning: Precision and F-score are ill-defined and being set to 0.0 in labels with no predicted samples. Use `zero_division` parameter to control this behavior.\n",
            "  _warn_prf(average, modifier, msg_start, len(result))\n",
            "/usr/local/lib/python3.7/dist-packages/sklearn/metrics/_classification.py:1318: UndefinedMetricWarning: Recall and F-score are ill-defined and being set to 0.0 in labels with no true samples. Use `zero_division` parameter to control this behavior.\n",
            "  _warn_prf(average, modifier, msg_start, len(result))\n"
          ]
        }
      ]
    },
    {
      "cell_type": "code",
      "source": [
        "confusion_matrix(y_male, ymale_classes)"
      ],
      "metadata": {
        "colab": {
          "base_uri": "https://localhost:8080/"
        },
        "id": "l6eVas68bxnQ",
        "outputId": "92f68ab7-f14f-42ea-8386-b863463f5d27"
      },
      "execution_count": null,
      "outputs": [
        {
          "output_type": "execute_result",
          "data": {
            "text/plain": [
              "array([[  0,  30,  53],\n",
              "       [  0,   0,   0],\n",
              "       [  0, 171, 870]])"
            ]
          },
          "metadata": {},
          "execution_count": 51
        }
      ]
    },
    {
      "cell_type": "code",
      "source": [
        "yfemale_probs=model.predict(x_female, verbose=1)\n",
        "yfemale_classes=np.argmax( yfemale_probs,axis=1)\n",
        "print(classification_report(y_female, yfemale_classes))"
      ],
      "metadata": {
        "colab": {
          "base_uri": "https://localhost:8080/"
        },
        "id": "s4fjJxU6byei",
        "outputId": "a79f5820-d106-4290-a7c6-cbc71367d971"
      },
      "execution_count": null,
      "outputs": [
        {
          "output_type": "stream",
          "name": "stdout",
          "text": [
            "81/81 [==============================] - 0s 2ms/step\n",
            "              precision    recall  f1-score   support\n",
            "\n",
            "         1.0       0.88      0.79      0.83      1539\n",
            "         2.0       0.73      0.84      0.78      1041\n",
            "\n",
            "    accuracy                           0.81      2580\n",
            "   macro avg       0.81      0.82      0.81      2580\n",
            "weighted avg       0.82      0.81      0.81      2580\n",
            "\n"
          ]
        }
      ]
    },
    {
      "cell_type": "code",
      "source": [
        "confusion_matrix(y_female, yfemale_classes)"
      ],
      "metadata": {
        "colab": {
          "base_uri": "https://localhost:8080/"
        },
        "id": "eK7hG_3ub3lT",
        "outputId": "40d0a7b7-c78f-4af4-c5c7-b549788e4d46"
      },
      "execution_count": null,
      "outputs": [
        {
          "output_type": "execute_result",
          "data": {
            "text/plain": [
              "array([[1223,  316],\n",
              "       [ 171,  870]])"
            ]
          },
          "metadata": {},
          "execution_count": 53
        }
      ]
    }
  ]
}