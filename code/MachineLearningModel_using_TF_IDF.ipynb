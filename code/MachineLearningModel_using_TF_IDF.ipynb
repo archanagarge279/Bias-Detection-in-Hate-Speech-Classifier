{
  "cells": [
    {
      "cell_type": "code",
      "execution_count": null,
      "metadata": {
        "colab": {
          "base_uri": "https://localhost:8080/"
        },
        "id": "eZu5yROSTfjW",
        "outputId": "d84730c7-fac2-4efa-9fcc-f61d90a2b9a7"
      },
      "outputs": [
        {
          "output_type": "stream",
          "name": "stdout",
          "text": [
            "Mounted at /content/drive\n"
          ]
        }
      ],
      "source": [
        "from google.colab import drive\n",
        "drive.mount('/content/drive')"
      ]
    },
    {
      "cell_type": "code",
      "execution_count": null,
      "metadata": {
        "id": "jjhFrTvXTvVP"
      },
      "outputs": [],
      "source": [
        "import numpy as np\n",
        "import matplotlib.pyplot as plt\n",
        "import pandas as pd\n",
        "from sklearn.feature_extraction.text import TfidfVectorizer\n",
        "from sklearn.model_selection import train_test_split\n",
        "from sklearn.metrics import accuracy_score, precision_score,recall_score,f1_score, confusion_matrix\n",
        "from sklearn.metrics import classification_report"
      ]
    },
    {
      "cell_type": "code",
      "execution_count": null,
      "metadata": {
        "colab": {
          "base_uri": "https://localhost:8080/",
          "height": 223
        },
        "id": "xHfy94eXT2oW",
        "outputId": "91d83835-7597-4189-b93a-f47f49fe89b6"
      },
      "outputs": [
        {
          "output_type": "stream",
          "name": "stdout",
          "text": [
            "(2669, 6)\n"
          ]
        },
        {
          "output_type": "execute_result",
          "data": {
            "text/plain": [
              "   id                                               text  Garge Archana Atul  \\\n",
              "0   1  Sassy...? More like femme bots than killer blo...                   1   \n",
              "1   2  I've had better looking shits than these two! ...                   1   \n",
              "2   3  The girls can cook for me anytime. Just not ho...                   1   \n",
              "3   4  The face of very ugly promo girls ! Faces like...                   1   \n",
              "4   5  @mykitchenrules Elegant and beautiful?Cheap an...                   1   \n",
              "\n",
              "   Archana Kumari  Priyanshu Raj  Final  \n",
              "0             1.0              1    1.0  \n",
              "1             1.0              2    1.0  \n",
              "2             1.0              2    1.0  \n",
              "3             1.0              1    1.0  \n",
              "4             1.0              1    1.0  "
            ],
            "text/html": [
              "\n",
              "  <div id=\"df-6489d093-9649-4c10-b1dd-6df269d6c7d2\">\n",
              "    <div class=\"colab-df-container\">\n",
              "      <div>\n",
              "<style scoped>\n",
              "    .dataframe tbody tr th:only-of-type {\n",
              "        vertical-align: middle;\n",
              "    }\n",
              "\n",
              "    .dataframe tbody tr th {\n",
              "        vertical-align: top;\n",
              "    }\n",
              "\n",
              "    .dataframe thead th {\n",
              "        text-align: right;\n",
              "    }\n",
              "</style>\n",
              "<table border=\"1\" class=\"dataframe\">\n",
              "  <thead>\n",
              "    <tr style=\"text-align: right;\">\n",
              "      <th></th>\n",
              "      <th>id</th>\n",
              "      <th>text</th>\n",
              "      <th>Garge Archana Atul</th>\n",
              "      <th>Archana Kumari</th>\n",
              "      <th>Priyanshu Raj</th>\n",
              "      <th>Final</th>\n",
              "    </tr>\n",
              "  </thead>\n",
              "  <tbody>\n",
              "    <tr>\n",
              "      <th>0</th>\n",
              "      <td>1</td>\n",
              "      <td>Sassy...? More like femme bots than killer blo...</td>\n",
              "      <td>1</td>\n",
              "      <td>1.0</td>\n",
              "      <td>1</td>\n",
              "      <td>1.0</td>\n",
              "    </tr>\n",
              "    <tr>\n",
              "      <th>1</th>\n",
              "      <td>2</td>\n",
              "      <td>I've had better looking shits than these two! ...</td>\n",
              "      <td>1</td>\n",
              "      <td>1.0</td>\n",
              "      <td>2</td>\n",
              "      <td>1.0</td>\n",
              "    </tr>\n",
              "    <tr>\n",
              "      <th>2</th>\n",
              "      <td>3</td>\n",
              "      <td>The girls can cook for me anytime. Just not ho...</td>\n",
              "      <td>1</td>\n",
              "      <td>1.0</td>\n",
              "      <td>2</td>\n",
              "      <td>1.0</td>\n",
              "    </tr>\n",
              "    <tr>\n",
              "      <th>3</th>\n",
              "      <td>4</td>\n",
              "      <td>The face of very ugly promo girls ! Faces like...</td>\n",
              "      <td>1</td>\n",
              "      <td>1.0</td>\n",
              "      <td>1</td>\n",
              "      <td>1.0</td>\n",
              "    </tr>\n",
              "    <tr>\n",
              "      <th>4</th>\n",
              "      <td>5</td>\n",
              "      <td>@mykitchenrules Elegant and beautiful?Cheap an...</td>\n",
              "      <td>1</td>\n",
              "      <td>1.0</td>\n",
              "      <td>1</td>\n",
              "      <td>1.0</td>\n",
              "    </tr>\n",
              "  </tbody>\n",
              "</table>\n",
              "</div>\n",
              "      <button class=\"colab-df-convert\" onclick=\"convertToInteractive('df-6489d093-9649-4c10-b1dd-6df269d6c7d2')\"\n",
              "              title=\"Convert this dataframe to an interactive table.\"\n",
              "              style=\"display:none;\">\n",
              "        \n",
              "  <svg xmlns=\"http://www.w3.org/2000/svg\" height=\"24px\"viewBox=\"0 0 24 24\"\n",
              "       width=\"24px\">\n",
              "    <path d=\"M0 0h24v24H0V0z\" fill=\"none\"/>\n",
              "    <path d=\"M18.56 5.44l.94 2.06.94-2.06 2.06-.94-2.06-.94-.94-2.06-.94 2.06-2.06.94zm-11 1L8.5 8.5l.94-2.06 2.06-.94-2.06-.94L8.5 2.5l-.94 2.06-2.06.94zm10 10l.94 2.06.94-2.06 2.06-.94-2.06-.94-.94-2.06-.94 2.06-2.06.94z\"/><path d=\"M17.41 7.96l-1.37-1.37c-.4-.4-.92-.59-1.43-.59-.52 0-1.04.2-1.43.59L10.3 9.45l-7.72 7.72c-.78.78-.78 2.05 0 2.83L4 21.41c.39.39.9.59 1.41.59.51 0 1.02-.2 1.41-.59l7.78-7.78 2.81-2.81c.8-.78.8-2.07 0-2.86zM5.41 20L4 18.59l7.72-7.72 1.47 1.35L5.41 20z\"/>\n",
              "  </svg>\n",
              "      </button>\n",
              "      \n",
              "  <style>\n",
              "    .colab-df-container {\n",
              "      display:flex;\n",
              "      flex-wrap:wrap;\n",
              "      gap: 12px;\n",
              "    }\n",
              "\n",
              "    .colab-df-convert {\n",
              "      background-color: #E8F0FE;\n",
              "      border: none;\n",
              "      border-radius: 50%;\n",
              "      cursor: pointer;\n",
              "      display: none;\n",
              "      fill: #1967D2;\n",
              "      height: 32px;\n",
              "      padding: 0 0 0 0;\n",
              "      width: 32px;\n",
              "    }\n",
              "\n",
              "    .colab-df-convert:hover {\n",
              "      background-color: #E2EBFA;\n",
              "      box-shadow: 0px 1px 2px rgba(60, 64, 67, 0.3), 0px 1px 3px 1px rgba(60, 64, 67, 0.15);\n",
              "      fill: #174EA6;\n",
              "    }\n",
              "\n",
              "    [theme=dark] .colab-df-convert {\n",
              "      background-color: #3B4455;\n",
              "      fill: #D2E3FC;\n",
              "    }\n",
              "\n",
              "    [theme=dark] .colab-df-convert:hover {\n",
              "      background-color: #434B5C;\n",
              "      box-shadow: 0px 1px 3px 1px rgba(0, 0, 0, 0.15);\n",
              "      filter: drop-shadow(0px 1px 2px rgba(0, 0, 0, 0.3));\n",
              "      fill: #FFFFFF;\n",
              "    }\n",
              "  </style>\n",
              "\n",
              "      <script>\n",
              "        const buttonEl =\n",
              "          document.querySelector('#df-6489d093-9649-4c10-b1dd-6df269d6c7d2 button.colab-df-convert');\n",
              "        buttonEl.style.display =\n",
              "          google.colab.kernel.accessAllowed ? 'block' : 'none';\n",
              "\n",
              "        async function convertToInteractive(key) {\n",
              "          const element = document.querySelector('#df-6489d093-9649-4c10-b1dd-6df269d6c7d2');\n",
              "          const dataTable =\n",
              "            await google.colab.kernel.invokeFunction('convertToInteractive',\n",
              "                                                     [key], {});\n",
              "          if (!dataTable) return;\n",
              "\n",
              "          const docLinkHtml = 'Like what you see? Visit the ' +\n",
              "            '<a target=\"_blank\" href=https://colab.research.google.com/notebooks/data_table.ipynb>data table notebook</a>'\n",
              "            + ' to learn more about interactive tables.';\n",
              "          element.innerHTML = '';\n",
              "          dataTable['output_type'] = 'display_data';\n",
              "          await google.colab.output.renderOutput(dataTable, element);\n",
              "          const docLink = document.createElement('div');\n",
              "          docLink.innerHTML = docLinkHtml;\n",
              "          element.appendChild(docLink);\n",
              "        }\n",
              "      </script>\n",
              "    </div>\n",
              "  </div>\n",
              "  "
            ]
          },
          "metadata": {},
          "execution_count": 4
        }
      ],
      "source": [
        "df=pd.read_csv('/content/drive/MyDrive/AILAB/final_dataset.csv')\n",
        "print(df.shape)\n",
        "df.head()"
      ]
    },
    {
      "cell_type": "code",
      "execution_count": null,
      "metadata": {
        "colab": {
          "base_uri": "https://localhost:8080/"
        },
        "id": "RZjqbjttN31i",
        "outputId": "4d1a159c-ad78-40a7-b194-f714350ec1ef"
      },
      "outputs": [
        {
          "output_type": "execute_result",
          "data": {
            "text/plain": [
              "id                    0\n",
              "text                  0\n",
              "Garge Archana Atul    0\n",
              "Archana Kumari        1\n",
              "Priyanshu Raj         0\n",
              "Final                 5\n",
              "dtype: int64"
            ]
          },
          "metadata": {},
          "execution_count": 5
        }
      ],
      "source": [
        "df.isna().sum()"
      ]
    },
    {
      "cell_type": "code",
      "execution_count": null,
      "metadata": {
        "id": "N25BYb2vN7uq"
      },
      "outputs": [],
      "source": [
        "df=df.dropna(axis=0, how=\"any\", thresh=None, subset=None, inplace=False)"
      ]
    },
    {
      "cell_type": "code",
      "execution_count": null,
      "metadata": {
        "colab": {
          "base_uri": "https://localhost:8080/"
        },
        "id": "rvtZxaqtQEjp",
        "outputId": "ad22ba14-f516-4afe-8bbe-d62b88064718"
      },
      "outputs": [
        {
          "output_type": "execute_result",
          "data": {
            "text/plain": [
              "1.0    1539\n",
              "2.0    1041\n",
              "0.0      83\n",
              "Name: Final, dtype: int64"
            ]
          },
          "metadata": {},
          "execution_count": 7
        }
      ],
      "source": [
        "df['Final'].value_counts()"
      ]
    },
    {
      "cell_type": "code",
      "execution_count": null,
      "metadata": {
        "colab": {
          "base_uri": "https://localhost:8080/"
        },
        "id": "5E729l26T8To",
        "outputId": "b3c456af-e603-4175-a585-e108dfeaa454"
      },
      "outputs": [
        {
          "output_type": "stream",
          "name": "stdout",
          "text": [
            "CPU times: user 103 ms, sys: 2.58 ms, total: 105 ms\n",
            "Wall time: 104 ms\n"
          ]
        }
      ],
      "source": [
        "%%time\n",
        "#text preprocessing\n",
        "#data cleaning and preprocessing\n",
        "import re\n",
        "\n",
        "text=' '.join(df['text'])\n",
        "text=text.split()\n",
        "freq_comm = pd.Series(text).value_counts()\n",
        "rare=freq_comm[freq_comm.values==1]\n",
        "\n",
        "def get_clean_text(x):\n",
        "  if type(x) is str:\n",
        "    x=x.lower()\n",
        "    x=re.sub(r'([a-zA-Z0-9+._-]+@[a-zA-Z0-9._-]+\\.[a-zA-Z0-9_-]+)', '', x)\n",
        "    x=re.sub('rt', '', x)\n",
        "    x=re.sub('[^A-Z a-z]+','',x)\n",
        "    x=' '.join([t for t in x.split() if t not in rare])\n",
        "    return x\n",
        "  else:\n",
        "    return x\n",
        "df['text']=df['text'].apply(lambda x: get_clean_text(x))\n"
      ]
    },
    {
      "cell_type": "code",
      "execution_count": null,
      "metadata": {
        "colab": {
          "base_uri": "https://localhost:8080/"
        },
        "id": "1RS3v1t9QiMa",
        "outputId": "c2aedff2-0002-4bda-c68e-56806694f8a4"
      },
      "outputs": [
        {
          "output_type": "stream",
          "name": "stdout",
          "text": [
            "[1. 1. 1. ... 2. 2. 2.]\n",
            "(2663,)\n"
          ]
        }
      ],
      "source": [
        "y=df['Final'].to_numpy()\n",
        "print(y)\n",
        "print(y.shape)"
      ]
    },
    {
      "cell_type": "markdown",
      "metadata": {
        "id": "8U7YifpU6q_Y"
      },
      "source": [
        "**tf-idf**"
      ]
    },
    {
      "cell_type": "code",
      "execution_count": null,
      "metadata": {
        "colab": {
          "base_uri": "https://localhost:8080/"
        },
        "id": "X88Q8GS4T8vR",
        "outputId": "6e8c69ed-0261-426f-cb45-f0683740994c"
      },
      "outputs": [
        {
          "output_type": "stream",
          "name": "stdout",
          "text": [
            "[[0. 0. 0. ... 0. 0. 0.]\n",
            " [0. 0. 0. ... 0. 0. 0.]\n",
            " [0. 0. 0. ... 0. 0. 0.]\n",
            " ...\n",
            " [0. 0. 0. ... 0. 0. 0.]\n",
            " [0. 0. 0. ... 0. 0. 0.]\n",
            " [0. 0. 0. ... 0. 0. 0.]]\n",
            "(2663, 5845)\n"
          ]
        }
      ],
      "source": [
        "#tf-idf method of vectorization\n",
        "Tfidf_vect = TfidfVectorizer(max_features=10000)\n",
        "X=Tfidf_vect.fit_transform(df['text']).toarray()\n",
        "print(X)\n",
        "print(X.shape)"
      ]
    },
    {
      "cell_type": "code",
      "execution_count": null,
      "metadata": {
        "id": "W7WJVSQNUpB2"
      },
      "outputs": [],
      "source": [
        "#Train Test Split\n",
        "X_train, X_test, y_train, y_test=train_test_split(X,y, test_size=0.30, random_state=0)"
      ]
    },
    {
      "cell_type": "markdown",
      "metadata": {
        "id": "r6-WYFG46TcP"
      },
      "source": [
        "**tf-idf char ngram**"
      ]
    },
    {
      "cell_type": "code",
      "execution_count": null,
      "metadata": {
        "colab": {
          "base_uri": "https://localhost:8080/"
        },
        "id": "ja8RWpM0mUwE",
        "outputId": "cff92f0a-c630-4e99-c02e-eb20fd7e0341"
      },
      "outputs": [
        {
          "output_type": "stream",
          "name": "stdout",
          "text": [
            "[[0.         0.         0.         ... 0.         0.         0.        ]\n",
            " [0.         0.         0.         ... 0.         0.         0.        ]\n",
            " [0.02302567 0.         0.         ... 0.         0.         0.        ]\n",
            " ...\n",
            " [0.03285456 0.02701675 0.         ... 0.         0.         0.        ]\n",
            " [0.01850257 0.         0.         ... 0.         0.         0.        ]\n",
            " [0.05638252 0.0309094  0.         ... 0.         0.         0.        ]]\n",
            "(2663, 10000)\n"
          ]
        }
      ],
      "source": [
        "Tfidf_vect = TfidfVectorizer(analyzer='char', ngram_range=(2,5),max_features=10000)\n",
        "X_char_ngram=Tfidf_vect.fit_transform(df['text']).toarray()\n",
        "print(X_char_ngram)\n",
        "print(X_char_ngram.shape)"
      ]
    },
    {
      "cell_type": "code",
      "execution_count": null,
      "metadata": {
        "id": "ptTIhNz1mpTs"
      },
      "outputs": [],
      "source": [
        "#split for character n-gram vectorization\n",
        "X_train_char, X_test_char, y_train_char, y_test_char=train_test_split(X_char_ngram,y, test_size=0.30, random_state=0)"
      ]
    },
    {
      "cell_type": "markdown",
      "metadata": {
        "id": "F4hhA7Zo5y81"
      },
      "source": [
        "**tf-idf with word n-gram**"
      ]
    },
    {
      "cell_type": "code",
      "execution_count": null,
      "metadata": {
        "colab": {
          "base_uri": "https://localhost:8080/"
        },
        "id": "ZcWR8EZr5vDq",
        "outputId": "d6e1aa3c-1314-49eb-dcc0-5a90d91fd7fc"
      },
      "outputs": [
        {
          "output_type": "stream",
          "name": "stdout",
          "text": [
            "[[0.         0.         0.         ... 0.         0.         0.        ]\n",
            " [0.         0.         0.         ... 0.         0.         0.        ]\n",
            " [0.02302567 0.         0.         ... 0.         0.         0.        ]\n",
            " ...\n",
            " [0.03285456 0.02701675 0.         ... 0.         0.         0.        ]\n",
            " [0.01850257 0.         0.         ... 0.         0.         0.        ]\n",
            " [0.05638252 0.0309094  0.         ... 0.         0.         0.        ]]\n",
            "(2663, 10000)\n"
          ]
        }
      ],
      "source": [
        "Tfidf_vect_word = TfidfVectorizer(ngram_range=(2,5),max_features=10000)\n",
        "X_word_ngram=Tfidf_vect.fit_transform(df['text']).toarray()\n",
        "print(X_word_ngram)\n",
        "print(X_word_ngram.shape)"
      ]
    },
    {
      "cell_type": "code",
      "execution_count": null,
      "metadata": {
        "id": "zcxaiJzb7Bc0"
      },
      "outputs": [],
      "source": [
        "#split for word n-gram vectorization\n",
        "X_train_word, X_test_word, y_train_word, y_test_word=train_test_split(X_word_ngram,y, test_size=0.30, random_state=0)"
      ]
    },
    {
      "cell_type": "markdown",
      "metadata": {
        "id": "mKRuL4EWTFcc"
      },
      "source": [
        "##**Gradient Boosting**"
      ]
    },
    {
      "cell_type": "code",
      "execution_count": null,
      "metadata": {
        "colab": {
          "base_uri": "https://localhost:8080/"
        },
        "id": "R5ls4Sw5TJY8",
        "outputId": "63ecab24-1007-47b2-f3e0-3073d6172d74"
      },
      "outputs": [
        {
          "output_type": "stream",
          "name": "stdout",
          "text": [
            "Score for training data : 0.876\n",
            "Score for testing data : 0.786\n",
            "Accuracy Score of gradient boosting Model on test data :  0.785982478097622\n",
            "Accuracy Score of gradient boosting Model on training data :  0.8755364806866953\n",
            "              precision    recall  f1-score   support\n",
            "\n",
            "         0.0       0.29      0.09      0.14        22\n",
            "         1.0       0.88      0.77      0.82       462\n",
            "         2.0       0.70      0.85      0.77       315\n",
            "\n",
            "    accuracy                           0.79       799\n",
            "   macro avg       0.62      0.57      0.58       799\n",
            "weighted avg       0.79      0.79      0.78       799\n",
            "\n",
            "Confusion Matrix:\n",
            "[[  2   6  14]\n",
            " [  1 358 103]\n",
            " [  4  43 268]]\n"
          ]
        }
      ],
      "source": [
        "from sklearn.ensemble import GradientBoostingClassifier\n",
        "#gb_clf = GradientBoostingClassifier(n_estimators=100, learning_rate=0.25, max_features=2, max_depth=2, random_state=0)\n",
        "gb_clf = GradientBoostingClassifier()\n",
        "model1=gb_clf.fit(X_train, y_train)\n",
        "\n",
        "print(\"Score for training data : {0:.3f}\".format(model1.score(X_train, y_train)))\n",
        "print(\"Score for testing data : {0:.3f}\".format(model1.score(X_test, y_test)))\n",
        "\n",
        "y_pred=model1.predict(X_test)\n",
        "y_pred_train=model1.predict(X_train)\n",
        "\n",
        "#calculate accuracy\n",
        "print(\"Accuracy Score of gradient boosting Model on test data : \",accuracy_score(y_test, y_pred))\n",
        "print(\"Accuracy Score of gradient boosting Model on training data : \",accuracy_score(y_train, y_pred_train))\n",
        "print(classification_report(y_test,y_pred))\n",
        "print(\"Confusion Matrix:\")\n",
        "print(confusion_matrix(y_test, y_pred))"
      ]
    },
    {
      "cell_type": "code",
      "execution_count": null,
      "metadata": {
        "colab": {
          "base_uri": "https://localhost:8080/"
        },
        "id": "JNCDndzyVDwm",
        "outputId": "4395aeb1-ec21-444e-8554-4006571133d9"
      },
      "outputs": [
        {
          "output_type": "stream",
          "name": "stdout",
          "text": [
            "Score for training data : 0.931\n",
            "Score for testing data : 0.790\n",
            "              precision    recall  f1-score   support\n",
            "\n",
            "         0.0       0.29      0.09      0.14        22\n",
            "         1.0       0.86      0.81      0.83       462\n",
            "         2.0       0.72      0.82      0.76       315\n",
            "\n",
            "    accuracy                           0.79       799\n",
            "   macro avg       0.62      0.57      0.58       799\n",
            "weighted avg       0.79      0.79      0.78       799\n",
            "\n",
            "Confusion Matrix:\n",
            "[[  2   7  13]\n",
            " [  3 372  87]\n",
            " [  2  56 257]]\n"
          ]
        }
      ],
      "source": [
        "#for word n gram\n",
        "model2=gb_clf.fit(X_train_word, y_train_word)\n",
        "print(\"Score for training data : {0:.3f}\".format(model2.score(X_train_word, y_train_word)))\n",
        "print(\"Score for testing data : {0:.3f}\".format(model2.score(X_test_word, y_test_word)))\n",
        "y_pred_gword=model2.predict(X_test_word)\n",
        "y_pred_train_gword=model2.predict(X_train_word)\n",
        "# for word n gram \n",
        "print(classification_report(y_test_word,y_pred_gword))\n",
        "print(\"Confusion Matrix:\")\n",
        "print(confusion_matrix(y_test_word, y_pred_gword))"
      ]
    },
    {
      "cell_type": "code",
      "execution_count": null,
      "metadata": {
        "colab": {
          "base_uri": "https://localhost:8080/"
        },
        "id": "3Gz5uAj67dOi",
        "outputId": "e97f527a-f3df-4124-cc1d-f9037d3ab026"
      },
      "outputs": [
        {
          "output_type": "stream",
          "name": "stdout",
          "text": [
            "Score for training data : 0.932\n",
            "Score for testing data : 0.781\n",
            "              precision    recall  f1-score   support\n",
            "\n",
            "         0.0       0.29      0.09      0.14        22\n",
            "         1.0       0.85      0.79      0.82       462\n",
            "         2.0       0.71      0.81      0.75       315\n",
            "\n",
            "    accuracy                           0.78       799\n",
            "   macro avg       0.61      0.56      0.57       799\n",
            "weighted avg       0.78      0.78      0.78       799\n",
            "\n",
            "Confusion Matrix:\n",
            "[[  2   6  14]\n",
            " [  3 367  92]\n",
            " [  2  58 255]]\n"
          ]
        }
      ],
      "source": [
        "#for char n gram\n",
        "model3=gb_clf.fit(X_train_char, y_train_char)\n",
        "print(\"Score for training data : {0:.3f}\".format(model3.score(X_train_char, y_train_char)))\n",
        "print(\"Score for testing data : {0:.3f}\".format(model3.score(X_test_char, y_test_char)))\n",
        "y_pred_gchar=model3.predict(X_test_char)\n",
        "y_pred_train_gchar=model3.predict(X_train_char)\n",
        "# for char n gram \n",
        "print(classification_report(y_test_char,y_pred_gchar))\n",
        "print(\"Confusion Matrix:\")\n",
        "print(confusion_matrix(y_test_char, y_pred_gchar))"
      ]
    },
    {
      "cell_type": "markdown",
      "metadata": {
        "id": "cKSr1YPsdwiB"
      },
      "source": [
        "##**AdaBoosting**"
      ]
    },
    {
      "cell_type": "code",
      "execution_count": null,
      "metadata": {
        "colab": {
          "base_uri": "https://localhost:8080/"
        },
        "id": "OiiywK7XWIol",
        "outputId": "d0118bdd-df9a-45af-b3ca-5912fe00a123"
      },
      "outputs": [
        {
          "output_type": "stream",
          "name": "stdout",
          "text": [
            "Score for test data :  0.8811013767209012\n",
            "Score for training data :  0.8476394849785408\n",
            "              precision    recall  f1-score   support\n",
            "\n",
            "         0.0       0.20      0.09      0.13        22\n",
            "         1.0       0.86      0.69      0.76       462\n",
            "         2.0       0.63      0.83      0.72       315\n",
            "\n",
            "    accuracy                           0.73       799\n",
            "   macro avg       0.56      0.54      0.54       799\n",
            "weighted avg       0.75      0.73      0.73       799\n",
            "\n",
            "Confusion Matrix:\n",
            "[[  2   6  14]\n",
            " [  1 358 103]\n",
            " [  4  43 268]]\n"
          ]
        }
      ],
      "source": [
        "from sklearn.ensemble import AdaBoostClassifier\n",
        "#clf = AdaBoostClassifier(n_estimators=195, random_state=0)\n",
        "clf=AdaBoostClassifier()\n",
        "model4=clf.fit(X_train, y_train)\n",
        "y_pred_adaboost=model4.predict(X_test)\n",
        "y_pred_train_adaboost=model4.predict(X_train)\n",
        "print(\"Score for test data : \", model4.score(X_test, y_pred))\n",
        "print(\"Score for training data : \" ,model4.score(X_train, y_pred_train))\n",
        "print(classification_report(y_test,y_pred_adaboost))\n",
        "print(\"Confusion Matrix:\")\n",
        "print(confusion_matrix(y_test, y_pred))"
      ]
    },
    {
      "cell_type": "code",
      "execution_count": null,
      "metadata": {
        "colab": {
          "base_uri": "https://localhost:8080/"
        },
        "id": "KHRXA3Mi8Mkb",
        "outputId": "64d226b5-9426-4c9d-f4ad-2171ae36e9e6"
      },
      "outputs": [
        {
          "output_type": "stream",
          "name": "stdout",
          "text": [
            "Score for training data : 0.745\n",
            "Score for testing data : 0.725\n",
            "              precision    recall  f1-score   support\n",
            "\n",
            "         0.0       0.00      0.00      0.00        22\n",
            "         1.0       0.81      0.73      0.77       462\n",
            "         2.0       0.63      0.77      0.70       315\n",
            "\n",
            "    accuracy                           0.72       799\n",
            "   macro avg       0.48      0.50      0.49       799\n",
            "weighted avg       0.72      0.72      0.72       799\n",
            "\n",
            "Confusion Matrix:\n",
            "[[  0   8  14]\n",
            " [  0 336 126]\n",
            " [  0  72 243]]\n"
          ]
        },
        {
          "output_type": "stream",
          "name": "stderr",
          "text": [
            "/usr/local/lib/python3.7/dist-packages/sklearn/metrics/_classification.py:1318: UndefinedMetricWarning: Precision and F-score are ill-defined and being set to 0.0 in labels with no predicted samples. Use `zero_division` parameter to control this behavior.\n",
            "  _warn_prf(average, modifier, msg_start, len(result))\n",
            "/usr/local/lib/python3.7/dist-packages/sklearn/metrics/_classification.py:1318: UndefinedMetricWarning: Precision and F-score are ill-defined and being set to 0.0 in labels with no predicted samples. Use `zero_division` parameter to control this behavior.\n",
            "  _warn_prf(average, modifier, msg_start, len(result))\n",
            "/usr/local/lib/python3.7/dist-packages/sklearn/metrics/_classification.py:1318: UndefinedMetricWarning: Precision and F-score are ill-defined and being set to 0.0 in labels with no predicted samples. Use `zero_division` parameter to control this behavior.\n",
            "  _warn_prf(average, modifier, msg_start, len(result))\n"
          ]
        }
      ],
      "source": [
        "#for word n gram\n",
        "model5=clf.fit(X_train_word, y_train_word)\n",
        "print(\"Score for training data : {0:.3f}\".format(model5.score(X_train_word, y_train_word)))\n",
        "print(\"Score for testing data : {0:.3f}\".format(model5.score(X_test_word, y_test_word)))\n",
        "y_pred_word_adaboost=model5.predict(X_test_word)\n",
        "y_pred_train_word_adaboost=model5.predict(X_train_word)\n",
        "#char word n gram adaboosting\n",
        "print(classification_report(y_test_word,y_pred_word_adaboost))\n",
        "print(\"Confusion Matrix:\")\n",
        "print(confusion_matrix(y_test_word, y_pred_word_adaboost))"
      ]
    },
    {
      "cell_type": "code",
      "execution_count": null,
      "metadata": {
        "colab": {
          "base_uri": "https://localhost:8080/"
        },
        "id": "d2funLAipJVy",
        "outputId": "d7615b11-7133-4e3f-a93d-b3ae48ff3129"
      },
      "outputs": [
        {
          "output_type": "stream",
          "name": "stdout",
          "text": [
            "Score for training data : 0.745\n",
            "Score for testing data : 0.723\n",
            "              precision    recall  f1-score   support\n",
            "\n",
            "         0.0       0.00      0.00      0.00        22\n",
            "         1.0       0.81      0.73      0.76       462\n",
            "         2.0       0.63      0.77      0.69       315\n",
            "\n",
            "    accuracy                           0.72       799\n",
            "   macro avg       0.48      0.50      0.49       799\n",
            "weighted avg       0.72      0.72      0.72       799\n",
            "\n",
            "Confusion Matrix:\n",
            "[[  0   8  14]\n",
            " [  0 336 126]\n",
            " [  0  73 242]]\n"
          ]
        },
        {
          "output_type": "stream",
          "name": "stderr",
          "text": [
            "/usr/local/lib/python3.7/dist-packages/sklearn/metrics/_classification.py:1318: UndefinedMetricWarning: Precision and F-score are ill-defined and being set to 0.0 in labels with no predicted samples. Use `zero_division` parameter to control this behavior.\n",
            "  _warn_prf(average, modifier, msg_start, len(result))\n",
            "/usr/local/lib/python3.7/dist-packages/sklearn/metrics/_classification.py:1318: UndefinedMetricWarning: Precision and F-score are ill-defined and being set to 0.0 in labels with no predicted samples. Use `zero_division` parameter to control this behavior.\n",
            "  _warn_prf(average, modifier, msg_start, len(result))\n",
            "/usr/local/lib/python3.7/dist-packages/sklearn/metrics/_classification.py:1318: UndefinedMetricWarning: Precision and F-score are ill-defined and being set to 0.0 in labels with no predicted samples. Use `zero_division` parameter to control this behavior.\n",
            "  _warn_prf(average, modifier, msg_start, len(result))\n"
          ]
        }
      ],
      "source": [
        "#for char n gram\n",
        "model6=clf.fit(X_train_char, y_train_char)\n",
        "print(\"Score for training data : {0:.3f}\".format(model6.score(X_train_char, y_train_char)))\n",
        "print(\"Score for testing data : {0:.3f}\".format(model6.score(X_test_char, y_test_char)))\n",
        "y_pred_char_adaboost=model6.predict(X_test_char)\n",
        "y_pred_train_char_adaboost=model6.predict(X_train_char)\n",
        "#char n gram adaboosting\n",
        "print(classification_report(y_test_char,y_pred_char_adaboost))\n",
        "print(\"Confusion Matrix:\")\n",
        "print(confusion_matrix(y_test_char, y_pred_char_adaboost))"
      ]
    },
    {
      "cell_type": "markdown",
      "metadata": {
        "id": "GYY25310iY3F"
      },
      "source": [
        "##**XGD Boosting**"
      ]
    },
    {
      "cell_type": "code",
      "execution_count": null,
      "metadata": {
        "colab": {
          "base_uri": "https://localhost:8080/"
        },
        "id": "i8F90EcdiYKH",
        "outputId": "46604647-62fe-4737-ab14-10e4b567d3fd"
      },
      "outputs": [
        {
          "output_type": "stream",
          "name": "stdout",
          "text": [
            "Score for training data : 0.818\n",
            "Score for testing data : 0.777\n",
            "              precision    recall  f1-score   support\n",
            "\n",
            "         0.0       0.40      0.09      0.15        22\n",
            "         1.0       0.87      0.76      0.81       462\n",
            "         2.0       0.69      0.85      0.76       315\n",
            "\n",
            "    accuracy                           0.78       799\n",
            "   macro avg       0.65      0.57      0.57       799\n",
            "weighted avg       0.78      0.78      0.77       799\n",
            "\n",
            "Confusion Matrix:\n",
            "[[  2   6  14]\n",
            " [  2 352 108]\n",
            " [  1  47 267]]\n"
          ]
        }
      ],
      "source": [
        "from xgboost import XGBClassifier\n",
        "#xgbc = XGBClassifier(base_score=0.5, booster='gbtree', colsample_bylevel=1,colsample_bynode=1, colsample_bytree=1, gamma=0, learning_rate=0.1,max_delta_step=0, max_depth=4, min_child_weight=1, missing=None,n_estimators=150, n_jobs=1, nthread=None,objective='multi:softprob', random_state=0, reg_alpha=0, reg_lambda=1, scale_pos_weight=1, seed=None, silent=None, subsample=1, verbosity=1) \n",
        "xgbc=XGBClassifier()\n",
        "model7=xgbc.fit(X_train, y_train)\n",
        "y_pred_xgbc=model7.predict(X_test)\n",
        "y_pred_train_xgbc=model7.predict(X_train)\n",
        "print(\"Score for training data : {0:.3f}\".format(model7.score(X_train, y_train)))\n",
        "print(\"Score for testing data : {0:.3f}\".format(model7.score(X_test, y_test)))\n",
        "print(classification_report(y_test,y_pred_xgbc))\n",
        "print(\"Confusion Matrix:\")\n",
        "print(confusion_matrix(y_test, y_pred_xgbc))"
      ]
    },
    {
      "cell_type": "code",
      "execution_count": null,
      "metadata": {
        "colab": {
          "base_uri": "https://localhost:8080/"
        },
        "id": "EqNc_NFs8sb1",
        "outputId": "128a7d4f-12dd-467d-ce0d-fe8ea6525f84"
      },
      "outputs": [
        {
          "output_type": "stream",
          "name": "stdout",
          "text": [
            "Score for training data : 0.895\n",
            "Score for testing data : 0.790\n",
            "              precision    recall  f1-score   support\n",
            "\n",
            "         0.0       0.67      0.09      0.16        22\n",
            "         1.0       0.86      0.80      0.83       462\n",
            "         2.0       0.71      0.83      0.76       315\n",
            "\n",
            "    accuracy                           0.79       799\n",
            "   macro avg       0.75      0.57      0.58       799\n",
            "weighted avg       0.80      0.79      0.78       799\n",
            "\n",
            "Confusion Matrix:\n",
            "[[  2   7  13]\n",
            " [  0 368  94]\n",
            " [  1  53 261]]\n"
          ]
        }
      ],
      "source": [
        "model8=xgbc.fit(X_train_word, y_train_word)\n",
        "y_pred_xgbc_word=model8.predict(X_test_word)\n",
        "y_pred_train_xgbc_word=model8.predict(X_train_word)\n",
        "print(\"Score for training data : {0:.3f}\".format(model8.score(X_train_word, y_train_word)))\n",
        "print(\"Score for testing data : {0:.3f}\".format(model8.score(X_test_word, y_test_word)))\n",
        "# USING WORD N GRAM \n",
        "print(classification_report(y_test_word,y_pred_xgbc_word))\n",
        "print(\"Confusion Matrix:\")\n",
        "print(confusion_matrix(y_test_word, y_pred_xgbc_word))"
      ]
    },
    {
      "cell_type": "code",
      "execution_count": null,
      "metadata": {
        "colab": {
          "base_uri": "https://localhost:8080/"
        },
        "id": "_3vn_7v3p7hF",
        "outputId": "71c05c11-f74f-4b46-96c2-4ecd03841299"
      },
      "outputs": [
        {
          "output_type": "stream",
          "name": "stdout",
          "text": [
            "Score for training data : 0.895\n",
            "Score for testing data : 0.790\n",
            "              precision    recall  f1-score   support\n",
            "\n",
            "         0.0       0.67      0.09      0.16        22\n",
            "         1.0       0.86      0.80      0.83       462\n",
            "         2.0       0.71      0.83      0.76       315\n",
            "\n",
            "    accuracy                           0.79       799\n",
            "   macro avg       0.75      0.57      0.58       799\n",
            "weighted avg       0.80      0.79      0.78       799\n",
            "\n",
            "Confusion Matrix:\n",
            "[[  2   7  13]\n",
            " [  0 368  94]\n",
            " [  1  53 261]]\n"
          ]
        }
      ],
      "source": [
        "model9=xgbc.fit(X_train_char, y_train_char)\n",
        "y_pred_xgbc_char=model9.predict(X_test_char)\n",
        "y_pred_train_xgbc_char=model9.predict(X_train_char)\n",
        "print(\"Score for training data : {0:.3f}\".format(model9.score(X_train_char, y_train_char)))\n",
        "print(\"Score for testing data : {0:.3f}\".format(model9.score(X_test_char, y_test_char)))\n",
        "# USING CHAR N GRAM \n",
        "print(classification_report(y_test_char,y_pred_xgbc_char))\n",
        "print(\"Confusion Matrix:\")\n",
        "print(confusion_matrix(y_test_char, y_pred_xgbc_char))"
      ]
    },
    {
      "cell_type": "markdown",
      "metadata": {
        "id": "9em15LAz1E8q"
      },
      "source": [
        "##SVM##"
      ]
    },
    {
      "cell_type": "markdown",
      "metadata": {
        "id": "90Za975T1M0R"
      },
      "source": [
        "**1. Linear SVM**"
      ]
    },
    {
      "cell_type": "code",
      "execution_count": null,
      "metadata": {
        "colab": {
          "base_uri": "https://localhost:8080/"
        },
        "id": "MH-swGjs1HRY",
        "outputId": "db85a3a5-2f63-427c-c8ab-edfffa1fbebc"
      },
      "outputs": [
        {
          "output_type": "stream",
          "name": "stdout",
          "text": [
            "Confusion matrix of SVM Model:\n",
            " [[  1   7  14]\n",
            " [  0 382  80]\n",
            " [  2  62 251]]\n",
            "Accuracy Score of SVM Model on test data :  0.7934918648310388\n",
            "Accuracy Score of SVM Model on training data :  0.927038626609442\n",
            "              precision    recall  f1-score   support\n",
            "\n",
            "         0.0       0.33      0.05      0.08        22\n",
            "         1.0       0.85      0.83      0.84       462\n",
            "         2.0       0.73      0.80      0.76       315\n",
            "\n",
            "    accuracy                           0.79       799\n",
            "   macro avg       0.64      0.56      0.56       799\n",
            "weighted avg       0.79      0.79      0.79       799\n",
            "\n"
          ]
        }
      ],
      "source": [
        "from sklearn.svm import SVC\n",
        "svm_classifier =SVC(C=1.0, kernel='linear',  gamma='auto')\n",
        "svm_classifier.fit(X_train, y_train)\n",
        "y_pred_svm = svm_classifier.predict(X_test)\n",
        "y_pred_svm_train=svm_classifier.predict(X_train)\n",
        "cm_svm=confusion_matrix(y_test, y_pred_svm)\n",
        "print(\"Confusion matrix of SVM Model:\\n\",cm_svm)\n",
        "print(\"Accuracy Score of SVM Model on test data : \",accuracy_score(y_test, y_pred_svm))\n",
        "print(\"Accuracy Score of SVM Model on training data : \",accuracy_score(y_train, y_pred_svm_train))\n",
        "print(classification_report(y_test,y_pred_svm))"
      ]
    },
    {
      "cell_type": "code",
      "execution_count": null,
      "metadata": {
        "colab": {
          "base_uri": "https://localhost:8080/"
        },
        "id": "yf0Idj27FLdN",
        "outputId": "05596f91-fadd-44bf-b18b-ff8ff6ce6de4"
      },
      "outputs": [
        {
          "output_type": "stream",
          "name": "stdout",
          "text": [
            "Confusion matrix of SVM Model:\n",
            " [[  2   8  12]\n",
            " [  1 384  77]\n",
            " [  2  70 243]]\n",
            "Accuracy Score of SVM Model on test data :  0.7872340425531915\n",
            "Accuracy Score of SVM Model on training data :  0.9050429184549357\n",
            "              precision    recall  f1-score   support\n",
            "\n",
            "         0.0       0.40      0.09      0.15        22\n",
            "         1.0       0.83      0.83      0.83       462\n",
            "         2.0       0.73      0.77      0.75       315\n",
            "\n",
            "    accuracy                           0.79       799\n",
            "   macro avg       0.65      0.56      0.58       799\n",
            "weighted avg       0.78      0.79      0.78       799\n",
            "\n"
          ]
        }
      ],
      "source": [
        "#char n gram\n",
        "svm_classifier.fit(X_train_char, y_train_char)\n",
        "y_pred_svm = svm_classifier.predict(X_test_char)\n",
        "y_pred_svm_train=svm_classifier.predict(X_train_char)\n",
        "cm_svm=confusion_matrix(y_test_char, y_pred_svm)\n",
        "print(\"Confusion matrix of SVM Model:\\n\",cm_svm)\n",
        "print(\"Accuracy Score of SVM Model on test data : \",accuracy_score(y_test_char, y_pred_svm))\n",
        "print(\"Accuracy Score of SVM Model on training data : \",accuracy_score(y_train_char, y_pred_svm_train))\n",
        "print(classification_report(y_test_char,y_pred_svm))"
      ]
    },
    {
      "cell_type": "code",
      "execution_count": null,
      "metadata": {
        "colab": {
          "base_uri": "https://localhost:8080/"
        },
        "id": "ty4ESC9tGnuF",
        "outputId": "e7450c4e-3fc3-43ff-b687-0dd9f27a35ed"
      },
      "outputs": [
        {
          "output_type": "stream",
          "name": "stdout",
          "text": [
            "Confusion matrix of SVM Model:\n",
            " [[  2   8  12]\n",
            " [  1 384  77]\n",
            " [  2  70 243]]\n",
            "Accuracy Score of SVM Model on test data :  0.7872340425531915\n",
            "Accuracy Score of SVM Model on training data :  0.9050429184549357\n",
            "              precision    recall  f1-score   support\n",
            "\n",
            "         0.0       0.40      0.09      0.15        22\n",
            "         1.0       0.83      0.83      0.83       462\n",
            "         2.0       0.73      0.77      0.75       315\n",
            "\n",
            "    accuracy                           0.79       799\n",
            "   macro avg       0.65      0.56      0.58       799\n",
            "weighted avg       0.78      0.79      0.78       799\n",
            "\n"
          ]
        }
      ],
      "source": [
        "#word n gram\n",
        "svm_classifier.fit(X_train_word, y_train_word)\n",
        "y_pred_svm = svm_classifier.predict(X_test_word)\n",
        "y_pred_svm_train=svm_classifier.predict(X_train_word)\n",
        "cm_svm=confusion_matrix(y_test_word, y_pred_svm)\n",
        "print(\"Confusion matrix of SVM Model:\\n\",cm_svm)\n",
        "print(\"Accuracy Score of SVM Model on test data : \",accuracy_score(y_test_word, y_pred_svm))\n",
        "print(\"Accuracy Score of SVM Model on training data : \",accuracy_score(y_train_word, y_pred_svm_train))\n",
        "print(classification_report(y_test_word,y_pred_svm))"
      ]
    },
    {
      "cell_type": "markdown",
      "metadata": {
        "id": "3fMQSzDr1XNA"
      },
      "source": [
        "**2. RBF SVM**"
      ]
    },
    {
      "cell_type": "code",
      "execution_count": null,
      "metadata": {
        "colab": {
          "base_uri": "https://localhost:8080/"
        },
        "id": "HfHH2jSz1aEG",
        "outputId": "5ab553c4-9079-4208-a5cb-e2e9dc52f1d9"
      },
      "outputs": [
        {
          "output_type": "stream",
          "name": "stdout",
          "text": [
            "Confusion matrix of SVM Model:\n",
            " [[  0   6  16]\n",
            " [  0 387  75]\n",
            " [  0  75 240]]\n",
            "Accuracy Score of SVM Model on test data :  0.7847309136420526\n",
            "Accuracy Score of SVM Model on train data :  0.8465665236051502\n",
            "              precision    recall  f1-score   support\n",
            "\n",
            "         0.0       0.00      0.00      0.00        22\n",
            "         1.0       0.83      0.84      0.83       462\n",
            "         2.0       0.73      0.76      0.74       315\n",
            "\n",
            "    accuracy                           0.78       799\n",
            "   macro avg       0.52      0.53      0.53       799\n",
            "weighted avg       0.76      0.78      0.77       799\n",
            "\n"
          ]
        },
        {
          "output_type": "stream",
          "name": "stderr",
          "text": [
            "/usr/local/lib/python3.7/dist-packages/sklearn/metrics/_classification.py:1318: UndefinedMetricWarning: Precision and F-score are ill-defined and being set to 0.0 in labels with no predicted samples. Use `zero_division` parameter to control this behavior.\n",
            "  _warn_prf(average, modifier, msg_start, len(result))\n",
            "/usr/local/lib/python3.7/dist-packages/sklearn/metrics/_classification.py:1318: UndefinedMetricWarning: Precision and F-score are ill-defined and being set to 0.0 in labels with no predicted samples. Use `zero_division` parameter to control this behavior.\n",
            "  _warn_prf(average, modifier, msg_start, len(result))\n",
            "/usr/local/lib/python3.7/dist-packages/sklearn/metrics/_classification.py:1318: UndefinedMetricWarning: Precision and F-score are ill-defined and being set to 0.0 in labels with no predicted samples. Use `zero_division` parameter to control this behavior.\n",
            "  _warn_prf(average, modifier, msg_start, len(result))\n"
          ]
        }
      ],
      "source": [
        "svm_classifier_rbf =SVC(C=1,kernel='rbf', gamma=0.1)\n",
        "svm_classifier_rbf.fit(X_train, y_train)\n",
        "y_pred_svm_rbf = svm_classifier_rbf.predict(X_test)\n",
        "y_pred_svm_rbf_train = svm_classifier_rbf.predict(X_train)\n",
        "cm_svm_rbf=confusion_matrix(y_test, y_pred_svm_rbf)\n",
        "print(\"Confusion matrix of SVM Model:\\n\",cm_svm_rbf)\n",
        "print(\"Accuracy Score of SVM Model on test data : \",accuracy_score(y_test, y_pred_svm_rbf))\n",
        "print(\"Accuracy Score of SVM Model on train data : \",accuracy_score(y_train, y_pred_svm_rbf_train))\n",
        "print(classification_report(y_test,y_pred_svm_rbf))"
      ]
    },
    {
      "cell_type": "markdown",
      "metadata": {
        "id": "akAJS4kc11h5"
      },
      "source": [
        "**3. Poly SVM**"
      ]
    },
    {
      "cell_type": "code",
      "execution_count": null,
      "metadata": {
        "colab": {
          "base_uri": "https://localhost:8080/"
        },
        "id": "4uNI_mJG1tZ9",
        "outputId": "3503aad9-a1e2-438f-a979-46b643449fbc"
      },
      "outputs": [
        {
          "output_type": "stream",
          "name": "stdout",
          "text": [
            "Confusion matrix of SVM Model:\n",
            " [[  0   9  13]\n",
            " [  0 399  63]\n",
            " [  0  96 219]]\n",
            "Accuracy Score of SVM Model on test data :  0.7734668335419274\n",
            "Accuracy Score of SVM Model on train data :  0.9935622317596566\n",
            "              precision    recall  f1-score   support\n",
            "\n",
            "         0.0       0.00      0.00      0.00        22\n",
            "         1.0       0.79      0.86      0.83       462\n",
            "         2.0       0.74      0.70      0.72       315\n",
            "\n",
            "    accuracy                           0.77       799\n",
            "   macro avg       0.51      0.52      0.51       799\n",
            "weighted avg       0.75      0.77      0.76       799\n",
            "\n"
          ]
        },
        {
          "output_type": "stream",
          "name": "stderr",
          "text": [
            "/usr/local/lib/python3.7/dist-packages/sklearn/metrics/_classification.py:1318: UndefinedMetricWarning: Precision and F-score are ill-defined and being set to 0.0 in labels with no predicted samples. Use `zero_division` parameter to control this behavior.\n",
            "  _warn_prf(average, modifier, msg_start, len(result))\n",
            "/usr/local/lib/python3.7/dist-packages/sklearn/metrics/_classification.py:1318: UndefinedMetricWarning: Precision and F-score are ill-defined and being set to 0.0 in labels with no predicted samples. Use `zero_division` parameter to control this behavior.\n",
            "  _warn_prf(average, modifier, msg_start, len(result))\n",
            "/usr/local/lib/python3.7/dist-packages/sklearn/metrics/_classification.py:1318: UndefinedMetricWarning: Precision and F-score are ill-defined and being set to 0.0 in labels with no predicted samples. Use `zero_division` parameter to control this behavior.\n",
            "  _warn_prf(average, modifier, msg_start, len(result))\n"
          ]
        }
      ],
      "source": [
        "svm_classifier_poly =SVC(kernel='poly', degree=2)\n",
        "svm_classifier_poly.fit(X_train, y_train)\n",
        "y_pred_svm_poly = svm_classifier_poly.predict(X_test)\n",
        "y_pred_svm_poly_train = svm_classifier_poly.predict(X_train)\n",
        "cm_svm_poly=confusion_matrix(y_test, y_pred_svm_poly)\n",
        "print(\"Confusion matrix of SVM Model:\\n\",cm_svm_poly)\n",
        "print(\"Accuracy Score of SVM Model on test data : \",accuracy_score(y_test, y_pred_svm_poly))\n",
        "print(\"Accuracy Score of SVM Model on train data : \",accuracy_score(y_train, y_pred_svm_poly_train))\n",
        "print(classification_report(y_test,y_pred_svm_poly))"
      ]
    },
    {
      "cell_type": "markdown",
      "metadata": {
        "id": "hTb4GH-516QD"
      },
      "source": [
        "##LOGISTIC REGRESSION##"
      ]
    },
    {
      "cell_type": "code",
      "execution_count": null,
      "metadata": {
        "colab": {
          "base_uri": "https://localhost:8080/"
        },
        "id": "VP9RR8hp2BQG",
        "outputId": "07ba1de0-75b8-4dd4-a3a1-36d49492f334"
      },
      "outputs": [
        {
          "output_type": "stream",
          "name": "stdout",
          "text": [
            "Confusion matrix of Logistic Regression Model:\n",
            " [[  0   7  15]\n",
            " [  0 387  75]\n",
            " [  0  71 244]]\n",
            "Accuracy Score of logistic Model on test data :  0.7897371714643304\n",
            "Accuracy Score of logistic Model on training data :  0.907725321888412\n",
            "              precision    recall  f1-score   support\n",
            "\n",
            "         0.0       0.00      0.00      0.00        22\n",
            "         1.0       0.83      0.84      0.83       462\n",
            "         2.0       0.73      0.77      0.75       315\n",
            "\n",
            "    accuracy                           0.79       799\n",
            "   macro avg       0.52      0.54      0.53       799\n",
            "weighted avg       0.77      0.79      0.78       799\n",
            "\n"
          ]
        },
        {
          "output_type": "stream",
          "name": "stderr",
          "text": [
            "/usr/local/lib/python3.7/dist-packages/sklearn/metrics/_classification.py:1318: UndefinedMetricWarning: Precision and F-score are ill-defined and being set to 0.0 in labels with no predicted samples. Use `zero_division` parameter to control this behavior.\n",
            "  _warn_prf(average, modifier, msg_start, len(result))\n",
            "/usr/local/lib/python3.7/dist-packages/sklearn/metrics/_classification.py:1318: UndefinedMetricWarning: Precision and F-score are ill-defined and being set to 0.0 in labels with no predicted samples. Use `zero_division` parameter to control this behavior.\n",
            "  _warn_prf(average, modifier, msg_start, len(result))\n",
            "/usr/local/lib/python3.7/dist-packages/sklearn/metrics/_classification.py:1318: UndefinedMetricWarning: Precision and F-score are ill-defined and being set to 0.0 in labels with no predicted samples. Use `zero_division` parameter to control this behavior.\n",
            "  _warn_prf(average, modifier, msg_start, len(result))\n"
          ]
        }
      ],
      "source": [
        "from sklearn.linear_model import LogisticRegression\n",
        "clf = LogisticRegression()\n",
        "clf=clf.fit(X_train, y_train)\n",
        "y_pred_logistic=clf.predict(X_test)\n",
        "y_pred_train_logistic=clf.predict(X_train)\n",
        "cm_logistic=confusion_matrix(y_test, y_pred_logistic)\n",
        "print(\"Confusion matrix of Logistic Regression Model:\\n\",cm_logistic)\n",
        "print(\"Accuracy Score of logistic Model on test data : \",accuracy_score(y_test, y_pred_logistic))\n",
        "print(\"Accuracy Score of logistic Model on training data : \",accuracy_score(y_train, y_pred_train_logistic))\n",
        "print(classification_report(y_test,y_pred_logistic))"
      ]
    },
    {
      "cell_type": "markdown",
      "source": [
        "##Naive Bayes##"
      ],
      "metadata": {
        "id": "Ul09xKX9fZcc"
      }
    },
    {
      "cell_type": "code",
      "execution_count": null,
      "metadata": {
        "colab": {
          "base_uri": "https://localhost:8080/",
          "height": 235
        },
        "id": "xPsDkIHDBCAP",
        "outputId": "c3851da3-ca3d-4750-fa01-195dda6b794c"
      },
      "outputs": [
        {
          "output_type": "error",
          "ename": "NameError",
          "evalue": "ignored",
          "traceback": [
            "\u001b[0;31m---------------------------------------------------------------------------\u001b[0m",
            "\u001b[0;31mNameError\u001b[0m                                 Traceback (most recent call last)",
            "\u001b[0;32m<ipython-input-31-2d5e075ec208>\u001b[0m in \u001b[0;36m<module>\u001b[0;34m()\u001b[0m\n\u001b[1;32m      3\u001b[0m \u001b[0mtweet_analyse_model\u001b[0m\u001b[0;34m=\u001b[0m\u001b[0mMultinomialNB\u001b[0m\u001b[0;34m(\u001b[0m\u001b[0;34m)\u001b[0m\u001b[0;34m.\u001b[0m\u001b[0mfit\u001b[0m\u001b[0;34m(\u001b[0m\u001b[0mX_train\u001b[0m\u001b[0;34m,\u001b[0m \u001b[0my_train\u001b[0m\u001b[0;34m)\u001b[0m\u001b[0;34m\u001b[0m\u001b[0;34m\u001b[0m\u001b[0m\n\u001b[1;32m      4\u001b[0m \u001b[0my_pred_naive\u001b[0m\u001b[0;34m=\u001b[0m\u001b[0mtweet_analyse_model\u001b[0m\u001b[0;34m.\u001b[0m\u001b[0mpredict\u001b[0m\u001b[0;34m(\u001b[0m\u001b[0mX_test\u001b[0m\u001b[0;34m)\u001b[0m\u001b[0;34m\u001b[0m\u001b[0;34m\u001b[0m\u001b[0m\n\u001b[0;32m----> 5\u001b[0;31m \u001b[0my_pred_train_naive\u001b[0m\u001b[0;34m=\u001b[0m\u001b[0manalyse_model\u001b[0m\u001b[0;34m.\u001b[0m\u001b[0mpredict\u001b[0m\u001b[0;34m(\u001b[0m\u001b[0mX_train\u001b[0m\u001b[0;34m)\u001b[0m\u001b[0;34m\u001b[0m\u001b[0;34m\u001b[0m\u001b[0m\n\u001b[0m\u001b[1;32m      6\u001b[0m \u001b[0;34m\u001b[0m\u001b[0m\n\u001b[1;32m      7\u001b[0m \u001b[0mprint\u001b[0m\u001b[0;34m(\u001b[0m\u001b[0;34m\"Accuracy Score of logistic Model on test data : \"\u001b[0m\u001b[0;34m,\u001b[0m\u001b[0maccuracy_score\u001b[0m\u001b[0;34m(\u001b[0m\u001b[0my_test\u001b[0m\u001b[0;34m,\u001b[0m \u001b[0my_pred_naive\u001b[0m\u001b[0;34m)\u001b[0m\u001b[0;34m)\u001b[0m\u001b[0;34m\u001b[0m\u001b[0;34m\u001b[0m\u001b[0m\n",
            "\u001b[0;31mNameError\u001b[0m: name 'analyse_model' is not defined"
          ]
        }
      ],
      "source": [
        "#training using Naive Bayes Classifier\n",
        "from sklearn.naive_bayes import MultinomialNB\n",
        "tweet_analyse_model=MultinomialNB().fit(X_train, y_train)\n",
        "y_pred_naive=tweet_analyse_model.predict(X_test)\n",
        "y_pred_train_naive=twwet_analyse_model.predict(X_train)\n",
        "\n",
        "print(\"Accuracy Score of logistic Model on test data : \",accuracy_score(y_test, y_pred_naive))\n",
        "print(\"Accuracy Score of logistic Model on training data : \",accuracy_score(y_train, y_pred_train_naive))\n",
        "\n",
        "#confusion matrix and report\n",
        "print(\"Classification Report\",classification_report(y_test,y_pred_naive))\n",
        "print(\"Confusion Matrix:\")\n",
        "print(confusion_matrix(y_test, y_pred_naive))"
      ]
    }
  ],
  "metadata": {
    "colab": {
      "collapsed_sections": [],
      "name": "MachineLearningModel_using_TF-IDF.ipynb",
      "provenance": []
    },
    "kernelspec": {
      "display_name": "Python 3",
      "name": "python3"
    },
    "language_info": {
      "name": "python"
    }
  },
  "nbformat": 4,
  "nbformat_minor": 0
}